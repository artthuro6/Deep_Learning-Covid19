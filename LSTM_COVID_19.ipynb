{
  "nbformat": 4,
  "nbformat_minor": 0,
  "metadata": {
    "colab": {
      "name": "LSTM  -  COVID-19.ipynb",
      "provenance": [],
      "collapsed_sections": [
        "kQ7-27SQLs6d",
        "Jv8VPHnOVgLT",
        "gBTRdXsdVj89",
        "I0glvokzHwP7",
        "N0k3YjYXKjQ5",
        "0jHkVun1POn2",
        "9com2UK4lSQZ",
        "dZxNfYxMsqAk"
      ],
      "mount_file_id": "1aDMNVZct41cp2QNValzW3D9Ob19RLqAB",
      "authorship_tag": "ABX9TyMqG8A/5QlRF4yUzU83Li3l",
      "include_colab_link": true
    },
    "kernelspec": {
      "name": "python3",
      "display_name": "Python 3"
    },
    "language_info": {
      "name": "python"
    }
  },
  "cells": [
    {
      "cell_type": "markdown",
      "metadata": {
        "id": "view-in-github",
        "colab_type": "text"
      },
      "source": [
        "<a href=\"https://colab.research.google.com/github/carturo6/Deep_Learning-Covid19/blob/main/LSTM_COVID_19.ipynb\" target=\"_parent\"><img src=\"https://colab.research.google.com/assets/colab-badge.svg\" alt=\"Open In Colab\"/></a>"
      ]
    },
    {
      "cell_type": "markdown",
      "metadata": {
        "id": "kQ7-27SQLs6d"
      },
      "source": [
        "# I.A. DeepLearnin para Casos Covid-19\n",
        "\n",
        "Este respositorio tiene el fin de predecir los proximo casos de Covid19 en México ( Nivel nacional ).\n",
        "\n",
        "Los datos que se ocuparan, son los datos disponibles en paginas del Gobierno.\n",
        "Se utilizaran solo tecnicas de Deep Learning donde cada modelo podra ir variando en funcion que los datos predichos mejor se ajusten a los datos predictorios.\n",
        "\n"
      ]
    },
    {
      "cell_type": "markdown",
      "metadata": {
        "id": "Jv8VPHnOVgLT"
      },
      "source": [
        "## **Librerias**"
      ]
    },
    {
      "cell_type": "code",
      "metadata": {
        "id": "uq_9I_ZDKvh8",
        "colab": {
          "base_uri": "https://localhost:8080/"
        },
        "outputId": "10269793-6363-48c6-c697-e1e59656d558"
      },
      "source": [
        "# Import librarys.\n",
        "\n",
        "# DC\n",
        "import pandas as pd\n",
        "import numpy as np\n",
        "import matplotlib.pyplot as plt\n",
        "import scipy as sc\n",
        "import seaborn as sns\n",
        "from statsmodels.tsa.seasonal import seasonal_decompose\n",
        "\n",
        "# DL\n",
        "from keras.models import Sequential\n",
        "from keras.layers import Dense\n",
        "from keras.layers import LSTM\n",
        "import tensorflow as tf\n",
        "from keras import metrics\n"
      ],
      "execution_count": 1,
      "outputs": [
        {
          "output_type": "stream",
          "text": [
            "/usr/local/lib/python3.7/dist-packages/statsmodels/tools/_testing.py:19: FutureWarning: pandas.util.testing is deprecated. Use the functions in the public API at pandas.testing instead.\n",
            "  import pandas.util.testing as tm\n"
          ],
          "name": "stderr"
        }
      ]
    },
    {
      "cell_type": "markdown",
      "metadata": {
        "id": "gBTRdXsdVj89"
      },
      "source": [
        "## **Importacion de datos**"
      ]
    },
    {
      "cell_type": "code",
      "metadata": {
        "id": "5NmXrsuZPHbx"
      },
      "source": [
        "# Carga del Dataset\n",
        "\n",
        "df = pd.read_csv('/content/drive/MyDrive/IA_Projects/LSTM-Covid-19/owid-covid-data.csv')"
      ],
      "execution_count": 2,
      "outputs": []
    },
    {
      "cell_type": "code",
      "metadata": {
        "colab": {
          "base_uri": "https://localhost:8080/",
          "height": 0
        },
        "id": "VJ9VEjW4Qipz",
        "outputId": "bd9eb14d-340a-446a-df44-746d507a1489"
      },
      "source": [
        "# Seleccion a Mexico\n",
        "\n",
        "df_mx = df[df['location'] == 'Mexico']\n",
        "\n",
        "df_mx.head(5)"
      ],
      "execution_count": 3,
      "outputs": [
        {
          "output_type": "execute_result",
          "data": {
            "text/html": [
              "<div>\n",
              "<style scoped>\n",
              "    .dataframe tbody tr th:only-of-type {\n",
              "        vertical-align: middle;\n",
              "    }\n",
              "\n",
              "    .dataframe tbody tr th {\n",
              "        vertical-align: top;\n",
              "    }\n",
              "\n",
              "    .dataframe thead th {\n",
              "        text-align: right;\n",
              "    }\n",
              "</style>\n",
              "<table border=\"1\" class=\"dataframe\">\n",
              "  <thead>\n",
              "    <tr style=\"text-align: right;\">\n",
              "      <th></th>\n",
              "      <th>iso_code</th>\n",
              "      <th>continent</th>\n",
              "      <th>location</th>\n",
              "      <th>date</th>\n",
              "      <th>total_cases</th>\n",
              "      <th>new_cases</th>\n",
              "      <th>new_cases_smoothed</th>\n",
              "      <th>total_deaths</th>\n",
              "      <th>new_deaths</th>\n",
              "      <th>new_deaths_smoothed</th>\n",
              "      <th>total_cases_per_million</th>\n",
              "      <th>new_cases_per_million</th>\n",
              "      <th>new_cases_smoothed_per_million</th>\n",
              "      <th>total_deaths_per_million</th>\n",
              "      <th>new_deaths_per_million</th>\n",
              "      <th>new_deaths_smoothed_per_million</th>\n",
              "      <th>reproduction_rate</th>\n",
              "      <th>icu_patients</th>\n",
              "      <th>icu_patients_per_million</th>\n",
              "      <th>hosp_patients</th>\n",
              "      <th>hosp_patients_per_million</th>\n",
              "      <th>weekly_icu_admissions</th>\n",
              "      <th>weekly_icu_admissions_per_million</th>\n",
              "      <th>weekly_hosp_admissions</th>\n",
              "      <th>weekly_hosp_admissions_per_million</th>\n",
              "      <th>new_tests</th>\n",
              "      <th>total_tests</th>\n",
              "      <th>total_tests_per_thousand</th>\n",
              "      <th>new_tests_per_thousand</th>\n",
              "      <th>new_tests_smoothed</th>\n",
              "      <th>new_tests_smoothed_per_thousand</th>\n",
              "      <th>positive_rate</th>\n",
              "      <th>tests_per_case</th>\n",
              "      <th>tests_units</th>\n",
              "      <th>total_vaccinations</th>\n",
              "      <th>people_vaccinated</th>\n",
              "      <th>people_fully_vaccinated</th>\n",
              "      <th>new_vaccinations</th>\n",
              "      <th>new_vaccinations_smoothed</th>\n",
              "      <th>total_vaccinations_per_hundred</th>\n",
              "      <th>people_vaccinated_per_hundred</th>\n",
              "      <th>people_fully_vaccinated_per_hundred</th>\n",
              "      <th>new_vaccinations_smoothed_per_million</th>\n",
              "      <th>stringency_index</th>\n",
              "      <th>population</th>\n",
              "      <th>population_density</th>\n",
              "      <th>median_age</th>\n",
              "      <th>aged_65_older</th>\n",
              "      <th>aged_70_older</th>\n",
              "      <th>gdp_per_capita</th>\n",
              "      <th>extreme_poverty</th>\n",
              "      <th>cardiovasc_death_rate</th>\n",
              "      <th>diabetes_prevalence</th>\n",
              "      <th>female_smokers</th>\n",
              "      <th>male_smokers</th>\n",
              "      <th>handwashing_facilities</th>\n",
              "      <th>hospital_beds_per_thousand</th>\n",
              "      <th>life_expectancy</th>\n",
              "      <th>human_development_index</th>\n",
              "    </tr>\n",
              "  </thead>\n",
              "  <tbody>\n",
              "    <tr>\n",
              "      <th>45393</th>\n",
              "      <td>MEX</td>\n",
              "      <td>North America</td>\n",
              "      <td>Mexico</td>\n",
              "      <td>2020-01-01</td>\n",
              "      <td>NaN</td>\n",
              "      <td>NaN</td>\n",
              "      <td>NaN</td>\n",
              "      <td>NaN</td>\n",
              "      <td>NaN</td>\n",
              "      <td>NaN</td>\n",
              "      <td>NaN</td>\n",
              "      <td>NaN</td>\n",
              "      <td>NaN</td>\n",
              "      <td>NaN</td>\n",
              "      <td>NaN</td>\n",
              "      <td>NaN</td>\n",
              "      <td>NaN</td>\n",
              "      <td>NaN</td>\n",
              "      <td>NaN</td>\n",
              "      <td>NaN</td>\n",
              "      <td>NaN</td>\n",
              "      <td>NaN</td>\n",
              "      <td>NaN</td>\n",
              "      <td>NaN</td>\n",
              "      <td>NaN</td>\n",
              "      <td>25.0</td>\n",
              "      <td>25.0</td>\n",
              "      <td>0.000</td>\n",
              "      <td>0.000</td>\n",
              "      <td>NaN</td>\n",
              "      <td>NaN</td>\n",
              "      <td>NaN</td>\n",
              "      <td>NaN</td>\n",
              "      <td>people tested</td>\n",
              "      <td>NaN</td>\n",
              "      <td>NaN</td>\n",
              "      <td>NaN</td>\n",
              "      <td>NaN</td>\n",
              "      <td>NaN</td>\n",
              "      <td>NaN</td>\n",
              "      <td>NaN</td>\n",
              "      <td>NaN</td>\n",
              "      <td>NaN</td>\n",
              "      <td>0.0</td>\n",
              "      <td>128932753.0</td>\n",
              "      <td>66.444</td>\n",
              "      <td>29.3</td>\n",
              "      <td>6.857</td>\n",
              "      <td>4.321</td>\n",
              "      <td>17336.469</td>\n",
              "      <td>2.5</td>\n",
              "      <td>152.783</td>\n",
              "      <td>13.06</td>\n",
              "      <td>6.9</td>\n",
              "      <td>21.4</td>\n",
              "      <td>87.847</td>\n",
              "      <td>1.38</td>\n",
              "      <td>75.05</td>\n",
              "      <td>0.779</td>\n",
              "    </tr>\n",
              "    <tr>\n",
              "      <th>45394</th>\n",
              "      <td>MEX</td>\n",
              "      <td>North America</td>\n",
              "      <td>Mexico</td>\n",
              "      <td>2020-01-02</td>\n",
              "      <td>NaN</td>\n",
              "      <td>NaN</td>\n",
              "      <td>NaN</td>\n",
              "      <td>NaN</td>\n",
              "      <td>NaN</td>\n",
              "      <td>NaN</td>\n",
              "      <td>NaN</td>\n",
              "      <td>NaN</td>\n",
              "      <td>NaN</td>\n",
              "      <td>NaN</td>\n",
              "      <td>NaN</td>\n",
              "      <td>NaN</td>\n",
              "      <td>NaN</td>\n",
              "      <td>NaN</td>\n",
              "      <td>NaN</td>\n",
              "      <td>NaN</td>\n",
              "      <td>NaN</td>\n",
              "      <td>NaN</td>\n",
              "      <td>NaN</td>\n",
              "      <td>NaN</td>\n",
              "      <td>NaN</td>\n",
              "      <td>72.0</td>\n",
              "      <td>97.0</td>\n",
              "      <td>0.001</td>\n",
              "      <td>0.001</td>\n",
              "      <td>NaN</td>\n",
              "      <td>NaN</td>\n",
              "      <td>NaN</td>\n",
              "      <td>NaN</td>\n",
              "      <td>people tested</td>\n",
              "      <td>NaN</td>\n",
              "      <td>NaN</td>\n",
              "      <td>NaN</td>\n",
              "      <td>NaN</td>\n",
              "      <td>NaN</td>\n",
              "      <td>NaN</td>\n",
              "      <td>NaN</td>\n",
              "      <td>NaN</td>\n",
              "      <td>NaN</td>\n",
              "      <td>0.0</td>\n",
              "      <td>128932753.0</td>\n",
              "      <td>66.444</td>\n",
              "      <td>29.3</td>\n",
              "      <td>6.857</td>\n",
              "      <td>4.321</td>\n",
              "      <td>17336.469</td>\n",
              "      <td>2.5</td>\n",
              "      <td>152.783</td>\n",
              "      <td>13.06</td>\n",
              "      <td>6.9</td>\n",
              "      <td>21.4</td>\n",
              "      <td>87.847</td>\n",
              "      <td>1.38</td>\n",
              "      <td>75.05</td>\n",
              "      <td>0.779</td>\n",
              "    </tr>\n",
              "    <tr>\n",
              "      <th>45395</th>\n",
              "      <td>MEX</td>\n",
              "      <td>North America</td>\n",
              "      <td>Mexico</td>\n",
              "      <td>2020-01-03</td>\n",
              "      <td>NaN</td>\n",
              "      <td>NaN</td>\n",
              "      <td>NaN</td>\n",
              "      <td>NaN</td>\n",
              "      <td>NaN</td>\n",
              "      <td>NaN</td>\n",
              "      <td>NaN</td>\n",
              "      <td>NaN</td>\n",
              "      <td>NaN</td>\n",
              "      <td>NaN</td>\n",
              "      <td>NaN</td>\n",
              "      <td>NaN</td>\n",
              "      <td>NaN</td>\n",
              "      <td>NaN</td>\n",
              "      <td>NaN</td>\n",
              "      <td>NaN</td>\n",
              "      <td>NaN</td>\n",
              "      <td>NaN</td>\n",
              "      <td>NaN</td>\n",
              "      <td>NaN</td>\n",
              "      <td>NaN</td>\n",
              "      <td>89.0</td>\n",
              "      <td>186.0</td>\n",
              "      <td>0.001</td>\n",
              "      <td>0.001</td>\n",
              "      <td>NaN</td>\n",
              "      <td>NaN</td>\n",
              "      <td>NaN</td>\n",
              "      <td>NaN</td>\n",
              "      <td>people tested</td>\n",
              "      <td>NaN</td>\n",
              "      <td>NaN</td>\n",
              "      <td>NaN</td>\n",
              "      <td>NaN</td>\n",
              "      <td>NaN</td>\n",
              "      <td>NaN</td>\n",
              "      <td>NaN</td>\n",
              "      <td>NaN</td>\n",
              "      <td>NaN</td>\n",
              "      <td>0.0</td>\n",
              "      <td>128932753.0</td>\n",
              "      <td>66.444</td>\n",
              "      <td>29.3</td>\n",
              "      <td>6.857</td>\n",
              "      <td>4.321</td>\n",
              "      <td>17336.469</td>\n",
              "      <td>2.5</td>\n",
              "      <td>152.783</td>\n",
              "      <td>13.06</td>\n",
              "      <td>6.9</td>\n",
              "      <td>21.4</td>\n",
              "      <td>87.847</td>\n",
              "      <td>1.38</td>\n",
              "      <td>75.05</td>\n",
              "      <td>0.779</td>\n",
              "    </tr>\n",
              "    <tr>\n",
              "      <th>45396</th>\n",
              "      <td>MEX</td>\n",
              "      <td>North America</td>\n",
              "      <td>Mexico</td>\n",
              "      <td>2020-01-04</td>\n",
              "      <td>NaN</td>\n",
              "      <td>NaN</td>\n",
              "      <td>NaN</td>\n",
              "      <td>NaN</td>\n",
              "      <td>NaN</td>\n",
              "      <td>NaN</td>\n",
              "      <td>NaN</td>\n",
              "      <td>NaN</td>\n",
              "      <td>NaN</td>\n",
              "      <td>NaN</td>\n",
              "      <td>NaN</td>\n",
              "      <td>NaN</td>\n",
              "      <td>NaN</td>\n",
              "      <td>NaN</td>\n",
              "      <td>NaN</td>\n",
              "      <td>NaN</td>\n",
              "      <td>NaN</td>\n",
              "      <td>NaN</td>\n",
              "      <td>NaN</td>\n",
              "      <td>NaN</td>\n",
              "      <td>NaN</td>\n",
              "      <td>45.0</td>\n",
              "      <td>231.0</td>\n",
              "      <td>0.002</td>\n",
              "      <td>0.000</td>\n",
              "      <td>NaN</td>\n",
              "      <td>NaN</td>\n",
              "      <td>NaN</td>\n",
              "      <td>NaN</td>\n",
              "      <td>people tested</td>\n",
              "      <td>NaN</td>\n",
              "      <td>NaN</td>\n",
              "      <td>NaN</td>\n",
              "      <td>NaN</td>\n",
              "      <td>NaN</td>\n",
              "      <td>NaN</td>\n",
              "      <td>NaN</td>\n",
              "      <td>NaN</td>\n",
              "      <td>NaN</td>\n",
              "      <td>0.0</td>\n",
              "      <td>128932753.0</td>\n",
              "      <td>66.444</td>\n",
              "      <td>29.3</td>\n",
              "      <td>6.857</td>\n",
              "      <td>4.321</td>\n",
              "      <td>17336.469</td>\n",
              "      <td>2.5</td>\n",
              "      <td>152.783</td>\n",
              "      <td>13.06</td>\n",
              "      <td>6.9</td>\n",
              "      <td>21.4</td>\n",
              "      <td>87.847</td>\n",
              "      <td>1.38</td>\n",
              "      <td>75.05</td>\n",
              "      <td>0.779</td>\n",
              "    </tr>\n",
              "    <tr>\n",
              "      <th>45397</th>\n",
              "      <td>MEX</td>\n",
              "      <td>North America</td>\n",
              "      <td>Mexico</td>\n",
              "      <td>2020-01-05</td>\n",
              "      <td>NaN</td>\n",
              "      <td>NaN</td>\n",
              "      <td>NaN</td>\n",
              "      <td>NaN</td>\n",
              "      <td>NaN</td>\n",
              "      <td>NaN</td>\n",
              "      <td>NaN</td>\n",
              "      <td>NaN</td>\n",
              "      <td>NaN</td>\n",
              "      <td>NaN</td>\n",
              "      <td>NaN</td>\n",
              "      <td>NaN</td>\n",
              "      <td>NaN</td>\n",
              "      <td>NaN</td>\n",
              "      <td>NaN</td>\n",
              "      <td>NaN</td>\n",
              "      <td>NaN</td>\n",
              "      <td>NaN</td>\n",
              "      <td>NaN</td>\n",
              "      <td>NaN</td>\n",
              "      <td>NaN</td>\n",
              "      <td>85.0</td>\n",
              "      <td>316.0</td>\n",
              "      <td>0.002</td>\n",
              "      <td>0.001</td>\n",
              "      <td>NaN</td>\n",
              "      <td>NaN</td>\n",
              "      <td>NaN</td>\n",
              "      <td>NaN</td>\n",
              "      <td>people tested</td>\n",
              "      <td>NaN</td>\n",
              "      <td>NaN</td>\n",
              "      <td>NaN</td>\n",
              "      <td>NaN</td>\n",
              "      <td>NaN</td>\n",
              "      <td>NaN</td>\n",
              "      <td>NaN</td>\n",
              "      <td>NaN</td>\n",
              "      <td>NaN</td>\n",
              "      <td>0.0</td>\n",
              "      <td>128932753.0</td>\n",
              "      <td>66.444</td>\n",
              "      <td>29.3</td>\n",
              "      <td>6.857</td>\n",
              "      <td>4.321</td>\n",
              "      <td>17336.469</td>\n",
              "      <td>2.5</td>\n",
              "      <td>152.783</td>\n",
              "      <td>13.06</td>\n",
              "      <td>6.9</td>\n",
              "      <td>21.4</td>\n",
              "      <td>87.847</td>\n",
              "      <td>1.38</td>\n",
              "      <td>75.05</td>\n",
              "      <td>0.779</td>\n",
              "    </tr>\n",
              "  </tbody>\n",
              "</table>\n",
              "</div>"
            ],
            "text/plain": [
              "      iso_code      continent  ... life_expectancy human_development_index\n",
              "45393      MEX  North America  ...           75.05                   0.779\n",
              "45394      MEX  North America  ...           75.05                   0.779\n",
              "45395      MEX  North America  ...           75.05                   0.779\n",
              "45396      MEX  North America  ...           75.05                   0.779\n",
              "45397      MEX  North America  ...           75.05                   0.779\n",
              "\n",
              "[5 rows x 59 columns]"
            ]
          },
          "metadata": {
            "tags": []
          },
          "execution_count": 3
        }
      ]
    },
    {
      "cell_type": "code",
      "metadata": {
        "colab": {
          "base_uri": "https://localhost:8080/",
          "height": 0
        },
        "id": "kuhAk_wrQjmE",
        "outputId": "0a3a9f6c-e567-4762-8201-64a811dc2483"
      },
      "source": [
        "# Seleccionando columnas\n",
        "df_mx = df_mx.iloc[:, 3:6]\n",
        "df_mx.head()"
      ],
      "execution_count": 4,
      "outputs": [
        {
          "output_type": "execute_result",
          "data": {
            "text/html": [
              "<div>\n",
              "<style scoped>\n",
              "    .dataframe tbody tr th:only-of-type {\n",
              "        vertical-align: middle;\n",
              "    }\n",
              "\n",
              "    .dataframe tbody tr th {\n",
              "        vertical-align: top;\n",
              "    }\n",
              "\n",
              "    .dataframe thead th {\n",
              "        text-align: right;\n",
              "    }\n",
              "</style>\n",
              "<table border=\"1\" class=\"dataframe\">\n",
              "  <thead>\n",
              "    <tr style=\"text-align: right;\">\n",
              "      <th></th>\n",
              "      <th>date</th>\n",
              "      <th>total_cases</th>\n",
              "      <th>new_cases</th>\n",
              "    </tr>\n",
              "  </thead>\n",
              "  <tbody>\n",
              "    <tr>\n",
              "      <th>45393</th>\n",
              "      <td>2020-01-01</td>\n",
              "      <td>NaN</td>\n",
              "      <td>NaN</td>\n",
              "    </tr>\n",
              "    <tr>\n",
              "      <th>45394</th>\n",
              "      <td>2020-01-02</td>\n",
              "      <td>NaN</td>\n",
              "      <td>NaN</td>\n",
              "    </tr>\n",
              "    <tr>\n",
              "      <th>45395</th>\n",
              "      <td>2020-01-03</td>\n",
              "      <td>NaN</td>\n",
              "      <td>NaN</td>\n",
              "    </tr>\n",
              "    <tr>\n",
              "      <th>45396</th>\n",
              "      <td>2020-01-04</td>\n",
              "      <td>NaN</td>\n",
              "      <td>NaN</td>\n",
              "    </tr>\n",
              "    <tr>\n",
              "      <th>45397</th>\n",
              "      <td>2020-01-05</td>\n",
              "      <td>NaN</td>\n",
              "      <td>NaN</td>\n",
              "    </tr>\n",
              "  </tbody>\n",
              "</table>\n",
              "</div>"
            ],
            "text/plain": [
              "             date  total_cases  new_cases\n",
              "45393  2020-01-01          NaN        NaN\n",
              "45394  2020-01-02          NaN        NaN\n",
              "45395  2020-01-03          NaN        NaN\n",
              "45396  2020-01-04          NaN        NaN\n",
              "45397  2020-01-05          NaN        NaN"
            ]
          },
          "metadata": {
            "tags": []
          },
          "execution_count": 4
        }
      ]
    },
    {
      "cell_type": "code",
      "metadata": {
        "id": "QyrjUnQ7EF9X"
      },
      "source": [
        "df_mx = df_mx.reset_index(inplace=False)"
      ],
      "execution_count": 5,
      "outputs": []
    },
    {
      "cell_type": "code",
      "metadata": {
        "id": "HSo81nHlGLpM"
      },
      "source": [
        "del df_mx['index']"
      ],
      "execution_count": 6,
      "outputs": []
    },
    {
      "cell_type": "code",
      "metadata": {
        "id": "LdTIolaEGXAJ"
      },
      "source": [
        "# Trabajando con la columna de nuevos casos\n",
        "\n",
        "df_mx = df_mx.iloc[:,[0,2]]"
      ],
      "execution_count": 7,
      "outputs": []
    },
    {
      "cell_type": "code",
      "metadata": {
        "id": "Z1oMJAvzGr1s"
      },
      "source": [
        ""
      ],
      "execution_count": 7,
      "outputs": []
    },
    {
      "cell_type": "markdown",
      "metadata": {
        "id": "I0glvokzHwP7"
      },
      "source": [
        "## **Transformacion de los datos**"
      ]
    },
    {
      "cell_type": "code",
      "metadata": {
        "colab": {
          "base_uri": "https://localhost:8080/",
          "height": 0
        },
        "id": "FLLkmTY-H1Aa",
        "outputId": "ed80be64-d3ee-4a4d-bb33-75ce45a7462b"
      },
      "source": [
        "df_mx.head(3)"
      ],
      "execution_count": 8,
      "outputs": [
        {
          "output_type": "execute_result",
          "data": {
            "text/html": [
              "<div>\n",
              "<style scoped>\n",
              "    .dataframe tbody tr th:only-of-type {\n",
              "        vertical-align: middle;\n",
              "    }\n",
              "\n",
              "    .dataframe tbody tr th {\n",
              "        vertical-align: top;\n",
              "    }\n",
              "\n",
              "    .dataframe thead th {\n",
              "        text-align: right;\n",
              "    }\n",
              "</style>\n",
              "<table border=\"1\" class=\"dataframe\">\n",
              "  <thead>\n",
              "    <tr style=\"text-align: right;\">\n",
              "      <th></th>\n",
              "      <th>date</th>\n",
              "      <th>new_cases</th>\n",
              "    </tr>\n",
              "  </thead>\n",
              "  <tbody>\n",
              "    <tr>\n",
              "      <th>0</th>\n",
              "      <td>2020-01-01</td>\n",
              "      <td>NaN</td>\n",
              "    </tr>\n",
              "    <tr>\n",
              "      <th>1</th>\n",
              "      <td>2020-01-02</td>\n",
              "      <td>NaN</td>\n",
              "    </tr>\n",
              "    <tr>\n",
              "      <th>2</th>\n",
              "      <td>2020-01-03</td>\n",
              "      <td>NaN</td>\n",
              "    </tr>\n",
              "  </tbody>\n",
              "</table>\n",
              "</div>"
            ],
            "text/plain": [
              "         date  new_cases\n",
              "0  2020-01-01        NaN\n",
              "1  2020-01-02        NaN\n",
              "2  2020-01-03        NaN"
            ]
          },
          "metadata": {
            "tags": []
          },
          "execution_count": 8
        }
      ]
    },
    {
      "cell_type": "code",
      "metadata": {
        "colab": {
          "base_uri": "https://localhost:8080/"
        },
        "id": "lM13If1qH8-N",
        "outputId": "3ec75000-22df-47a2-b3d0-07fcddf4c854"
      },
      "source": [
        "df_mx.info()"
      ],
      "execution_count": 9,
      "outputs": [
        {
          "output_type": "stream",
          "text": [
            "<class 'pandas.core.frame.DataFrame'>\n",
            "RangeIndex: 454 entries, 0 to 453\n",
            "Data columns (total 2 columns):\n",
            " #   Column     Non-Null Count  Dtype  \n",
            "---  ------     --------------  -----  \n",
            " 0   date       454 non-null    object \n",
            " 1   new_cases  396 non-null    float64\n",
            "dtypes: float64(1), object(1)\n",
            "memory usage: 7.2+ KB\n"
          ],
          "name": "stdout"
        }
      ]
    },
    {
      "cell_type": "code",
      "metadata": {
        "id": "fzVse4Z_H-RQ"
      },
      "source": [
        "df_mx.date = pd.to_datetime(df_mx.date)"
      ],
      "execution_count": 10,
      "outputs": []
    },
    {
      "cell_type": "code",
      "metadata": {
        "colab": {
          "base_uri": "https://localhost:8080/"
        },
        "id": "GMdV5UuZIFVJ",
        "outputId": "74ded9a7-084e-4606-f7dd-1ba872e5122c"
      },
      "source": [
        "df_mx.info()"
      ],
      "execution_count": 11,
      "outputs": [
        {
          "output_type": "stream",
          "text": [
            "<class 'pandas.core.frame.DataFrame'>\n",
            "RangeIndex: 454 entries, 0 to 453\n",
            "Data columns (total 2 columns):\n",
            " #   Column     Non-Null Count  Dtype         \n",
            "---  ------     --------------  -----         \n",
            " 0   date       454 non-null    datetime64[ns]\n",
            " 1   new_cases  396 non-null    float64       \n",
            "dtypes: datetime64[ns](1), float64(1)\n",
            "memory usage: 7.2 KB\n"
          ],
          "name": "stdout"
        }
      ]
    },
    {
      "cell_type": "code",
      "metadata": {
        "colab": {
          "base_uri": "https://localhost:8080/",
          "height": 0
        },
        "id": "RhCyjj9jIGii",
        "outputId": "19b24d90-17c0-49bf-c884-f1755ba22239"
      },
      "source": [
        "df_mx.describe()"
      ],
      "execution_count": 12,
      "outputs": [
        {
          "output_type": "execute_result",
          "data": {
            "text/html": [
              "<div>\n",
              "<style scoped>\n",
              "    .dataframe tbody tr th:only-of-type {\n",
              "        vertical-align: middle;\n",
              "    }\n",
              "\n",
              "    .dataframe tbody tr th {\n",
              "        vertical-align: top;\n",
              "    }\n",
              "\n",
              "    .dataframe thead th {\n",
              "        text-align: right;\n",
              "    }\n",
              "</style>\n",
              "<table border=\"1\" class=\"dataframe\">\n",
              "  <thead>\n",
              "    <tr style=\"text-align: right;\">\n",
              "      <th></th>\n",
              "      <th>new_cases</th>\n",
              "    </tr>\n",
              "  </thead>\n",
              "  <tbody>\n",
              "    <tr>\n",
              "      <th>count</th>\n",
              "      <td>396.000000</td>\n",
              "    </tr>\n",
              "    <tr>\n",
              "      <th>mean</th>\n",
              "      <td>5625.866162</td>\n",
              "    </tr>\n",
              "    <tr>\n",
              "      <th>std</th>\n",
              "      <td>4475.211614</td>\n",
              "    </tr>\n",
              "    <tr>\n",
              "      <th>min</th>\n",
              "      <td>0.000000</td>\n",
              "    </tr>\n",
              "    <tr>\n",
              "      <th>25%</th>\n",
              "      <td>2800.250000</td>\n",
              "    </tr>\n",
              "    <tr>\n",
              "      <th>50%</th>\n",
              "      <td>5237.500000</td>\n",
              "    </tr>\n",
              "    <tr>\n",
              "      <th>75%</th>\n",
              "      <td>6848.500000</td>\n",
              "    </tr>\n",
              "    <tr>\n",
              "      <th>max</th>\n",
              "      <td>28115.000000</td>\n",
              "    </tr>\n",
              "  </tbody>\n",
              "</table>\n",
              "</div>"
            ],
            "text/plain": [
              "          new_cases\n",
              "count    396.000000\n",
              "mean    5625.866162\n",
              "std     4475.211614\n",
              "min        0.000000\n",
              "25%     2800.250000\n",
              "50%     5237.500000\n",
              "75%     6848.500000\n",
              "max    28115.000000"
            ]
          },
          "metadata": {
            "tags": []
          },
          "execution_count": 12
        }
      ]
    },
    {
      "cell_type": "code",
      "metadata": {
        "colab": {
          "base_uri": "https://localhost:8080/"
        },
        "id": "AMzqF6soIJZ-",
        "outputId": "5691bbfa-37ab-4bcf-eebd-3ea355aad707"
      },
      "source": [
        "df_mx.isna().sum()"
      ],
      "execution_count": 13,
      "outputs": [
        {
          "output_type": "execute_result",
          "data": {
            "text/plain": [
              "date          0\n",
              "new_cases    58\n",
              "dtype: int64"
            ]
          },
          "metadata": {
            "tags": []
          },
          "execution_count": 13
        }
      ]
    },
    {
      "cell_type": "code",
      "metadata": {
        "id": "LRKsPTdoIlJg"
      },
      "source": [
        "# Quitando Datos faltantes.\n",
        "\n",
        "df_mx = df_mx[df_mx['new_cases'].notna()]"
      ],
      "execution_count": 14,
      "outputs": []
    },
    {
      "cell_type": "code",
      "metadata": {
        "colab": {
          "base_uri": "https://localhost:8080/",
          "height": 0
        },
        "id": "AFWr_jf-JAdp",
        "outputId": "f682c091-80a6-4477-b296-af0e3067230f"
      },
      "source": [
        "df_mx.tail()"
      ],
      "execution_count": 15,
      "outputs": [
        {
          "output_type": "execute_result",
          "data": {
            "text/html": [
              "<div>\n",
              "<style scoped>\n",
              "    .dataframe tbody tr th:only-of-type {\n",
              "        vertical-align: middle;\n",
              "    }\n",
              "\n",
              "    .dataframe tbody tr th {\n",
              "        vertical-align: top;\n",
              "    }\n",
              "\n",
              "    .dataframe thead th {\n",
              "        text-align: right;\n",
              "    }\n",
              "</style>\n",
              "<table border=\"1\" class=\"dataframe\">\n",
              "  <thead>\n",
              "    <tr style=\"text-align: right;\">\n",
              "      <th></th>\n",
              "      <th>date</th>\n",
              "      <th>new_cases</th>\n",
              "    </tr>\n",
              "  </thead>\n",
              "  <tbody>\n",
              "    <tr>\n",
              "      <th>449</th>\n",
              "      <td>2021-03-25</td>\n",
              "      <td>5787.0</td>\n",
              "    </tr>\n",
              "    <tr>\n",
              "      <th>450</th>\n",
              "      <td>2021-03-26</td>\n",
              "      <td>5303.0</td>\n",
              "    </tr>\n",
              "    <tr>\n",
              "      <th>451</th>\n",
              "      <td>2021-03-27</td>\n",
              "      <td>5059.0</td>\n",
              "    </tr>\n",
              "    <tr>\n",
              "      <th>452</th>\n",
              "      <td>2021-03-28</td>\n",
              "      <td>1646.0</td>\n",
              "    </tr>\n",
              "    <tr>\n",
              "      <th>453</th>\n",
              "      <td>2021-03-29</td>\n",
              "      <td>1293.0</td>\n",
              "    </tr>\n",
              "  </tbody>\n",
              "</table>\n",
              "</div>"
            ],
            "text/plain": [
              "          date  new_cases\n",
              "449 2021-03-25     5787.0\n",
              "450 2021-03-26     5303.0\n",
              "451 2021-03-27     5059.0\n",
              "452 2021-03-28     1646.0\n",
              "453 2021-03-29     1293.0"
            ]
          },
          "metadata": {
            "tags": []
          },
          "execution_count": 15
        }
      ]
    },
    {
      "cell_type": "code",
      "metadata": {
        "colab": {
          "base_uri": "https://localhost:8080/"
        },
        "id": "A07Wj3llJtbV",
        "outputId": "c325ba06-add5-4300-ea2c-53b98f0eb10f"
      },
      "source": [
        "df_mx.date.describe()"
      ],
      "execution_count": 16,
      "outputs": [
        {
          "output_type": "stream",
          "text": [
            "/usr/local/lib/python3.7/dist-packages/ipykernel_launcher.py:1: FutureWarning: Treating datetime data as categorical rather than numeric in `.describe` is deprecated and will be removed in a future version of pandas. Specify `datetime_is_numeric=True` to silence this warning and adopt the future behavior now.\n",
            "  \"\"\"Entry point for launching an IPython kernel.\n"
          ],
          "name": "stderr"
        },
        {
          "output_type": "execute_result",
          "data": {
            "text/plain": [
              "count                     396\n",
              "unique                    396\n",
              "top       2020-04-13 00:00:00\n",
              "freq                        1\n",
              "first     2020-02-28 00:00:00\n",
              "last      2021-03-29 00:00:00\n",
              "Name: date, dtype: object"
            ]
          },
          "metadata": {
            "tags": []
          },
          "execution_count": 16
        }
      ]
    },
    {
      "cell_type": "code",
      "metadata": {
        "id": "pggG81rPKIgA"
      },
      "source": [
        ""
      ],
      "execution_count": 16,
      "outputs": []
    },
    {
      "cell_type": "markdown",
      "metadata": {
        "id": "N0k3YjYXKjQ5"
      },
      "source": [
        "## **Visualizacion de Datos**"
      ]
    },
    {
      "cell_type": "code",
      "metadata": {
        "id": "ZRBmbNpkK6tx"
      },
      "source": [
        "df_mx_2 = df_mx.copy()"
      ],
      "execution_count": 17,
      "outputs": []
    },
    {
      "cell_type": "code",
      "metadata": {
        "id": "XRO8dazvK7uL"
      },
      "source": [
        "df_mx_2.set_index('date', inplace=True)"
      ],
      "execution_count": 18,
      "outputs": []
    },
    {
      "cell_type": "code",
      "metadata": {
        "id": "n4AsHom9KlUY"
      },
      "source": [
        "# Promedio de ventanas de tiempo\n",
        "\n",
        "#Ventana de tiempo\n",
        "ventana_tiempo = df_mx_2.rolling(7)\n",
        "\n",
        "#Media de la ventana de tiempo\n",
        "media_df = ventana_tiempo.mean()"
      ],
      "execution_count": 19,
      "outputs": []
    },
    {
      "cell_type": "code",
      "metadata": {
        "colab": {
          "base_uri": "https://localhost:8080/",
          "height": 0
        },
        "id": "fDnFEwOUL_eQ",
        "outputId": "d7d876a3-6cc7-4932-85f5-d61e1e321d1b"
      },
      "source": [
        "plt.figure(figsize=(12,8))\n",
        "plt.plot(df_mx_2, label='new_cases')\n",
        "plt.plot(media_df, label='media')\n",
        "plt.legend()"
      ],
      "execution_count": 20,
      "outputs": [
        {
          "output_type": "execute_result",
          "data": {
            "text/plain": [
              "<matplotlib.legend.Legend at 0x7f922c3f6f90>"
            ]
          },
          "metadata": {
            "tags": []
          },
          "execution_count": 20
        },
        {
          "output_type": "display_data",
          "data": {
            "image/png": "[encoded data removed]",
            "text/plain": [
              "<Figure size 864x576 with 1 Axes>"
            ]
          },
          "metadata": {
            "tags": [],
            "needs_background": "light"
          }
        }
      ]
    },
    {
      "cell_type": "code",
      "metadata": {
        "id": "BVMbLSzeMALk"
      },
      "source": [
        "seasonal_value = seasonal_decompose(df_mx_2, freq=7)"
      ],
      "execution_count": 21,
      "outputs": []
    },
    {
      "cell_type": "code",
      "metadata": {
        "colab": {
          "base_uri": "https://localhost:8080/",
          "height": 0
        },
        "id": "ge1MDs_XOepK",
        "outputId": "ac18a0f3-afa8-40d7-f817-f2da3ab6e77a"
      },
      "source": [
        "seasonal_value.plot();"
      ],
      "execution_count": 22,
      "outputs": [
        {
          "output_type": "display_data",
          "data": {
            "image/png": "[encoded data removed]",
            "text/plain": [
              "<Figure size 432x288 with 4 Axes>"
            ]
          },
          "metadata": {
            "tags": [],
            "needs_background": "light"
          }
        }
      ]
    },
    {
      "cell_type": "code",
      "metadata": {
        "id": "uvHv9BZKOgx_"
      },
      "source": [
        ""
      ],
      "execution_count": 22,
      "outputs": []
    },
    {
      "cell_type": "markdown",
      "metadata": {
        "id": "0jHkVun1POn2"
      },
      "source": [
        "# **Modelo-1**"
      ]
    },
    {
      "cell_type": "code",
      "metadata": {
        "colab": {
          "base_uri": "https://localhost:8080/"
        },
        "id": "EGNDEV4VPRsp",
        "outputId": "67040887-6684-4359-854e-cf200a59e0f0"
      },
      "source": [
        "# Datos de entreamiento y test\n",
        "\n",
        "len(df_mx_2)"
      ],
      "execution_count": 23,
      "outputs": [
        {
          "output_type": "execute_result",
          "data": {
            "text/plain": [
              "396"
            ]
          },
          "metadata": {
            "tags": []
          },
          "execution_count": 23
        }
      ]
    },
    {
      "cell_type": "code",
      "metadata": {
        "colab": {
          "base_uri": "https://localhost:8080/"
        },
        "id": "sZxH98wcQA5m",
        "outputId": "3effbdf1-dbcc-4387-f1e6-47a834d29a1f"
      },
      "source": [
        "len(df_mx_2)-20"
      ],
      "execution_count": 24,
      "outputs": [
        {
          "output_type": "execute_result",
          "data": {
            "text/plain": [
              "376"
            ]
          },
          "metadata": {
            "tags": []
          },
          "execution_count": 24
        }
      ]
    },
    {
      "cell_type": "code",
      "metadata": {
        "id": "5pWNDoT_WYoR"
      },
      "source": [
        "train = df_mx_2.iloc[:len(df_mx_2)-20]\n",
        "test = df_mx_2.iloc[len(df_mx_2)-20:]"
      ],
      "execution_count": 25,
      "outputs": []
    },
    {
      "cell_type": "code",
      "metadata": {
        "id": "R9oHz8dOWi2X"
      },
      "source": [
        "# Escalando datos\n",
        "\n",
        "from sklearn.preprocessing import MinMaxScaler\n",
        "from keras.preprocessing.sequence import TimeseriesGenerator\n",
        "\n",
        "scaler = MinMaxScaler()"
      ],
      "execution_count": 26,
      "outputs": []
    },
    {
      "cell_type": "code",
      "metadata": {
        "colab": {
          "base_uri": "https://localhost:8080/"
        },
        "id": "6kURX3eiWjbE",
        "outputId": "704e6a1d-9d5a-4e3d-c2ac-562b23b7cc34"
      },
      "source": [
        "#Ajustando los datos de entrenamiento\n",
        "scaler.fit(train)"
      ],
      "execution_count": 27,
      "outputs": [
        {
          "output_type": "execute_result",
          "data": {
            "text/plain": [
              "MinMaxScaler(copy=True, feature_range=(0, 1))"
            ]
          },
          "metadata": {
            "tags": []
          },
          "execution_count": 27
        }
      ]
    },
    {
      "cell_type": "code",
      "metadata": {
        "id": "8wYLrppIX07O"
      },
      "source": [
        "#Datos escalados\n",
        "\n",
        "scaled_train = scaler.transform(train)\n",
        "scaled_test = scaler.transform(test)"
      ],
      "execution_count": 28,
      "outputs": []
    },
    {
      "cell_type": "code",
      "metadata": {
        "id": "j4yoPIf9Yhhp"
      },
      "source": [
        "# Generator\n",
        "n_input = 20\n",
        "n_feacture = 1\n",
        "\n",
        "generator = TimeseriesGenerator(scaled_train, scaled_train, length=n_input, batch_size=2)\n",
        "\n",
        "x, y = generator[0]"
      ],
      "execution_count": 29,
      "outputs": []
    },
    {
      "cell_type": "code",
      "metadata": {
        "id": "lDqYigo2Y_jc"
      },
      "source": [
        "# Red neuronal\n",
        "\n",
        "#Red sequential\n",
        "model_1 = Sequential()\n",
        "\n",
        "#Red nueronal con 4 capas, cada capa tiene dierente cantidad de nueronas\n",
        "model_1.add(LSTM(128, activation='relu', input_shape=(n_input, n_feacture)))\n",
        "model_1.add(Dense(64, activation='relu' ))\n",
        "model_1.add(Dense(32))\n",
        "model_1.add(Dense(1))\n",
        "\n",
        "#Compilacion de la red nueronal\n",
        "model_1.compile(optimizer='adam', loss='mean_squared_error')"
      ],
      "execution_count": 30,
      "outputs": []
    },
    {
      "cell_type": "code",
      "metadata": {
        "colab": {
          "base_uri": "https://localhost:8080/"
        },
        "id": "wDfTuKM4agq0",
        "outputId": "6b8e6674-e988-4937-8bab-41c40d8c0cc4"
      },
      "source": [
        "model_1.summary()"
      ],
      "execution_count": 31,
      "outputs": [
        {
          "output_type": "stream",
          "text": [
            "Model: \"sequential\"\n",
            "_________________________________________________________________\n",
            "Layer (type)                 Output Shape              Param #   \n",
            "=================================================================\n",
            "lstm (LSTM)                  (None, 128)               66560     \n",
            "_________________________________________________________________\n",
            "dense (Dense)                (None, 64)                8256      \n",
            "_________________________________________________________________\n",
            "dense_1 (Dense)              (None, 32)                2080      \n",
            "_________________________________________________________________\n",
            "dense_2 (Dense)              (None, 1)                 33        \n",
            "=================================================================\n",
            "Total params: 76,929\n",
            "Trainable params: 76,929\n",
            "Non-trainable params: 0\n",
            "_________________________________________________________________\n"
          ],
          "name": "stdout"
        }
      ]
    },
    {
      "cell_type": "code",
      "metadata": {
        "colab": {
          "base_uri": "https://localhost:8080/"
        },
        "id": "2ZmG6nYPa5ur",
        "outputId": "0a6f30da-13dd-41e3-8ad1-ccf75fe78473"
      },
      "source": [
        "#Entrenando la red nueronal\n",
        "\n",
        "model_1.fit_generator(generator, epochs=100)"
      ],
      "execution_count": 32,
      "outputs": [
        {
          "output_type": "stream",
          "text": [
            "Epoch 1/100\n"
          ],
          "name": "stdout"
        },
        {
          "output_type": "stream",
          "text": [
            "/usr/local/lib/python3.7/dist-packages/tensorflow/python/keras/engine/training.py:1844: UserWarning: `Model.fit_generator` is deprecated and will be removed in a future version. Please use `Model.fit`, which supports generators.\n",
            "  warnings.warn('`Model.fit_generator` is deprecated and '\n"
          ],
          "name": "stderr"
        },
        {
          "output_type": "stream",
          "text": [
            "178/178 [==============================] - 4s 15ms/step - loss: 0.0129\n",
            "Epoch 2/100\n",
            "178/178 [==============================] - 3s 16ms/step - loss: 0.0138\n",
            "Epoch 3/100\n",
            "178/178 [==============================] - 3s 16ms/step - loss: 0.0074\n",
            "Epoch 4/100\n",
            "178/178 [==============================] - 3s 16ms/step - loss: 0.0133\n",
            "Epoch 5/100\n",
            "178/178 [==============================] - 3s 16ms/step - loss: 0.0145\n",
            "Epoch 6/100\n",
            "178/178 [==============================] - 3s 15ms/step - loss: 0.0074\n",
            "Epoch 7/100\n",
            "178/178 [==============================] - 3s 16ms/step - loss: 0.0107\n",
            "Epoch 8/100\n",
            "178/178 [==============================] - 3s 16ms/step - loss: 0.0112\n",
            "Epoch 9/100\n",
            "178/178 [==============================] - 3s 16ms/step - loss: 0.0096\n",
            "Epoch 10/100\n",
            "178/178 [==============================] - 3s 15ms/step - loss: 0.0118\n",
            "Epoch 11/100\n",
            "178/178 [==============================] - 3s 15ms/step - loss: 0.0083\n",
            "Epoch 12/100\n",
            "178/178 [==============================] - 3s 15ms/step - loss: 0.0171\n",
            "Epoch 13/100\n",
            "178/178 [==============================] - 3s 15ms/step - loss: 0.0086\n",
            "Epoch 14/100\n",
            "178/178 [==============================] - 3s 15ms/step - loss: 0.0093\n",
            "Epoch 15/100\n",
            "178/178 [==============================] - 3s 16ms/step - loss: 0.0108\n",
            "Epoch 16/100\n",
            "178/178 [==============================] - 3s 15ms/step - loss: 0.0089\n",
            "Epoch 17/100\n",
            "178/178 [==============================] - 3s 15ms/step - loss: 0.0085\n",
            "Epoch 18/100\n",
            "178/178 [==============================] - 3s 16ms/step - loss: 0.0104\n",
            "Epoch 19/100\n",
            "178/178 [==============================] - 3s 16ms/step - loss: 0.0085\n",
            "Epoch 20/100\n",
            "178/178 [==============================] - 3s 15ms/step - loss: 0.0107\n",
            "Epoch 21/100\n",
            "178/178 [==============================] - 3s 15ms/step - loss: 0.0066\n",
            "Epoch 22/100\n",
            "178/178 [==============================] - 3s 15ms/step - loss: 0.0110\n",
            "Epoch 23/100\n",
            "178/178 [==============================] - 3s 15ms/step - loss: 0.0095\n",
            "Epoch 24/100\n",
            "178/178 [==============================] - 3s 15ms/step - loss: 0.0061\n",
            "Epoch 25/100\n",
            "178/178 [==============================] - 3s 15ms/step - loss: 0.0079\n",
            "Epoch 26/100\n",
            "178/178 [==============================] - 3s 16ms/step - loss: 0.0075\n",
            "Epoch 27/100\n",
            "178/178 [==============================] - 3s 16ms/step - loss: 0.0073\n",
            "Epoch 28/100\n",
            "178/178 [==============================] - 3s 15ms/step - loss: 0.0069\n",
            "Epoch 29/100\n",
            "178/178 [==============================] - 3s 15ms/step - loss: 0.0057\n",
            "Epoch 30/100\n",
            "178/178 [==============================] - 3s 16ms/step - loss: 0.0059\n",
            "Epoch 31/100\n",
            "178/178 [==============================] - 3s 16ms/step - loss: 0.0114\n",
            "Epoch 32/100\n",
            "178/178 [==============================] - 3s 16ms/step - loss: 0.0113\n",
            "Epoch 33/100\n",
            "178/178 [==============================] - 3s 15ms/step - loss: 0.0073\n",
            "Epoch 34/100\n",
            "178/178 [==============================] - 3s 16ms/step - loss: 0.0065\n",
            "Epoch 35/100\n",
            "178/178 [==============================] - 3s 16ms/step - loss: 0.0156\n",
            "Epoch 36/100\n",
            "178/178 [==============================] - 3s 16ms/step - loss: 0.0088\n",
            "Epoch 37/100\n",
            "178/178 [==============================] - 3s 17ms/step - loss: 0.0069\n",
            "Epoch 38/100\n",
            "178/178 [==============================] - 3s 16ms/step - loss: 0.0090\n",
            "Epoch 39/100\n",
            "178/178 [==============================] - 3s 16ms/step - loss: 0.0054\n",
            "Epoch 40/100\n",
            "178/178 [==============================] - 3s 16ms/step - loss: 0.0061\n",
            "Epoch 41/100\n",
            "178/178 [==============================] - 3s 15ms/step - loss: 0.0091\n",
            "Epoch 42/100\n",
            "178/178 [==============================] - 3s 16ms/step - loss: 0.0058\n",
            "Epoch 43/100\n",
            "178/178 [==============================] - 3s 15ms/step - loss: 0.0054\n",
            "Epoch 44/100\n",
            "178/178 [==============================] - 3s 16ms/step - loss: 0.0076\n",
            "Epoch 45/100\n",
            "178/178 [==============================] - 3s 16ms/step - loss: 0.0060\n",
            "Epoch 46/100\n",
            "178/178 [==============================] - 3s 16ms/step - loss: 0.0085\n",
            "Epoch 47/100\n",
            "178/178 [==============================] - 3s 15ms/step - loss: 0.0091\n",
            "Epoch 48/100\n",
            "178/178 [==============================] - 3s 16ms/step - loss: 0.0116\n",
            "Epoch 49/100\n",
            "178/178 [==============================] - 3s 16ms/step - loss: 0.0042\n",
            "Epoch 50/100\n",
            "178/178 [==============================] - 3s 16ms/step - loss: 0.0080\n",
            "Epoch 51/100\n",
            "178/178 [==============================] - 3s 16ms/step - loss: 0.0061\n",
            "Epoch 52/100\n",
            "178/178 [==============================] - 3s 15ms/step - loss: 0.0046\n",
            "Epoch 53/100\n",
            "178/178 [==============================] - 3s 16ms/step - loss: 0.0068\n",
            "Epoch 54/100\n",
            "178/178 [==============================] - 3s 16ms/step - loss: 0.0073\n",
            "Epoch 55/100\n",
            "178/178 [==============================] - 3s 16ms/step - loss: 0.0071\n",
            "Epoch 56/100\n",
            "178/178 [==============================] - 3s 16ms/step - loss: 0.0046\n",
            "Epoch 57/100\n",
            "178/178 [==============================] - 3s 15ms/step - loss: 0.0064\n",
            "Epoch 58/100\n",
            "178/178 [==============================] - 3s 17ms/step - loss: 0.0067\n",
            "Epoch 59/100\n",
            "178/178 [==============================] - 3s 17ms/step - loss: 0.0044\n",
            "Epoch 60/100\n",
            "178/178 [==============================] - 3s 16ms/step - loss: 0.0070\n",
            "Epoch 61/100\n",
            "178/178 [==============================] - 3s 17ms/step - loss: 0.0057\n",
            "Epoch 62/100\n",
            "178/178 [==============================] - 3s 16ms/step - loss: 0.0066\n",
            "Epoch 63/100\n",
            "178/178 [==============================] - 3s 16ms/step - loss: 0.0077\n",
            "Epoch 64/100\n",
            "178/178 [==============================] - 3s 17ms/step - loss: 0.0044\n",
            "Epoch 65/100\n",
            "178/178 [==============================] - 3s 17ms/step - loss: 0.0053\n",
            "Epoch 66/100\n",
            "178/178 [==============================] - 3s 16ms/step - loss: 0.0035\n",
            "Epoch 67/100\n",
            "178/178 [==============================] - 3s 16ms/step - loss: 0.0054\n",
            "Epoch 68/100\n",
            "178/178 [==============================] - 3s 16ms/step - loss: 0.0063\n",
            "Epoch 69/100\n",
            "178/178 [==============================] - 3s 17ms/step - loss: 0.0046\n",
            "Epoch 70/100\n",
            "178/178 [==============================] - 3s 17ms/step - loss: 0.0094\n",
            "Epoch 71/100\n",
            "178/178 [==============================] - 3s 17ms/step - loss: 0.0033\n",
            "Epoch 72/100\n",
            "178/178 [==============================] - 3s 16ms/step - loss: 0.0082\n",
            "Epoch 73/100\n",
            "178/178 [==============================] - 3s 16ms/step - loss: 0.0053\n",
            "Epoch 74/100\n",
            "178/178 [==============================] - 3s 16ms/step - loss: 0.0084\n",
            "Epoch 75/100\n",
            "178/178 [==============================] - 3s 16ms/step - loss: 0.0032\n",
            "Epoch 76/100\n",
            "178/178 [==============================] - 3s 17ms/step - loss: 0.0033\n",
            "Epoch 77/100\n",
            "178/178 [==============================] - 3s 19ms/step - loss: 0.0097\n",
            "Epoch 78/100\n",
            "178/178 [==============================] - 3s 18ms/step - loss: 0.0082\n",
            "Epoch 79/100\n",
            "178/178 [==============================] - 3s 18ms/step - loss: 0.0039\n",
            "Epoch 80/100\n",
            "178/178 [==============================] - 3s 16ms/step - loss: 0.0026\n",
            "Epoch 81/100\n",
            "178/178 [==============================] - 3s 17ms/step - loss: 0.0048\n",
            "Epoch 82/100\n",
            "178/178 [==============================] - 3s 17ms/step - loss: 0.0068\n",
            "Epoch 83/100\n",
            "178/178 [==============================] - 3s 16ms/step - loss: 0.0054\n",
            "Epoch 84/100\n",
            "178/178 [==============================] - 3s 15ms/step - loss: 0.0030\n",
            "Epoch 85/100\n",
            "178/178 [==============================] - 3s 16ms/step - loss: 0.0028\n",
            "Epoch 86/100\n",
            "178/178 [==============================] - 3s 17ms/step - loss: 0.0055\n",
            "Epoch 87/100\n",
            "178/178 [==============================] - 3s 17ms/step - loss: 0.0065\n",
            "Epoch 88/100\n",
            "178/178 [==============================] - 3s 16ms/step - loss: 0.0057\n",
            "Epoch 89/100\n",
            "178/178 [==============================] - 3s 17ms/step - loss: 0.0033\n",
            "Epoch 90/100\n",
            "178/178 [==============================] - 3s 17ms/step - loss: 0.0068\n",
            "Epoch 91/100\n",
            "178/178 [==============================] - 3s 17ms/step - loss: 0.0067\n",
            "Epoch 92/100\n",
            "178/178 [==============================] - 3s 17ms/step - loss: 0.0037\n",
            "Epoch 93/100\n",
            "178/178 [==============================] - 3s 16ms/step - loss: 0.0041\n",
            "Epoch 94/100\n",
            "178/178 [==============================] - 3s 16ms/step - loss: 0.0046\n",
            "Epoch 95/100\n",
            "178/178 [==============================] - 3s 16ms/step - loss: 0.0024\n",
            "Epoch 96/100\n",
            "178/178 [==============================] - 3s 16ms/step - loss: 0.0094\n",
            "Epoch 97/100\n",
            "178/178 [==============================] - 3s 16ms/step - loss: 0.0057\n",
            "Epoch 98/100\n",
            "178/178 [==============================] - 3s 17ms/step - loss: 0.0037\n",
            "Epoch 99/100\n",
            "178/178 [==============================] - 3s 17ms/step - loss: 0.0044\n",
            "Epoch 100/100\n",
            "178/178 [==============================] - 4s 20ms/step - loss: 0.0058\n"
          ],
          "name": "stdout"
        },
        {
          "output_type": "execute_result",
          "data": {
            "text/plain": [
              "<tensorflow.python.keras.callbacks.History at 0x7f922dcf8f90>"
            ]
          },
          "metadata": {
            "tags": []
          },
          "execution_count": 32
        }
      ]
    },
    {
      "cell_type": "code",
      "metadata": {
        "colab": {
          "base_uri": "https://localhost:8080/",
          "height": 282
        },
        "id": "X89-fFaUbB0j",
        "outputId": "5d930708-a551-4967-ac3c-71fdb79c65f8"
      },
      "source": [
        "loss_pre_epoch = model_1.history.history['loss']\n",
        "plt.plot(range(len(loss_pre_epoch)), loss_pre_epoch)"
      ],
      "execution_count": 33,
      "outputs": [
        {
          "output_type": "execute_result",
          "data": {
            "text/plain": [
              "[<matplotlib.lines.Line2D at 0x7f92195f2290>]"
            ]
          },
          "metadata": {
            "tags": []
          },
          "execution_count": 33
        },
        {
          "output_type": "display_data",
          "data": {
            "image/png": "[encoded data removed]",
            "text/plain": [
              "<Figure size 432x288 with 1 Axes>"
            ]
          },
          "metadata": {
            "tags": [],
            "needs_background": "light"
          }
        }
      ]
    },
    {
      "cell_type": "code",
      "metadata": {
        "colab": {
          "base_uri": "https://localhost:8080/"
        },
        "id": "QoqBGVoDcE_-",
        "outputId": "09031e60-8c7d-479f-d0bf-3511d79dbac7"
      },
      "source": [
        "first_eval = scaled_train[-20:]\n",
        "\n",
        "\n",
        "first_eval = first_eval.reshape(1, n_input, n_feacture)\n",
        "\n",
        "model_1.predict(first_eval)"
      ],
      "execution_count": 34,
      "outputs": [
        {
          "output_type": "execute_result",
          "data": {
            "text/plain": [
              "array([[0.28872752]], dtype=float32)"
            ]
          },
          "metadata": {
            "tags": []
          },
          "execution_count": 34
        }
      ]
    },
    {
      "cell_type": "code",
      "metadata": {
        "id": "VMa-pig6dDg8"
      },
      "source": [
        "test_predictions = []\n",
        "\n",
        "first_eval_batch = scaled_train[-n_input:]\n",
        "current_batch = first_eval.reshape((1, n_input, n_feacture))\n",
        "\n",
        "for i in range(len(test)):\n",
        "    \n",
        "    # obtener la predicción ([0] es para obtener solo el número en lugar de [matriz])\n",
        "    current_pred = model_1.predict(current_batch)[0]\n",
        "    \n",
        "    # guardar la predicción\n",
        "    test_predictions.append(current_pred) \n",
        "    \n",
        "    # actualizar el lote para incluir ahora la predicción y soltar primer valor\n",
        "    current_batch = np.append(current_batch[:,1:,:],[[current_pred]],axis=1)"
      ],
      "execution_count": 35,
      "outputs": []
    },
    {
      "cell_type": "code",
      "metadata": {
        "colab": {
          "base_uri": "https://localhost:8080/"
        },
        "id": "3x-L-RrYfr60",
        "outputId": "aa676a6d-5cfa-4510-865c-bd69191255f5"
      },
      "source": [
        "#Transofmacion inversa\n",
        "true_predicctions = scaler.inverse_transform(test_predictions)\n",
        "\n",
        "\n",
        "test['Prediction'] = true_predicctions"
      ],
      "execution_count": 36,
      "outputs": [
        {
          "output_type": "stream",
          "text": [
            "/usr/local/lib/python3.7/dist-packages/ipykernel_launcher.py:5: SettingWithCopyWarning: \n",
            "A value is trying to be set on a copy of a slice from a DataFrame.\n",
            "Try using .loc[row_indexer,col_indexer] = value instead\n",
            "\n",
            "See the caveats in the documentation: https://pandas.pydata.org/pandas-docs/stable/user_guide/indexing.html#returning-a-view-versus-a-copy\n",
            "  \"\"\"\n"
          ],
          "name": "stderr"
        }
      ]
    },
    {
      "cell_type": "code",
      "metadata": {
        "colab": {
          "base_uri": "https://localhost:8080/",
          "height": 537
        },
        "id": "0leZ0WvrgNVE",
        "outputId": "6e7bdb46-1695-48db-c351-7bb997f6342c"
      },
      "source": [
        "test.plot(figsize=(12,8))"
      ],
      "execution_count": 37,
      "outputs": [
        {
          "output_type": "execute_result",
          "data": {
            "text/plain": [
              "<matplotlib.axes._subplots.AxesSubplot at 0x7f9219571210>"
            ]
          },
          "metadata": {
            "tags": []
          },
          "execution_count": 37
        },
        {
          "output_type": "display_data",
          "data": {
            "image/png": "[encoded data removed]",
            "text/plain": [
              "<Figure size 864x576 with 1 Axes>"
            ]
          },
          "metadata": {
            "tags": [],
            "needs_background": "light"
          }
        }
      ]
    },
    {
      "cell_type": "code",
      "metadata": {
        "colab": {
          "base_uri": "https://localhost:8080/",
          "height": 700
        },
        "id": "rvS_W1FOgQFr",
        "outputId": "e22b114a-8db7-4e1b-a3e7-c5172c9c064f"
      },
      "source": [
        "#Observacion de los test y la predicciones\n",
        "test"
      ],
      "execution_count": 38,
      "outputs": [
        {
          "output_type": "execute_result",
          "data": {
            "text/html": [
              "<div>\n",
              "<style scoped>\n",
              "    .dataframe tbody tr th:only-of-type {\n",
              "        vertical-align: middle;\n",
              "    }\n",
              "\n",
              "    .dataframe tbody tr th {\n",
              "        vertical-align: top;\n",
              "    }\n",
              "\n",
              "    .dataframe thead th {\n",
              "        text-align: right;\n",
              "    }\n",
              "</style>\n",
              "<table border=\"1\" class=\"dataframe\">\n",
              "  <thead>\n",
              "    <tr style=\"text-align: right;\">\n",
              "      <th></th>\n",
              "      <th>new_cases</th>\n",
              "      <th>Prediction</th>\n",
              "    </tr>\n",
              "    <tr>\n",
              "      <th>date</th>\n",
              "      <th></th>\n",
              "      <th></th>\n",
              "    </tr>\n",
              "  </thead>\n",
              "  <tbody>\n",
              "    <tr>\n",
              "      <th>2021-03-10</th>\n",
              "      <td>6602.0</td>\n",
              "      <td>8117.574278</td>\n",
              "    </tr>\n",
              "    <tr>\n",
              "      <th>2021-03-11</th>\n",
              "      <td>6469.0</td>\n",
              "      <td>9129.992834</td>\n",
              "    </tr>\n",
              "    <tr>\n",
              "      <th>2021-03-12</th>\n",
              "      <td>6816.0</td>\n",
              "      <td>10234.787339</td>\n",
              "    </tr>\n",
              "    <tr>\n",
              "      <th>2021-03-13</th>\n",
              "      <td>6104.0</td>\n",
              "      <td>11280.778563</td>\n",
              "    </tr>\n",
              "    <tr>\n",
              "      <th>2021-03-14</th>\n",
              "      <td>2415.0</td>\n",
              "      <td>12408.137508</td>\n",
              "    </tr>\n",
              "    <tr>\n",
              "      <th>2021-03-15</th>\n",
              "      <td>1439.0</td>\n",
              "      <td>12728.028866</td>\n",
              "    </tr>\n",
              "    <tr>\n",
              "      <th>2021-03-16</th>\n",
              "      <td>1278.0</td>\n",
              "      <td>11513.550908</td>\n",
              "    </tr>\n",
              "    <tr>\n",
              "      <th>2021-03-17</th>\n",
              "      <td>6455.0</td>\n",
              "      <td>8803.365660</td>\n",
              "    </tr>\n",
              "    <tr>\n",
              "      <th>2021-03-18</th>\n",
              "      <td>6726.0</td>\n",
              "      <td>8685.789261</td>\n",
              "    </tr>\n",
              "    <tr>\n",
              "      <th>2021-03-19</th>\n",
              "      <td>5722.0</td>\n",
              "      <td>13110.498209</td>\n",
              "    </tr>\n",
              "    <tr>\n",
              "      <th>2021-03-20</th>\n",
              "      <td>5729.0</td>\n",
              "      <td>16987.363012</td>\n",
              "    </tr>\n",
              "    <tr>\n",
              "      <th>2021-03-21</th>\n",
              "      <td>2133.0</td>\n",
              "      <td>21994.429727</td>\n",
              "    </tr>\n",
              "    <tr>\n",
              "      <th>2021-03-22</th>\n",
              "      <td>1388.0</td>\n",
              "      <td>26136.402813</td>\n",
              "    </tr>\n",
              "    <tr>\n",
              "      <th>2021-03-23</th>\n",
              "      <td>5881.0</td>\n",
              "      <td>26645.259830</td>\n",
              "    </tr>\n",
              "    <tr>\n",
              "      <th>2021-03-24</th>\n",
              "      <td>5714.0</td>\n",
              "      <td>18451.452436</td>\n",
              "    </tr>\n",
              "    <tr>\n",
              "      <th>2021-03-25</th>\n",
              "      <td>5787.0</td>\n",
              "      <td>10396.839898</td>\n",
              "    </tr>\n",
              "    <tr>\n",
              "      <th>2021-03-26</th>\n",
              "      <td>5303.0</td>\n",
              "      <td>26299.533739</td>\n",
              "    </tr>\n",
              "    <tr>\n",
              "      <th>2021-03-27</th>\n",
              "      <td>5059.0</td>\n",
              "      <td>43895.447869</td>\n",
              "    </tr>\n",
              "    <tr>\n",
              "      <th>2021-03-28</th>\n",
              "      <td>1646.0</td>\n",
              "      <td>62260.713028</td>\n",
              "    </tr>\n",
              "    <tr>\n",
              "      <th>2021-03-29</th>\n",
              "      <td>1293.0</td>\n",
              "      <td>74906.082981</td>\n",
              "    </tr>\n",
              "  </tbody>\n",
              "</table>\n",
              "</div>"
            ],
            "text/plain": [
              "            new_cases    Prediction\n",
              "date                               \n",
              "2021-03-10     6602.0   8117.574278\n",
              "2021-03-11     6469.0   9129.992834\n",
              "2021-03-12     6816.0  10234.787339\n",
              "2021-03-13     6104.0  11280.778563\n",
              "2021-03-14     2415.0  12408.137508\n",
              "2021-03-15     1439.0  12728.028866\n",
              "2021-03-16     1278.0  11513.550908\n",
              "2021-03-17     6455.0   8803.365660\n",
              "2021-03-18     6726.0   8685.789261\n",
              "2021-03-19     5722.0  13110.498209\n",
              "2021-03-20     5729.0  16987.363012\n",
              "2021-03-21     2133.0  21994.429727\n",
              "2021-03-22     1388.0  26136.402813\n",
              "2021-03-23     5881.0  26645.259830\n",
              "2021-03-24     5714.0  18451.452436\n",
              "2021-03-25     5787.0  10396.839898\n",
              "2021-03-26     5303.0  26299.533739\n",
              "2021-03-27     5059.0  43895.447869\n",
              "2021-03-28     1646.0  62260.713028\n",
              "2021-03-29     1293.0  74906.082981"
            ]
          },
          "metadata": {
            "tags": []
          },
          "execution_count": 38
        }
      ]
    },
    {
      "cell_type": "code",
      "metadata": {
        "id": "OhauPcqbgTDZ"
      },
      "source": [
        ""
      ],
      "execution_count": 38,
      "outputs": []
    },
    {
      "cell_type": "markdown",
      "metadata": {
        "id": "KTtysQjUg8Oo"
      },
      "source": [
        "# **Modelo 2**"
      ]
    },
    {
      "cell_type": "code",
      "metadata": {
        "id": "7C13lY2pg-LO"
      },
      "source": [
        ""
      ],
      "execution_count": 38,
      "outputs": []
    },
    {
      "cell_type": "code",
      "metadata": {
        "id": "NeE4BFZihONo"
      },
      "source": [
        "# Red neuronal 2\n",
        "# 5 Capas\n",
        "# relu para activacion de cada capa\n",
        "# sgd para compilacion y mse para loss\n",
        "\n",
        "#Red sequential\n",
        "model_2 = Sequential()\n",
        "\n",
        "#Red nueronal con 4 capas, cada capa tiene dierente cantidad de nueronas\n",
        "model_2.add(LSTM(128, activation='relu', input_shape=(n_input, n_feacture)))\n",
        "model_2.add(Dense(64, activation='relu' ))\n",
        "model_2.add(Dense(32, activation='relu'))\n",
        "model_2.add(Dense(12))\n",
        "model_2.add(Dense(1))\n",
        "\n",
        "#Compilacion de la red nueronal\n",
        "model_2.compile(optimizer='sgd', loss='mean_squared_error', )"
      ],
      "execution_count": 39,
      "outputs": []
    },
    {
      "cell_type": "code",
      "metadata": {
        "colab": {
          "base_uri": "https://localhost:8080/"
        },
        "id": "b-xfiKCrhONv",
        "outputId": "a016d187-3937-4098-a47a-2aa7618130db"
      },
      "source": [
        "model_2.summary()"
      ],
      "execution_count": 40,
      "outputs": [
        {
          "output_type": "stream",
          "text": [
            "Model: \"sequential_1\"\n",
            "_________________________________________________________________\n",
            "Layer (type)                 Output Shape              Param #   \n",
            "=================================================================\n",
            "lstm_1 (LSTM)                (None, 128)               66560     \n",
            "_________________________________________________________________\n",
            "dense_3 (Dense)              (None, 64)                8256      \n",
            "_________________________________________________________________\n",
            "dense_4 (Dense)              (None, 32)                2080      \n",
            "_________________________________________________________________\n",
            "dense_5 (Dense)              (None, 12)                396       \n",
            "_________________________________________________________________\n",
            "dense_6 (Dense)              (None, 1)                 13        \n",
            "=================================================================\n",
            "Total params: 77,305\n",
            "Trainable params: 77,305\n",
            "Non-trainable params: 0\n",
            "_________________________________________________________________\n"
          ],
          "name": "stdout"
        }
      ]
    },
    {
      "cell_type": "code",
      "metadata": {
        "colab": {
          "base_uri": "https://localhost:8080/"
        },
        "id": "VRiLFXQghON3",
        "outputId": "c9fa3de5-0148-4145-9c01-d71d55bc78b8"
      },
      "source": [
        "#Entrenando la red nueronal\n",
        "\n",
        "model_2.fit_generator(generator, epochs=100)"
      ],
      "execution_count": 41,
      "outputs": [
        {
          "output_type": "stream",
          "text": [
            "Epoch 1/100\n"
          ],
          "name": "stdout"
        },
        {
          "output_type": "stream",
          "text": [
            "/usr/local/lib/python3.7/dist-packages/tensorflow/python/keras/engine/training.py:1844: UserWarning: `Model.fit_generator` is deprecated and will be removed in a future version. Please use `Model.fit`, which supports generators.\n",
            "  warnings.warn('`Model.fit_generator` is deprecated and '\n"
          ],
          "name": "stderr"
        },
        {
          "output_type": "stream",
          "text": [
            "178/178 [==============================] - 4s 15ms/step - loss: 0.0341\n",
            "Epoch 2/100\n",
            "178/178 [==============================] - 3s 15ms/step - loss: 0.0210\n",
            "Epoch 3/100\n",
            "178/178 [==============================] - 3s 15ms/step - loss: 0.0182\n",
            "Epoch 4/100\n",
            "178/178 [==============================] - 3s 15ms/step - loss: 0.0158\n",
            "Epoch 5/100\n",
            "178/178 [==============================] - 3s 15ms/step - loss: 0.0182\n",
            "Epoch 6/100\n",
            "178/178 [==============================] - 3s 16ms/step - loss: 0.0186\n",
            "Epoch 7/100\n",
            "178/178 [==============================] - 3s 15ms/step - loss: 0.0147\n",
            "Epoch 8/100\n",
            "178/178 [==============================] - 3s 15ms/step - loss: 0.0115\n",
            "Epoch 9/100\n",
            "178/178 [==============================] - 3s 15ms/step - loss: 0.0100\n",
            "Epoch 10/100\n",
            "178/178 [==============================] - 3s 15ms/step - loss: 0.0099\n",
            "Epoch 11/100\n",
            "178/178 [==============================] - 3s 15ms/step - loss: 0.0087\n",
            "Epoch 12/100\n",
            "178/178 [==============================] - 3s 16ms/step - loss: 0.0093\n",
            "Epoch 13/100\n",
            "178/178 [==============================] - 3s 16ms/step - loss: 0.0084\n",
            "Epoch 14/100\n",
            "178/178 [==============================] - 3s 15ms/step - loss: 0.0114\n",
            "Epoch 15/100\n",
            "178/178 [==============================] - 3s 15ms/step - loss: 0.0090\n",
            "Epoch 16/100\n",
            "178/178 [==============================] - 3s 15ms/step - loss: 0.0072\n",
            "Epoch 17/100\n",
            "178/178 [==============================] - 3s 15ms/step - loss: 0.0069\n",
            "Epoch 18/100\n",
            "178/178 [==============================] - 3s 16ms/step - loss: 0.0074\n",
            "Epoch 19/100\n",
            "178/178 [==============================] - 3s 16ms/step - loss: 0.0081\n",
            "Epoch 20/100\n",
            "178/178 [==============================] - 3s 15ms/step - loss: 0.0116\n",
            "Epoch 21/100\n",
            "178/178 [==============================] - 3s 16ms/step - loss: 0.0089\n",
            "Epoch 22/100\n",
            "178/178 [==============================] - 3s 15ms/step - loss: 0.0063\n",
            "Epoch 23/100\n",
            "178/178 [==============================] - 3s 14ms/step - loss: 0.0083\n",
            "Epoch 24/100\n",
            "178/178 [==============================] - 3s 15ms/step - loss: 0.0084\n",
            "Epoch 25/100\n",
            "178/178 [==============================] - 3s 14ms/step - loss: 0.0158\n",
            "Epoch 26/100\n",
            "178/178 [==============================] - 3s 14ms/step - loss: 0.0078\n",
            "Epoch 27/100\n",
            "178/178 [==============================] - 3s 14ms/step - loss: 0.0085\n",
            "Epoch 28/100\n",
            "178/178 [==============================] - 3s 14ms/step - loss: 0.0091\n",
            "Epoch 29/100\n",
            "178/178 [==============================] - 3s 15ms/step - loss: 0.0076\n",
            "Epoch 30/100\n",
            "178/178 [==============================] - 3s 14ms/step - loss: 0.0086\n",
            "Epoch 31/100\n",
            "178/178 [==============================] - 3s 15ms/step - loss: 0.0130\n",
            "Epoch 32/100\n",
            "178/178 [==============================] - 3s 14ms/step - loss: 0.0102\n",
            "Epoch 33/100\n",
            "178/178 [==============================] - 3s 15ms/step - loss: 0.0090\n",
            "Epoch 34/100\n",
            "178/178 [==============================] - 3s 14ms/step - loss: 0.0097\n",
            "Epoch 35/100\n",
            "178/178 [==============================] - 3s 14ms/step - loss: 0.0099\n",
            "Epoch 36/100\n",
            "178/178 [==============================] - 3s 15ms/step - loss: 0.0105\n",
            "Epoch 37/100\n",
            "178/178 [==============================] - 3s 15ms/step - loss: 0.0114\n",
            "Epoch 38/100\n",
            "178/178 [==============================] - 3s 15ms/step - loss: 0.0169\n",
            "Epoch 39/100\n",
            "178/178 [==============================] - 3s 15ms/step - loss: 0.0081\n",
            "Epoch 40/100\n",
            "178/178 [==============================] - 3s 15ms/step - loss: 0.0081\n",
            "Epoch 41/100\n",
            "178/178 [==============================] - 3s 15ms/step - loss: 0.0075\n",
            "Epoch 42/100\n",
            "178/178 [==============================] - 3s 15ms/step - loss: 0.0107\n",
            "Epoch 43/100\n",
            "178/178 [==============================] - 3s 15ms/step - loss: 0.0098\n",
            "Epoch 44/100\n",
            "178/178 [==============================] - 3s 15ms/step - loss: 0.0104\n",
            "Epoch 45/100\n",
            "178/178 [==============================] - 3s 14ms/step - loss: 0.0082\n",
            "Epoch 46/100\n",
            "178/178 [==============================] - 3s 14ms/step - loss: 0.0070\n",
            "Epoch 47/100\n",
            "178/178 [==============================] - 3s 14ms/step - loss: 0.0139\n",
            "Epoch 48/100\n",
            "178/178 [==============================] - 3s 14ms/step - loss: 0.0107\n",
            "Epoch 49/100\n",
            "178/178 [==============================] - 3s 15ms/step - loss: 0.0091\n",
            "Epoch 50/100\n",
            "178/178 [==============================] - 3s 15ms/step - loss: 0.0077\n",
            "Epoch 51/100\n",
            "178/178 [==============================] - 3s 15ms/step - loss: 0.0086\n",
            "Epoch 52/100\n",
            "178/178 [==============================] - 3s 15ms/step - loss: 0.0153\n",
            "Epoch 53/100\n",
            "178/178 [==============================] - 3s 15ms/step - loss: 0.0127\n",
            "Epoch 54/100\n",
            "178/178 [==============================] - 3s 15ms/step - loss: 0.0068\n",
            "Epoch 55/100\n",
            "178/178 [==============================] - 3s 15ms/step - loss: 0.0088\n",
            "Epoch 56/100\n",
            "178/178 [==============================] - 3s 15ms/step - loss: 0.0082\n",
            "Epoch 57/100\n",
            "178/178 [==============================] - 3s 15ms/step - loss: 0.0077\n",
            "Epoch 58/100\n",
            "178/178 [==============================] - 3s 14ms/step - loss: 0.0108\n",
            "Epoch 59/100\n",
            "178/178 [==============================] - 3s 15ms/step - loss: 0.0068\n",
            "Epoch 60/100\n",
            "178/178 [==============================] - 3s 15ms/step - loss: 0.0163\n",
            "Epoch 61/100\n",
            "178/178 [==============================] - 3s 15ms/step - loss: 0.0123\n",
            "Epoch 62/100\n",
            "178/178 [==============================] - 3s 15ms/step - loss: 0.0083\n",
            "Epoch 63/100\n",
            "178/178 [==============================] - 3s 15ms/step - loss: 0.0125\n",
            "Epoch 64/100\n",
            "178/178 [==============================] - 3s 15ms/step - loss: 0.0133\n",
            "Epoch 65/100\n",
            "178/178 [==============================] - 3s 15ms/step - loss: 0.0106\n",
            "Epoch 66/100\n",
            "178/178 [==============================] - 3s 15ms/step - loss: 0.0156\n",
            "Epoch 67/100\n",
            "178/178 [==============================] - 3s 16ms/step - loss: 0.0131\n",
            "Epoch 68/100\n",
            "178/178 [==============================] - 3s 15ms/step - loss: 0.0089\n",
            "Epoch 69/100\n",
            "178/178 [==============================] - 3s 15ms/step - loss: 0.0075\n",
            "Epoch 70/100\n",
            "178/178 [==============================] - 3s 15ms/step - loss: 0.0124\n",
            "Epoch 71/100\n",
            "178/178 [==============================] - 3s 15ms/step - loss: 0.0168\n",
            "Epoch 72/100\n",
            "178/178 [==============================] - 3s 16ms/step - loss: 0.0103\n",
            "Epoch 73/100\n",
            "178/178 [==============================] - 3s 15ms/step - loss: 0.0086\n",
            "Epoch 74/100\n",
            "178/178 [==============================] - 3s 15ms/step - loss: 0.0072\n",
            "Epoch 75/100\n",
            "178/178 [==============================] - 3s 15ms/step - loss: 0.0091\n",
            "Epoch 76/100\n",
            "178/178 [==============================] - 3s 15ms/step - loss: 0.0078\n",
            "Epoch 77/100\n",
            "178/178 [==============================] - 3s 15ms/step - loss: 0.0069\n",
            "Epoch 78/100\n",
            "178/178 [==============================] - 3s 15ms/step - loss: 0.0111\n",
            "Epoch 79/100\n",
            "178/178 [==============================] - 3s 14ms/step - loss: 0.0191\n",
            "Epoch 80/100\n",
            "178/178 [==============================] - 3s 14ms/step - loss: 0.0123\n",
            "Epoch 81/100\n",
            "178/178 [==============================] - 3s 14ms/step - loss: 0.0099\n",
            "Epoch 82/100\n",
            "178/178 [==============================] - 3s 15ms/step - loss: 0.0096\n",
            "Epoch 83/100\n",
            "178/178 [==============================] - 3s 15ms/step - loss: 0.0127\n",
            "Epoch 84/100\n",
            "178/178 [==============================] - 3s 15ms/step - loss: 0.0106\n",
            "Epoch 85/100\n",
            "178/178 [==============================] - 3s 15ms/step - loss: 0.0092\n",
            "Epoch 86/100\n",
            "178/178 [==============================] - 3s 15ms/step - loss: 0.0107\n",
            "Epoch 87/100\n",
            "178/178 [==============================] - 3s 14ms/step - loss: 0.0104\n",
            "Epoch 88/100\n",
            "178/178 [==============================] - 3s 16ms/step - loss: 0.0134\n",
            "Epoch 89/100\n",
            "178/178 [==============================] - 3s 17ms/step - loss: 0.0104\n",
            "Epoch 90/100\n",
            "178/178 [==============================] - 3s 16ms/step - loss: 0.0116\n",
            "Epoch 91/100\n",
            "178/178 [==============================] - 3s 16ms/step - loss: 0.0097\n",
            "Epoch 92/100\n",
            "178/178 [==============================] - 3s 15ms/step - loss: 0.0112\n",
            "Epoch 93/100\n",
            "178/178 [==============================] - 3s 14ms/step - loss: 0.0117\n",
            "Epoch 94/100\n",
            "178/178 [==============================] - 3s 15ms/step - loss: 0.0070\n",
            "Epoch 95/100\n",
            "178/178 [==============================] - 3s 15ms/step - loss: 0.0083\n",
            "Epoch 96/100\n",
            "178/178 [==============================] - 3s 15ms/step - loss: 0.0139\n",
            "Epoch 97/100\n",
            "178/178 [==============================] - 3s 15ms/step - loss: 0.0064\n",
            "Epoch 98/100\n",
            "178/178 [==============================] - 3s 15ms/step - loss: 0.0093\n",
            "Epoch 99/100\n",
            "178/178 [==============================] - 3s 15ms/step - loss: 0.0125\n",
            "Epoch 100/100\n",
            "178/178 [==============================] - 3s 15ms/step - loss: 0.0092\n"
          ],
          "name": "stdout"
        },
        {
          "output_type": "execute_result",
          "data": {
            "text/plain": [
              "<tensorflow.python.keras.callbacks.History at 0x7f921954fa90>"
            ]
          },
          "metadata": {
            "tags": []
          },
          "execution_count": 41
        }
      ]
    },
    {
      "cell_type": "code",
      "metadata": {
        "colab": {
          "base_uri": "https://localhost:8080/",
          "height": 282
        },
        "id": "x2hS_MkLhON6",
        "outputId": "d90ae31f-a5c6-4fd8-c46a-888681ee15b2"
      },
      "source": [
        "loss_pre_epoch = model_2.history.history['loss']\n",
        "plt.plot(range(len(loss_pre_epoch)), loss_pre_epoch)"
      ],
      "execution_count": 42,
      "outputs": [
        {
          "output_type": "execute_result",
          "data": {
            "text/plain": [
              "[<matplotlib.lines.Line2D at 0x7f9218101c50>]"
            ]
          },
          "metadata": {
            "tags": []
          },
          "execution_count": 42
        },
        {
          "output_type": "display_data",
          "data": {
            "image/png": "[encoded data removed]",
            "text/plain": [
              "<Figure size 432x288 with 1 Axes>"
            ]
          },
          "metadata": {
            "tags": [],
            "needs_background": "light"
          }
        }
      ]
    },
    {
      "cell_type": "code",
      "metadata": {
        "colab": {
          "base_uri": "https://localhost:8080/"
        },
        "id": "OfgGvV4uhON9",
        "outputId": "963e5575-4797-479a-8046-cb9d9a07ef2a"
      },
      "source": [
        "first_eval = scaled_train[-20:]\n",
        "\n",
        "\n",
        "first_eval = first_eval.reshape(1, n_input, n_feacture)\n",
        "\n",
        "model_2.predict(first_eval)"
      ],
      "execution_count": 43,
      "outputs": [
        {
          "output_type": "execute_result",
          "data": {
            "text/plain": [
              "array([[0.20953481]], dtype=float32)"
            ]
          },
          "metadata": {
            "tags": []
          },
          "execution_count": 43
        }
      ]
    },
    {
      "cell_type": "code",
      "metadata": {
        "id": "3hQTfB0shON_"
      },
      "source": [
        "test_predictions = []\n",
        "\n",
        "first_eval_batch = scaled_train[-n_input:]\n",
        "current_batch = first_eval.reshape((1, n_input, n_feacture))\n",
        "\n",
        "for i in range(len(test)):\n",
        "    \n",
        "    # obtener la predicción ([0] es para obtener solo el número en lugar de [matriz])\n",
        "    current_pred = model_2.predict(current_batch)[0]\n",
        "    \n",
        "    # guardar la predicción\n",
        "    test_predictions.append(current_pred) \n",
        "    \n",
        "    # actualizar el lote para incluir ahora la predicción y soltar primer valor\n",
        "    current_batch = np.append(current_batch[:,1:,:],[[current_pred]],axis=1)"
      ],
      "execution_count": 44,
      "outputs": []
    },
    {
      "cell_type": "code",
      "metadata": {
        "colab": {
          "base_uri": "https://localhost:8080/"
        },
        "id": "5omYEJWyhOOB",
        "outputId": "19c3adce-984e-4341-ea0d-72f66a98eff2"
      },
      "source": [
        "#Transofmacion inversa\n",
        "true_predicctions_2 = scaler.inverse_transform(test_predictions)\n",
        "\n",
        "\n",
        "test['Prediction_2'] = true_predicctions_2"
      ],
      "execution_count": 45,
      "outputs": [
        {
          "output_type": "stream",
          "text": [
            "/usr/local/lib/python3.7/dist-packages/ipykernel_launcher.py:5: SettingWithCopyWarning: \n",
            "A value is trying to be set on a copy of a slice from a DataFrame.\n",
            "Try using .loc[row_indexer,col_indexer] = value instead\n",
            "\n",
            "See the caveats in the documentation: https://pandas.pydata.org/pandas-docs/stable/user_guide/indexing.html#returning-a-view-versus-a-copy\n",
            "  \"\"\"\n"
          ],
          "name": "stderr"
        }
      ]
    },
    {
      "cell_type": "code",
      "metadata": {
        "colab": {
          "base_uri": "https://localhost:8080/",
          "height": 537
        },
        "id": "YOr8EsR0hOOB",
        "outputId": "f1d248bf-ab2f-4522-d888-1fd08e61053f"
      },
      "source": [
        "test.plot(figsize=(12,8))"
      ],
      "execution_count": 46,
      "outputs": [
        {
          "output_type": "execute_result",
          "data": {
            "text/plain": [
              "<matplotlib.axes._subplots.AxesSubplot at 0x7f9216f93ed0>"
            ]
          },
          "metadata": {
            "tags": []
          },
          "execution_count": 46
        },
        {
          "output_type": "display_data",
          "data": {
            "image/png": "[encoded data removed]",
            "text/plain": [
              "<Figure size 864x576 with 1 Axes>"
            ]
          },
          "metadata": {
            "tags": [],
            "needs_background": "light"
          }
        }
      ]
    },
    {
      "cell_type": "code",
      "metadata": {
        "colab": {
          "base_uri": "https://localhost:8080/",
          "height": 700
        },
        "id": "US7dbUnBhOOC",
        "outputId": "9911b1a4-feff-4488-c27f-49b3cb619ccc"
      },
      "source": [
        "#Observacion de los test y la predicciones\n",
        "test"
      ],
      "execution_count": 47,
      "outputs": [
        {
          "output_type": "execute_result",
          "data": {
            "text/html": [
              "<div>\n",
              "<style scoped>\n",
              "    .dataframe tbody tr th:only-of-type {\n",
              "        vertical-align: middle;\n",
              "    }\n",
              "\n",
              "    .dataframe tbody tr th {\n",
              "        vertical-align: top;\n",
              "    }\n",
              "\n",
              "    .dataframe thead th {\n",
              "        text-align: right;\n",
              "    }\n",
              "</style>\n",
              "<table border=\"1\" class=\"dataframe\">\n",
              "  <thead>\n",
              "    <tr style=\"text-align: right;\">\n",
              "      <th></th>\n",
              "      <th>new_cases</th>\n",
              "      <th>Prediction</th>\n",
              "      <th>Prediction_2</th>\n",
              "    </tr>\n",
              "    <tr>\n",
              "      <th>date</th>\n",
              "      <th></th>\n",
              "      <th></th>\n",
              "      <th></th>\n",
              "    </tr>\n",
              "  </thead>\n",
              "  <tbody>\n",
              "    <tr>\n",
              "      <th>2021-03-10</th>\n",
              "      <td>6602.0</td>\n",
              "      <td>8117.574278</td>\n",
              "      <td>5891.071155</td>\n",
              "    </tr>\n",
              "    <tr>\n",
              "      <th>2021-03-11</th>\n",
              "      <td>6469.0</td>\n",
              "      <td>9129.992834</td>\n",
              "      <td>5959.243748</td>\n",
              "    </tr>\n",
              "    <tr>\n",
              "      <th>2021-03-12</th>\n",
              "      <td>6816.0</td>\n",
              "      <td>10234.787339</td>\n",
              "      <td>6032.689197</td>\n",
              "    </tr>\n",
              "    <tr>\n",
              "      <th>2021-03-13</th>\n",
              "      <td>6104.0</td>\n",
              "      <td>11280.778563</td>\n",
              "      <td>6106.416178</td>\n",
              "    </tr>\n",
              "    <tr>\n",
              "      <th>2021-03-14</th>\n",
              "      <td>2415.0</td>\n",
              "      <td>12408.137508</td>\n",
              "      <td>6188.936838</td>\n",
              "    </tr>\n",
              "    <tr>\n",
              "      <th>2021-03-15</th>\n",
              "      <td>1439.0</td>\n",
              "      <td>12728.028866</td>\n",
              "      <td>6272.836669</td>\n",
              "    </tr>\n",
              "    <tr>\n",
              "      <th>2021-03-16</th>\n",
              "      <td>1278.0</td>\n",
              "      <td>11513.550908</td>\n",
              "      <td>6344.789413</td>\n",
              "    </tr>\n",
              "    <tr>\n",
              "      <th>2021-03-17</th>\n",
              "      <td>6455.0</td>\n",
              "      <td>8803.365660</td>\n",
              "      <td>6416.479478</td>\n",
              "    </tr>\n",
              "    <tr>\n",
              "      <th>2021-03-18</th>\n",
              "      <td>6726.0</td>\n",
              "      <td>8685.789261</td>\n",
              "      <td>6488.343405</td>\n",
              "    </tr>\n",
              "    <tr>\n",
              "      <th>2021-03-19</th>\n",
              "      <td>5722.0</td>\n",
              "      <td>13110.498209</td>\n",
              "      <td>6561.877252</td>\n",
              "    </tr>\n",
              "    <tr>\n",
              "      <th>2021-03-20</th>\n",
              "      <td>5729.0</td>\n",
              "      <td>16987.363012</td>\n",
              "      <td>6635.693049</td>\n",
              "    </tr>\n",
              "    <tr>\n",
              "      <th>2021-03-21</th>\n",
              "      <td>2133.0</td>\n",
              "      <td>21994.429727</td>\n",
              "      <td>6717.403049</td>\n",
              "    </tr>\n",
              "    <tr>\n",
              "      <th>2021-03-22</th>\n",
              "      <td>1388.0</td>\n",
              "      <td>26136.402813</td>\n",
              "      <td>6799.640083</td>\n",
              "    </tr>\n",
              "    <tr>\n",
              "      <th>2021-03-23</th>\n",
              "      <td>5881.0</td>\n",
              "      <td>26645.259830</td>\n",
              "      <td>6871.403463</td>\n",
              "    </tr>\n",
              "    <tr>\n",
              "      <th>2021-03-24</th>\n",
              "      <td>5714.0</td>\n",
              "      <td>18451.452436</td>\n",
              "      <td>6942.987534</td>\n",
              "    </tr>\n",
              "    <tr>\n",
              "      <th>2021-03-25</th>\n",
              "      <td>5787.0</td>\n",
              "      <td>10396.839898</td>\n",
              "      <td>7014.765159</td>\n",
              "    </tr>\n",
              "    <tr>\n",
              "      <th>2021-03-26</th>\n",
              "      <td>5303.0</td>\n",
              "      <td>26299.533739</td>\n",
              "      <td>7087.615285</td>\n",
              "    </tr>\n",
              "    <tr>\n",
              "      <th>2021-03-27</th>\n",
              "      <td>5059.0</td>\n",
              "      <td>43895.447869</td>\n",
              "      <td>7160.611624</td>\n",
              "    </tr>\n",
              "    <tr>\n",
              "      <th>2021-03-28</th>\n",
              "      <td>1646.0</td>\n",
              "      <td>62260.713028</td>\n",
              "      <td>7240.244070</td>\n",
              "    </tr>\n",
              "    <tr>\n",
              "      <th>2021-03-29</th>\n",
              "      <td>1293.0</td>\n",
              "      <td>74906.082981</td>\n",
              "      <td>7320.869418</td>\n",
              "    </tr>\n",
              "  </tbody>\n",
              "</table>\n",
              "</div>"
            ],
            "text/plain": [
              "            new_cases    Prediction  Prediction_2\n",
              "date                                             \n",
              "2021-03-10     6602.0   8117.574278   5891.071155\n",
              "2021-03-11     6469.0   9129.992834   5959.243748\n",
              "2021-03-12     6816.0  10234.787339   6032.689197\n",
              "2021-03-13     6104.0  11280.778563   6106.416178\n",
              "2021-03-14     2415.0  12408.137508   6188.936838\n",
              "2021-03-15     1439.0  12728.028866   6272.836669\n",
              "2021-03-16     1278.0  11513.550908   6344.789413\n",
              "2021-03-17     6455.0   8803.365660   6416.479478\n",
              "2021-03-18     6726.0   8685.789261   6488.343405\n",
              "2021-03-19     5722.0  13110.498209   6561.877252\n",
              "2021-03-20     5729.0  16987.363012   6635.693049\n",
              "2021-03-21     2133.0  21994.429727   6717.403049\n",
              "2021-03-22     1388.0  26136.402813   6799.640083\n",
              "2021-03-23     5881.0  26645.259830   6871.403463\n",
              "2021-03-24     5714.0  18451.452436   6942.987534\n",
              "2021-03-25     5787.0  10396.839898   7014.765159\n",
              "2021-03-26     5303.0  26299.533739   7087.615285\n",
              "2021-03-27     5059.0  43895.447869   7160.611624\n",
              "2021-03-28     1646.0  62260.713028   7240.244070\n",
              "2021-03-29     1293.0  74906.082981   7320.869418"
            ]
          },
          "metadata": {
            "tags": []
          },
          "execution_count": 47
        }
      ]
    },
    {
      "cell_type": "markdown",
      "metadata": {
        "id": "9com2UK4lSQZ"
      },
      "source": [
        "# **Modeo 3**"
      ]
    },
    {
      "cell_type": "code",
      "metadata": {
        "id": "lyRyhm_wlUFs"
      },
      "source": [
        ""
      ],
      "execution_count": 47,
      "outputs": []
    },
    {
      "cell_type": "code",
      "metadata": {
        "id": "0Ya8qNn6lUWz"
      },
      "source": [
        "# Red neuronal 3\n",
        "# 5 Capas\n",
        "# relu para activacion de cada capa\n",
        "# sgd para compilacion y mse para loss\n",
        "\n",
        "#Red sequential\n",
        "model_3 = Sequential()\n",
        "\n",
        "#Red nueronal con 4 capas, cada capa tiene dierente cantidad de nueronas\n",
        "model_3.add(LSTM(168, activation='relu', input_shape=(n_input, n_feacture)))\n",
        "model_3.add(Dense(124, activation='relu' ))\n",
        "model_3.add(Dense(64, activation='relu'))\n",
        "model_3.add(Dense(32))\n",
        "model_3.add(Dense(1))\n",
        "\n",
        "#Compilacion de la red nueronal\n",
        "model_3.compile(optimizer='sgd', loss='mean_squared_error',\n",
        "                metrics=[metrics.mae,\n",
        "                metrics.categorical_accuracy])"
      ],
      "execution_count": 48,
      "outputs": []
    },
    {
      "cell_type": "code",
      "metadata": {
        "colab": {
          "base_uri": "https://localhost:8080/"
        },
        "id": "3kPyYglqlUW4",
        "outputId": "602ed343-35bc-4a06-c53f-dae67da6cffa"
      },
      "source": [
        "model_3.summary()"
      ],
      "execution_count": 49,
      "outputs": [
        {
          "output_type": "stream",
          "text": [
            "Model: \"sequential_2\"\n",
            "_________________________________________________________________\n",
            "Layer (type)                 Output Shape              Param #   \n",
            "=================================================================\n",
            "lstm_2 (LSTM)                (None, 168)               114240    \n",
            "_________________________________________________________________\n",
            "dense_7 (Dense)              (None, 124)               20956     \n",
            "_________________________________________________________________\n",
            "dense_8 (Dense)              (None, 64)                8000      \n",
            "_________________________________________________________________\n",
            "dense_9 (Dense)              (None, 32)                2080      \n",
            "_________________________________________________________________\n",
            "dense_10 (Dense)             (None, 1)                 33        \n",
            "=================================================================\n",
            "Total params: 145,309\n",
            "Trainable params: 145,309\n",
            "Non-trainable params: 0\n",
            "_________________________________________________________________\n"
          ],
          "name": "stdout"
        }
      ]
    },
    {
      "cell_type": "code",
      "metadata": {
        "colab": {
          "base_uri": "https://localhost:8080/"
        },
        "id": "kbTlz_E8lUW7",
        "outputId": "4c02989a-29b9-417c-bf7b-fa30b4634d3f"
      },
      "source": [
        "#Entrenando la red nueronal\n",
        "\n",
        "model_3.fit_generator(generator, epochs=100)"
      ],
      "execution_count": 50,
      "outputs": [
        {
          "output_type": "stream",
          "text": [
            "Epoch 1/100\n"
          ],
          "name": "stdout"
        },
        {
          "output_type": "stream",
          "text": [
            "/usr/local/lib/python3.7/dist-packages/tensorflow/python/keras/engine/training.py:1844: UserWarning: `Model.fit_generator` is deprecated and will be removed in a future version. Please use `Model.fit`, which supports generators.\n",
            "  warnings.warn('`Model.fit_generator` is deprecated and '\n"
          ],
          "name": "stderr"
        },
        {
          "output_type": "stream",
          "text": [
            "178/178 [==============================] - 5s 20ms/step - loss: 0.0297 - mean_absolute_error: 0.1162 - categorical_accuracy: 1.0000\n",
            "Epoch 2/100\n",
            "178/178 [==============================] - 4s 20ms/step - loss: 0.0220 - mean_absolute_error: 0.1061 - categorical_accuracy: 1.0000\n",
            "Epoch 3/100\n",
            "178/178 [==============================] - 3s 19ms/step - loss: 0.0210 - mean_absolute_error: 0.1006 - categorical_accuracy: 1.0000\n",
            "Epoch 4/100\n",
            "178/178 [==============================] - 4s 20ms/step - loss: 0.0164 - mean_absolute_error: 0.0861 - categorical_accuracy: 1.0000\n",
            "Epoch 5/100\n",
            "178/178 [==============================] - 4s 20ms/step - loss: 0.0114 - mean_absolute_error: 0.0748 - categorical_accuracy: 1.0000\n",
            "Epoch 6/100\n",
            "178/178 [==============================] - 4s 20ms/step - loss: 0.0092 - mean_absolute_error: 0.0658 - categorical_accuracy: 1.0000\n",
            "Epoch 7/100\n",
            "178/178 [==============================] - 3s 20ms/step - loss: 0.0090 - mean_absolute_error: 0.0670 - categorical_accuracy: 1.0000\n",
            "Epoch 8/100\n",
            "178/178 [==============================] - 4s 21ms/step - loss: 0.0084 - mean_absolute_error: 0.0619 - categorical_accuracy: 1.0000\n",
            "Epoch 9/100\n",
            "178/178 [==============================] - 4s 20ms/step - loss: 0.0094 - mean_absolute_error: 0.0597 - categorical_accuracy: 1.0000\n",
            "Epoch 10/100\n",
            "178/178 [==============================] - 3s 20ms/step - loss: 0.0112 - mean_absolute_error: 0.0692 - categorical_accuracy: 1.0000\n",
            "Epoch 11/100\n",
            "178/178 [==============================] - 3s 20ms/step - loss: 0.0105 - mean_absolute_error: 0.0676 - categorical_accuracy: 1.0000\n",
            "Epoch 12/100\n",
            "178/178 [==============================] - 4s 20ms/step - loss: 0.0134 - mean_absolute_error: 0.0702 - categorical_accuracy: 1.0000\n",
            "Epoch 13/100\n",
            "178/178 [==============================] - 4s 20ms/step - loss: 0.0130 - mean_absolute_error: 0.0694 - categorical_accuracy: 1.0000\n",
            "Epoch 14/100\n",
            "178/178 [==============================] - 4s 20ms/step - loss: 0.0093 - mean_absolute_error: 0.0608 - categorical_accuracy: 1.0000\n",
            "Epoch 15/100\n",
            "178/178 [==============================] - 3s 19ms/step - loss: 0.0098 - mean_absolute_error: 0.0650 - categorical_accuracy: 1.0000\n",
            "Epoch 16/100\n",
            "178/178 [==============================] - 4s 20ms/step - loss: 0.0095 - mean_absolute_error: 0.0627 - categorical_accuracy: 1.0000\n",
            "Epoch 17/100\n",
            "178/178 [==============================] - 4s 20ms/step - loss: 0.0114 - mean_absolute_error: 0.0647 - categorical_accuracy: 1.0000\n",
            "Epoch 18/100\n",
            "178/178 [==============================] - 4s 20ms/step - loss: 0.0092 - mean_absolute_error: 0.0648 - categorical_accuracy: 1.0000\n",
            "Epoch 19/100\n",
            "178/178 [==============================] - 4s 20ms/step - loss: 0.0081 - mean_absolute_error: 0.0626 - categorical_accuracy: 1.0000\n",
            "Epoch 20/100\n",
            "178/178 [==============================] - 4s 20ms/step - loss: 0.0133 - mean_absolute_error: 0.0678 - categorical_accuracy: 1.0000\n",
            "Epoch 21/100\n",
            "178/178 [==============================] - 4s 20ms/step - loss: 0.0125 - mean_absolute_error: 0.0598 - categorical_accuracy: 1.0000\n",
            "Epoch 22/100\n",
            "178/178 [==============================] - 3s 20ms/step - loss: 0.0127 - mean_absolute_error: 0.0693 - categorical_accuracy: 1.0000\n",
            "Epoch 23/100\n",
            "178/178 [==============================] - 4s 20ms/step - loss: 0.0124 - mean_absolute_error: 0.0650 - categorical_accuracy: 1.0000\n",
            "Epoch 24/100\n",
            "178/178 [==============================] - 4s 20ms/step - loss: 0.0109 - mean_absolute_error: 0.0630 - categorical_accuracy: 1.0000\n",
            "Epoch 25/100\n",
            "178/178 [==============================] - 3s 19ms/step - loss: 0.0115 - mean_absolute_error: 0.0623 - categorical_accuracy: 1.0000\n",
            "Epoch 26/100\n",
            "178/178 [==============================] - 4s 20ms/step - loss: 0.0071 - mean_absolute_error: 0.0586 - categorical_accuracy: 1.0000\n",
            "Epoch 27/100\n",
            "178/178 [==============================] - 4s 20ms/step - loss: 0.0100 - mean_absolute_error: 0.0590 - categorical_accuracy: 1.0000\n",
            "Epoch 28/100\n",
            "178/178 [==============================] - 4s 20ms/step - loss: 0.0065 - mean_absolute_error: 0.0540 - categorical_accuracy: 1.0000\n",
            "Epoch 29/100\n",
            "178/178 [==============================] - 4s 20ms/step - loss: 0.0131 - mean_absolute_error: 0.0677 - categorical_accuracy: 1.0000\n",
            "Epoch 30/100\n",
            "178/178 [==============================] - 4s 20ms/step - loss: 0.0103 - mean_absolute_error: 0.0604 - categorical_accuracy: 1.0000\n",
            "Epoch 31/100\n",
            "178/178 [==============================] - 4s 20ms/step - loss: 0.0086 - mean_absolute_error: 0.0520 - categorical_accuracy: 1.0000\n",
            "Epoch 32/100\n",
            "178/178 [==============================] - 4s 20ms/step - loss: 0.0077 - mean_absolute_error: 0.0548 - categorical_accuracy: 1.0000\n",
            "Epoch 33/100\n",
            "178/178 [==============================] - 4s 20ms/step - loss: 0.0081 - mean_absolute_error: 0.0570 - categorical_accuracy: 1.0000\n",
            "Epoch 34/100\n",
            "178/178 [==============================] - 3s 19ms/step - loss: 0.0071 - mean_absolute_error: 0.0565 - categorical_accuracy: 1.0000\n",
            "Epoch 35/100\n",
            "178/178 [==============================] - 4s 20ms/step - loss: 0.0156 - mean_absolute_error: 0.0727 - categorical_accuracy: 1.0000\n",
            "Epoch 36/100\n",
            "178/178 [==============================] - 4s 20ms/step - loss: 0.0081 - mean_absolute_error: 0.0606 - categorical_accuracy: 1.0000\n",
            "Epoch 37/100\n",
            "178/178 [==============================] - 4s 20ms/step - loss: 0.0099 - mean_absolute_error: 0.0584 - categorical_accuracy: 1.0000\n",
            "Epoch 38/100\n",
            "178/178 [==============================] - 3s 19ms/step - loss: 0.0100 - mean_absolute_error: 0.0611 - categorical_accuracy: 1.0000\n",
            "Epoch 39/100\n",
            "178/178 [==============================] - 4s 20ms/step - loss: 0.0097 - mean_absolute_error: 0.0588 - categorical_accuracy: 1.0000\n",
            "Epoch 40/100\n",
            "178/178 [==============================] - 4s 20ms/step - loss: 0.0085 - mean_absolute_error: 0.0640 - categorical_accuracy: 1.0000\n",
            "Epoch 41/100\n",
            "178/178 [==============================] - 4s 21ms/step - loss: 0.0080 - mean_absolute_error: 0.0591 - categorical_accuracy: 1.0000\n",
            "Epoch 42/100\n",
            "178/178 [==============================] - 4s 20ms/step - loss: 0.0115 - mean_absolute_error: 0.0667 - categorical_accuracy: 1.0000\n",
            "Epoch 43/100\n",
            "178/178 [==============================] - 4s 20ms/step - loss: 0.0145 - mean_absolute_error: 0.0729 - categorical_accuracy: 1.0000\n",
            "Epoch 44/100\n",
            "178/178 [==============================] - 4s 20ms/step - loss: 0.0073 - mean_absolute_error: 0.0545 - categorical_accuracy: 1.0000\n",
            "Epoch 45/100\n",
            "178/178 [==============================] - 4s 20ms/step - loss: 0.0068 - mean_absolute_error: 0.0508 - categorical_accuracy: 1.0000\n",
            "Epoch 46/100\n",
            "178/178 [==============================] - 4s 20ms/step - loss: 0.0110 - mean_absolute_error: 0.0594 - categorical_accuracy: 1.0000\n",
            "Epoch 47/100\n",
            "178/178 [==============================] - 4s 20ms/step - loss: 0.0111 - mean_absolute_error: 0.0607 - categorical_accuracy: 1.0000\n",
            "Epoch 48/100\n",
            "178/178 [==============================] - 4s 20ms/step - loss: 0.0088 - mean_absolute_error: 0.0615 - categorical_accuracy: 1.0000\n",
            "Epoch 49/100\n",
            "178/178 [==============================] - 4s 20ms/step - loss: 0.0121 - mean_absolute_error: 0.0666 - categorical_accuracy: 1.0000\n",
            "Epoch 50/100\n",
            "178/178 [==============================] - 4s 20ms/step - loss: 0.0070 - mean_absolute_error: 0.0549 - categorical_accuracy: 1.0000\n",
            "Epoch 51/100\n",
            "178/178 [==============================] - 4s 20ms/step - loss: 0.0082 - mean_absolute_error: 0.0550 - categorical_accuracy: 1.0000\n",
            "Epoch 52/100\n",
            "178/178 [==============================] - 4s 20ms/step - loss: 0.0070 - mean_absolute_error: 0.0534 - categorical_accuracy: 1.0000\n",
            "Epoch 53/100\n",
            "178/178 [==============================] - 4s 20ms/step - loss: 0.0090 - mean_absolute_error: 0.0568 - categorical_accuracy: 1.0000\n",
            "Epoch 54/100\n",
            "178/178 [==============================] - 4s 20ms/step - loss: 0.0069 - mean_absolute_error: 0.0548 - categorical_accuracy: 1.0000\n",
            "Epoch 55/100\n",
            "178/178 [==============================] - 4s 20ms/step - loss: 0.0101 - mean_absolute_error: 0.0641 - categorical_accuracy: 1.0000\n",
            "Epoch 56/100\n",
            "178/178 [==============================] - 4s 20ms/step - loss: 0.0095 - mean_absolute_error: 0.0577 - categorical_accuracy: 1.0000\n",
            "Epoch 57/100\n",
            "178/178 [==============================] - 4s 20ms/step - loss: 0.0097 - mean_absolute_error: 0.0613 - categorical_accuracy: 1.0000\n",
            "Epoch 58/100\n",
            "178/178 [==============================] - 4s 20ms/step - loss: 0.0120 - mean_absolute_error: 0.0659 - categorical_accuracy: 1.0000\n",
            "Epoch 59/100\n",
            "178/178 [==============================] - 4s 20ms/step - loss: 0.0094 - mean_absolute_error: 0.0649 - categorical_accuracy: 1.0000\n",
            "Epoch 60/100\n",
            "178/178 [==============================] - 4s 20ms/step - loss: 0.0133 - mean_absolute_error: 0.0671 - categorical_accuracy: 1.0000\n",
            "Epoch 61/100\n",
            "178/178 [==============================] - 4s 20ms/step - loss: 0.0140 - mean_absolute_error: 0.0696 - categorical_accuracy: 1.0000\n",
            "Epoch 62/100\n",
            "178/178 [==============================] - 4s 21ms/step - loss: 0.0120 - mean_absolute_error: 0.0637 - categorical_accuracy: 1.0000\n",
            "Epoch 63/100\n",
            "178/178 [==============================] - 4s 21ms/step - loss: 0.0198 - mean_absolute_error: 0.0770 - categorical_accuracy: 1.0000\n",
            "Epoch 64/100\n",
            "178/178 [==============================] - 4s 20ms/step - loss: 0.0102 - mean_absolute_error: 0.0623 - categorical_accuracy: 1.0000\n",
            "Epoch 65/100\n",
            "178/178 [==============================] - 4s 20ms/step - loss: 0.0114 - mean_absolute_error: 0.0591 - categorical_accuracy: 1.0000\n",
            "Epoch 66/100\n",
            "178/178 [==============================] - 4s 20ms/step - loss: 0.0062 - mean_absolute_error: 0.0520 - categorical_accuracy: 1.0000\n",
            "Epoch 67/100\n",
            "178/178 [==============================] - 4s 20ms/step - loss: 0.0079 - mean_absolute_error: 0.0607 - categorical_accuracy: 1.0000\n",
            "Epoch 68/100\n",
            "178/178 [==============================] - 4s 20ms/step - loss: 0.0083 - mean_absolute_error: 0.0541 - categorical_accuracy: 1.0000\n",
            "Epoch 69/100\n",
            "178/178 [==============================] - 4s 20ms/step - loss: 0.0082 - mean_absolute_error: 0.0579 - categorical_accuracy: 1.0000\n",
            "Epoch 70/100\n",
            "178/178 [==============================] - 4s 21ms/step - loss: 0.0080 - mean_absolute_error: 0.0586 - categorical_accuracy: 1.0000\n",
            "Epoch 71/100\n",
            "178/178 [==============================] - 4s 20ms/step - loss: 0.0127 - mean_absolute_error: 0.0617 - categorical_accuracy: 1.0000\n",
            "Epoch 72/100\n",
            "178/178 [==============================] - 4s 20ms/step - loss: 0.0106 - mean_absolute_error: 0.0648 - categorical_accuracy: 1.0000\n",
            "Epoch 73/100\n",
            "178/178 [==============================] - 4s 20ms/step - loss: 0.0080 - mean_absolute_error: 0.0581 - categorical_accuracy: 1.0000\n",
            "Epoch 74/100\n",
            "178/178 [==============================] - 4s 21ms/step - loss: 0.0088 - mean_absolute_error: 0.0588 - categorical_accuracy: 1.0000\n",
            "Epoch 75/100\n",
            "178/178 [==============================] - 4s 20ms/step - loss: 0.0098 - mean_absolute_error: 0.0642 - categorical_accuracy: 1.0000\n",
            "Epoch 76/100\n",
            "178/178 [==============================] - 4s 21ms/step - loss: 0.0091 - mean_absolute_error: 0.0577 - categorical_accuracy: 1.0000\n",
            "Epoch 77/100\n",
            "178/178 [==============================] - 4s 22ms/step - loss: 0.0089 - mean_absolute_error: 0.0638 - categorical_accuracy: 1.0000\n",
            "Epoch 78/100\n",
            "178/178 [==============================] - 4s 21ms/step - loss: 0.0072 - mean_absolute_error: 0.0572 - categorical_accuracy: 1.0000\n",
            "Epoch 79/100\n",
            "178/178 [==============================] - 4s 21ms/step - loss: 0.0071 - mean_absolute_error: 0.0523 - categorical_accuracy: 1.0000\n",
            "Epoch 80/100\n",
            "178/178 [==============================] - 4s 21ms/step - loss: 0.0104 - mean_absolute_error: 0.0662 - categorical_accuracy: 1.0000\n",
            "Epoch 81/100\n",
            "178/178 [==============================] - 4s 20ms/step - loss: 0.0081 - mean_absolute_error: 0.0566 - categorical_accuracy: 1.0000\n",
            "Epoch 82/100\n",
            "178/178 [==============================] - 4s 20ms/step - loss: 0.0079 - mean_absolute_error: 0.0596 - categorical_accuracy: 1.0000\n",
            "Epoch 83/100\n",
            "178/178 [==============================] - 4s 20ms/step - loss: 0.0075 - mean_absolute_error: 0.0589 - categorical_accuracy: 1.0000\n",
            "Epoch 84/100\n",
            "178/178 [==============================] - 4s 21ms/step - loss: 0.0096 - mean_absolute_error: 0.0650 - categorical_accuracy: 1.0000\n",
            "Epoch 85/100\n",
            "178/178 [==============================] - 4s 20ms/step - loss: 0.0117 - mean_absolute_error: 0.0680 - categorical_accuracy: 1.0000\n",
            "Epoch 86/100\n",
            "178/178 [==============================] - 4s 21ms/step - loss: 0.0117 - mean_absolute_error: 0.0691 - categorical_accuracy: 1.0000\n",
            "Epoch 87/100\n",
            "178/178 [==============================] - 4s 20ms/step - loss: 0.0093 - mean_absolute_error: 0.0584 - categorical_accuracy: 1.0000\n",
            "Epoch 88/100\n",
            "178/178 [==============================] - 4s 20ms/step - loss: 0.0088 - mean_absolute_error: 0.0589 - categorical_accuracy: 1.0000\n",
            "Epoch 89/100\n",
            "178/178 [==============================] - 4s 20ms/step - loss: 0.0109 - mean_absolute_error: 0.0645 - categorical_accuracy: 1.0000\n",
            "Epoch 90/100\n",
            "178/178 [==============================] - 4s 20ms/step - loss: 0.0132 - mean_absolute_error: 0.0685 - categorical_accuracy: 1.0000\n",
            "Epoch 91/100\n",
            "178/178 [==============================] - 4s 20ms/step - loss: 0.0073 - mean_absolute_error: 0.0545 - categorical_accuracy: 1.0000\n",
            "Epoch 92/100\n",
            "178/178 [==============================] - 4s 21ms/step - loss: 0.0136 - mean_absolute_error: 0.0669 - categorical_accuracy: 1.0000\n",
            "Epoch 93/100\n",
            "178/178 [==============================] - 4s 21ms/step - loss: 0.0083 - mean_absolute_error: 0.0568 - categorical_accuracy: 1.0000\n",
            "Epoch 94/100\n",
            "178/178 [==============================] - 4s 20ms/step - loss: 0.0125 - mean_absolute_error: 0.0640 - categorical_accuracy: 1.0000\n",
            "Epoch 95/100\n",
            "178/178 [==============================] - 4s 20ms/step - loss: 0.0099 - mean_absolute_error: 0.0624 - categorical_accuracy: 1.0000\n",
            "Epoch 96/100\n",
            "178/178 [==============================] - 4s 20ms/step - loss: 0.0114 - mean_absolute_error: 0.0562 - categorical_accuracy: 1.0000\n",
            "Epoch 97/100\n",
            "178/178 [==============================] - 4s 20ms/step - loss: 0.0069 - mean_absolute_error: 0.0519 - categorical_accuracy: 1.0000\n",
            "Epoch 98/100\n",
            "178/178 [==============================] - 4s 20ms/step - loss: 0.0080 - mean_absolute_error: 0.0539 - categorical_accuracy: 1.0000\n",
            "Epoch 99/100\n",
            "178/178 [==============================] - 3s 20ms/step - loss: 0.0104 - mean_absolute_error: 0.0625 - categorical_accuracy: 1.0000\n",
            "Epoch 100/100\n",
            "178/178 [==============================] - 4s 20ms/step - loss: 0.0114 - mean_absolute_error: 0.0631 - categorical_accuracy: 1.0000\n"
          ],
          "name": "stdout"
        },
        {
          "output_type": "execute_result",
          "data": {
            "text/plain": [
              "<tensorflow.python.keras.callbacks.History at 0x7f9216f21410>"
            ]
          },
          "metadata": {
            "tags": []
          },
          "execution_count": 50
        }
      ]
    },
    {
      "cell_type": "code",
      "metadata": {
        "colab": {
          "base_uri": "https://localhost:8080/"
        },
        "id": "gtFTYw2wlUXA",
        "outputId": "6bfc0ac6-c06c-4019-ebbe-9586aa2d2397"
      },
      "source": [
        "first_eval_3 = scaled_train[-20:]\n",
        "\n",
        "\n",
        "first_eval_3 = first_eval_3.reshape(1, n_input, n_feacture)\n",
        "\n",
        "model_3.predict(first_eval_3)"
      ],
      "execution_count": 51,
      "outputs": [
        {
          "output_type": "execute_result",
          "data": {
            "text/plain": [
              "array([[0.21077415]], dtype=float32)"
            ]
          },
          "metadata": {
            "tags": []
          },
          "execution_count": 51
        }
      ]
    },
    {
      "cell_type": "code",
      "metadata": {
        "id": "I0xsowNMlUXC"
      },
      "source": [
        "test_predictions_3 = []\n",
        "\n",
        "first_eval_batch = scaled_train[-n_input:]\n",
        "current_batch = first_eval_3.reshape((1, n_input, n_feacture))\n",
        "\n",
        "for i in range(len(test)):\n",
        "    \n",
        "    # obtener la predicción ([0] es para obtener solo el número en lugar de [matriz])\n",
        "    current_pred = model_3.predict(current_batch)[0]\n",
        "    \n",
        "    # guardar la predicción\n",
        "    test_predictions_3.append(current_pred) \n",
        "    \n",
        "    # actualizar el lote para incluir ahora la predicción y soltar primer valor\n",
        "    current_batch = np.append(current_batch[:,1:,:],[[current_pred]],axis=1)"
      ],
      "execution_count": 52,
      "outputs": []
    },
    {
      "cell_type": "code",
      "metadata": {
        "colab": {
          "base_uri": "https://localhost:8080/"
        },
        "id": "Z7iRUT8HlUXD",
        "outputId": "5060840f-fa22-400b-826c-548854d112c0"
      },
      "source": [
        "#Transofmacion inversa\n",
        "true_predicctions_3 = scaler.inverse_transform(test_predictions_3)\n",
        "\n",
        "\n",
        "test['Prediction_3'] = true_predicctions_3"
      ],
      "execution_count": 53,
      "outputs": [
        {
          "output_type": "stream",
          "text": [
            "/usr/local/lib/python3.7/dist-packages/ipykernel_launcher.py:5: SettingWithCopyWarning: \n",
            "A value is trying to be set on a copy of a slice from a DataFrame.\n",
            "Try using .loc[row_indexer,col_indexer] = value instead\n",
            "\n",
            "See the caveats in the documentation: https://pandas.pydata.org/pandas-docs/stable/user_guide/indexing.html#returning-a-view-versus-a-copy\n",
            "  \"\"\"\n"
          ],
          "name": "stderr"
        }
      ]
    },
    {
      "cell_type": "code",
      "metadata": {
        "colab": {
          "base_uri": "https://localhost:8080/",
          "height": 537
        },
        "id": "-R3egc6VlUXE",
        "outputId": "5012daee-1945-4c22-bf4b-04bc6f928369"
      },
      "source": [
        "test.plot(figsize=(12,8))"
      ],
      "execution_count": 54,
      "outputs": [
        {
          "output_type": "execute_result",
          "data": {
            "text/plain": [
              "<matplotlib.axes._subplots.AxesSubplot at 0x7f9216c7f990>"
            ]
          },
          "metadata": {
            "tags": []
          },
          "execution_count": 54
        },
        {
          "output_type": "display_data",
          "data": {
            "image/png": "[encoded data removed]",
            "text/plain": [
              "<Figure size 864x576 with 1 Axes>"
            ]
          },
          "metadata": {
            "tags": [],
            "needs_background": "light"
          }
        }
      ]
    },
    {
      "cell_type": "code",
      "metadata": {
        "colab": {
          "base_uri": "https://localhost:8080/",
          "height": 700
        },
        "id": "Dj9JG3EflUXF",
        "outputId": "b6414f58-afe0-48c7-c740-578a7b3c5e39"
      },
      "source": [
        "#Observacion de los test y la predicciones\n",
        "test"
      ],
      "execution_count": 55,
      "outputs": [
        {
          "output_type": "execute_result",
          "data": {
            "text/html": [
              "<div>\n",
              "<style scoped>\n",
              "    .dataframe tbody tr th:only-of-type {\n",
              "        vertical-align: middle;\n",
              "    }\n",
              "\n",
              "    .dataframe tbody tr th {\n",
              "        vertical-align: top;\n",
              "    }\n",
              "\n",
              "    .dataframe thead th {\n",
              "        text-align: right;\n",
              "    }\n",
              "</style>\n",
              "<table border=\"1\" class=\"dataframe\">\n",
              "  <thead>\n",
              "    <tr style=\"text-align: right;\">\n",
              "      <th></th>\n",
              "      <th>new_cases</th>\n",
              "      <th>Prediction</th>\n",
              "      <th>Prediction_2</th>\n",
              "      <th>Prediction_3</th>\n",
              "    </tr>\n",
              "    <tr>\n",
              "      <th>date</th>\n",
              "      <th></th>\n",
              "      <th></th>\n",
              "      <th></th>\n",
              "      <th></th>\n",
              "    </tr>\n",
              "  </thead>\n",
              "  <tbody>\n",
              "    <tr>\n",
              "      <th>2021-03-10</th>\n",
              "      <td>6602.0</td>\n",
              "      <td>8117.574278</td>\n",
              "      <td>5891.071155</td>\n",
              "      <td>5925.915325</td>\n",
              "    </tr>\n",
              "    <tr>\n",
              "      <th>2021-03-11</th>\n",
              "      <td>6469.0</td>\n",
              "      <td>9129.992834</td>\n",
              "      <td>5959.243748</td>\n",
              "      <td>5998.956910</td>\n",
              "    </tr>\n",
              "    <tr>\n",
              "      <th>2021-03-12</th>\n",
              "      <td>6816.0</td>\n",
              "      <td>10234.787339</td>\n",
              "      <td>6032.689197</td>\n",
              "      <td>6076.050123</td>\n",
              "    </tr>\n",
              "    <tr>\n",
              "      <th>2021-03-13</th>\n",
              "      <td>6104.0</td>\n",
              "      <td>11280.778563</td>\n",
              "      <td>6106.416178</td>\n",
              "      <td>6152.986231</td>\n",
              "    </tr>\n",
              "    <tr>\n",
              "      <th>2021-03-14</th>\n",
              "      <td>2415.0</td>\n",
              "      <td>12408.137508</td>\n",
              "      <td>6188.936838</td>\n",
              "      <td>6239.470122</td>\n",
              "    </tr>\n",
              "    <tr>\n",
              "      <th>2021-03-15</th>\n",
              "      <td>1439.0</td>\n",
              "      <td>12728.028866</td>\n",
              "      <td>6272.836669</td>\n",
              "      <td>6327.561510</td>\n",
              "    </tr>\n",
              "    <tr>\n",
              "      <th>2021-03-16</th>\n",
              "      <td>1278.0</td>\n",
              "      <td>11513.550908</td>\n",
              "      <td>6344.789413</td>\n",
              "      <td>6402.411266</td>\n",
              "    </tr>\n",
              "    <tr>\n",
              "      <th>2021-03-17</th>\n",
              "      <td>6455.0</td>\n",
              "      <td>8803.365660</td>\n",
              "      <td>6416.479478</td>\n",
              "      <td>6477.095958</td>\n",
              "    </tr>\n",
              "    <tr>\n",
              "      <th>2021-03-18</th>\n",
              "      <td>6726.0</td>\n",
              "      <td>8685.789261</td>\n",
              "      <td>6488.343405</td>\n",
              "      <td>6552.127537</td>\n",
              "    </tr>\n",
              "    <tr>\n",
              "      <th>2021-03-19</th>\n",
              "      <td>5722.0</td>\n",
              "      <td>13110.498209</td>\n",
              "      <td>6561.877252</td>\n",
              "      <td>6628.808507</td>\n",
              "    </tr>\n",
              "    <tr>\n",
              "      <th>2021-03-20</th>\n",
              "      <td>5729.0</td>\n",
              "      <td>16987.363012</td>\n",
              "      <td>6635.693049</td>\n",
              "      <td>6705.492410</td>\n",
              "    </tr>\n",
              "    <tr>\n",
              "      <th>2021-03-21</th>\n",
              "      <td>2133.0</td>\n",
              "      <td>21994.429727</td>\n",
              "      <td>6717.403049</td>\n",
              "      <td>6790.675892</td>\n",
              "    </tr>\n",
              "    <tr>\n",
              "      <th>2021-03-22</th>\n",
              "      <td>1388.0</td>\n",
              "      <td>26136.402813</td>\n",
              "      <td>6799.640083</td>\n",
              "      <td>6876.567812</td>\n",
              "    </tr>\n",
              "    <tr>\n",
              "      <th>2021-03-23</th>\n",
              "      <td>5881.0</td>\n",
              "      <td>26645.259830</td>\n",
              "      <td>6871.403463</td>\n",
              "      <td>6951.125563</td>\n",
              "    </tr>\n",
              "    <tr>\n",
              "      <th>2021-03-24</th>\n",
              "      <td>5714.0</td>\n",
              "      <td>18451.452436</td>\n",
              "      <td>6942.987534</td>\n",
              "      <td>7025.702167</td>\n",
              "    </tr>\n",
              "    <tr>\n",
              "      <th>2021-03-25</th>\n",
              "      <td>5787.0</td>\n",
              "      <td>10396.839898</td>\n",
              "      <td>7014.765159</td>\n",
              "      <td>7100.485311</td>\n",
              "    </tr>\n",
              "    <tr>\n",
              "      <th>2021-03-26</th>\n",
              "      <td>5303.0</td>\n",
              "      <td>26299.533739</td>\n",
              "      <td>7087.615285</td>\n",
              "      <td>7176.326294</td>\n",
              "    </tr>\n",
              "    <tr>\n",
              "      <th>2021-03-27</th>\n",
              "      <td>5059.0</td>\n",
              "      <td>43895.447869</td>\n",
              "      <td>7160.611624</td>\n",
              "      <td>7252.074271</td>\n",
              "    </tr>\n",
              "    <tr>\n",
              "      <th>2021-03-28</th>\n",
              "      <td>1646.0</td>\n",
              "      <td>62260.713028</td>\n",
              "      <td>7240.244070</td>\n",
              "      <td>7335.093477</td>\n",
              "    </tr>\n",
              "    <tr>\n",
              "      <th>2021-03-29</th>\n",
              "      <td>1293.0</td>\n",
              "      <td>74906.082981</td>\n",
              "      <td>7320.869418</td>\n",
              "      <td>7419.394659</td>\n",
              "    </tr>\n",
              "  </tbody>\n",
              "</table>\n",
              "</div>"
            ],
            "text/plain": [
              "            new_cases    Prediction  Prediction_2  Prediction_3\n",
              "date                                                           \n",
              "2021-03-10     6602.0   8117.574278   5891.071155   5925.915325\n",
              "2021-03-11     6469.0   9129.992834   5959.243748   5998.956910\n",
              "2021-03-12     6816.0  10234.787339   6032.689197   6076.050123\n",
              "2021-03-13     6104.0  11280.778563   6106.416178   6152.986231\n",
              "2021-03-14     2415.0  12408.137508   6188.936838   6239.470122\n",
              "2021-03-15     1439.0  12728.028866   6272.836669   6327.561510\n",
              "2021-03-16     1278.0  11513.550908   6344.789413   6402.411266\n",
              "2021-03-17     6455.0   8803.365660   6416.479478   6477.095958\n",
              "2021-03-18     6726.0   8685.789261   6488.343405   6552.127537\n",
              "2021-03-19     5722.0  13110.498209   6561.877252   6628.808507\n",
              "2021-03-20     5729.0  16987.363012   6635.693049   6705.492410\n",
              "2021-03-21     2133.0  21994.429727   6717.403049   6790.675892\n",
              "2021-03-22     1388.0  26136.402813   6799.640083   6876.567812\n",
              "2021-03-23     5881.0  26645.259830   6871.403463   6951.125563\n",
              "2021-03-24     5714.0  18451.452436   6942.987534   7025.702167\n",
              "2021-03-25     5787.0  10396.839898   7014.765159   7100.485311\n",
              "2021-03-26     5303.0  26299.533739   7087.615285   7176.326294\n",
              "2021-03-27     5059.0  43895.447869   7160.611624   7252.074271\n",
              "2021-03-28     1646.0  62260.713028   7240.244070   7335.093477\n",
              "2021-03-29     1293.0  74906.082981   7320.869418   7419.394659"
            ]
          },
          "metadata": {
            "tags": []
          },
          "execution_count": 55
        }
      ]
    },
    {
      "cell_type": "markdown",
      "metadata": {
        "id": "dZxNfYxMsqAk"
      },
      "source": [
        "# **Modelo 4**"
      ]
    },
    {
      "cell_type": "code",
      "metadata": {
        "id": "cMW920F3sreM"
      },
      "source": [
        ""
      ],
      "execution_count": 55,
      "outputs": []
    },
    {
      "cell_type": "code",
      "metadata": {
        "id": "1E4dd79AsrvB"
      },
      "source": [
        "# Red neuronal 4\n",
        "# 5 Capas\n",
        "# relu para activacion de cada capa\n",
        "# adam para compilacion y mse para loss\n",
        "\n",
        "#Red sequential\n",
        "model_4 = Sequential()\n",
        "\n",
        "#Red nueronal con 4 capas, cada capa tiene dierente cantidad de nueronas\n",
        "model_4.add(LSTM(200, activation='relu', input_shape=(n_input, n_feacture)))\n",
        "model_4.add(Dense(100, activation='relu' ))\n",
        "model_4.add(Dense(84, activation='relu'))\n",
        "model_4.add(Dense(32, activation='relu'))\n",
        "model_4.add(Dense(32))\n",
        "model_4.add(Dense(1))\n",
        "\n",
        "#Compilacion de la red nueronal\n",
        "model_4.compile(optimizer='adam', loss='mean_squared_error',\n",
        "                metrics=[metrics.mae,\n",
        "                metrics.categorical_accuracy])"
      ],
      "execution_count": 56,
      "outputs": []
    },
    {
      "cell_type": "code",
      "metadata": {
        "colab": {
          "base_uri": "https://localhost:8080/"
        },
        "id": "4vyhjqlpsxqK",
        "outputId": "61046938-09c4-4025-ac6c-dd06f74cc470"
      },
      "source": [
        "model_4.summary()"
      ],
      "execution_count": 57,
      "outputs": [
        {
          "output_type": "stream",
          "text": [
            "Model: \"sequential_3\"\n",
            "_________________________________________________________________\n",
            "Layer (type)                 Output Shape              Param #   \n",
            "=================================================================\n",
            "lstm_3 (LSTM)                (None, 200)               161600    \n",
            "_________________________________________________________________\n",
            "dense_11 (Dense)             (None, 100)               20100     \n",
            "_________________________________________________________________\n",
            "dense_12 (Dense)             (None, 84)                8484      \n",
            "_________________________________________________________________\n",
            "dense_13 (Dense)             (None, 32)                2720      \n",
            "_________________________________________________________________\n",
            "dense_14 (Dense)             (None, 32)                1056      \n",
            "_________________________________________________________________\n",
            "dense_15 (Dense)             (None, 1)                 33        \n",
            "=================================================================\n",
            "Total params: 193,993\n",
            "Trainable params: 193,993\n",
            "Non-trainable params: 0\n",
            "_________________________________________________________________\n"
          ],
          "name": "stdout"
        }
      ]
    },
    {
      "cell_type": "code",
      "metadata": {
        "colab": {
          "base_uri": "https://localhost:8080/"
        },
        "id": "rGQarEa4sxqO",
        "outputId": "bf5a7ef8-7808-4fae-9b05-c4edc0a63a9c"
      },
      "source": [
        "#Entrenando la red nueronal\n",
        "\n",
        "model_4.fit_generator(generator, epochs=200)"
      ],
      "execution_count": 58,
      "outputs": [
        {
          "output_type": "stream",
          "text": [
            "Epoch 1/200\n"
          ],
          "name": "stdout"
        },
        {
          "output_type": "stream",
          "text": [
            "/usr/local/lib/python3.7/dist-packages/tensorflow/python/keras/engine/training.py:1844: UserWarning: `Model.fit_generator` is deprecated and will be removed in a future version. Please use `Model.fit`, which supports generators.\n",
            "  warnings.warn('`Model.fit_generator` is deprecated and '\n"
          ],
          "name": "stderr"
        },
        {
          "output_type": "stream",
          "text": [
            "178/178 [==============================] - 6s 25ms/step - loss: 0.0246 - mean_absolute_error: 0.1120 - categorical_accuracy: 1.0000\n",
            "Epoch 2/200\n",
            "178/178 [==============================] - 4s 25ms/step - loss: 0.0123 - mean_absolute_error: 0.0720 - categorical_accuracy: 1.0000\n",
            "Epoch 3/200\n",
            "178/178 [==============================] - 5s 25ms/step - loss: 0.0107 - mean_absolute_error: 0.0691 - categorical_accuracy: 1.0000\n",
            "Epoch 4/200\n",
            "178/178 [==============================] - 5s 26ms/step - loss: 0.0160 - mean_absolute_error: 0.0853 - categorical_accuracy: 1.0000\n",
            "Epoch 5/200\n",
            "178/178 [==============================] - 5s 26ms/step - loss: 0.0171 - mean_absolute_error: 0.0869 - categorical_accuracy: 1.0000\n",
            "Epoch 6/200\n",
            "178/178 [==============================] - 5s 25ms/step - loss: 0.0163 - mean_absolute_error: 0.0817 - categorical_accuracy: 1.0000\n",
            "Epoch 7/200\n",
            "178/178 [==============================] - 4s 24ms/step - loss: 0.0156 - mean_absolute_error: 0.0766 - categorical_accuracy: 1.0000\n",
            "Epoch 8/200\n",
            "178/178 [==============================] - 4s 25ms/step - loss: 0.0144 - mean_absolute_error: 0.0803 - categorical_accuracy: 1.0000\n",
            "Epoch 9/200\n",
            "178/178 [==============================] - 4s 25ms/step - loss: 0.0163 - mean_absolute_error: 0.0761 - categorical_accuracy: 1.0000\n",
            "Epoch 10/200\n",
            "178/178 [==============================] - 4s 25ms/step - loss: 0.0121 - mean_absolute_error: 0.0673 - categorical_accuracy: 1.0000\n",
            "Epoch 11/200\n",
            "178/178 [==============================] - 4s 25ms/step - loss: 0.0199 - mean_absolute_error: 0.0884 - categorical_accuracy: 1.0000\n",
            "Epoch 12/200\n",
            "178/178 [==============================] - 5s 25ms/step - loss: 0.0092 - mean_absolute_error: 0.0670 - categorical_accuracy: 1.0000\n",
            "Epoch 13/200\n",
            "178/178 [==============================] - 5s 26ms/step - loss: 0.0119 - mean_absolute_error: 0.0702 - categorical_accuracy: 1.0000\n",
            "Epoch 14/200\n",
            "178/178 [==============================] - 5s 26ms/step - loss: 0.0095 - mean_absolute_error: 0.0689 - categorical_accuracy: 1.0000\n",
            "Epoch 15/200\n",
            "178/178 [==============================] - 5s 25ms/step - loss: 0.0109 - mean_absolute_error: 0.0638 - categorical_accuracy: 1.0000\n",
            "Epoch 16/200\n",
            "178/178 [==============================] - 4s 25ms/step - loss: 0.0135 - mean_absolute_error: 0.0687 - categorical_accuracy: 1.0000\n",
            "Epoch 17/200\n",
            "178/178 [==============================] - 4s 25ms/step - loss: 0.0084 - mean_absolute_error: 0.0576 - categorical_accuracy: 1.0000\n",
            "Epoch 18/200\n",
            "178/178 [==============================] - 4s 25ms/step - loss: 0.0093 - mean_absolute_error: 0.0529 - categorical_accuracy: 1.0000\n",
            "Epoch 19/200\n",
            "178/178 [==============================] - 4s 25ms/step - loss: 0.0177 - mean_absolute_error: 0.0824 - categorical_accuracy: 1.0000\n",
            "Epoch 20/200\n",
            "178/178 [==============================] - 4s 25ms/step - loss: 0.0147 - mean_absolute_error: 0.0706 - categorical_accuracy: 1.0000\n",
            "Epoch 21/200\n",
            "178/178 [==============================] - 4s 24ms/step - loss: 0.0142 - mean_absolute_error: 0.0713 - categorical_accuracy: 1.0000\n",
            "Epoch 22/200\n",
            "178/178 [==============================] - 4s 25ms/step - loss: 0.0096 - mean_absolute_error: 0.0605 - categorical_accuracy: 1.0000\n",
            "Epoch 23/200\n",
            "178/178 [==============================] - 4s 25ms/step - loss: 0.0104 - mean_absolute_error: 0.0588 - categorical_accuracy: 1.0000\n",
            "Epoch 24/200\n",
            "178/178 [==============================] - 4s 24ms/step - loss: 0.0097 - mean_absolute_error: 0.0687 - categorical_accuracy: 1.0000\n",
            "Epoch 25/200\n",
            "178/178 [==============================] - 4s 25ms/step - loss: 0.0078 - mean_absolute_error: 0.0581 - categorical_accuracy: 1.0000\n",
            "Epoch 26/200\n",
            "178/178 [==============================] - 5s 25ms/step - loss: 0.0087 - mean_absolute_error: 0.0647 - categorical_accuracy: 1.0000\n",
            "Epoch 27/200\n",
            "178/178 [==============================] - 4s 25ms/step - loss: 0.0099 - mean_absolute_error: 0.0580 - categorical_accuracy: 1.0000\n",
            "Epoch 28/200\n",
            "178/178 [==============================] - 4s 24ms/step - loss: 0.0134 - mean_absolute_error: 0.0669 - categorical_accuracy: 1.0000\n",
            "Epoch 29/200\n",
            "178/178 [==============================] - 4s 25ms/step - loss: 0.0101 - mean_absolute_error: 0.0557 - categorical_accuracy: 1.0000\n",
            "Epoch 30/200\n",
            "178/178 [==============================] - 4s 25ms/step - loss: 0.0173 - mean_absolute_error: 0.0694 - categorical_accuracy: 1.0000\n",
            "Epoch 31/200\n",
            "178/178 [==============================] - 4s 24ms/step - loss: 0.0095 - mean_absolute_error: 0.0616 - categorical_accuracy: 1.0000\n",
            "Epoch 32/200\n",
            "178/178 [==============================] - 5s 25ms/step - loss: 0.0070 - mean_absolute_error: 0.0584 - categorical_accuracy: 1.0000\n",
            "Epoch 33/200\n",
            "178/178 [==============================] - 4s 25ms/step - loss: 0.0090 - mean_absolute_error: 0.0590 - categorical_accuracy: 1.0000\n",
            "Epoch 34/200\n",
            "178/178 [==============================] - 4s 25ms/step - loss: 0.0087 - mean_absolute_error: 0.0607 - categorical_accuracy: 1.0000\n",
            "Epoch 35/200\n",
            "178/178 [==============================] - 4s 25ms/step - loss: 0.0088 - mean_absolute_error: 0.0580 - categorical_accuracy: 1.0000\n",
            "Epoch 36/200\n",
            "178/178 [==============================] - 4s 25ms/step - loss: 0.0125 - mean_absolute_error: 0.0596 - categorical_accuracy: 1.0000\n",
            "Epoch 37/200\n",
            "178/178 [==============================] - 4s 25ms/step - loss: 0.0071 - mean_absolute_error: 0.0467 - categorical_accuracy: 1.0000\n",
            "Epoch 38/200\n",
            "178/178 [==============================] - 4s 24ms/step - loss: 0.0081 - mean_absolute_error: 0.0548 - categorical_accuracy: 1.0000\n",
            "Epoch 39/200\n",
            "178/178 [==============================] - 4s 25ms/step - loss: 0.0096 - mean_absolute_error: 0.0603 - categorical_accuracy: 1.0000\n",
            "Epoch 40/200\n",
            "178/178 [==============================] - 4s 25ms/step - loss: 0.0054 - mean_absolute_error: 0.0463 - categorical_accuracy: 1.0000\n",
            "Epoch 41/200\n",
            "178/178 [==============================] - 4s 25ms/step - loss: 0.0090 - mean_absolute_error: 0.0625 - categorical_accuracy: 1.0000\n",
            "Epoch 42/200\n",
            "178/178 [==============================] - 4s 25ms/step - loss: 0.0084 - mean_absolute_error: 0.0595 - categorical_accuracy: 1.0000\n",
            "Epoch 43/200\n",
            "178/178 [==============================] - 5s 25ms/step - loss: 0.0083 - mean_absolute_error: 0.0506 - categorical_accuracy: 1.0000\n",
            "Epoch 44/200\n",
            "178/178 [==============================] - 5s 25ms/step - loss: 0.0081 - mean_absolute_error: 0.0637 - categorical_accuracy: 1.0000\n",
            "Epoch 45/200\n",
            "178/178 [==============================] - 5s 25ms/step - loss: 0.0079 - mean_absolute_error: 0.0486 - categorical_accuracy: 1.0000\n",
            "Epoch 46/200\n",
            "178/178 [==============================] - 5s 25ms/step - loss: 0.0082 - mean_absolute_error: 0.0544 - categorical_accuracy: 1.0000\n",
            "Epoch 47/200\n",
            "178/178 [==============================] - 4s 25ms/step - loss: 0.0118 - mean_absolute_error: 0.0634 - categorical_accuracy: 1.0000\n",
            "Epoch 48/200\n",
            "178/178 [==============================] - 4s 25ms/step - loss: 0.0093 - mean_absolute_error: 0.0581 - categorical_accuracy: 1.0000\n",
            "Epoch 49/200\n",
            "178/178 [==============================] - 5s 25ms/step - loss: 0.0069 - mean_absolute_error: 0.0521 - categorical_accuracy: 1.0000\n",
            "Epoch 50/200\n",
            "178/178 [==============================] - 5s 28ms/step - loss: 0.0091 - mean_absolute_error: 0.0582 - categorical_accuracy: 1.0000\n",
            "Epoch 51/200\n",
            "178/178 [==============================] - 5s 27ms/step - loss: 0.0103 - mean_absolute_error: 0.0607 - categorical_accuracy: 1.0000\n",
            "Epoch 52/200\n",
            "178/178 [==============================] - 4s 25ms/step - loss: 0.0083 - mean_absolute_error: 0.0558 - categorical_accuracy: 1.0000\n",
            "Epoch 53/200\n",
            "178/178 [==============================] - 4s 25ms/step - loss: 0.0094 - mean_absolute_error: 0.0603 - categorical_accuracy: 1.0000\n",
            "Epoch 54/200\n",
            "178/178 [==============================] - 4s 25ms/step - loss: 0.0084 - mean_absolute_error: 0.0530 - categorical_accuracy: 1.0000\n",
            "Epoch 55/200\n",
            "178/178 [==============================] - 4s 25ms/step - loss: 0.0075 - mean_absolute_error: 0.0553 - categorical_accuracy: 1.0000\n",
            "Epoch 56/200\n",
            "178/178 [==============================] - 5s 25ms/step - loss: 0.0112 - mean_absolute_error: 0.0557 - categorical_accuracy: 1.0000\n",
            "Epoch 57/200\n",
            "178/178 [==============================] - 5s 26ms/step - loss: 0.0054 - mean_absolute_error: 0.0476 - categorical_accuracy: 1.0000\n",
            "Epoch 58/200\n",
            "178/178 [==============================] - 5s 26ms/step - loss: 0.0092 - mean_absolute_error: 0.0559 - categorical_accuracy: 1.0000\n",
            "Epoch 59/200\n",
            "178/178 [==============================] - 5s 26ms/step - loss: 0.0074 - mean_absolute_error: 0.0561 - categorical_accuracy: 1.0000\n",
            "Epoch 60/200\n",
            "178/178 [==============================] - 4s 25ms/step - loss: 0.0071 - mean_absolute_error: 0.0461 - categorical_accuracy: 1.0000\n",
            "Epoch 61/200\n",
            "178/178 [==============================] - 5s 26ms/step - loss: 0.0118 - mean_absolute_error: 0.0608 - categorical_accuracy: 1.0000\n",
            "Epoch 62/200\n",
            "178/178 [==============================] - 5s 27ms/step - loss: 0.0085 - mean_absolute_error: 0.0566 - categorical_accuracy: 1.0000\n",
            "Epoch 63/200\n",
            "178/178 [==============================] - 5s 25ms/step - loss: 0.0065 - mean_absolute_error: 0.0493 - categorical_accuracy: 1.0000\n",
            "Epoch 64/200\n",
            "178/178 [==============================] - 5s 26ms/step - loss: 0.0060 - mean_absolute_error: 0.0517 - categorical_accuracy: 1.0000\n",
            "Epoch 65/200\n",
            "178/178 [==============================] - 5s 26ms/step - loss: 0.0070 - mean_absolute_error: 0.0520 - categorical_accuracy: 1.0000\n",
            "Epoch 66/200\n",
            "178/178 [==============================] - 4s 25ms/step - loss: 0.0053 - mean_absolute_error: 0.0474 - categorical_accuracy: 1.0000\n",
            "Epoch 67/200\n",
            "178/178 [==============================] - 4s 25ms/step - loss: 0.0065 - mean_absolute_error: 0.0440 - categorical_accuracy: 1.0000\n",
            "Epoch 68/200\n",
            "178/178 [==============================] - 4s 25ms/step - loss: 0.0056 - mean_absolute_error: 0.0496 - categorical_accuracy: 1.0000\n",
            "Epoch 69/200\n",
            "178/178 [==============================] - 4s 25ms/step - loss: 0.0099 - mean_absolute_error: 0.0558 - categorical_accuracy: 1.0000\n",
            "Epoch 70/200\n",
            "178/178 [==============================] - 4s 25ms/step - loss: 0.0064 - mean_absolute_error: 0.0448 - categorical_accuracy: 1.0000\n",
            "Epoch 71/200\n",
            "178/178 [==============================] - 5s 26ms/step - loss: 0.0045 - mean_absolute_error: 0.0407 - categorical_accuracy: 1.0000\n",
            "Epoch 72/200\n",
            "178/178 [==============================] - 5s 26ms/step - loss: 0.0067 - mean_absolute_error: 0.0467 - categorical_accuracy: 1.0000\n",
            "Epoch 73/200\n",
            "178/178 [==============================] - 4s 25ms/step - loss: 0.0039 - mean_absolute_error: 0.0431 - categorical_accuracy: 1.0000\n",
            "Epoch 74/200\n",
            "178/178 [==============================] - 5s 25ms/step - loss: 0.0080 - mean_absolute_error: 0.0474 - categorical_accuracy: 1.0000\n",
            "Epoch 75/200\n",
            "178/178 [==============================] - 5s 25ms/step - loss: 0.0075 - mean_absolute_error: 0.0507 - categorical_accuracy: 1.0000\n",
            "Epoch 76/200\n",
            "178/178 [==============================] - 4s 25ms/step - loss: 0.0066 - mean_absolute_error: 0.0446 - categorical_accuracy: 1.0000\n",
            "Epoch 77/200\n",
            "178/178 [==============================] - 5s 25ms/step - loss: 0.0051 - mean_absolute_error: 0.0447 - categorical_accuracy: 1.0000\n",
            "Epoch 78/200\n",
            "178/178 [==============================] - 5s 25ms/step - loss: 0.0051 - mean_absolute_error: 0.0432 - categorical_accuracy: 1.0000\n",
            "Epoch 79/200\n",
            "178/178 [==============================] - 5s 25ms/step - loss: 0.0046 - mean_absolute_error: 0.0387 - categorical_accuracy: 1.0000\n",
            "Epoch 80/200\n",
            "178/178 [==============================] - 4s 25ms/step - loss: 0.0052 - mean_absolute_error: 0.0441 - categorical_accuracy: 1.0000\n",
            "Epoch 81/200\n",
            "178/178 [==============================] - 5s 26ms/step - loss: 0.0091 - mean_absolute_error: 0.0479 - categorical_accuracy: 1.0000\n",
            "Epoch 82/200\n",
            "178/178 [==============================] - 4s 25ms/step - loss: 0.0051 - mean_absolute_error: 0.0439 - categorical_accuracy: 1.0000\n",
            "Epoch 83/200\n",
            "178/178 [==============================] - 4s 25ms/step - loss: 0.0084 - mean_absolute_error: 0.0457 - categorical_accuracy: 1.0000\n",
            "Epoch 84/200\n",
            "178/178 [==============================] - 5s 26ms/step - loss: 0.0046 - mean_absolute_error: 0.0455 - categorical_accuracy: 1.0000\n",
            "Epoch 85/200\n",
            "178/178 [==============================] - 5s 26ms/step - loss: 0.0043 - mean_absolute_error: 0.0405 - categorical_accuracy: 1.0000\n",
            "Epoch 86/200\n",
            "178/178 [==============================] - 4s 25ms/step - loss: 0.0073 - mean_absolute_error: 0.0465 - categorical_accuracy: 1.0000\n",
            "Epoch 87/200\n",
            "178/178 [==============================] - 4s 25ms/step - loss: 0.0083 - mean_absolute_error: 0.0510 - categorical_accuracy: 1.0000\n",
            "Epoch 88/200\n",
            "178/178 [==============================] - 4s 25ms/step - loss: 0.0348 - mean_absolute_error: 0.0655 - categorical_accuracy: 1.0000\n",
            "Epoch 89/200\n",
            "178/178 [==============================] - 5s 25ms/step - loss: 0.0172 - mean_absolute_error: 0.0753 - categorical_accuracy: 1.0000\n",
            "Epoch 90/200\n",
            "178/178 [==============================] - 5s 26ms/step - loss: 0.0065 - mean_absolute_error: 0.0512 - categorical_accuracy: 1.0000\n",
            "Epoch 91/200\n",
            "178/178 [==============================] - 5s 26ms/step - loss: 0.0073 - mean_absolute_error: 0.0504 - categorical_accuracy: 1.0000\n",
            "Epoch 92/200\n",
            "178/178 [==============================] - 5s 25ms/step - loss: 0.0063 - mean_absolute_error: 0.0444 - categorical_accuracy: 1.0000\n",
            "Epoch 93/200\n",
            "178/178 [==============================] - 5s 26ms/step - loss: 0.0066 - mean_absolute_error: 0.0451 - categorical_accuracy: 1.0000\n",
            "Epoch 94/200\n",
            "178/178 [==============================] - 5s 26ms/step - loss: 0.0031 - mean_absolute_error: 0.0367 - categorical_accuracy: 1.0000\n",
            "Epoch 95/200\n",
            "178/178 [==============================] - 5s 25ms/step - loss: 0.0081 - mean_absolute_error: 0.0481 - categorical_accuracy: 1.0000\n",
            "Epoch 96/200\n",
            "178/178 [==============================] - 5s 26ms/step - loss: 0.0034 - mean_absolute_error: 0.0374 - categorical_accuracy: 1.0000\n",
            "Epoch 97/200\n",
            "178/178 [==============================] - 5s 25ms/step - loss: 0.0059 - mean_absolute_error: 0.0411 - categorical_accuracy: 1.0000\n",
            "Epoch 98/200\n",
            "178/178 [==============================] - 5s 26ms/step - loss: 0.0064 - mean_absolute_error: 0.0429 - categorical_accuracy: 1.0000\n",
            "Epoch 99/200\n",
            "178/178 [==============================] - 5s 26ms/step - loss: 0.0056 - mean_absolute_error: 0.0430 - categorical_accuracy: 1.0000\n",
            "Epoch 100/200\n",
            "178/178 [==============================] - 5s 26ms/step - loss: 0.0056 - mean_absolute_error: 0.0375 - categorical_accuracy: 1.0000\n",
            "Epoch 101/200\n",
            "178/178 [==============================] - 5s 26ms/step - loss: 0.0056 - mean_absolute_error: 0.0430 - categorical_accuracy: 1.0000\n",
            "Epoch 102/200\n",
            "178/178 [==============================] - 5s 25ms/step - loss: 0.0087 - mean_absolute_error: 0.0475 - categorical_accuracy: 1.0000\n",
            "Epoch 103/200\n",
            "178/178 [==============================] - 5s 26ms/step - loss: 0.0035 - mean_absolute_error: 0.0342 - categorical_accuracy: 1.0000\n",
            "Epoch 104/200\n",
            "178/178 [==============================] - 5s 26ms/step - loss: 0.0036 - mean_absolute_error: 0.0339 - categorical_accuracy: 1.0000\n",
            "Epoch 105/200\n",
            "178/178 [==============================] - 5s 26ms/step - loss: 0.0051 - mean_absolute_error: 0.0418 - categorical_accuracy: 1.0000\n",
            "Epoch 106/200\n",
            "178/178 [==============================] - 5s 25ms/step - loss: 0.0028 - mean_absolute_error: 0.0327 - categorical_accuracy: 1.0000\n",
            "Epoch 107/200\n",
            "178/178 [==============================] - 5s 25ms/step - loss: 0.0046 - mean_absolute_error: 0.0414 - categorical_accuracy: 1.0000\n",
            "Epoch 108/200\n",
            "178/178 [==============================] - 4s 25ms/step - loss: 0.0119 - mean_absolute_error: 0.0495 - categorical_accuracy: 1.0000\n",
            "Epoch 109/200\n",
            "178/178 [==============================] - 5s 25ms/step - loss: 0.0039 - mean_absolute_error: 0.0345 - categorical_accuracy: 1.0000\n",
            "Epoch 110/200\n",
            "178/178 [==============================] - 5s 27ms/step - loss: 0.0054 - mean_absolute_error: 0.0393 - categorical_accuracy: 1.0000\n",
            "Epoch 111/200\n",
            "178/178 [==============================] - 5s 26ms/step - loss: 0.0087 - mean_absolute_error: 0.0442 - categorical_accuracy: 1.0000\n",
            "Epoch 112/200\n",
            "178/178 [==============================] - 5s 26ms/step - loss: 0.0045 - mean_absolute_error: 0.0376 - categorical_accuracy: 1.0000\n",
            "Epoch 113/200\n",
            "178/178 [==============================] - 5s 26ms/step - loss: 0.0038 - mean_absolute_error: 0.0361 - categorical_accuracy: 1.0000\n",
            "Epoch 114/200\n",
            "178/178 [==============================] - 5s 27ms/step - loss: 0.0025 - mean_absolute_error: 0.0322 - categorical_accuracy: 1.0000\n",
            "Epoch 115/200\n",
            "178/178 [==============================] - 5s 26ms/step - loss: 0.0070 - mean_absolute_error: 0.0435 - categorical_accuracy: 1.0000\n",
            "Epoch 116/200\n",
            "178/178 [==============================] - 5s 26ms/step - loss: 0.0026 - mean_absolute_error: 0.0366 - categorical_accuracy: 1.0000\n",
            "Epoch 117/200\n",
            "178/178 [==============================] - 5s 27ms/step - loss: 0.0035 - mean_absolute_error: 0.0334 - categorical_accuracy: 1.0000\n",
            "Epoch 118/200\n",
            "178/178 [==============================] - 5s 28ms/step - loss: 0.0102 - mean_absolute_error: 0.0520 - categorical_accuracy: 1.0000\n",
            "Epoch 119/200\n",
            "178/178 [==============================] - 5s 27ms/step - loss: 0.0042 - mean_absolute_error: 0.0354 - categorical_accuracy: 1.0000\n",
            "Epoch 120/200\n",
            "178/178 [==============================] - 5s 26ms/step - loss: 0.0096 - mean_absolute_error: 0.0449 - categorical_accuracy: 1.0000\n",
            "Epoch 121/200\n",
            "178/178 [==============================] - 4s 25ms/step - loss: 0.0021 - mean_absolute_error: 0.0297 - categorical_accuracy: 1.0000\n",
            "Epoch 122/200\n",
            "178/178 [==============================] - 5s 26ms/step - loss: 0.0046 - mean_absolute_error: 0.0412 - categorical_accuracy: 1.0000\n",
            "Epoch 123/200\n",
            "178/178 [==============================] - 5s 25ms/step - loss: 0.0026 - mean_absolute_error: 0.0336 - categorical_accuracy: 1.0000\n",
            "Epoch 124/200\n",
            "178/178 [==============================] - 5s 26ms/step - loss: 0.0048 - mean_absolute_error: 0.0390 - categorical_accuracy: 1.0000\n",
            "Epoch 125/200\n",
            "178/178 [==============================] - 5s 25ms/step - loss: 0.0034 - mean_absolute_error: 0.0346 - categorical_accuracy: 1.0000\n",
            "Epoch 126/200\n",
            "178/178 [==============================] - 5s 26ms/step - loss: 0.0058 - mean_absolute_error: 0.0371 - categorical_accuracy: 1.0000\n",
            "Epoch 127/200\n",
            "178/178 [==============================] - 5s 26ms/step - loss: 0.0062 - mean_absolute_error: 0.0379 - categorical_accuracy: 1.0000\n",
            "Epoch 128/200\n",
            "178/178 [==============================] - 5s 27ms/step - loss: 0.0038 - mean_absolute_error: 0.0372 - categorical_accuracy: 1.0000\n",
            "Epoch 129/200\n",
            "178/178 [==============================] - 5s 27ms/step - loss: 0.0040 - mean_absolute_error: 0.0327 - categorical_accuracy: 1.0000\n",
            "Epoch 130/200\n",
            "178/178 [==============================] - 5s 25ms/step - loss: 0.0048 - mean_absolute_error: 0.0339 - categorical_accuracy: 1.0000\n",
            "Epoch 131/200\n",
            "178/178 [==============================] - 5s 26ms/step - loss: 0.0031 - mean_absolute_error: 0.0378 - categorical_accuracy: 1.0000\n",
            "Epoch 132/200\n",
            "178/178 [==============================] - 5s 26ms/step - loss: 0.0057 - mean_absolute_error: 0.0413 - categorical_accuracy: 1.0000\n",
            "Epoch 133/200\n",
            "178/178 [==============================] - 5s 26ms/step - loss: 0.0026 - mean_absolute_error: 0.0316 - categorical_accuracy: 1.0000\n",
            "Epoch 134/200\n",
            "178/178 [==============================] - 5s 26ms/step - loss: 0.0021 - mean_absolute_error: 0.0307 - categorical_accuracy: 1.0000\n",
            "Epoch 135/200\n",
            "178/178 [==============================] - 5s 26ms/step - loss: 0.0041 - mean_absolute_error: 0.0316 - categorical_accuracy: 1.0000\n",
            "Epoch 136/200\n",
            "178/178 [==============================] - 5s 25ms/step - loss: 0.0024 - mean_absolute_error: 0.0288 - categorical_accuracy: 1.0000\n",
            "Epoch 137/200\n",
            "178/178 [==============================] - 5s 26ms/step - loss: 0.0068 - mean_absolute_error: 0.0352 - categorical_accuracy: 1.0000\n",
            "Epoch 138/200\n",
            "178/178 [==============================] - 5s 26ms/step - loss: 0.0056 - mean_absolute_error: 0.0448 - categorical_accuracy: 1.0000\n",
            "Epoch 139/200\n",
            "178/178 [==============================] - 5s 26ms/step - loss: 0.0075 - mean_absolute_error: 0.0375 - categorical_accuracy: 1.0000\n",
            "Epoch 140/200\n",
            "178/178 [==============================] - 5s 26ms/step - loss: 0.0061 - mean_absolute_error: 0.0381 - categorical_accuracy: 1.0000\n",
            "Epoch 141/200\n",
            "178/178 [==============================] - 5s 26ms/step - loss: 0.0021 - mean_absolute_error: 0.0316 - categorical_accuracy: 1.0000\n",
            "Epoch 142/200\n",
            "178/178 [==============================] - 5s 26ms/step - loss: 0.0021 - mean_absolute_error: 0.0322 - categorical_accuracy: 1.0000\n",
            "Epoch 143/200\n",
            "178/178 [==============================] - 5s 27ms/step - loss: 0.0029 - mean_absolute_error: 0.0274 - categorical_accuracy: 1.0000\n",
            "Epoch 144/200\n",
            "178/178 [==============================] - 5s 26ms/step - loss: 0.0044 - mean_absolute_error: 0.0333 - categorical_accuracy: 1.0000\n",
            "Epoch 145/200\n",
            "178/178 [==============================] - 5s 26ms/step - loss: 0.0022 - mean_absolute_error: 0.0288 - categorical_accuracy: 1.0000\n",
            "Epoch 146/200\n",
            "178/178 [==============================] - 5s 26ms/step - loss: 0.0037 - mean_absolute_error: 0.0316 - categorical_accuracy: 1.0000\n",
            "Epoch 147/200\n",
            "178/178 [==============================] - 5s 26ms/step - loss: 0.0031 - mean_absolute_error: 0.0358 - categorical_accuracy: 1.0000\n",
            "Epoch 148/200\n",
            "178/178 [==============================] - 5s 26ms/step - loss: 0.0017 - mean_absolute_error: 0.0276 - categorical_accuracy: 1.0000\n",
            "Epoch 149/200\n",
            "178/178 [==============================] - 5s 26ms/step - loss: 0.0048 - mean_absolute_error: 0.0347 - categorical_accuracy: 1.0000\n",
            "Epoch 150/200\n",
            "178/178 [==============================] - 5s 26ms/step - loss: 0.0025 - mean_absolute_error: 0.0324 - categorical_accuracy: 1.0000\n",
            "Epoch 151/200\n",
            "178/178 [==============================] - 5s 26ms/step - loss: 0.0073 - mean_absolute_error: 0.0399 - categorical_accuracy: 1.0000\n",
            "Epoch 152/200\n",
            "178/178 [==============================] - 5s 26ms/step - loss: 0.0018 - mean_absolute_error: 0.0291 - categorical_accuracy: 1.0000\n",
            "Epoch 153/200\n",
            "178/178 [==============================] - 5s 26ms/step - loss: 0.0024 - mean_absolute_error: 0.0301 - categorical_accuracy: 1.0000\n",
            "Epoch 154/200\n",
            "178/178 [==============================] - 5s 26ms/step - loss: 0.0014 - mean_absolute_error: 0.0260 - categorical_accuracy: 1.0000\n",
            "Epoch 155/200\n",
            "178/178 [==============================] - 5s 26ms/step - loss: 0.0037 - mean_absolute_error: 0.0367 - categorical_accuracy: 1.0000\n",
            "Epoch 156/200\n",
            "178/178 [==============================] - 5s 26ms/step - loss: 0.0052 - mean_absolute_error: 0.0397 - categorical_accuracy: 1.0000\n",
            "Epoch 157/200\n",
            "178/178 [==============================] - 5s 26ms/step - loss: 0.0032 - mean_absolute_error: 0.0353 - categorical_accuracy: 1.0000\n",
            "Epoch 158/200\n",
            "178/178 [==============================] - 5s 26ms/step - loss: 0.0033 - mean_absolute_error: 0.0293 - categorical_accuracy: 1.0000\n",
            "Epoch 159/200\n",
            "178/178 [==============================] - 5s 26ms/step - loss: 0.0025 - mean_absolute_error: 0.0296 - categorical_accuracy: 1.0000\n",
            "Epoch 160/200\n",
            "178/178 [==============================] - 5s 26ms/step - loss: 0.0035 - mean_absolute_error: 0.0318 - categorical_accuracy: 1.0000\n",
            "Epoch 161/200\n",
            "178/178 [==============================] - 5s 26ms/step - loss: 0.0015 - mean_absolute_error: 0.0268 - categorical_accuracy: 1.0000\n",
            "Epoch 162/200\n",
            "178/178 [==============================] - 5s 27ms/step - loss: 0.0043 - mean_absolute_error: 0.0366 - categorical_accuracy: 1.0000\n",
            "Epoch 163/200\n",
            "178/178 [==============================] - 5s 26ms/step - loss: 0.0035 - mean_absolute_error: 0.0349 - categorical_accuracy: 1.0000\n",
            "Epoch 164/200\n",
            "178/178 [==============================] - 5s 26ms/step - loss: 0.0058 - mean_absolute_error: 0.0384 - categorical_accuracy: 1.0000\n",
            "Epoch 165/200\n",
            "178/178 [==============================] - 5s 26ms/step - loss: 0.0034 - mean_absolute_error: 0.0254 - categorical_accuracy: 1.0000\n",
            "Epoch 166/200\n",
            "178/178 [==============================] - 5s 26ms/step - loss: 0.0036 - mean_absolute_error: 0.0300 - categorical_accuracy: 1.0000\n",
            "Epoch 167/200\n",
            "178/178 [==============================] - 5s 27ms/step - loss: 0.0017 - mean_absolute_error: 0.0263 - categorical_accuracy: 1.0000\n",
            "Epoch 168/200\n",
            "178/178 [==============================] - 5s 29ms/step - loss: 0.0019 - mean_absolute_error: 0.0308 - categorical_accuracy: 1.0000\n",
            "Epoch 169/200\n",
            "178/178 [==============================] - 5s 28ms/step - loss: 0.0054 - mean_absolute_error: 0.0356 - categorical_accuracy: 1.0000\n",
            "Epoch 170/200\n",
            "178/178 [==============================] - 5s 28ms/step - loss: 0.0043 - mean_absolute_error: 0.0304 - categorical_accuracy: 1.0000\n",
            "Epoch 171/200\n",
            "178/178 [==============================] - 5s 28ms/step - loss: 0.0013 - mean_absolute_error: 0.0243 - categorical_accuracy: 1.0000\n",
            "Epoch 172/200\n",
            "178/178 [==============================] - 5s 28ms/step - loss: 0.0038 - mean_absolute_error: 0.0342 - categorical_accuracy: 1.0000\n",
            "Epoch 173/200\n",
            "178/178 [==============================] - 5s 26ms/step - loss: 0.0023 - mean_absolute_error: 0.0243 - categorical_accuracy: 1.0000\n",
            "Epoch 174/200\n",
            "178/178 [==============================] - 5s 27ms/step - loss: 0.0014 - mean_absolute_error: 0.0265 - categorical_accuracy: 1.0000\n",
            "Epoch 175/200\n",
            "178/178 [==============================] - 5s 28ms/step - loss: 0.0031 - mean_absolute_error: 0.0296 - categorical_accuracy: 1.0000\n",
            "Epoch 176/200\n",
            "178/178 [==============================] - 5s 27ms/step - loss: 0.0043 - mean_absolute_error: 0.0309 - categorical_accuracy: 1.0000\n",
            "Epoch 177/200\n",
            "178/178 [==============================] - 5s 26ms/step - loss: 0.0021 - mean_absolute_error: 0.0260 - categorical_accuracy: 1.0000\n",
            "Epoch 178/200\n",
            "178/178 [==============================] - 5s 27ms/step - loss: 0.0037 - mean_absolute_error: 0.0317 - categorical_accuracy: 1.0000\n",
            "Epoch 179/200\n",
            "178/178 [==============================] - 5s 27ms/step - loss: 0.0023 - mean_absolute_error: 0.0298 - categorical_accuracy: 1.0000\n",
            "Epoch 180/200\n",
            "178/178 [==============================] - 5s 27ms/step - loss: 0.0018 - mean_absolute_error: 0.0264 - categorical_accuracy: 1.0000\n",
            "Epoch 181/200\n",
            "178/178 [==============================] - 5s 27ms/step - loss: 0.0034 - mean_absolute_error: 0.0260 - categorical_accuracy: 1.0000\n",
            "Epoch 182/200\n",
            "178/178 [==============================] - 5s 27ms/step - loss: 0.0027 - mean_absolute_error: 0.0242 - categorical_accuracy: 1.0000\n",
            "Epoch 183/200\n",
            "178/178 [==============================] - 5s 27ms/step - loss: 0.0044 - mean_absolute_error: 0.0332 - categorical_accuracy: 1.0000\n",
            "Epoch 184/200\n",
            "178/178 [==============================] - 5s 30ms/step - loss: 0.0055 - mean_absolute_error: 0.0341 - categorical_accuracy: 1.0000\n",
            "Epoch 185/200\n",
            "178/178 [==============================] - 5s 29ms/step - loss: 0.0017 - mean_absolute_error: 0.0236 - categorical_accuracy: 1.0000\n",
            "Epoch 186/200\n",
            "178/178 [==============================] - 5s 27ms/step - loss: 0.0028 - mean_absolute_error: 0.0251 - categorical_accuracy: 1.0000\n",
            "Epoch 187/200\n",
            "178/178 [==============================] - 5s 28ms/step - loss: 0.0017 - mean_absolute_error: 0.0253 - categorical_accuracy: 1.0000\n",
            "Epoch 188/200\n",
            "178/178 [==============================] - 5s 27ms/step - loss: 0.0012 - mean_absolute_error: 0.0244 - categorical_accuracy: 1.0000\n",
            "Epoch 189/200\n",
            "178/178 [==============================] - 5s 26ms/step - loss: 0.0015 - mean_absolute_error: 0.0238 - categorical_accuracy: 1.0000\n",
            "Epoch 190/200\n",
            "178/178 [==============================] - 5s 27ms/step - loss: 0.0017 - mean_absolute_error: 0.0261 - categorical_accuracy: 1.0000\n",
            "Epoch 191/200\n",
            "178/178 [==============================] - 5s 27ms/step - loss: 0.0028 - mean_absolute_error: 0.0323 - categorical_accuracy: 1.0000\n",
            "Epoch 192/200\n",
            "178/178 [==============================] - 5s 27ms/step - loss: 0.0033 - mean_absolute_error: 0.0277 - categorical_accuracy: 1.0000\n",
            "Epoch 193/200\n",
            "178/178 [==============================] - 5s 29ms/step - loss: 0.0036 - mean_absolute_error: 0.0299 - categorical_accuracy: 1.0000\n",
            "Epoch 194/200\n",
            "178/178 [==============================] - 5s 27ms/step - loss: 0.0036 - mean_absolute_error: 0.0344 - categorical_accuracy: 1.0000\n",
            "Epoch 195/200\n",
            "178/178 [==============================] - 5s 27ms/step - loss: 0.0024 - mean_absolute_error: 0.0272 - categorical_accuracy: 1.0000\n",
            "Epoch 196/200\n",
            "178/178 [==============================] - 5s 26ms/step - loss: 0.0025 - mean_absolute_error: 0.0272 - categorical_accuracy: 1.0000\n",
            "Epoch 197/200\n",
            "178/178 [==============================] - 5s 26ms/step - loss: 0.0014 - mean_absolute_error: 0.0265 - categorical_accuracy: 1.0000\n",
            "Epoch 198/200\n",
            "178/178 [==============================] - 5s 27ms/step - loss: 0.0047 - mean_absolute_error: 0.0323 - categorical_accuracy: 1.0000\n",
            "Epoch 199/200\n",
            "178/178 [==============================] - 5s 26ms/step - loss: 0.0023 - mean_absolute_error: 0.0232 - categorical_accuracy: 1.0000\n",
            "Epoch 200/200\n",
            "178/178 [==============================] - 5s 27ms/step - loss: 0.0017 - mean_absolute_error: 0.0261 - categorical_accuracy: 1.0000\n"
          ],
          "name": "stdout"
        },
        {
          "output_type": "execute_result",
          "data": {
            "text/plain": [
              "<tensorflow.python.keras.callbacks.History at 0x7f921fba8b90>"
            ]
          },
          "metadata": {
            "tags": []
          },
          "execution_count": 58
        }
      ]
    },
    {
      "cell_type": "code",
      "metadata": {
        "colab": {
          "base_uri": "https://localhost:8080/"
        },
        "id": "TKWj4l-QsxqS",
        "outputId": "221d0cd5-93e0-42e3-a9cb-723f100ed126"
      },
      "source": [
        "first_eval_4 = scaled_train[-20:]\n",
        "\n",
        "\n",
        "first_eval_4 = first_eval_4.reshape(1, n_input, n_feacture)\n",
        "\n",
        "model_4.predict(first_eval_4)"
      ],
      "execution_count": 59,
      "outputs": [
        {
          "output_type": "execute_result",
          "data": {
            "text/plain": [
              "array([[0.2307695]], dtype=float32)"
            ]
          },
          "metadata": {
            "tags": []
          },
          "execution_count": 59
        }
      ]
    },
    {
      "cell_type": "code",
      "metadata": {
        "id": "Vw81kCXOsxqU"
      },
      "source": [
        "test_predictions_4 = []\n",
        "\n",
        "first_eval_batch = scaled_train[-n_input:]\n",
        "current_batch = first_eval_4.reshape((1, n_input, n_feacture))\n",
        "\n",
        "for i in range(len(test)):\n",
        "    \n",
        "    # obtener la predicción ([0] es para obtener solo el número en lugar de [matriz])\n",
        "    current_pred = model_4.predict(current_batch)[0]\n",
        "    \n",
        "    # guardar la predicción\n",
        "    test_predictions_4.append(current_pred) \n",
        "    \n",
        "    # actualizar el lote para incluir ahora la predicción y soltar primer valor\n",
        "    current_batch = np.append(current_batch[:,1:,:],[[current_pred]],axis=1)"
      ],
      "execution_count": 60,
      "outputs": []
    },
    {
      "cell_type": "code",
      "metadata": {
        "colab": {
          "base_uri": "https://localhost:8080/"
        },
        "id": "CEyLcBR2sxqW",
        "outputId": "e239da1f-3da4-4c05-9b45-12ec7f9b65a5"
      },
      "source": [
        "#Transofmacion inversa\n",
        "true_predicctions_4 = scaler.inverse_transform(test_predictions_4)\n",
        "\n",
        "\n",
        "test['Prediction_4'] = true_predicctions_4"
      ],
      "execution_count": 61,
      "outputs": [
        {
          "output_type": "stream",
          "text": [
            "/usr/local/lib/python3.7/dist-packages/ipykernel_launcher.py:5: SettingWithCopyWarning: \n",
            "A value is trying to be set on a copy of a slice from a DataFrame.\n",
            "Try using .loc[row_indexer,col_indexer] = value instead\n",
            "\n",
            "See the caveats in the documentation: https://pandas.pydata.org/pandas-docs/stable/user_guide/indexing.html#returning-a-view-versus-a-copy\n",
            "  \"\"\"\n"
          ],
          "name": "stderr"
        }
      ]
    },
    {
      "cell_type": "code",
      "metadata": {
        "colab": {
          "base_uri": "https://localhost:8080/",
          "height": 537
        },
        "id": "jSiLxb-osxqX",
        "outputId": "fa2814f6-7275-4a60-f645-dd0f4ed6fa8c"
      },
      "source": [
        "test.plot(figsize=(12,8))"
      ],
      "execution_count": 62,
      "outputs": [
        {
          "output_type": "execute_result",
          "data": {
            "text/plain": [
              "<matplotlib.axes._subplots.AxesSubplot at 0x7f92145f2490>"
            ]
          },
          "metadata": {
            "tags": []
          },
          "execution_count": 62
        },
        {
          "output_type": "display_data",
          "data": {
            "image/png": "[encoded data removed]",
            "text/plain": [
              "<Figure size 864x576 with 1 Axes>"
            ]
          },
          "metadata": {
            "tags": [],
            "needs_background": "light"
          }
        }
      ]
    },
    {
      "cell_type": "code",
      "metadata": {
        "colab": {
          "base_uri": "https://localhost:8080/",
          "height": 700
        },
        "id": "hForrMZ4sxqY",
        "outputId": "fab5372b-8aa8-456c-d3c3-bcf657489619"
      },
      "source": [
        "#Observacion de los test y la predicciones\n",
        "test"
      ],
      "execution_count": 63,
      "outputs": [
        {
          "output_type": "execute_result",
          "data": {
            "text/html": [
              "<div>\n",
              "<style scoped>\n",
              "    .dataframe tbody tr th:only-of-type {\n",
              "        vertical-align: middle;\n",
              "    }\n",
              "\n",
              "    .dataframe tbody tr th {\n",
              "        vertical-align: top;\n",
              "    }\n",
              "\n",
              "    .dataframe thead th {\n",
              "        text-align: right;\n",
              "    }\n",
              "</style>\n",
              "<table border=\"1\" class=\"dataframe\">\n",
              "  <thead>\n",
              "    <tr style=\"text-align: right;\">\n",
              "      <th></th>\n",
              "      <th>new_cases</th>\n",
              "      <th>Prediction</th>\n",
              "      <th>Prediction_2</th>\n",
              "      <th>Prediction_3</th>\n",
              "    </tr>\n",
              "    <tr>\n",
              "      <th>date</th>\n",
              "      <th></th>\n",
              "      <th></th>\n",
              "      <th></th>\n",
              "      <th></th>\n",
              "    </tr>\n",
              "  </thead>\n",
              "  <tbody>\n",
              "    <tr>\n",
              "      <th>2021-03-10</th>\n",
              "      <td>6602.0</td>\n",
              "      <td>8117.574278</td>\n",
              "      <td>5891.071155</td>\n",
              "      <td>6488.084496</td>\n",
              "    </tr>\n",
              "    <tr>\n",
              "      <th>2021-03-11</th>\n",
              "      <td>6469.0</td>\n",
              "      <td>9129.992834</td>\n",
              "      <td>5959.243748</td>\n",
              "      <td>6534.763895</td>\n",
              "    </tr>\n",
              "    <tr>\n",
              "      <th>2021-03-12</th>\n",
              "      <td>6816.0</td>\n",
              "      <td>10234.787339</td>\n",
              "      <td>6032.689197</td>\n",
              "      <td>6500.475248</td>\n",
              "    </tr>\n",
              "    <tr>\n",
              "      <th>2021-03-13</th>\n",
              "      <td>6104.0</td>\n",
              "      <td>11280.778563</td>\n",
              "      <td>6106.416178</td>\n",
              "      <td>5548.327542</td>\n",
              "    </tr>\n",
              "    <tr>\n",
              "      <th>2021-03-14</th>\n",
              "      <td>2415.0</td>\n",
              "      <td>12408.137508</td>\n",
              "      <td>6188.936838</td>\n",
              "      <td>4167.015173</td>\n",
              "    </tr>\n",
              "    <tr>\n",
              "      <th>2021-03-15</th>\n",
              "      <td>1439.0</td>\n",
              "      <td>12728.028866</td>\n",
              "      <td>6272.836669</td>\n",
              "      <td>4574.033923</td>\n",
              "    </tr>\n",
              "    <tr>\n",
              "      <th>2021-03-16</th>\n",
              "      <td>1278.0</td>\n",
              "      <td>11513.550908</td>\n",
              "      <td>6344.789413</td>\n",
              "      <td>5957.935379</td>\n",
              "    </tr>\n",
              "    <tr>\n",
              "      <th>2021-03-17</th>\n",
              "      <td>6455.0</td>\n",
              "      <td>8803.365660</td>\n",
              "      <td>6416.479478</td>\n",
              "      <td>6068.575705</td>\n",
              "    </tr>\n",
              "    <tr>\n",
              "      <th>2021-03-18</th>\n",
              "      <td>6726.0</td>\n",
              "      <td>8685.789261</td>\n",
              "      <td>6488.343405</td>\n",
              "      <td>6095.984837</td>\n",
              "    </tr>\n",
              "    <tr>\n",
              "      <th>2021-03-19</th>\n",
              "      <td>5722.0</td>\n",
              "      <td>13110.498209</td>\n",
              "      <td>6561.877252</td>\n",
              "      <td>6049.660286</td>\n",
              "    </tr>\n",
              "    <tr>\n",
              "      <th>2021-03-20</th>\n",
              "      <td>5729.0</td>\n",
              "      <td>16987.363012</td>\n",
              "      <td>6635.693049</td>\n",
              "      <td>5514.930830</td>\n",
              "    </tr>\n",
              "    <tr>\n",
              "      <th>2021-03-21</th>\n",
              "      <td>2133.0</td>\n",
              "      <td>21994.429727</td>\n",
              "      <td>6717.403049</td>\n",
              "      <td>4945.460684</td>\n",
              "    </tr>\n",
              "    <tr>\n",
              "      <th>2021-03-22</th>\n",
              "      <td>1388.0</td>\n",
              "      <td>26136.402813</td>\n",
              "      <td>6799.640083</td>\n",
              "      <td>5107.525812</td>\n",
              "    </tr>\n",
              "    <tr>\n",
              "      <th>2021-03-23</th>\n",
              "      <td>5881.0</td>\n",
              "      <td>26645.259830</td>\n",
              "      <td>6871.403463</td>\n",
              "      <td>5839.014582</td>\n",
              "    </tr>\n",
              "    <tr>\n",
              "      <th>2021-03-24</th>\n",
              "      <td>5714.0</td>\n",
              "      <td>18451.452436</td>\n",
              "      <td>6942.987534</td>\n",
              "      <td>5934.195376</td>\n",
              "    </tr>\n",
              "    <tr>\n",
              "      <th>2021-03-25</th>\n",
              "      <td>5787.0</td>\n",
              "      <td>10396.839898</td>\n",
              "      <td>7014.765159</td>\n",
              "      <td>6033.639367</td>\n",
              "    </tr>\n",
              "    <tr>\n",
              "      <th>2021-03-26</th>\n",
              "      <td>5303.0</td>\n",
              "      <td>26299.533739</td>\n",
              "      <td>7087.615285</td>\n",
              "      <td>6095.484616</td>\n",
              "    </tr>\n",
              "    <tr>\n",
              "      <th>2021-03-27</th>\n",
              "      <td>5059.0</td>\n",
              "      <td>43895.447869</td>\n",
              "      <td>7160.611624</td>\n",
              "      <td>5833.613110</td>\n",
              "    </tr>\n",
              "    <tr>\n",
              "      <th>2021-03-28</th>\n",
              "      <td>1646.0</td>\n",
              "      <td>62260.713028</td>\n",
              "      <td>7240.244070</td>\n",
              "      <td>5220.144401</td>\n",
              "    </tr>\n",
              "    <tr>\n",
              "      <th>2021-03-29</th>\n",
              "      <td>1293.0</td>\n",
              "      <td>74906.082981</td>\n",
              "      <td>7320.869418</td>\n",
              "      <td>5390.660511</td>\n",
              "    </tr>\n",
              "  </tbody>\n",
              "</table>\n",
              "</div>"
            ],
            "text/plain": [
              "            new_cases    Prediction  Prediction_2  Prediction_3\n",
              "date                                                           \n",
              "2021-03-10     6602.0   8117.574278   5891.071155   6488.084496\n",
              "2021-03-11     6469.0   9129.992834   5959.243748   6534.763895\n",
              "2021-03-12     6816.0  10234.787339   6032.689197   6500.475248\n",
              "2021-03-13     6104.0  11280.778563   6106.416178   5548.327542\n",
              "2021-03-14     2415.0  12408.137508   6188.936838   4167.015173\n",
              "2021-03-15     1439.0  12728.028866   6272.836669   4574.033923\n",
              "2021-03-16     1278.0  11513.550908   6344.789413   5957.935379\n",
              "2021-03-17     6455.0   8803.365660   6416.479478   6068.575705\n",
              "2021-03-18     6726.0   8685.789261   6488.343405   6095.984837\n",
              "2021-03-19     5722.0  13110.498209   6561.877252   6049.660286\n",
              "2021-03-20     5729.0  16987.363012   6635.693049   5514.930830\n",
              "2021-03-21     2133.0  21994.429727   6717.403049   4945.460684\n",
              "2021-03-22     1388.0  26136.402813   6799.640083   5107.525812\n",
              "2021-03-23     5881.0  26645.259830   6871.403463   5839.014582\n",
              "2021-03-24     5714.0  18451.452436   6942.987534   5934.195376\n",
              "2021-03-25     5787.0  10396.839898   7014.765159   6033.639367\n",
              "2021-03-26     5303.0  26299.533739   7087.615285   6095.484616\n",
              "2021-03-27     5059.0  43895.447869   7160.611624   5833.613110\n",
              "2021-03-28     1646.0  62260.713028   7240.244070   5220.144401\n",
              "2021-03-29     1293.0  74906.082981   7320.869418   5390.660511"
            ]
          },
          "metadata": {
            "tags": []
          },
          "execution_count": 63
        }
      ]
    },
    {
      "cell_type": "markdown",
      "metadata": {
        "id": "KXkJLdcYyuf9"
      },
      "source": [
        "# **Model 5**"
      ]
    },
    {
      "cell_type": "code",
      "metadata": {
        "id": "uPI8hMypywNi"
      },
      "source": [
        ""
      ],
      "execution_count": 63,
      "outputs": []
    },
    {
      "cell_type": "code",
      "metadata": {
        "id": "tLyViX-_y1BK"
      },
      "source": [
        "# Red neuronal 5\n",
        "# 5 Capas\n",
        "# relu para activacion de cada capa\n",
        "# adam para compilacion y mse para loss\n",
        "\n",
        "#Red sequential\n",
        "model_5 = Sequential()\n",
        "\n",
        "#Red nueronal con 4 capas, cada capa tiene dierente cantidad de nueronas\n",
        "model_5.add(LSTM(200, activation='relu', input_shape=(n_input, n_feacture)))\n",
        "model_5.add(Dense(100, activation='relu' ))\n",
        "model_5.add(Dense(84, activation='relu'))\n",
        "model_5.add(Dense(64, activation='relu'))\n",
        "model_5.add(Dense(32, activation='sigmoid'))\n",
        "model_5.add(Dense(1))\n",
        "\n",
        "#Compilacion de la red nueronal\n",
        "model_5.compile(optimizer='adam', loss='mean_squared_error',\n",
        "                metrics=[\"accuracy\"])"
      ],
      "execution_count": 64,
      "outputs": []
    },
    {
      "cell_type": "code",
      "metadata": {
        "colab": {
          "base_uri": "https://localhost:8080/"
        },
        "id": "QTvNi2b8y1BS",
        "outputId": "1b112d10-7796-4fc6-b082-d4bcc959c0ef"
      },
      "source": [
        "model_5.summary()"
      ],
      "execution_count": 65,
      "outputs": [
        {
          "output_type": "stream",
          "text": [
            "Model: \"sequential_4\"\n",
            "_________________________________________________________________\n",
            "Layer (type)                 Output Shape              Param #   \n",
            "=================================================================\n",
            "lstm_4 (LSTM)                (None, 200)               161600    \n",
            "_________________________________________________________________\n",
            "dense_16 (Dense)             (None, 100)               20100     \n",
            "_________________________________________________________________\n",
            "dense_17 (Dense)             (None, 84)                8484      \n",
            "_________________________________________________________________\n",
            "dense_18 (Dense)             (None, 64)                5440      \n",
            "_________________________________________________________________\n",
            "dense_19 (Dense)             (None, 32)                2080      \n",
            "_________________________________________________________________\n",
            "dense_20 (Dense)             (None, 1)                 33        \n",
            "=================================================================\n",
            "Total params: 197,737\n",
            "Trainable params: 197,737\n",
            "Non-trainable params: 0\n",
            "_________________________________________________________________\n"
          ],
          "name": "stdout"
        }
      ]
    },
    {
      "cell_type": "code",
      "metadata": {
        "colab": {
          "base_uri": "https://localhost:8080/"
        },
        "id": "JQTklIyMy1Bb",
        "outputId": "ced1d9a0-e875-4d3f-f37b-a3ada452511d"
      },
      "source": [
        "#Entrenando la red nueronal\n",
        "\n",
        "model_5.fit_generator(generator, epochs=200)"
      ],
      "execution_count": 66,
      "outputs": [
        {
          "output_type": "stream",
          "text": [
            "Epoch 1/200\n"
          ],
          "name": "stdout"
        },
        {
          "output_type": "stream",
          "text": [
            "/usr/local/lib/python3.7/dist-packages/tensorflow/python/keras/engine/training.py:1844: UserWarning: `Model.fit_generator` is deprecated and will be removed in a future version. Please use `Model.fit`, which supports generators.\n",
            "  warnings.warn('`Model.fit_generator` is deprecated and '\n"
          ],
          "name": "stderr"
        },
        {
          "output_type": "stream",
          "text": [
            "178/178 [==============================] - 6s 25ms/step - loss: 0.0297 - accuracy: 4.0101e-04\n",
            "Epoch 2/200\n",
            "178/178 [==============================] - 5s 26ms/step - loss: 0.0125 - accuracy: 0.0041\n",
            "Epoch 3/200\n",
            "178/178 [==============================] - 5s 25ms/step - loss: 0.0124 - accuracy: 0.0037\n",
            "Epoch 4/200\n",
            "178/178 [==============================] - 5s 26ms/step - loss: 0.0097 - accuracy: 0.0024\n",
            "Epoch 5/200\n",
            "178/178 [==============================] - 5s 26ms/step - loss: 0.0122 - accuracy: 0.0027\n",
            "Epoch 6/200\n",
            "178/178 [==============================] - 5s 26ms/step - loss: 0.0141 - accuracy: 7.8999e-05\n",
            "Epoch 7/200\n",
            "178/178 [==============================] - 5s 26ms/step - loss: 0.0126 - accuracy: 6.8435e-04\n",
            "Epoch 8/200\n",
            "178/178 [==============================] - 5s 26ms/step - loss: 0.0144 - accuracy: 0.0033\n",
            "Epoch 9/200\n",
            "178/178 [==============================] - 4s 24ms/step - loss: 0.0083 - accuracy: 4.3717e-04\n",
            "Epoch 10/200\n",
            "178/178 [==============================] - 4s 24ms/step - loss: 0.0108 - accuracy: 7.8557e-04\n",
            "Epoch 11/200\n",
            "178/178 [==============================] - 5s 25ms/step - loss: 0.0117 - accuracy: 0.0014\n",
            "Epoch 12/200\n",
            "178/178 [==============================] - 5s 25ms/step - loss: 0.0247 - accuracy: 0.0050\n",
            "Epoch 13/200\n",
            "178/178 [==============================] - 5s 25ms/step - loss: 0.0109 - accuracy: 0.0034\n",
            "Epoch 14/200\n",
            "178/178 [==============================] - 4s 25ms/step - loss: 0.0096 - accuracy: 6.2534e-04\n",
            "Epoch 15/200\n",
            "178/178 [==============================] - 4s 25ms/step - loss: 0.0112 - accuracy: 5.4854e-04\n",
            "Epoch 16/200\n",
            "178/178 [==============================] - 4s 25ms/step - loss: 0.0081 - accuracy: 0.0014\n",
            "Epoch 17/200\n",
            "178/178 [==============================] - 4s 25ms/step - loss: 0.0097 - accuracy: 0.0046\n",
            "Epoch 18/200\n",
            "178/178 [==============================] - 4s 25ms/step - loss: 0.0111 - accuracy: 7.0430e-04\n",
            "Epoch 19/200\n",
            "178/178 [==============================] - 4s 25ms/step - loss: 0.0117 - accuracy: 0.0015\n",
            "Epoch 20/200\n",
            "178/178 [==============================] - 4s 25ms/step - loss: 0.0111 - accuracy: 0.0017\n",
            "Epoch 21/200\n",
            "178/178 [==============================] - 4s 25ms/step - loss: 0.0122 - accuracy: 1.4377e-04\n",
            "Epoch 22/200\n",
            "178/178 [==============================] - 5s 26ms/step - loss: 0.0103 - accuracy: 0.0014\n",
            "Epoch 23/200\n",
            "178/178 [==============================] - 4s 25ms/step - loss: 0.0092 - accuracy: 1.2744e-04\n",
            "Epoch 24/200\n",
            "178/178 [==============================] - 4s 25ms/step - loss: 0.0106 - accuracy: 0.0014\n",
            "Epoch 25/200\n",
            "178/178 [==============================] - 4s 25ms/step - loss: 0.0085 - accuracy: 0.0032\n",
            "Epoch 26/200\n",
            "178/178 [==============================] - 5s 25ms/step - loss: 0.0104 - accuracy: 0.0052\n",
            "Epoch 27/200\n",
            "178/178 [==============================] - 4s 25ms/step - loss: 0.0103 - accuracy: 7.2440e-04\n",
            "Epoch 28/200\n",
            "178/178 [==============================] - 5s 26ms/step - loss: 0.0115 - accuracy: 0.0045\n",
            "Epoch 29/200\n",
            "178/178 [==============================] - 4s 25ms/step - loss: 0.0088 - accuracy: 0.0034\n",
            "Epoch 30/200\n",
            "178/178 [==============================] - 5s 26ms/step - loss: 0.0118 - accuracy: 5.2967e-04\n",
            "Epoch 31/200\n",
            "178/178 [==============================] - 4s 25ms/step - loss: 0.0103 - accuracy: 4.7380e-04\n",
            "Epoch 32/200\n",
            "178/178 [==============================] - 5s 25ms/step - loss: 0.0097 - accuracy: 0.0022\n",
            "Epoch 33/200\n",
            "178/178 [==============================] - 5s 26ms/step - loss: 0.0131 - accuracy: 0.0048\n",
            "Epoch 34/200\n",
            "178/178 [==============================] - 4s 24ms/step - loss: 0.0060 - accuracy: 5.8668e-04\n",
            "Epoch 35/200\n",
            "178/178 [==============================] - 5s 26ms/step - loss: 0.0172 - accuracy: 0.0133\n",
            "Epoch 36/200\n",
            "178/178 [==============================] - 4s 25ms/step - loss: 0.0097 - accuracy: 0.0017\n",
            "Epoch 37/200\n",
            "178/178 [==============================] - 4s 24ms/step - loss: 0.0066 - accuracy: 0.0022\n",
            "Epoch 38/200\n",
            "178/178 [==============================] - 4s 24ms/step - loss: 0.0075 - accuracy: 6.4487e-04\n",
            "Epoch 39/200\n",
            "178/178 [==============================] - 4s 25ms/step - loss: 0.0137 - accuracy: 0.0021\n",
            "Epoch 40/200\n",
            "178/178 [==============================] - 5s 25ms/step - loss: 0.0078 - accuracy: 0.0038\n",
            "Epoch 41/200\n",
            "178/178 [==============================] - 4s 24ms/step - loss: 0.0086 - accuracy: 0.0018\n",
            "Epoch 42/200\n",
            "178/178 [==============================] - 4s 24ms/step - loss: 0.0111 - accuracy: 3.4763e-04\n",
            "Epoch 43/200\n",
            "178/178 [==============================] - 4s 25ms/step - loss: 0.0106 - accuracy: 0.0058\n",
            "Epoch 44/200\n",
            "178/178 [==============================] - 4s 25ms/step - loss: 0.0083 - accuracy: 4.0101e-04\n",
            "Epoch 45/200\n",
            "178/178 [==============================] - 4s 24ms/step - loss: 0.0065 - accuracy: 8.9059e-04\n",
            "Epoch 46/200\n",
            "178/178 [==============================] - 4s 24ms/step - loss: 0.0137 - accuracy: 0.0015\n",
            "Epoch 47/200\n",
            "178/178 [==============================] - 4s 25ms/step - loss: 0.0093 - accuracy: 2.9525e-04\n",
            "Epoch 48/200\n",
            "178/178 [==============================] - 4s 24ms/step - loss: 0.0164 - accuracy: 0.0068\n",
            "Epoch 49/200\n",
            "178/178 [==============================] - 4s 25ms/step - loss: 0.0100 - accuracy: 0.0020\n",
            "Epoch 50/200\n",
            "178/178 [==============================] - 5s 25ms/step - loss: 0.0082 - accuracy: 8.2711e-04\n",
            "Epoch 51/200\n",
            "178/178 [==============================] - 5s 27ms/step - loss: 0.0124 - accuracy: 0.0089\n",
            "Epoch 52/200\n",
            "178/178 [==============================] - 5s 25ms/step - loss: 0.0082 - accuracy: 9.1208e-04\n",
            "Epoch 53/200\n",
            "178/178 [==============================] - 4s 24ms/step - loss: 0.0104 - accuracy: 0.0097\n",
            "Epoch 54/200\n",
            "178/178 [==============================] - 4s 25ms/step - loss: 0.0083 - accuracy: 0.0021\n",
            "Epoch 55/200\n",
            "178/178 [==============================] - 4s 24ms/step - loss: 0.0061 - accuracy: 5.2967e-04\n",
            "Epoch 56/200\n",
            "178/178 [==============================] - 4s 24ms/step - loss: 0.0048 - accuracy: 9.5556e-04\n",
            "Epoch 57/200\n",
            "178/178 [==============================] - 4s 24ms/step - loss: 0.0050 - accuracy: 3.8310e-04\n",
            "Epoch 58/200\n",
            "178/178 [==============================] - 4s 25ms/step - loss: 0.0208 - accuracy: 0.0119\n",
            "Epoch 59/200\n",
            "178/178 [==============================] - 4s 25ms/step - loss: 0.0077 - accuracy: 0.0037\n",
            "Epoch 60/200\n",
            "178/178 [==============================] - 5s 26ms/step - loss: 0.0116 - accuracy: 0.0082\n",
            "Epoch 61/200\n",
            "178/178 [==============================] - 4s 24ms/step - loss: 0.0147 - accuracy: 0.0110\n",
            "Epoch 62/200\n",
            "178/178 [==============================] - 4s 24ms/step - loss: 0.0074 - accuracy: 0.0053\n",
            "Epoch 63/200\n",
            "178/178 [==============================] - 4s 24ms/step - loss: 0.0082 - accuracy: 0.0027\n",
            "Epoch 64/200\n",
            "178/178 [==============================] - 4s 24ms/step - loss: 0.0043 - accuracy: 3.4763e-04\n",
            "Epoch 65/200\n",
            "178/178 [==============================] - 4s 25ms/step - loss: 0.0103 - accuracy: 3.6531e-04\n",
            "Epoch 66/200\n",
            "178/178 [==============================] - 4s 25ms/step - loss: 0.0056 - accuracy: 9.3373e-04\n",
            "Epoch 67/200\n",
            "178/178 [==============================] - 4s 24ms/step - loss: 0.0067 - accuracy: 0.0016\n",
            "Epoch 68/200\n",
            "178/178 [==============================] - 4s 25ms/step - loss: 0.0062 - accuracy: 7.6503e-04\n",
            "Epoch 69/200\n",
            "178/178 [==============================] - 4s 25ms/step - loss: 0.0110 - accuracy: 2.6088e-04\n",
            "Epoch 70/200\n",
            "178/178 [==============================] - 4s 24ms/step - loss: 0.0108 - accuracy: 0.0133\n",
            "Epoch 71/200\n",
            "178/178 [==============================] - 4s 24ms/step - loss: 0.0059 - accuracy: 0.0013\n",
            "Epoch 72/200\n",
            "178/178 [==============================] - 4s 24ms/step - loss: 0.0091 - accuracy: 0.0055\n",
            "Epoch 73/200\n",
            "178/178 [==============================] - 4s 25ms/step - loss: 0.0082 - accuracy: 0.0014\n",
            "Epoch 74/200\n",
            "178/178 [==============================] - 4s 24ms/step - loss: 0.0063 - accuracy: 0.0055\n",
            "Epoch 75/200\n",
            "178/178 [==============================] - 4s 24ms/step - loss: 0.0062 - accuracy: 0.0025\n",
            "Epoch 76/200\n",
            "178/178 [==============================] - 4s 24ms/step - loss: 0.0045 - accuracy: 0.0022\n",
            "Epoch 77/200\n",
            "178/178 [==============================] - 4s 24ms/step - loss: 0.0047 - accuracy: 0.0040\n",
            "Epoch 78/200\n",
            "178/178 [==============================] - 4s 24ms/step - loss: 0.0065 - accuracy: 0.0012\n",
            "Epoch 79/200\n",
            "178/178 [==============================] - 4s 25ms/step - loss: 0.0029 - accuracy: 4.5542e-04\n",
            "Epoch 80/200\n",
            "178/178 [==============================] - 4s 24ms/step - loss: 0.0060 - accuracy: 0.0000e+00\n",
            "Epoch 81/200\n",
            "178/178 [==============================] - 4s 25ms/step - loss: 0.0091 - accuracy: 0.0000e+00\n",
            "Epoch 82/200\n",
            "178/178 [==============================] - 4s 24ms/step - loss: 0.0053 - accuracy: 0.0061\n",
            "Epoch 83/200\n",
            "178/178 [==============================] - 4s 24ms/step - loss: 0.0047 - accuracy: 2.2691e-04\n",
            "Epoch 84/200\n",
            "178/178 [==============================] - 4s 24ms/step - loss: 0.0044 - accuracy: 3.4763e-04\n",
            "Epoch 85/200\n",
            "178/178 [==============================] - 4s 24ms/step - loss: 0.0038 - accuracy: 9.9972e-04\n",
            "Epoch 86/200\n",
            "178/178 [==============================] - 4s 24ms/step - loss: 0.0044 - accuracy: 0.0032\n",
            "Epoch 87/200\n",
            "178/178 [==============================] - 4s 25ms/step - loss: 0.0122 - accuracy: 0.0067\n",
            "Epoch 88/200\n",
            "178/178 [==============================] - 4s 25ms/step - loss: 0.0041 - accuracy: 0.0035\n",
            "Epoch 89/200\n",
            "178/178 [==============================] - 4s 24ms/step - loss: 0.0035 - accuracy: 0.0012\n",
            "Epoch 90/200\n",
            "178/178 [==============================] - 4s 24ms/step - loss: 0.0080 - accuracy: 0.0000e+00\n",
            "Epoch 91/200\n",
            "178/178 [==============================] - 4s 24ms/step - loss: 0.0052 - accuracy: 0.0027\n",
            "Epoch 92/200\n",
            "178/178 [==============================] - 4s 25ms/step - loss: 0.0031 - accuracy: 0.0011\n",
            "Epoch 93/200\n",
            "178/178 [==============================] - 4s 25ms/step - loss: 0.0042 - accuracy: 0.0031\n",
            "Epoch 94/200\n",
            "178/178 [==============================] - 4s 24ms/step - loss: 0.0104 - accuracy: 0.0022\n",
            "Epoch 95/200\n",
            "178/178 [==============================] - 4s 24ms/step - loss: 0.0033 - accuracy: 0.0050\n",
            "Epoch 96/200\n",
            "178/178 [==============================] - 4s 25ms/step - loss: 0.0098 - accuracy: 2.6088e-04\n",
            "Epoch 97/200\n",
            "178/178 [==============================] - 4s 24ms/step - loss: 0.0045 - accuracy: 0.0018\n",
            "Epoch 98/200\n",
            "178/178 [==============================] - 4s 25ms/step - loss: 0.0046 - accuracy: 0.0035\n",
            "Epoch 99/200\n",
            "178/178 [==============================] - 4s 25ms/step - loss: 0.0039 - accuracy: 0.0017\n",
            "Epoch 100/200\n",
            "178/178 [==============================] - 4s 25ms/step - loss: 0.0028 - accuracy: 0.0040\n",
            "Epoch 101/200\n",
            "178/178 [==============================] - 4s 25ms/step - loss: 0.0050 - accuracy: 0.0026\n",
            "Epoch 102/200\n",
            "178/178 [==============================] - 4s 25ms/step - loss: 0.0033 - accuracy: 0.0047\n",
            "Epoch 103/200\n",
            "178/178 [==============================] - 5s 25ms/step - loss: 0.0069 - accuracy: 0.0020\n",
            "Epoch 104/200\n",
            "178/178 [==============================] - 4s 24ms/step - loss: 0.0062 - accuracy: 0.0097\n",
            "Epoch 105/200\n",
            "178/178 [==============================] - 4s 24ms/step - loss: 0.0050 - accuracy: 0.0050\n",
            "Epoch 106/200\n",
            "178/178 [==============================] - 4s 25ms/step - loss: 0.0033 - accuracy: 0.0042\n",
            "Epoch 107/200\n",
            "178/178 [==============================] - 4s 25ms/step - loss: 0.0056 - accuracy: 0.0014\n",
            "Epoch 108/200\n",
            "178/178 [==============================] - 4s 24ms/step - loss: 0.0035 - accuracy: 9.3373e-04\n",
            "Epoch 109/200\n",
            "178/178 [==============================] - 4s 24ms/step - loss: 0.0038 - accuracy: 0.0045\n",
            "Epoch 110/200\n",
            "178/178 [==============================] - 4s 25ms/step - loss: 0.0020 - accuracy: 4.0101e-04\n",
            "Epoch 111/200\n",
            "178/178 [==============================] - 4s 25ms/step - loss: 0.0064 - accuracy: 0.0026\n",
            "Epoch 112/200\n",
            "178/178 [==============================] - 4s 25ms/step - loss: 0.0022 - accuracy: 9.1208e-04\n",
            "Epoch 113/200\n",
            "178/178 [==============================] - 4s 25ms/step - loss: 0.0050 - accuracy: 0.0014\n",
            "Epoch 114/200\n",
            "178/178 [==============================] - 4s 25ms/step - loss: 0.0026 - accuracy: 0.0011\n",
            "Epoch 115/200\n",
            "178/178 [==============================] - 4s 25ms/step - loss: 0.0042 - accuracy: 7.8999e-05\n",
            "Epoch 116/200\n",
            "178/178 [==============================] - 4s 24ms/step - loss: 0.0062 - accuracy: 0.0070\n",
            "Epoch 117/200\n",
            "178/178 [==============================] - 4s 25ms/step - loss: 0.0061 - accuracy: 0.0018\n",
            "Epoch 118/200\n",
            "178/178 [==============================] - 4s 25ms/step - loss: 0.0040 - accuracy: 0.0010\n",
            "Epoch 119/200\n",
            "178/178 [==============================] - 4s 25ms/step - loss: 0.0030 - accuracy: 4.7380e-04\n",
            "Epoch 120/200\n",
            "178/178 [==============================] - 5s 25ms/step - loss: 0.0044 - accuracy: 0.0011\n",
            "Epoch 121/200\n",
            "178/178 [==============================] - 5s 27ms/step - loss: 0.0047 - accuracy: 0.0077\n",
            "Epoch 122/200\n",
            "178/178 [==============================] - 5s 27ms/step - loss: 0.0046 - accuracy: 0.0027\n",
            "Epoch 123/200\n",
            "178/178 [==============================] - 4s 25ms/step - loss: 0.0078 - accuracy: 0.0077\n",
            "Epoch 124/200\n",
            "178/178 [==============================] - 4s 25ms/step - loss: 0.0051 - accuracy: 0.0015\n",
            "Epoch 125/200\n",
            "178/178 [==============================] - 5s 26ms/step - loss: 0.0079 - accuracy: 0.0011\n",
            "Epoch 126/200\n",
            "178/178 [==============================] - 5s 26ms/step - loss: 0.0052 - accuracy: 0.0055\n",
            "Epoch 127/200\n",
            "178/178 [==============================] - 4s 25ms/step - loss: 0.0036 - accuracy: 5.8668e-04\n",
            "Epoch 128/200\n",
            "178/178 [==============================] - 5s 26ms/step - loss: 0.0051 - accuracy: 6.8435e-04\n",
            "Epoch 129/200\n",
            "178/178 [==============================] - 5s 27ms/step - loss: 0.0039 - accuracy: 0.0037\n",
            "Epoch 130/200\n",
            "178/178 [==============================] - 4s 25ms/step - loss: 0.0032 - accuracy: 0.0049\n",
            "Epoch 131/200\n",
            "178/178 [==============================] - 4s 24ms/step - loss: 0.0046 - accuracy: 0.0029\n",
            "Epoch 132/200\n",
            "178/178 [==============================] - 4s 25ms/step - loss: 0.0038 - accuracy: 0.0056\n",
            "Epoch 133/200\n",
            "178/178 [==============================] - 5s 25ms/step - loss: 0.0063 - accuracy: 0.0051\n",
            "Epoch 134/200\n",
            "178/178 [==============================] - 4s 25ms/step - loss: 0.0078 - accuracy: 0.0062\n",
            "Epoch 135/200\n",
            "178/178 [==============================] - 4s 25ms/step - loss: 0.0020 - accuracy: 9.9972e-04\n",
            "Epoch 136/200\n",
            "178/178 [==============================] - 5s 25ms/step - loss: 0.0054 - accuracy: 0.0020\n",
            "Epoch 137/200\n",
            "178/178 [==============================] - 4s 25ms/step - loss: 0.0037 - accuracy: 0.0021\n",
            "Epoch 138/200\n",
            "178/178 [==============================] - 4s 25ms/step - loss: 0.0018 - accuracy: 0.0016\n",
            "Epoch 139/200\n",
            "178/178 [==============================] - 4s 25ms/step - loss: 0.0064 - accuracy: 0.0049\n",
            "Epoch 140/200\n",
            "178/178 [==============================] - 4s 25ms/step - loss: 0.0036 - accuracy: 2.6088e-04\n",
            "Epoch 141/200\n",
            "178/178 [==============================] - 4s 25ms/step - loss: 0.0041 - accuracy: 0.0056\n",
            "Epoch 142/200\n",
            "178/178 [==============================] - 4s 25ms/step - loss: 0.0022 - accuracy: 0.0012\n",
            "Epoch 143/200\n",
            "178/178 [==============================] - 4s 25ms/step - loss: 0.0096 - accuracy: 0.0016\n",
            "Epoch 144/200\n",
            "178/178 [==============================] - 5s 26ms/step - loss: 0.0036 - accuracy: 8.6927e-04\n",
            "Epoch 145/200\n",
            "178/178 [==============================] - 4s 25ms/step - loss: 0.0047 - accuracy: 0.0018\n",
            "Epoch 146/200\n",
            "178/178 [==============================] - 5s 26ms/step - loss: 0.0077 - accuracy: 0.0133\n",
            "Epoch 147/200\n",
            "178/178 [==============================] - 5s 26ms/step - loss: 0.0054 - accuracy: 0.0027\n",
            "Epoch 148/200\n",
            "178/178 [==============================] - 4s 25ms/step - loss: 0.0036 - accuracy: 5.1092e-04\n",
            "Epoch 149/200\n",
            "178/178 [==============================] - 4s 25ms/step - loss: 0.0026 - accuracy: 0.0024\n",
            "Epoch 150/200\n",
            "178/178 [==============================] - 4s 25ms/step - loss: 0.0057 - accuracy: 6.0594e-04\n",
            "Epoch 151/200\n",
            "178/178 [==============================] - 5s 26ms/step - loss: 0.0022 - accuracy: 0.0021\n",
            "Epoch 152/200\n",
            "178/178 [==============================] - 4s 25ms/step - loss: 0.0054 - accuracy: 4.0101e-04\n",
            "Epoch 153/200\n",
            "178/178 [==============================] - 5s 25ms/step - loss: 0.0023 - accuracy: 0.0031\n",
            "Epoch 154/200\n",
            "178/178 [==============================] - 5s 25ms/step - loss: 0.0040 - accuracy: 0.0029\n",
            "Epoch 155/200\n",
            "178/178 [==============================] - 5s 26ms/step - loss: 0.0037 - accuracy: 0.0014\n",
            "Epoch 156/200\n",
            "178/178 [==============================] - 5s 26ms/step - loss: 0.0044 - accuracy: 0.0012\n",
            "Epoch 157/200\n",
            "178/178 [==============================] - 5s 25ms/step - loss: 0.0022 - accuracy: 0.0070\n",
            "Epoch 158/200\n",
            "178/178 [==============================] - 5s 25ms/step - loss: 0.0075 - accuracy: 0.0011\n",
            "Epoch 159/200\n",
            "178/178 [==============================] - 5s 25ms/step - loss: 0.0018 - accuracy: 0.0034\n",
            "Epoch 160/200\n",
            "178/178 [==============================] - 5s 25ms/step - loss: 0.0036 - accuracy: 6.4487e-04\n",
            "Epoch 161/200\n",
            "178/178 [==============================] - 5s 26ms/step - loss: 0.0027 - accuracy: 0.0019\n",
            "Epoch 162/200\n",
            "178/178 [==============================] - 5s 26ms/step - loss: 0.0042 - accuracy: 2.6088e-04\n",
            "Epoch 163/200\n",
            "178/178 [==============================] - 5s 26ms/step - loss: 0.0033 - accuracy: 0.0027\n",
            "Epoch 164/200\n",
            "178/178 [==============================] - 5s 26ms/step - loss: 0.0015 - accuracy: 0.0034\n",
            "Epoch 165/200\n",
            "178/178 [==============================] - 5s 26ms/step - loss: 0.0027 - accuracy: 0.0011\n",
            "Epoch 166/200\n",
            "178/178 [==============================] - 4s 25ms/step - loss: 0.0019 - accuracy: 0.0065\n",
            "Epoch 167/200\n",
            "178/178 [==============================] - 4s 25ms/step - loss: 0.0012 - accuracy: 3.1260e-04\n",
            "Epoch 168/200\n",
            "178/178 [==============================] - 4s 25ms/step - loss: 0.0034 - accuracy: 6.0594e-04\n",
            "Epoch 169/200\n",
            "178/178 [==============================] - 4s 25ms/step - loss: 0.0047 - accuracy: 0.0079\n",
            "Epoch 170/200\n",
            "178/178 [==============================] - 4s 25ms/step - loss: 0.0018 - accuracy: 0.0016\n",
            "Epoch 171/200\n",
            "178/178 [==============================] - 4s 25ms/step - loss: 0.0061 - accuracy: 0.0085\n",
            "Epoch 172/200\n",
            "178/178 [==============================] - 4s 25ms/step - loss: 0.0051 - accuracy: 1.4377e-04\n",
            "Epoch 173/200\n",
            "178/178 [==============================] - 4s 25ms/step - loss: 0.0024 - accuracy: 0.0045\n",
            "Epoch 174/200\n",
            "178/178 [==============================] - 4s 25ms/step - loss: 0.0034 - accuracy: 0.0015\n",
            "Epoch 175/200\n",
            "178/178 [==============================] - 4s 24ms/step - loss: 0.0035 - accuracy: 0.0093\n",
            "Epoch 176/200\n",
            "178/178 [==============================] - 4s 25ms/step - loss: 0.0030 - accuracy: 0.0024\n",
            "Epoch 177/200\n",
            "178/178 [==============================] - 4s 25ms/step - loss: 0.0035 - accuracy: 7.8557e-04\n",
            "Epoch 178/200\n",
            "178/178 [==============================] - 4s 24ms/step - loss: 0.0019 - accuracy: 1.7673e-04\n",
            "Epoch 179/200\n",
            "178/178 [==============================] - 4s 25ms/step - loss: 0.0034 - accuracy: 0.0010\n",
            "Epoch 180/200\n",
            "178/178 [==============================] - 4s 25ms/step - loss: 0.0047 - accuracy: 2.9525e-04\n",
            "Epoch 181/200\n",
            "178/178 [==============================] - 4s 25ms/step - loss: 0.0050 - accuracy: 0.0038\n",
            "Epoch 182/200\n",
            "178/178 [==============================] - 4s 25ms/step - loss: 0.0063 - accuracy: 9.5053e-05\n",
            "Epoch 183/200\n",
            "178/178 [==============================] - 4s 25ms/step - loss: 0.0015 - accuracy: 0.0021\n",
            "Epoch 184/200\n",
            "178/178 [==============================] - 4s 25ms/step - loss: 0.0064 - accuracy: 7.4464e-04\n",
            "Epoch 185/200\n",
            "178/178 [==============================] - 4s 24ms/step - loss: 0.0023 - accuracy: 0.0015\n",
            "Epoch 186/200\n",
            "178/178 [==============================] - 4s 25ms/step - loss: 0.0017 - accuracy: 0.0035\n",
            "Epoch 187/200\n",
            "178/178 [==============================] - 4s 25ms/step - loss: 0.0016 - accuracy: 5.4854e-04\n",
            "Epoch 188/200\n",
            "178/178 [==============================] - 4s 25ms/step - loss: 0.0132 - accuracy: 0.0017\n",
            "Epoch 189/200\n",
            "178/178 [==============================] - 4s 25ms/step - loss: 0.0030 - accuracy: 0.0038\n",
            "Epoch 190/200\n",
            "178/178 [==============================] - 5s 27ms/step - loss: 0.0073 - accuracy: 0.0018\n",
            "Epoch 191/200\n",
            "178/178 [==============================] - 5s 27ms/step - loss: 8.8256e-04 - accuracy: 0.0040\n",
            "Epoch 192/200\n",
            "178/178 [==============================] - 4s 25ms/step - loss: 0.0059 - accuracy: 0.0018\n",
            "Epoch 193/200\n",
            "178/178 [==============================] - 4s 25ms/step - loss: 0.0025 - accuracy: 6.2534e-04\n",
            "Epoch 194/200\n",
            "178/178 [==============================] - 4s 25ms/step - loss: 0.0036 - accuracy: 0.0050\n",
            "Epoch 195/200\n",
            "178/178 [==============================] - 4s 25ms/step - loss: 0.0062 - accuracy: 2.7801e-04\n",
            "Epoch 196/200\n",
            "178/178 [==============================] - 5s 25ms/step - loss: 0.0010 - accuracy: 0.0077\n",
            "Epoch 197/200\n",
            "178/178 [==============================] - 5s 26ms/step - loss: 0.0025 - accuracy: 0.0077\n",
            "Epoch 198/200\n",
            "178/178 [==============================] - 4s 25ms/step - loss: 0.0018 - accuracy: 0.0055\n",
            "Epoch 199/200\n",
            "178/178 [==============================] - 4s 25ms/step - loss: 0.0030 - accuracy: 0.0059\n",
            "Epoch 200/200\n",
            "178/178 [==============================] - 4s 25ms/step - loss: 0.0050 - accuracy: 0.0016\n"
          ],
          "name": "stdout"
        },
        {
          "output_type": "execute_result",
          "data": {
            "text/plain": [
              "<tensorflow.python.keras.callbacks.History at 0x7f92145d0910>"
            ]
          },
          "metadata": {
            "tags": []
          },
          "execution_count": 66
        }
      ]
    },
    {
      "cell_type": "code",
      "metadata": {
        "colab": {
          "base_uri": "https://localhost:8080/"
        },
        "id": "AGNo2p3hy1Bf",
        "outputId": "6f47effe-6b41-4469-ac2d-1fbd9fa08c5e"
      },
      "source": [
        "first_eval_5 = scaled_train[-20:]\n",
        "\n",
        "\n",
        "first_eval_5 = first_eval_5.reshape(1, n_input, n_feacture)\n",
        "\n",
        "model_5.predict(first_eval_5)"
      ],
      "execution_count": 67,
      "outputs": [
        {
          "output_type": "execute_result",
          "data": {
            "text/plain": [
              "array([[0.18385735]], dtype=float32)"
            ]
          },
          "metadata": {
            "tags": []
          },
          "execution_count": 67
        }
      ]
    },
    {
      "cell_type": "code",
      "metadata": {
        "id": "DY2AjL6Dy1Bj"
      },
      "source": [
        "test_predictions_5 = []\n",
        "\n",
        "first_eval_batch = scaled_train[-n_input:]\n",
        "current_batch = first_eval_5.reshape((1, n_input, n_feacture))\n",
        "\n",
        "for i in range(len(test)):\n",
        "    \n",
        "    # obtener la predicción ([0] es para obtener solo el número en lugar de [matriz])\n",
        "    current_pred = model_5.predict(current_batch)[0]\n",
        "    \n",
        "    # guardar la predicción\n",
        "    test_predictions_5.append(current_pred) \n",
        "    \n",
        "    # actualizar el lote para incluir ahora la predicción y soltar primer valor\n",
        "    current_batch = np.append(current_batch[:,1:,:],[[current_pred]],axis=1)"
      ],
      "execution_count": 68,
      "outputs": []
    },
    {
      "cell_type": "code",
      "metadata": {
        "colab": {
          "base_uri": "https://localhost:8080/"
        },
        "id": "BfYbgcfKy1Bk",
        "outputId": "9148a8b1-de49-4463-eaa0-ae2324fe4703"
      },
      "source": [
        "#Transofmacion inversa\n",
        "true_predicctions_5 = scaler.inverse_transform(test_predictions_5)\n",
        "\n",
        "\n",
        "test['Prediction_5'] = true_predicctions_5"
      ],
      "execution_count": 69,
      "outputs": [
        {
          "output_type": "stream",
          "text": [
            "/usr/local/lib/python3.7/dist-packages/ipykernel_launcher.py:5: SettingWithCopyWarning: \n",
            "A value is trying to be set on a copy of a slice from a DataFrame.\n",
            "Try using .loc[row_indexer,col_indexer] = value instead\n",
            "\n",
            "See the caveats in the documentation: https://pandas.pydata.org/pandas-docs/stable/user_guide/indexing.html#returning-a-view-versus-a-copy\n",
            "  \"\"\"\n"
          ],
          "name": "stderr"
        }
      ]
    },
    {
      "cell_type": "code",
      "metadata": {
        "colab": {
          "base_uri": "https://localhost:8080/",
          "height": 537
        },
        "id": "7zKpUdgdy1Bm",
        "outputId": "0fb654a8-bcf4-40f0-f153-626ea72038d6"
      },
      "source": [
        "test[['new_cases', 'Prediction_5']].plot(figsize=(12,8))"
      ],
      "execution_count": 70,
      "outputs": [
        {
          "output_type": "execute_result",
          "data": {
            "text/plain": [
              "<matplotlib.axes._subplots.AxesSubplot at 0x7f92130d2f90>"
            ]
          },
          "metadata": {
            "tags": []
          },
          "execution_count": 70
        },
        {
          "output_type": "display_data",
          "data": {
            "image/png": "[encoded data removed]",
            "text/plain": [
              "<Figure size 864x576 with 1 Axes>"
            ]
          },
          "metadata": {
            "tags": [],
            "needs_background": "light"
          }
        }
      ]
    },
    {
      "cell_type": "code",
      "metadata": {
        "colab": {
          "base_uri": "https://localhost:8080/",
          "height": 700
        },
        "id": "FkIhRrkTy1Bn",
        "outputId": "3c227e33-7d7f-4ac2-82f1-864818ed5f8b"
      },
      "source": [
        "#Observacion de los test y la predicciones\n",
        "test"
      ],
      "execution_count": 71,
      "outputs": [
        {
          "output_type": "execute_result",
          "data": {
            "text/html": [
              "<div>\n",
              "<style scoped>\n",
              "    .dataframe tbody tr th:only-of-type {\n",
              "        vertical-align: middle;\n",
              "    }\n",
              "\n",
              "    .dataframe tbody tr th {\n",
              "        vertical-align: top;\n",
              "    }\n",
              "\n",
              "    .dataframe thead th {\n",
              "        text-align: right;\n",
              "    }\n",
              "</style>\n",
              "<table border=\"1\" class=\"dataframe\">\n",
              "  <thead>\n",
              "    <tr style=\"text-align: right;\">\n",
              "      <th></th>\n",
              "      <th>new_cases</th>\n",
              "      <th>Prediction</th>\n",
              "      <th>Prediction_2</th>\n",
              "      <th>Prediction_3</th>\n",
              "      <th>Prediction_5</th>\n",
              "    </tr>\n",
              "    <tr>\n",
              "      <th>date</th>\n",
              "      <th></th>\n",
              "      <th></th>\n",
              "      <th></th>\n",
              "      <th></th>\n",
              "      <th></th>\n",
              "    </tr>\n",
              "  </thead>\n",
              "  <tbody>\n",
              "    <tr>\n",
              "      <th>2021-03-10</th>\n",
              "      <td>6602.0</td>\n",
              "      <td>8117.574278</td>\n",
              "      <td>5891.071155</td>\n",
              "      <td>6488.084496</td>\n",
              "      <td>5169.149439</td>\n",
              "    </tr>\n",
              "    <tr>\n",
              "      <th>2021-03-11</th>\n",
              "      <td>6469.0</td>\n",
              "      <td>9129.992834</td>\n",
              "      <td>5959.243748</td>\n",
              "      <td>6534.763895</td>\n",
              "      <td>5655.546753</td>\n",
              "    </tr>\n",
              "    <tr>\n",
              "      <th>2021-03-12</th>\n",
              "      <td>6816.0</td>\n",
              "      <td>10234.787339</td>\n",
              "      <td>6032.689197</td>\n",
              "      <td>6500.475248</td>\n",
              "      <td>5703.138198</td>\n",
              "    </tr>\n",
              "    <tr>\n",
              "      <th>2021-03-13</th>\n",
              "      <td>6104.0</td>\n",
              "      <td>11280.778563</td>\n",
              "      <td>6106.416178</td>\n",
              "      <td>5548.327542</td>\n",
              "      <td>5704.762452</td>\n",
              "    </tr>\n",
              "    <tr>\n",
              "      <th>2021-03-14</th>\n",
              "      <td>2415.0</td>\n",
              "      <td>12408.137508</td>\n",
              "      <td>6188.936838</td>\n",
              "      <td>4167.015173</td>\n",
              "      <td>4489.504835</td>\n",
              "    </tr>\n",
              "    <tr>\n",
              "      <th>2021-03-15</th>\n",
              "      <td>1439.0</td>\n",
              "      <td>12728.028866</td>\n",
              "      <td>6272.836669</td>\n",
              "      <td>4574.033923</td>\n",
              "      <td>3188.826193</td>\n",
              "    </tr>\n",
              "    <tr>\n",
              "      <th>2021-03-16</th>\n",
              "      <td>1278.0</td>\n",
              "      <td>11513.550908</td>\n",
              "      <td>6344.789413</td>\n",
              "      <td>5957.935379</td>\n",
              "      <td>4105.755192</td>\n",
              "    </tr>\n",
              "    <tr>\n",
              "      <th>2021-03-17</th>\n",
              "      <td>6455.0</td>\n",
              "      <td>8803.365660</td>\n",
              "      <td>6416.479478</td>\n",
              "      <td>6068.575705</td>\n",
              "      <td>4361.793710</td>\n",
              "    </tr>\n",
              "    <tr>\n",
              "      <th>2021-03-18</th>\n",
              "      <td>6726.0</td>\n",
              "      <td>8685.789261</td>\n",
              "      <td>6488.343405</td>\n",
              "      <td>6095.984837</td>\n",
              "      <td>4223.233556</td>\n",
              "    </tr>\n",
              "    <tr>\n",
              "      <th>2021-03-19</th>\n",
              "      <td>5722.0</td>\n",
              "      <td>13110.498209</td>\n",
              "      <td>6561.877252</td>\n",
              "      <td>6049.660286</td>\n",
              "      <td>4628.925504</td>\n",
              "    </tr>\n",
              "    <tr>\n",
              "      <th>2021-03-20</th>\n",
              "      <td>5729.0</td>\n",
              "      <td>16987.363012</td>\n",
              "      <td>6635.693049</td>\n",
              "      <td>5514.930830</td>\n",
              "      <td>4610.015532</td>\n",
              "    </tr>\n",
              "    <tr>\n",
              "      <th>2021-03-21</th>\n",
              "      <td>2133.0</td>\n",
              "      <td>21994.429727</td>\n",
              "      <td>6717.403049</td>\n",
              "      <td>4945.460684</td>\n",
              "      <td>3645.353904</td>\n",
              "    </tr>\n",
              "    <tr>\n",
              "      <th>2021-03-22</th>\n",
              "      <td>1388.0</td>\n",
              "      <td>26136.402813</td>\n",
              "      <td>6799.640083</td>\n",
              "      <td>5107.525812</td>\n",
              "      <td>3278.702082</td>\n",
              "    </tr>\n",
              "    <tr>\n",
              "      <th>2021-03-23</th>\n",
              "      <td>5881.0</td>\n",
              "      <td>26645.259830</td>\n",
              "      <td>6871.403463</td>\n",
              "      <td>5839.014582</td>\n",
              "      <td>3897.773985</td>\n",
              "    </tr>\n",
              "    <tr>\n",
              "      <th>2021-03-24</th>\n",
              "      <td>5714.0</td>\n",
              "      <td>18451.452436</td>\n",
              "      <td>6942.987534</td>\n",
              "      <td>5934.195376</td>\n",
              "      <td>3918.999473</td>\n",
              "    </tr>\n",
              "    <tr>\n",
              "      <th>2021-03-25</th>\n",
              "      <td>5787.0</td>\n",
              "      <td>10396.839898</td>\n",
              "      <td>7014.765159</td>\n",
              "      <td>6033.639367</td>\n",
              "      <td>4092.650137</td>\n",
              "    </tr>\n",
              "    <tr>\n",
              "      <th>2021-03-26</th>\n",
              "      <td>5303.0</td>\n",
              "      <td>26299.533739</td>\n",
              "      <td>7087.615285</td>\n",
              "      <td>6095.484616</td>\n",
              "      <td>3607.631574</td>\n",
              "    </tr>\n",
              "    <tr>\n",
              "      <th>2021-03-27</th>\n",
              "      <td>5059.0</td>\n",
              "      <td>43895.447869</td>\n",
              "      <td>7160.611624</td>\n",
              "      <td>5833.613110</td>\n",
              "      <td>3175.382421</td>\n",
              "    </tr>\n",
              "    <tr>\n",
              "      <th>2021-03-28</th>\n",
              "      <td>1646.0</td>\n",
              "      <td>62260.713028</td>\n",
              "      <td>7240.244070</td>\n",
              "      <td>5220.144401</td>\n",
              "      <td>3290.772758</td>\n",
              "    </tr>\n",
              "    <tr>\n",
              "      <th>2021-03-29</th>\n",
              "      <td>1293.0</td>\n",
              "      <td>74906.082981</td>\n",
              "      <td>7320.869418</td>\n",
              "      <td>5390.660511</td>\n",
              "      <td>4019.890084</td>\n",
              "    </tr>\n",
              "  </tbody>\n",
              "</table>\n",
              "</div>"
            ],
            "text/plain": [
              "            new_cases    Prediction  Prediction_2  Prediction_3  Prediction_5\n",
              "date                                                                         \n",
              "2021-03-10     6602.0   8117.574278   5891.071155   6488.084496   5169.149439\n",
              "2021-03-11     6469.0   9129.992834   5959.243748   6534.763895   5655.546753\n",
              "2021-03-12     6816.0  10234.787339   6032.689197   6500.475248   5703.138198\n",
              "2021-03-13     6104.0  11280.778563   6106.416178   5548.327542   5704.762452\n",
              "2021-03-14     2415.0  12408.137508   6188.936838   4167.015173   4489.504835\n",
              "2021-03-15     1439.0  12728.028866   6272.836669   4574.033923   3188.826193\n",
              "2021-03-16     1278.0  11513.550908   6344.789413   5957.935379   4105.755192\n",
              "2021-03-17     6455.0   8803.365660   6416.479478   6068.575705   4361.793710\n",
              "2021-03-18     6726.0   8685.789261   6488.343405   6095.984837   4223.233556\n",
              "2021-03-19     5722.0  13110.498209   6561.877252   6049.660286   4628.925504\n",
              "2021-03-20     5729.0  16987.363012   6635.693049   5514.930830   4610.015532\n",
              "2021-03-21     2133.0  21994.429727   6717.403049   4945.460684   3645.353904\n",
              "2021-03-22     1388.0  26136.402813   6799.640083   5107.525812   3278.702082\n",
              "2021-03-23     5881.0  26645.259830   6871.403463   5839.014582   3897.773985\n",
              "2021-03-24     5714.0  18451.452436   6942.987534   5934.195376   3918.999473\n",
              "2021-03-25     5787.0  10396.839898   7014.765159   6033.639367   4092.650137\n",
              "2021-03-26     5303.0  26299.533739   7087.615285   6095.484616   3607.631574\n",
              "2021-03-27     5059.0  43895.447869   7160.611624   5833.613110   3175.382421\n",
              "2021-03-28     1646.0  62260.713028   7240.244070   5220.144401   3290.772758\n",
              "2021-03-29     1293.0  74906.082981   7320.869418   5390.660511   4019.890084"
            ]
          },
          "metadata": {
            "tags": []
          },
          "execution_count": 71
        }
      ]
    },
    {
      "cell_type": "markdown",
      "metadata": {
        "id": "y-5472Ge4Uuz"
      },
      "source": [
        "# **Modelo 6**"
      ]
    },
    {
      "cell_type": "code",
      "metadata": {
        "id": "QKOkH5Pf4Xhc"
      },
      "source": [
        ""
      ],
      "execution_count": 71,
      "outputs": []
    },
    {
      "cell_type": "code",
      "metadata": {
        "id": "w_eKeRtq4jzN"
      },
      "source": [
        "# Red neuronal 6\n",
        "# 5 Capas\n",
        "# relu para activacion de cada capa\n",
        "# adam para compilacion y mse para loss\n",
        "\n",
        "#Red sequential\n",
        "model_6 = Sequential()\n",
        "\n",
        "#Red nueronal con 4 capas, cada capa tiene dierente cantidad de nueronas\n",
        "model_6.add(LSTM(200, activation='relu', input_shape=(n_input, n_feacture)))\n",
        "model_6.add(Dense(150, activation='relu' ))\n",
        "model_6.add(Dense(100, activation='relu'))\n",
        "model_6.add(Dense(80, activation='relu'))\n",
        "model_6.add(Dense(64, activation='relu'))\n",
        "model_6.add(Dense(32, activation='sigmoid'))\n",
        "model_6.add(Dense(1))\n",
        "\n",
        "#Compilacion de la red nueronal\n",
        "model_6.compile(optimizer='adam', loss='mean_squared_error',\n",
        "                metrics=[\"accuracy\"])"
      ],
      "execution_count": 72,
      "outputs": []
    },
    {
      "cell_type": "code",
      "metadata": {
        "colab": {
          "base_uri": "https://localhost:8080/"
        },
        "id": "c_Mxz5LM4jzS",
        "outputId": "955d59f2-cdab-4e1e-adde-587ffc5fa976"
      },
      "source": [
        "model_6.summary()"
      ],
      "execution_count": 73,
      "outputs": [
        {
          "output_type": "stream",
          "text": [
            "Model: \"sequential_5\"\n",
            "_________________________________________________________________\n",
            "Layer (type)                 Output Shape              Param #   \n",
            "=================================================================\n",
            "lstm_5 (LSTM)                (None, 200)               161600    \n",
            "_________________________________________________________________\n",
            "dense_21 (Dense)             (None, 150)               30150     \n",
            "_________________________________________________________________\n",
            "dense_22 (Dense)             (None, 100)               15100     \n",
            "_________________________________________________________________\n",
            "dense_23 (Dense)             (None, 80)                8080      \n",
            "_________________________________________________________________\n",
            "dense_24 (Dense)             (None, 64)                5184      \n",
            "_________________________________________________________________\n",
            "dense_25 (Dense)             (None, 32)                2080      \n",
            "_________________________________________________________________\n",
            "dense_26 (Dense)             (None, 1)                 33        \n",
            "=================================================================\n",
            "Total params: 222,227\n",
            "Trainable params: 222,227\n",
            "Non-trainable params: 0\n",
            "_________________________________________________________________\n"
          ],
          "name": "stdout"
        }
      ]
    },
    {
      "cell_type": "code",
      "metadata": {
        "colab": {
          "base_uri": "https://localhost:8080/"
        },
        "id": "VDN0xE8P4jzX",
        "outputId": "60748fdd-b5e5-4a8e-ae70-9a3f819eacf6"
      },
      "source": [
        "#Entrenando la red nueronal\n",
        "\n",
        "model_6.fit_generator(generator, epochs=250)"
      ],
      "execution_count": 74,
      "outputs": [
        {
          "output_type": "stream",
          "text": [
            "Epoch 1/250\n"
          ],
          "name": "stdout"
        },
        {
          "output_type": "stream",
          "text": [
            "/usr/local/lib/python3.7/dist-packages/tensorflow/python/keras/engine/training.py:1844: UserWarning: `Model.fit_generator` is deprecated and will be removed in a future version. Please use `Model.fit`, which supports generators.\n",
            "  warnings.warn('`Model.fit_generator` is deprecated and '\n"
          ],
          "name": "stderr"
        },
        {
          "output_type": "stream",
          "text": [
            "178/178 [==============================] - 6s 25ms/step - loss: 0.1481 - accuracy: 0.0097\n",
            "Epoch 2/250\n",
            "178/178 [==============================] - 4s 25ms/step - loss: 0.0126 - accuracy: 0.0027\n",
            "Epoch 3/250\n",
            "178/178 [==============================] - 4s 25ms/step - loss: 0.0124 - accuracy: 0.0012\n",
            "Epoch 4/250\n",
            "178/178 [==============================] - 4s 25ms/step - loss: 0.0114 - accuracy: 0.0013\n",
            "Epoch 5/250\n",
            "178/178 [==============================] - 4s 24ms/step - loss: 0.0100 - accuracy: 4.7380e-04\n",
            "Epoch 6/250\n",
            "178/178 [==============================] - 4s 24ms/step - loss: 0.0103 - accuracy: 0.0047\n",
            "Epoch 7/250\n",
            "178/178 [==============================] - 4s 24ms/step - loss: 0.0102 - accuracy: 0.0033\n",
            "Epoch 8/250\n",
            "178/178 [==============================] - 4s 24ms/step - loss: 0.0139 - accuracy: 0.0040\n",
            "Epoch 9/250\n",
            "178/178 [==============================] - 4s 24ms/step - loss: 0.0131 - accuracy: 0.0043\n",
            "Epoch 10/250\n",
            "178/178 [==============================] - 4s 24ms/step - loss: 0.0186 - accuracy: 0.0133\n",
            "Epoch 11/250\n",
            "178/178 [==============================] - 4s 24ms/step - loss: 0.0108 - accuracy: 0.0027\n",
            "Epoch 12/250\n",
            "178/178 [==============================] - 4s 24ms/step - loss: 0.0096 - accuracy: 0.0038\n",
            "Epoch 13/250\n",
            "178/178 [==============================] - 4s 25ms/step - loss: 0.0088 - accuracy: 8.6927e-04\n",
            "Epoch 14/250\n",
            "178/178 [==============================] - 4s 24ms/step - loss: 0.0137 - accuracy: 0.0040\n",
            "Epoch 15/250\n",
            "178/178 [==============================] - 4s 24ms/step - loss: 0.0159 - accuracy: 0.0018\n",
            "Epoch 16/250\n",
            "178/178 [==============================] - 4s 24ms/step - loss: 0.0151 - accuracy: 2.1009e-04\n",
            "Epoch 17/250\n",
            "178/178 [==============================] - 4s 24ms/step - loss: 0.0124 - accuracy: 9.9972e-04\n",
            "Epoch 18/250\n",
            "178/178 [==============================] - 4s 25ms/step - loss: 0.0104 - accuracy: 5.1092e-04\n",
            "Epoch 19/250\n",
            "178/178 [==============================] - 4s 24ms/step - loss: 0.0118 - accuracy: 0.0051\n",
            "Epoch 20/250\n",
            "178/178 [==============================] - 4s 24ms/step - loss: 0.0122 - accuracy: 2.9525e-04\n",
            "Epoch 21/250\n",
            "178/178 [==============================] - 4s 25ms/step - loss: 0.0074 - accuracy: 0.0013\n",
            "Epoch 22/250\n",
            "178/178 [==============================] - 4s 25ms/step - loss: 0.0094 - accuracy: 0.0013\n",
            "Epoch 23/250\n",
            "178/178 [==============================] - 4s 24ms/step - loss: 0.0112 - accuracy: 4.9230e-04\n",
            "Epoch 24/250\n",
            "178/178 [==============================] - 4s 24ms/step - loss: 0.0086 - accuracy: 8.0626e-04\n",
            "Epoch 25/250\n",
            "178/178 [==============================] - 4s 24ms/step - loss: 0.0125 - accuracy: 0.0000e+00\n",
            "Epoch 26/250\n",
            "178/178 [==============================] - 4s 25ms/step - loss: 0.0113 - accuracy: 0.0013\n",
            "Epoch 27/250\n",
            "178/178 [==============================] - 4s 25ms/step - loss: 0.0092 - accuracy: 0.0037\n",
            "Epoch 28/250\n",
            "178/178 [==============================] - 4s 24ms/step - loss: 0.0120 - accuracy: 2.4384e-04\n",
            "Epoch 29/250\n",
            "178/178 [==============================] - 4s 25ms/step - loss: 0.0120 - accuracy: 0.0000e+00\n",
            "Epoch 30/250\n",
            "178/178 [==============================] - 4s 25ms/step - loss: 0.0074 - accuracy: 4.7380e-04\n",
            "Epoch 31/250\n",
            "178/178 [==============================] - 4s 25ms/step - loss: 0.0118 - accuracy: 0.0012\n",
            "Epoch 32/250\n",
            "178/178 [==============================] - 4s 25ms/step - loss: 0.0069 - accuracy: 0.0015\n",
            "Epoch 33/250\n",
            "178/178 [==============================] - 4s 25ms/step - loss: 0.0113 - accuracy: 0.0044\n",
            "Epoch 34/250\n",
            "178/178 [==============================] - 4s 25ms/step - loss: 0.0097 - accuracy: 3.4763e-04\n",
            "Epoch 35/250\n",
            "178/178 [==============================] - 4s 25ms/step - loss: 0.0093 - accuracy: 0.0030\n",
            "Epoch 36/250\n",
            "178/178 [==============================] - 4s 25ms/step - loss: 0.0092 - accuracy: 0.0079\n",
            "Epoch 37/250\n",
            "178/178 [==============================] - 4s 24ms/step - loss: 0.0112 - accuracy: 7.8557e-04\n",
            "Epoch 38/250\n",
            "178/178 [==============================] - 4s 24ms/step - loss: 0.0081 - accuracy: 0.0057\n",
            "Epoch 39/250\n",
            "178/178 [==============================] - 4s 25ms/step - loss: 0.0113 - accuracy: 0.0033\n",
            "Epoch 40/250\n",
            "178/178 [==============================] - 4s 25ms/step - loss: 0.0151 - accuracy: 0.0061\n",
            "Epoch 41/250\n",
            "178/178 [==============================] - 4s 25ms/step - loss: 0.0084 - accuracy: 4.1903e-04\n",
            "Epoch 42/250\n",
            "178/178 [==============================] - 4s 24ms/step - loss: 0.0115 - accuracy: 0.0000e+00\n",
            "Epoch 43/250\n",
            "178/178 [==============================] - 4s 25ms/step - loss: 0.0105 - accuracy: 0.0038\n",
            "Epoch 44/250\n",
            "178/178 [==============================] - 4s 25ms/step - loss: 0.0155 - accuracy: 0.0050\n",
            "Epoch 45/250\n",
            "178/178 [==============================] - 4s 24ms/step - loss: 0.0073 - accuracy: 0.0000e+00\n",
            "Epoch 46/250\n",
            "178/178 [==============================] - 4s 25ms/step - loss: 0.0072 - accuracy: 0.0016\n",
            "Epoch 47/250\n",
            "178/178 [==============================] - 4s 25ms/step - loss: 0.0093 - accuracy: 0.0017\n",
            "Epoch 48/250\n",
            "178/178 [==============================] - 4s 25ms/step - loss: 0.0077 - accuracy: 0.0022\n",
            "Epoch 49/250\n",
            "178/178 [==============================] - 4s 25ms/step - loss: 0.0068 - accuracy: 0.0038\n",
            "Epoch 50/250\n",
            "178/178 [==============================] - 4s 25ms/step - loss: 0.0063 - accuracy: 0.0000e+00\n",
            "Epoch 51/250\n",
            "178/178 [==============================] - 4s 25ms/step - loss: 0.0089 - accuracy: 0.0000e+00\n",
            "Epoch 52/250\n",
            "178/178 [==============================] - 4s 24ms/step - loss: 0.0165 - accuracy: 2.6088e-04\n",
            "Epoch 53/250\n",
            "178/178 [==============================] - 4s 25ms/step - loss: 0.0074 - accuracy: 3.4763e-04\n",
            "Epoch 54/250\n",
            "178/178 [==============================] - 4s 25ms/step - loss: 0.0059 - accuracy: 8.9059e-04\n",
            "Epoch 55/250\n",
            "178/178 [==============================] - 4s 24ms/step - loss: 0.0080 - accuracy: 0.0000e+00\n",
            "Epoch 56/250\n",
            "178/178 [==============================] - 4s 24ms/step - loss: 0.0058 - accuracy: 0.0000e+00\n",
            "Epoch 57/250\n",
            "178/178 [==============================] - 4s 24ms/step - loss: 0.0063 - accuracy: 0.0000e+00\n",
            "Epoch 58/250\n",
            "178/178 [==============================] - 4s 25ms/step - loss: 0.0111 - accuracy: 0.0019\n",
            "Epoch 59/250\n",
            "178/178 [==============================] - 5s 27ms/step - loss: 0.0049 - accuracy: 0.0027\n",
            "Epoch 60/250\n",
            "178/178 [==============================] - 5s 26ms/step - loss: 0.0065 - accuracy: 0.0012\n",
            "Epoch 61/250\n",
            "178/178 [==============================] - 5s 26ms/step - loss: 0.0049 - accuracy: 2.2691e-04\n",
            "Epoch 62/250\n",
            "178/178 [==============================] - 4s 25ms/step - loss: 0.0054 - accuracy: 0.0032\n",
            "Epoch 63/250\n",
            "178/178 [==============================] - 4s 25ms/step - loss: 0.0046 - accuracy: 1.6021e-04\n",
            "Epoch 64/250\n",
            "178/178 [==============================] - 4s 25ms/step - loss: 0.0058 - accuracy: 0.0013\n",
            "Epoch 65/250\n",
            "178/178 [==============================] - 5s 27ms/step - loss: 0.0042 - accuracy: 3.1260e-04\n",
            "Epoch 66/250\n",
            "178/178 [==============================] - 5s 25ms/step - loss: 0.0037 - accuracy: 0.0000e+00\n",
            "Epoch 67/250\n",
            "178/178 [==============================] - 4s 25ms/step - loss: 0.0054 - accuracy: 3.1385e-05\n",
            "Epoch 68/250\n",
            "178/178 [==============================] - 4s 24ms/step - loss: 0.0046 - accuracy: 0.0037\n",
            "Epoch 69/250\n",
            "178/178 [==============================] - 4s 25ms/step - loss: 0.0072 - accuracy: 0.0017\n",
            "Epoch 70/250\n",
            "178/178 [==============================] - 4s 25ms/step - loss: 0.0040 - accuracy: 0.0025\n",
            "Epoch 71/250\n",
            "178/178 [==============================] - 4s 25ms/step - loss: 0.0047 - accuracy: 0.0045\n",
            "Epoch 72/250\n",
            "178/178 [==============================] - 4s 25ms/step - loss: 0.0038 - accuracy: 5.8668e-04\n",
            "Epoch 73/250\n",
            "178/178 [==============================] - 4s 25ms/step - loss: 0.0049 - accuracy: 0.0044\n",
            "Epoch 74/250\n",
            "178/178 [==============================] - 4s 25ms/step - loss: 0.0110 - accuracy: 0.0103\n",
            "Epoch 75/250\n",
            "178/178 [==============================] - 4s 25ms/step - loss: 0.0048 - accuracy: 0.0021\n",
            "Epoch 76/250\n",
            "178/178 [==============================] - 4s 25ms/step - loss: 0.0087 - accuracy: 0.0067\n",
            "Epoch 77/250\n",
            "178/178 [==============================] - 4s 25ms/step - loss: 0.0085 - accuracy: 4.7167e-05\n",
            "Epoch 78/250\n",
            "178/178 [==============================] - 4s 25ms/step - loss: 0.0072 - accuracy: 0.0028\n",
            "Epoch 79/250\n",
            "178/178 [==============================] - 4s 25ms/step - loss: 0.0073 - accuracy: 0.0000e+00\n",
            "Epoch 80/250\n",
            "178/178 [==============================] - 4s 25ms/step - loss: 0.0059 - accuracy: 0.0062\n",
            "Epoch 81/250\n",
            "178/178 [==============================] - 4s 25ms/step - loss: 0.0076 - accuracy: 0.0013\n",
            "Epoch 82/250\n",
            "178/178 [==============================] - 4s 25ms/step - loss: 0.0064 - accuracy: 0.0018\n",
            "Epoch 83/250\n",
            "178/178 [==============================] - 4s 25ms/step - loss: 0.0053 - accuracy: 2.4384e-04\n",
            "Epoch 84/250\n",
            "178/178 [==============================] - 4s 25ms/step - loss: 0.0052 - accuracy: 0.0019\n",
            "Epoch 85/250\n",
            "178/178 [==============================] - 4s 25ms/step - loss: 0.0056 - accuracy: 0.0034\n",
            "Epoch 86/250\n",
            "178/178 [==============================] - 4s 25ms/step - loss: 0.0028 - accuracy: 8.2711e-04\n",
            "Epoch 87/250\n",
            "178/178 [==============================] - 4s 25ms/step - loss: 0.0051 - accuracy: 0.0037\n",
            "Epoch 88/250\n",
            "178/178 [==============================] - 4s 25ms/step - loss: 0.0033 - accuracy: 4.3717e-04\n",
            "Epoch 89/250\n",
            "178/178 [==============================] - 4s 25ms/step - loss: 0.0053 - accuracy: 0.0000e+00\n",
            "Epoch 90/250\n",
            "178/178 [==============================] - 4s 25ms/step - loss: 0.0044 - accuracy: 0.0074\n",
            "Epoch 91/250\n",
            "178/178 [==============================] - 4s 25ms/step - loss: 0.0029 - accuracy: 3.8310e-04\n",
            "Epoch 92/250\n",
            "178/178 [==============================] - 4s 25ms/step - loss: 0.0038 - accuracy: 0.0033\n",
            "Epoch 93/250\n",
            "178/178 [==============================] - 4s 25ms/step - loss: 0.0044 - accuracy: 0.0097\n",
            "Epoch 94/250\n",
            "178/178 [==============================] - 4s 25ms/step - loss: 0.0045 - accuracy: 4.5542e-04\n",
            "Epoch 95/250\n",
            "178/178 [==============================] - 5s 25ms/step - loss: 0.0044 - accuracy: 1.1120e-04\n",
            "Epoch 96/250\n",
            "178/178 [==============================] - 5s 25ms/step - loss: 0.0069 - accuracy: 0.0020\n",
            "Epoch 97/250\n",
            "178/178 [==============================] - 4s 25ms/step - loss: 0.0026 - accuracy: 6.6454e-04\n",
            "Epoch 98/250\n",
            "178/178 [==============================] - 4s 25ms/step - loss: 0.0021 - accuracy: 0.0019\n",
            "Epoch 99/250\n",
            "178/178 [==============================] - 4s 25ms/step - loss: 0.0095 - accuracy: 0.0015\n",
            "Epoch 100/250\n",
            "178/178 [==============================] - 4s 25ms/step - loss: 0.0042 - accuracy: 4.1903e-04\n",
            "Epoch 101/250\n",
            "178/178 [==============================] - 5s 25ms/step - loss: 0.0032 - accuracy: 0.0031\n",
            "Epoch 102/250\n",
            "178/178 [==============================] - 5s 25ms/step - loss: 0.0027 - accuracy: 0.0014\n",
            "Epoch 103/250\n",
            "178/178 [==============================] - 5s 26ms/step - loss: 0.0029 - accuracy: 0.0019\n",
            "Epoch 104/250\n",
            "178/178 [==============================] - 4s 25ms/step - loss: 0.0039 - accuracy: 0.0034\n",
            "Epoch 105/250\n",
            "178/178 [==============================] - 5s 25ms/step - loss: 0.0081 - accuracy: 3.8310e-04\n",
            "Epoch 106/250\n",
            "178/178 [==============================] - 4s 25ms/step - loss: 0.0050 - accuracy: 0.0044\n",
            "Epoch 107/250\n",
            "178/178 [==============================] - 4s 25ms/step - loss: 0.0050 - accuracy: 5.2967e-04\n",
            "Epoch 108/250\n",
            "178/178 [==============================] - 4s 25ms/step - loss: 0.0075 - accuracy: 0.0050\n",
            "Epoch 109/250\n",
            "178/178 [==============================] - 4s 25ms/step - loss: 0.0031 - accuracy: 0.0072\n",
            "Epoch 110/250\n",
            "178/178 [==============================] - 4s 25ms/step - loss: 0.0047 - accuracy: 0.0027\n",
            "Epoch 111/250\n",
            "178/178 [==============================] - 4s 25ms/step - loss: 0.0026 - accuracy: 8.2711e-04\n",
            "Epoch 112/250\n",
            "178/178 [==============================] - 5s 25ms/step - loss: 0.0030 - accuracy: 0.0032\n",
            "Epoch 113/250\n",
            "178/178 [==============================] - 5s 25ms/step - loss: 0.0054 - accuracy: 0.0018\n",
            "Epoch 114/250\n",
            "178/178 [==============================] - 5s 25ms/step - loss: 0.0073 - accuracy: 0.0119\n",
            "Epoch 115/250\n",
            "178/178 [==============================] - 5s 25ms/step - loss: 0.0043 - accuracy: 5.2967e-04\n",
            "Epoch 116/250\n",
            "178/178 [==============================] - 5s 25ms/step - loss: 0.0057 - accuracy: 4.7380e-04\n",
            "Epoch 117/250\n",
            "178/178 [==============================] - 5s 25ms/step - loss: 0.0052 - accuracy: 0.0014\n",
            "Epoch 118/250\n",
            "178/178 [==============================] - 5s 25ms/step - loss: 0.0027 - accuracy: 9.9972e-04\n",
            "Epoch 119/250\n",
            "178/178 [==============================] - 4s 25ms/step - loss: 0.0049 - accuracy: 0.0029\n",
            "Epoch 120/250\n",
            "178/178 [==============================] - 5s 25ms/step - loss: 0.0026 - accuracy: 0.0048\n",
            "Epoch 121/250\n",
            "178/178 [==============================] - 4s 25ms/step - loss: 0.0031 - accuracy: 0.0022\n",
            "Epoch 122/250\n",
            "178/178 [==============================] - 4s 25ms/step - loss: 0.0028 - accuracy: 2.2691e-04\n",
            "Epoch 123/250\n",
            "178/178 [==============================] - 4s 25ms/step - loss: 0.0047 - accuracy: 0.0031\n",
            "Epoch 124/250\n",
            "178/178 [==============================] - 4s 25ms/step - loss: 0.0025 - accuracy: 0.0018\n",
            "Epoch 125/250\n",
            "178/178 [==============================] - 5s 26ms/step - loss: 0.0031 - accuracy: 0.0012\n",
            "Epoch 126/250\n",
            "178/178 [==============================] - 4s 25ms/step - loss: 0.0039 - accuracy: 0.0030\n",
            "Epoch 127/250\n",
            "178/178 [==============================] - 5s 26ms/step - loss: 0.0076 - accuracy: 0.0018\n",
            "Epoch 128/250\n",
            "178/178 [==============================] - 5s 27ms/step - loss: 0.0058 - accuracy: 8.6927e-04\n",
            "Epoch 129/250\n",
            "178/178 [==============================] - 5s 28ms/step - loss: 0.0017 - accuracy: 0.0024\n",
            "Epoch 130/250\n",
            "178/178 [==============================] - 5s 26ms/step - loss: 0.0076 - accuracy: 0.0044\n",
            "Epoch 131/250\n",
            "178/178 [==============================] - 4s 25ms/step - loss: 0.0041 - accuracy: 0.0026\n",
            "Epoch 132/250\n",
            "178/178 [==============================] - 4s 25ms/step - loss: 0.0021 - accuracy: 1.7673e-04\n",
            "Epoch 133/250\n",
            "178/178 [==============================] - 5s 28ms/step - loss: 0.0039 - accuracy: 9.7755e-04\n",
            "Epoch 134/250\n",
            "178/178 [==============================] - 4s 25ms/step - loss: 0.0023 - accuracy: 0.0045\n",
            "Epoch 135/250\n",
            "178/178 [==============================] - 4s 25ms/step - loss: 0.0023 - accuracy: 0.0012\n",
            "Epoch 136/250\n",
            "178/178 [==============================] - 4s 25ms/step - loss: 0.0029 - accuracy: 0.0038\n",
            "Epoch 137/250\n",
            "178/178 [==============================] - 5s 26ms/step - loss: 0.0024 - accuracy: 0.0014\n",
            "Epoch 138/250\n",
            "178/178 [==============================] - 5s 26ms/step - loss: 0.0043 - accuracy: 0.0061\n",
            "Epoch 139/250\n",
            "178/178 [==============================] - 5s 25ms/step - loss: 0.0086 - accuracy: 4.9230e-04\n",
            "Epoch 140/250\n",
            "178/178 [==============================] - 5s 26ms/step - loss: 0.0072 - accuracy: 3.1385e-05\n",
            "Epoch 141/250\n",
            "178/178 [==============================] - 5s 25ms/step - loss: 0.0064 - accuracy: 2.2691e-04\n",
            "Epoch 142/250\n",
            "178/178 [==============================] - 4s 25ms/step - loss: 0.0016 - accuracy: 0.0058\n",
            "Epoch 143/250\n",
            "178/178 [==============================] - 4s 25ms/step - loss: 0.0111 - accuracy: 7.2440e-04\n",
            "Epoch 144/250\n",
            "178/178 [==============================] - 4s 25ms/step - loss: 0.0058 - accuracy: 0.0065\n",
            "Epoch 145/250\n",
            "178/178 [==============================] - 5s 26ms/step - loss: 0.0045 - accuracy: 4.7167e-05\n",
            "Epoch 146/250\n",
            "178/178 [==============================] - 4s 25ms/step - loss: 0.0076 - accuracy: 0.0022\n",
            "Epoch 147/250\n",
            "178/178 [==============================] - 4s 25ms/step - loss: 0.0016 - accuracy: 0.0044\n",
            "Epoch 148/250\n",
            "178/178 [==============================] - 5s 25ms/step - loss: 0.0022 - accuracy: 5.8668e-04\n",
            "Epoch 149/250\n",
            "178/178 [==============================] - 4s 25ms/step - loss: 0.0041 - accuracy: 0.0119\n",
            "Epoch 150/250\n",
            "178/178 [==============================] - 5s 26ms/step - loss: 0.0030 - accuracy: 0.0079\n",
            "Epoch 151/250\n",
            "178/178 [==============================] - 5s 26ms/step - loss: 0.0025 - accuracy: 0.0025\n",
            "Epoch 152/250\n",
            "178/178 [==============================] - 5s 26ms/step - loss: 0.0065 - accuracy: 0.0023\n",
            "Epoch 153/250\n",
            "178/178 [==============================] - 4s 25ms/step - loss: 0.0024 - accuracy: 0.0018\n",
            "Epoch 154/250\n",
            "178/178 [==============================] - 5s 25ms/step - loss: 0.0027 - accuracy: 0.0016\n",
            "Epoch 155/250\n",
            "178/178 [==============================] - 5s 26ms/step - loss: 0.0015 - accuracy: 0.0025\n",
            "Epoch 156/250\n",
            "178/178 [==============================] - 4s 25ms/step - loss: 0.0041 - accuracy: 0.0013\n",
            "Epoch 157/250\n",
            "178/178 [==============================] - 5s 25ms/step - loss: 0.0018 - accuracy: 0.0019\n",
            "Epoch 158/250\n",
            "178/178 [==============================] - 5s 26ms/step - loss: 0.0028 - accuracy: 0.0033\n",
            "Epoch 159/250\n",
            "178/178 [==============================] - 5s 26ms/step - loss: 0.0059 - accuracy: 0.0065\n",
            "Epoch 160/250\n",
            "178/178 [==============================] - 5s 25ms/step - loss: 0.0023 - accuracy: 8.2711e-04\n",
            "Epoch 161/250\n",
            "178/178 [==============================] - 5s 25ms/step - loss: 0.0019 - accuracy: 0.0021\n",
            "Epoch 162/250\n",
            "178/178 [==============================] - 5s 26ms/step - loss: 0.0089 - accuracy: 0.0050\n",
            "Epoch 163/250\n",
            "178/178 [==============================] - 5s 26ms/step - loss: 0.0019 - accuracy: 0.0057\n",
            "Epoch 164/250\n",
            "178/178 [==============================] - 5s 26ms/step - loss: 0.0024 - accuracy: 0.0030\n",
            "Epoch 165/250\n",
            "178/178 [==============================] - 5s 26ms/step - loss: 0.0025 - accuracy: 0.0028\n",
            "Epoch 166/250\n",
            "178/178 [==============================] - 5s 25ms/step - loss: 0.0035 - accuracy: 0.0027\n",
            "Epoch 167/250\n",
            "178/178 [==============================] - 5s 25ms/step - loss: 0.0023 - accuracy: 0.0068\n",
            "Epoch 168/250\n",
            "178/178 [==============================] - 5s 26ms/step - loss: 0.0070 - accuracy: 0.0020\n",
            "Epoch 169/250\n",
            "178/178 [==============================] - 5s 26ms/step - loss: 0.0141 - accuracy: 5.4854e-04\n",
            "Epoch 170/250\n",
            "178/178 [==============================] - 5s 26ms/step - loss: 0.0031 - accuracy: 4.0101e-04\n",
            "Epoch 171/250\n",
            "178/178 [==============================] - 4s 25ms/step - loss: 0.0078 - accuracy: 0.0093\n",
            "Epoch 172/250\n",
            "178/178 [==============================] - 5s 26ms/step - loss: 0.0028 - accuracy: 6.0594e-04\n",
            "Epoch 173/250\n",
            "178/178 [==============================] - 4s 25ms/step - loss: 0.0024 - accuracy: 0.0015\n",
            "Epoch 174/250\n",
            "178/178 [==============================] - 4s 25ms/step - loss: 0.0040 - accuracy: 0.0053\n",
            "Epoch 175/250\n",
            "178/178 [==============================] - 5s 26ms/step - loss: 0.0029 - accuracy: 3.1260e-04\n",
            "Epoch 176/250\n",
            "178/178 [==============================] - 5s 26ms/step - loss: 0.0016 - accuracy: 0.0012\n",
            "Epoch 177/250\n",
            "178/178 [==============================] - 4s 25ms/step - loss: 0.0023 - accuracy: 4.5542e-04\n",
            "Epoch 178/250\n",
            "178/178 [==============================] - 5s 26ms/step - loss: 0.0077 - accuracy: 0.0012\n",
            "Epoch 179/250\n",
            "178/178 [==============================] - 5s 26ms/step - loss: 0.0023 - accuracy: 0.0025\n",
            "Epoch 180/250\n",
            "178/178 [==============================] - 5s 25ms/step - loss: 0.0089 - accuracy: 1.6021e-04\n",
            "Epoch 181/250\n",
            "178/178 [==============================] - 5s 25ms/step - loss: 0.0023 - accuracy: 0.0029\n",
            "Epoch 182/250\n",
            "178/178 [==============================] - 5s 25ms/step - loss: 0.0022 - accuracy: 0.0036\n",
            "Epoch 183/250\n",
            "178/178 [==============================] - 5s 25ms/step - loss: 0.0024 - accuracy: 6.3038e-05\n",
            "Epoch 184/250\n",
            "178/178 [==============================] - 5s 25ms/step - loss: 0.0022 - accuracy: 3.1260e-04\n",
            "Epoch 185/250\n",
            "178/178 [==============================] - 4s 25ms/step - loss: 0.0023 - accuracy: 0.0022\n",
            "Epoch 186/250\n",
            "178/178 [==============================] - 5s 26ms/step - loss: 0.0094 - accuracy: 0.0021\n",
            "Epoch 187/250\n",
            "178/178 [==============================] - 4s 25ms/step - loss: 0.0035 - accuracy: 0.0038\n",
            "Epoch 188/250\n",
            "178/178 [==============================] - 5s 25ms/step - loss: 0.0028 - accuracy: 0.0032\n",
            "Epoch 189/250\n",
            "178/178 [==============================] - 5s 26ms/step - loss: 0.0034 - accuracy: 0.0032\n",
            "Epoch 190/250\n",
            "178/178 [==============================] - 5s 26ms/step - loss: 0.0030 - accuracy: 0.0013\n",
            "Epoch 191/250\n",
            "178/178 [==============================] - 4s 25ms/step - loss: 0.0124 - accuracy: 0.0010\n",
            "Epoch 192/250\n",
            "178/178 [==============================] - 5s 26ms/step - loss: 0.0015 - accuracy: 0.0026\n",
            "Epoch 193/250\n",
            "178/178 [==============================] - 5s 25ms/step - loss: 0.0019 - accuracy: 0.0020\n",
            "Epoch 194/250\n",
            "178/178 [==============================] - 5s 26ms/step - loss: 0.0072 - accuracy: 6.3038e-05\n",
            "Epoch 195/250\n",
            "178/178 [==============================] - 5s 26ms/step - loss: 0.0039 - accuracy: 9.7755e-04\n",
            "Epoch 196/250\n",
            "178/178 [==============================] - 5s 27ms/step - loss: 0.0039 - accuracy: 0.0041\n",
            "Epoch 197/250\n",
            "178/178 [==============================] - 5s 27ms/step - loss: 0.0016 - accuracy: 0.0033\n",
            "Epoch 198/250\n",
            "178/178 [==============================] - 5s 27ms/step - loss: 0.0022 - accuracy: 0.0055\n",
            "Epoch 199/250\n",
            "178/178 [==============================] - 5s 26ms/step - loss: 0.0026 - accuracy: 0.0029\n",
            "Epoch 200/250\n",
            "178/178 [==============================] - 5s 28ms/step - loss: 0.0026 - accuracy: 0.0032\n",
            "Epoch 201/250\n",
            "178/178 [==============================] - 5s 25ms/step - loss: 0.0040 - accuracy: 0.0013\n",
            "Epoch 202/250\n",
            "178/178 [==============================] - 5s 25ms/step - loss: 0.0050 - accuracy: 0.0040\n",
            "Epoch 203/250\n",
            "178/178 [==============================] - 5s 26ms/step - loss: 0.0034 - accuracy: 0.0023\n",
            "Epoch 204/250\n",
            "178/178 [==============================] - 5s 26ms/step - loss: 0.0020 - accuracy: 6.3038e-05\n",
            "Epoch 205/250\n",
            "178/178 [==============================] - 5s 25ms/step - loss: 0.0027 - accuracy: 0.0021\n",
            "Epoch 206/250\n",
            "178/178 [==============================] - 5s 26ms/step - loss: 0.0045 - accuracy: 0.0030\n",
            "Epoch 207/250\n",
            "178/178 [==============================] - 5s 26ms/step - loss: 0.0065 - accuracy: 2.7801e-04\n",
            "Epoch 208/250\n",
            "178/178 [==============================] - 5s 26ms/step - loss: 0.0028 - accuracy: 0.0044\n",
            "Epoch 209/250\n",
            "178/178 [==============================] - 5s 26ms/step - loss: 0.0074 - accuracy: 0.0036\n",
            "Epoch 210/250\n",
            "178/178 [==============================] - 5s 26ms/step - loss: 0.0013 - accuracy: 8.4811e-04\n",
            "Epoch 211/250\n",
            "178/178 [==============================] - 5s 26ms/step - loss: 0.0016 - accuracy: 0.0018\n",
            "Epoch 212/250\n",
            "178/178 [==============================] - 5s 26ms/step - loss: 0.0017 - accuracy: 0.0029\n",
            "Epoch 213/250\n",
            "178/178 [==============================] - 5s 25ms/step - loss: 0.0066 - accuracy: 0.0023\n",
            "Epoch 214/250\n",
            "178/178 [==============================] - 5s 26ms/step - loss: 0.0042 - accuracy: 5.2967e-04\n",
            "Epoch 215/250\n",
            "178/178 [==============================] - 5s 26ms/step - loss: 0.0027 - accuracy: 0.0012\n",
            "Epoch 216/250\n",
            "178/178 [==============================] - 5s 26ms/step - loss: 0.0018 - accuracy: 0.0072\n",
            "Epoch 217/250\n",
            "178/178 [==============================] - 5s 26ms/step - loss: 0.0020 - accuracy: 6.3038e-05\n",
            "Epoch 218/250\n",
            "178/178 [==============================] - 5s 26ms/step - loss: 0.0015 - accuracy: 0.0065\n",
            "Epoch 219/250\n",
            "178/178 [==============================] - 5s 26ms/step - loss: 0.0020 - accuracy: 0.0025\n",
            "Epoch 220/250\n",
            "178/178 [==============================] - 5s 26ms/step - loss: 0.0032 - accuracy: 0.0029\n",
            "Epoch 221/250\n",
            "178/178 [==============================] - 5s 26ms/step - loss: 0.0101 - accuracy: 0.0011\n",
            "Epoch 222/250\n",
            "178/178 [==============================] - 5s 26ms/step - loss: 0.0049 - accuracy: 0.0103\n",
            "Epoch 223/250\n",
            "178/178 [==============================] - 5s 26ms/step - loss: 0.0033 - accuracy: 0.0019\n",
            "Epoch 224/250\n",
            "178/178 [==============================] - 5s 26ms/step - loss: 0.0046 - accuracy: 0.0044\n",
            "Epoch 225/250\n",
            "178/178 [==============================] - 5s 27ms/step - loss: 0.0047 - accuracy: 4.3717e-04\n",
            "Epoch 226/250\n",
            "178/178 [==============================] - 5s 26ms/step - loss: 0.0064 - accuracy: 0.0022\n",
            "Epoch 227/250\n",
            "178/178 [==============================] - 5s 26ms/step - loss: 0.0053 - accuracy: 0.0014\n",
            "Epoch 228/250\n",
            "178/178 [==============================] - 5s 26ms/step - loss: 0.0026 - accuracy: 0.0028\n",
            "Epoch 229/250\n",
            "178/178 [==============================] - 5s 26ms/step - loss: 0.0032 - accuracy: 0.0070\n",
            "Epoch 230/250\n",
            "178/178 [==============================] - 5s 26ms/step - loss: 0.0014 - accuracy: 2.4384e-04\n",
            "Epoch 231/250\n",
            "178/178 [==============================] - 5s 26ms/step - loss: 0.0016 - accuracy: 0.0027\n",
            "Epoch 232/250\n",
            "178/178 [==============================] - 5s 26ms/step - loss: 0.0055 - accuracy: 4.7167e-05\n",
            "Epoch 233/250\n",
            "178/178 [==============================] - 5s 26ms/step - loss: 0.0042 - accuracy: 0.0033\n",
            "Epoch 234/250\n",
            "178/178 [==============================] - 5s 27ms/step - loss: 0.0020 - accuracy: 2.1009e-04\n",
            "Epoch 235/250\n",
            "178/178 [==============================] - 5s 26ms/step - loss: 0.0025 - accuracy: 3.6531e-04\n",
            "Epoch 236/250\n",
            "178/178 [==============================] - 5s 27ms/step - loss: 0.0022 - accuracy: 5.6754e-04\n",
            "Epoch 237/250\n",
            "178/178 [==============================] - 5s 26ms/step - loss: 0.0025 - accuracy: 0.0036\n",
            "Epoch 238/250\n",
            "178/178 [==============================] - 5s 26ms/step - loss: 0.0027 - accuracy: 9.1208e-04\n",
            "Epoch 239/250\n",
            "178/178 [==============================] - 5s 26ms/step - loss: 0.0012 - accuracy: 9.7755e-04\n",
            "Epoch 240/250\n",
            "178/178 [==============================] - 5s 26ms/step - loss: 0.0032 - accuracy: 0.0050\n",
            "Epoch 241/250\n",
            "178/178 [==============================] - 5s 26ms/step - loss: 0.0021 - accuracy: 0.0048\n",
            "Epoch 242/250\n",
            "178/178 [==============================] - 5s 26ms/step - loss: 0.0026 - accuracy: 0.0063\n",
            "Epoch 243/250\n",
            "178/178 [==============================] - 5s 27ms/step - loss: 0.0048 - accuracy: 0.0026\n",
            "Epoch 244/250\n",
            "178/178 [==============================] - 5s 27ms/step - loss: 0.0031 - accuracy: 0.0025\n",
            "Epoch 245/250\n",
            "178/178 [==============================] - 5s 27ms/step - loss: 0.0024 - accuracy: 7.4464e-04\n",
            "Epoch 246/250\n",
            "178/178 [==============================] - 5s 26ms/step - loss: 0.0015 - accuracy: 0.0027\n",
            "Epoch 247/250\n",
            "178/178 [==============================] - 5s 26ms/step - loss: 0.0035 - accuracy: 0.0110\n",
            "Epoch 248/250\n",
            "178/178 [==============================] - 5s 26ms/step - loss: 0.0021 - accuracy: 0.0045\n",
            "Epoch 249/250\n",
            "178/178 [==============================] - 5s 26ms/step - loss: 0.0031 - accuracy: 0.0042\n",
            "Epoch 250/250\n",
            "178/178 [==============================] - 5s 27ms/step - loss: 0.0011 - accuracy: 0.0014\n"
          ],
          "name": "stdout"
        },
        {
          "output_type": "execute_result",
          "data": {
            "text/plain": [
              "<tensorflow.python.keras.callbacks.History at 0x7f9213193e10>"
            ]
          },
          "metadata": {
            "tags": []
          },
          "execution_count": 74
        }
      ]
    },
    {
      "cell_type": "code",
      "metadata": {
        "id": "l2lKDrg74jzc",
        "colab": {
          "base_uri": "https://localhost:8080/"
        },
        "outputId": "5849297a-2831-4c18-db8b-337a4678603b"
      },
      "source": [
        "first_eval_6 = scaled_train[-20:]\n",
        "\n",
        "\n",
        "first_eval_6 = first_eval_6.reshape(1, n_input, n_feacture)\n",
        "\n",
        "model_6.predict(first_eval_6)"
      ],
      "execution_count": 75,
      "outputs": [
        {
          "output_type": "execute_result",
          "data": {
            "text/plain": [
              "array([[0.23784475]], dtype=float32)"
            ]
          },
          "metadata": {
            "tags": []
          },
          "execution_count": 75
        }
      ]
    },
    {
      "cell_type": "code",
      "metadata": {
        "id": "HT-hb63P4jzf"
      },
      "source": [
        "test_predictions_6 = []\n",
        "\n",
        "first_eval_batch = scaled_train[-n_input:]\n",
        "current_batch = first_eval_6.reshape((1, n_input, n_feacture))\n",
        "\n",
        "for i in range(len(test)):\n",
        "    \n",
        "    # obtener la predicción ([0] es para obtener solo el número en lugar de [matriz])\n",
        "    current_pred = model_6.predict(current_batch)[0]\n",
        "    \n",
        "    # guardar la predicción\n",
        "    test_predictions_6.append(current_pred) \n",
        "    \n",
        "    # actualizar el lote para incluir ahora la predicción y soltar primer valor\n",
        "    current_batch = np.append(current_batch[:,1:,:],[[current_pred]],axis=1)"
      ],
      "execution_count": 76,
      "outputs": []
    },
    {
      "cell_type": "code",
      "metadata": {
        "id": "QPk1ZUca4jzi",
        "colab": {
          "base_uri": "https://localhost:8080/"
        },
        "outputId": "6879ca83-34b7-41d3-81da-33eddbd4447a"
      },
      "source": [
        "#Transofmacion inversa\n",
        "true_predicctions_6 = scaler.inverse_transform(test_predictions_6)\n",
        "\n",
        "\n",
        "test['Prediction_6'] = true_predicctions_6"
      ],
      "execution_count": 77,
      "outputs": [
        {
          "output_type": "stream",
          "text": [
            "/usr/local/lib/python3.7/dist-packages/ipykernel_launcher.py:5: SettingWithCopyWarning: \n",
            "A value is trying to be set on a copy of a slice from a DataFrame.\n",
            "Try using .loc[row_indexer,col_indexer] = value instead\n",
            "\n",
            "See the caveats in the documentation: https://pandas.pydata.org/pandas-docs/stable/user_guide/indexing.html#returning-a-view-versus-a-copy\n",
            "  \"\"\"\n"
          ],
          "name": "stderr"
        }
      ]
    },
    {
      "cell_type": "code",
      "metadata": {
        "id": "uzTFge8x4jzk",
        "colab": {
          "base_uri": "https://localhost:8080/",
          "height": 537
        },
        "outputId": "77041017-6fe2-443a-b86d-0fb6db44c331"
      },
      "source": [
        "test[['new_cases', 'Prediction_6']].plot(figsize=(12,8))"
      ],
      "execution_count": 82,
      "outputs": [
        {
          "output_type": "execute_result",
          "data": {
            "text/plain": [
              "<matplotlib.axes._subplots.AxesSubplot at 0x7f9211b8e7d0>"
            ]
          },
          "metadata": {
            "tags": []
          },
          "execution_count": 82
        },
        {
          "output_type": "display_data",
          "data": {
            "image/png": "[encoded data removed]",
            "text/plain": [
              "<Figure size 864x576 with 1 Axes>"
            ]
          },
          "metadata": {
            "tags": [],
            "needs_background": "light"
          }
        }
      ]
    },
    {
      "cell_type": "code",
      "metadata": {
        "id": "p7vrlx5a4jzm",
        "colab": {
          "base_uri": "https://localhost:8080/",
          "height": 700
        },
        "outputId": "44f44961-f570-4354-faa6-44d83b8fb6b1"
      },
      "source": [
        "#Observacion de los test y la predicciones\n",
        "test"
      ],
      "execution_count": 79,
      "outputs": [
        {
          "output_type": "execute_result",
          "data": {
            "text/html": [
              "<div>\n",
              "<style scoped>\n",
              "    .dataframe tbody tr th:only-of-type {\n",
              "        vertical-align: middle;\n",
              "    }\n",
              "\n",
              "    .dataframe tbody tr th {\n",
              "        vertical-align: top;\n",
              "    }\n",
              "\n",
              "    .dataframe thead th {\n",
              "        text-align: right;\n",
              "    }\n",
              "</style>\n",
              "<table border=\"1\" class=\"dataframe\">\n",
              "  <thead>\n",
              "    <tr style=\"text-align: right;\">\n",
              "      <th></th>\n",
              "      <th>new_cases</th>\n",
              "      <th>Prediction</th>\n",
              "      <th>Prediction_2</th>\n",
              "      <th>Prediction_3</th>\n",
              "      <th>Prediction_5</th>\n",
              "      <th>Prediction_6</th>\n",
              "    </tr>\n",
              "    <tr>\n",
              "      <th>date</th>\n",
              "      <th></th>\n",
              "      <th></th>\n",
              "      <th></th>\n",
              "      <th></th>\n",
              "      <th></th>\n",
              "      <th></th>\n",
              "    </tr>\n",
              "  </thead>\n",
              "  <tbody>\n",
              "    <tr>\n",
              "      <th>2021-03-10</th>\n",
              "      <td>6602.0</td>\n",
              "      <td>8117.574278</td>\n",
              "      <td>5891.071155</td>\n",
              "      <td>6488.084496</td>\n",
              "      <td>5169.149439</td>\n",
              "      <td>6687.005154</td>\n",
              "    </tr>\n",
              "    <tr>\n",
              "      <th>2021-03-11</th>\n",
              "      <td>6469.0</td>\n",
              "      <td>9129.992834</td>\n",
              "      <td>5959.243748</td>\n",
              "      <td>6534.763895</td>\n",
              "      <td>5655.546753</td>\n",
              "      <td>6720.818717</td>\n",
              "    </tr>\n",
              "    <tr>\n",
              "      <th>2021-03-12</th>\n",
              "      <td>6816.0</td>\n",
              "      <td>10234.787339</td>\n",
              "      <td>6032.689197</td>\n",
              "      <td>6500.475248</td>\n",
              "      <td>5703.138198</td>\n",
              "      <td>7005.366102</td>\n",
              "    </tr>\n",
              "    <tr>\n",
              "      <th>2021-03-13</th>\n",
              "      <td>6104.0</td>\n",
              "      <td>11280.778563</td>\n",
              "      <td>6106.416178</td>\n",
              "      <td>5548.327542</td>\n",
              "      <td>5704.762452</td>\n",
              "      <td>6867.594824</td>\n",
              "    </tr>\n",
              "    <tr>\n",
              "      <th>2021-03-14</th>\n",
              "      <td>2415.0</td>\n",
              "      <td>12408.137508</td>\n",
              "      <td>6188.936838</td>\n",
              "      <td>4167.015173</td>\n",
              "      <td>4489.504835</td>\n",
              "      <td>4421.883156</td>\n",
              "    </tr>\n",
              "    <tr>\n",
              "      <th>2021-03-15</th>\n",
              "      <td>1439.0</td>\n",
              "      <td>12728.028866</td>\n",
              "      <td>6272.836669</td>\n",
              "      <td>4574.033923</td>\n",
              "      <td>3188.826193</td>\n",
              "      <td>3524.770311</td>\n",
              "    </tr>\n",
              "    <tr>\n",
              "      <th>2021-03-16</th>\n",
              "      <td>1278.0</td>\n",
              "      <td>11513.550908</td>\n",
              "      <td>6344.789413</td>\n",
              "      <td>5957.935379</td>\n",
              "      <td>4105.755192</td>\n",
              "      <td>5104.688290</td>\n",
              "    </tr>\n",
              "    <tr>\n",
              "      <th>2021-03-17</th>\n",
              "      <td>6455.0</td>\n",
              "      <td>8803.365660</td>\n",
              "      <td>6416.479478</td>\n",
              "      <td>6068.575705</td>\n",
              "      <td>4361.793710</td>\n",
              "      <td>6294.898373</td>\n",
              "    </tr>\n",
              "    <tr>\n",
              "      <th>2021-03-18</th>\n",
              "      <td>6726.0</td>\n",
              "      <td>8685.789261</td>\n",
              "      <td>6488.343405</td>\n",
              "      <td>6095.984837</td>\n",
              "      <td>4223.233556</td>\n",
              "      <td>6497.188615</td>\n",
              "    </tr>\n",
              "    <tr>\n",
              "      <th>2021-03-19</th>\n",
              "      <td>5722.0</td>\n",
              "      <td>13110.498209</td>\n",
              "      <td>6561.877252</td>\n",
              "      <td>6049.660286</td>\n",
              "      <td>4628.925504</td>\n",
              "      <td>6688.464344</td>\n",
              "    </tr>\n",
              "    <tr>\n",
              "      <th>2021-03-20</th>\n",
              "      <td>5729.0</td>\n",
              "      <td>16987.363012</td>\n",
              "      <td>6635.693049</td>\n",
              "      <td>5514.930830</td>\n",
              "      <td>4610.015532</td>\n",
              "      <td>6927.815818</td>\n",
              "    </tr>\n",
              "    <tr>\n",
              "      <th>2021-03-21</th>\n",
              "      <td>2133.0</td>\n",
              "      <td>21994.429727</td>\n",
              "      <td>6717.403049</td>\n",
              "      <td>4945.460684</td>\n",
              "      <td>3645.353904</td>\n",
              "      <td>5155.689956</td>\n",
              "    </tr>\n",
              "    <tr>\n",
              "      <th>2021-03-22</th>\n",
              "      <td>1388.0</td>\n",
              "      <td>26136.402813</td>\n",
              "      <td>6799.640083</td>\n",
              "      <td>5107.525812</td>\n",
              "      <td>3278.702082</td>\n",
              "      <td>3854.654791</td>\n",
              "    </tr>\n",
              "    <tr>\n",
              "      <th>2021-03-23</th>\n",
              "      <td>5881.0</td>\n",
              "      <td>26645.259830</td>\n",
              "      <td>6871.403463</td>\n",
              "      <td>5839.014582</td>\n",
              "      <td>3897.773985</td>\n",
              "      <td>5013.287647</td>\n",
              "    </tr>\n",
              "    <tr>\n",
              "      <th>2021-03-24</th>\n",
              "      <td>5714.0</td>\n",
              "      <td>18451.452436</td>\n",
              "      <td>6942.987534</td>\n",
              "      <td>5934.195376</td>\n",
              "      <td>3918.999473</td>\n",
              "      <td>6470.529396</td>\n",
              "    </tr>\n",
              "    <tr>\n",
              "      <th>2021-03-25</th>\n",
              "      <td>5787.0</td>\n",
              "      <td>10396.839898</td>\n",
              "      <td>7014.765159</td>\n",
              "      <td>6033.639367</td>\n",
              "      <td>4092.650137</td>\n",
              "      <td>6555.787451</td>\n",
              "    </tr>\n",
              "    <tr>\n",
              "      <th>2021-03-26</th>\n",
              "      <td>5303.0</td>\n",
              "      <td>26299.533739</td>\n",
              "      <td>7087.615285</td>\n",
              "      <td>6095.484616</td>\n",
              "      <td>3607.631574</td>\n",
              "      <td>6751.960241</td>\n",
              "    </tr>\n",
              "    <tr>\n",
              "      <th>2021-03-27</th>\n",
              "      <td>5059.0</td>\n",
              "      <td>43895.447869</td>\n",
              "      <td>7160.611624</td>\n",
              "      <td>5833.613110</td>\n",
              "      <td>3175.382421</td>\n",
              "      <td>6946.760563</td>\n",
              "    </tr>\n",
              "    <tr>\n",
              "      <th>2021-03-28</th>\n",
              "      <td>1646.0</td>\n",
              "      <td>62260.713028</td>\n",
              "      <td>7240.244070</td>\n",
              "      <td>5220.144401</td>\n",
              "      <td>3290.772758</td>\n",
              "      <td>6489.921575</td>\n",
              "    </tr>\n",
              "    <tr>\n",
              "      <th>2021-03-29</th>\n",
              "      <td>1293.0</td>\n",
              "      <td>74906.082981</td>\n",
              "      <td>7320.869418</td>\n",
              "      <td>5390.660511</td>\n",
              "      <td>4019.890084</td>\n",
              "      <td>4024.021731</td>\n",
              "    </tr>\n",
              "  </tbody>\n",
              "</table>\n",
              "</div>"
            ],
            "text/plain": [
              "            new_cases    Prediction  ...  Prediction_5  Prediction_6\n",
              "date                                 ...                            \n",
              "2021-03-10     6602.0   8117.574278  ...   5169.149439   6687.005154\n",
              "2021-03-11     6469.0   9129.992834  ...   5655.546753   6720.818717\n",
              "2021-03-12     6816.0  10234.787339  ...   5703.138198   7005.366102\n",
              "2021-03-13     6104.0  11280.778563  ...   5704.762452   6867.594824\n",
              "2021-03-14     2415.0  12408.137508  ...   4489.504835   4421.883156\n",
              "2021-03-15     1439.0  12728.028866  ...   3188.826193   3524.770311\n",
              "2021-03-16     1278.0  11513.550908  ...   4105.755192   5104.688290\n",
              "2021-03-17     6455.0   8803.365660  ...   4361.793710   6294.898373\n",
              "2021-03-18     6726.0   8685.789261  ...   4223.233556   6497.188615\n",
              "2021-03-19     5722.0  13110.498209  ...   4628.925504   6688.464344\n",
              "2021-03-20     5729.0  16987.363012  ...   4610.015532   6927.815818\n",
              "2021-03-21     2133.0  21994.429727  ...   3645.353904   5155.689956\n",
              "2021-03-22     1388.0  26136.402813  ...   3278.702082   3854.654791\n",
              "2021-03-23     5881.0  26645.259830  ...   3897.773985   5013.287647\n",
              "2021-03-24     5714.0  18451.452436  ...   3918.999473   6470.529396\n",
              "2021-03-25     5787.0  10396.839898  ...   4092.650137   6555.787451\n",
              "2021-03-26     5303.0  26299.533739  ...   3607.631574   6751.960241\n",
              "2021-03-27     5059.0  43895.447869  ...   3175.382421   6946.760563\n",
              "2021-03-28     1646.0  62260.713028  ...   3290.772758   6489.921575\n",
              "2021-03-29     1293.0  74906.082981  ...   4019.890084   4024.021731\n",
              "\n",
              "[20 rows x 6 columns]"
            ]
          },
          "metadata": {
            "tags": []
          },
          "execution_count": 79
        }
      ]
    }
  ]
}