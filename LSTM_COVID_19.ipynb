{
  "nbformat": 4,
  "nbformat_minor": 0,
  "metadata": {
    "colab": {
      "name": "LSTM  -  COVID-19.ipynb",
      "provenance": [],
      "collapsed_sections": [],
      "mount_file_id": "1aDMNVZct41cp2QNValzW3D9Ob19RLqAB",
      "authorship_tag": "ABX9TyORsm/uq++j7VBIkY5GJh53",
      "include_colab_link": true
    },
    "kernelspec": {
      "name": "python3",
      "display_name": "Python 3"
    },
    "language_info": {
      "name": "python"
    }
  },
  "cells": [
    {
      "cell_type": "markdown",
      "metadata": {
        "id": "view-in-github",
        "colab_type": "text"
      },
      "source": [
        "<a href=\"https://colab.research.google.com/github/carturo6/Deep_Learning-Covid19/blob/main/LSTM_COVID_19.ipynb\" target=\"_parent\"><img src=\"https://colab.research.google.com/assets/colab-badge.svg\" alt=\"Open In Colab\"/></a>"
      ]
    },
    {
      "cell_type": "markdown",
      "metadata": {
        "id": "kQ7-27SQLs6d"
      },
      "source": [
        "# I.A. DeepLearnin para Casos Covid-19\n",
        "\n",
        "Este respositorio tiene el fin de predecir los proximo casos de Covid19 en México ( Nivel nacional ).\n",
        "\n",
        "Los datos que se ocuparan, son los datos disponibles en paginas del Gobierno.\n",
        "Se utilizaran solo tecnicas de Deep Learning donde cada modelo podra ir variando en funcion que los datos predichos mejor se ajusten a los datos predictorios.\n",
        "\n"
      ]
    },
    {
      "cell_type": "markdown",
      "metadata": {
        "id": "Jv8VPHnOVgLT"
      },
      "source": [
        "## **Librerias**"
      ]
    },
    {
      "cell_type": "code",
      "metadata": {
        "id": "uq_9I_ZDKvh8"
      },
      "source": [
        "# Import librarys.\n",
        "\n",
        "# DC\n",
        "import pandas as pd\n",
        "import numpy as np\n",
        "import matplotlib.pyplot as plt\n",
        "import scipy as sc\n",
        "import seaborn as sns\n",
        "from statsmodels.tsa.seasonal import seasonal_decompose\n",
        "\n",
        "# DL\n",
        "from keras.models import Sequential\n",
        "from keras.layers import Dense\n",
        "from keras.layers import LSTM\n",
        "import tensorflow as tf\n",
        "from keras import metrics\n"
      ],
      "execution_count": 269,
      "outputs": []
    },
    {
      "cell_type": "markdown",
      "metadata": {
        "id": "gBTRdXsdVj89"
      },
      "source": [
        "## **Importacion de datos**"
      ]
    },
    {
      "cell_type": "code",
      "metadata": {
        "id": "5NmXrsuZPHbx"
      },
      "source": [
        "# Carga del Dataset\n",
        "\n",
        "df = pd.read_csv('/content/drive/MyDrive/IA_Projects/LSTM-Covid-19/owid-covid-data.csv')"
      ],
      "execution_count": 177,
      "outputs": []
    },
    {
      "cell_type": "code",
      "metadata": {
        "colab": {
          "base_uri": "https://localhost:8080/",
          "height": 313
        },
        "id": "VJ9VEjW4Qipz",
        "outputId": "c050c173-c9cf-48a1-f40c-e56959d85ea8"
      },
      "source": [
        "# Seleccion a Mexico\n",
        "\n",
        "df_mx = df[df['location'] == 'Mexico']\n",
        "\n",
        "df_mx.head(5)"
      ],
      "execution_count": 178,
      "outputs": [
        {
          "output_type": "execute_result",
          "data": {
            "text/html": [
              "<div>\n",
              "<style scoped>\n",
              "    .dataframe tbody tr th:only-of-type {\n",
              "        vertical-align: middle;\n",
              "    }\n",
              "\n",
              "    .dataframe tbody tr th {\n",
              "        vertical-align: top;\n",
              "    }\n",
              "\n",
              "    .dataframe thead th {\n",
              "        text-align: right;\n",
              "    }\n",
              "</style>\n",
              "<table border=\"1\" class=\"dataframe\">\n",
              "  <thead>\n",
              "    <tr style=\"text-align: right;\">\n",
              "      <th></th>\n",
              "      <th>iso_code</th>\n",
              "      <th>continent</th>\n",
              "      <th>location</th>\n",
              "      <th>date</th>\n",
              "      <th>total_cases</th>\n",
              "      <th>new_cases</th>\n",
              "      <th>new_cases_smoothed</th>\n",
              "      <th>total_deaths</th>\n",
              "      <th>new_deaths</th>\n",
              "      <th>new_deaths_smoothed</th>\n",
              "      <th>total_cases_per_million</th>\n",
              "      <th>new_cases_per_million</th>\n",
              "      <th>new_cases_smoothed_per_million</th>\n",
              "      <th>total_deaths_per_million</th>\n",
              "      <th>new_deaths_per_million</th>\n",
              "      <th>new_deaths_smoothed_per_million</th>\n",
              "      <th>reproduction_rate</th>\n",
              "      <th>icu_patients</th>\n",
              "      <th>icu_patients_per_million</th>\n",
              "      <th>hosp_patients</th>\n",
              "      <th>hosp_patients_per_million</th>\n",
              "      <th>weekly_icu_admissions</th>\n",
              "      <th>weekly_icu_admissions_per_million</th>\n",
              "      <th>weekly_hosp_admissions</th>\n",
              "      <th>weekly_hosp_admissions_per_million</th>\n",
              "      <th>new_tests</th>\n",
              "      <th>total_tests</th>\n",
              "      <th>total_tests_per_thousand</th>\n",
              "      <th>new_tests_per_thousand</th>\n",
              "      <th>new_tests_smoothed</th>\n",
              "      <th>new_tests_smoothed_per_thousand</th>\n",
              "      <th>positive_rate</th>\n",
              "      <th>tests_per_case</th>\n",
              "      <th>tests_units</th>\n",
              "      <th>total_vaccinations</th>\n",
              "      <th>people_vaccinated</th>\n",
              "      <th>people_fully_vaccinated</th>\n",
              "      <th>new_vaccinations</th>\n",
              "      <th>new_vaccinations_smoothed</th>\n",
              "      <th>total_vaccinations_per_hundred</th>\n",
              "      <th>people_vaccinated_per_hundred</th>\n",
              "      <th>people_fully_vaccinated_per_hundred</th>\n",
              "      <th>new_vaccinations_smoothed_per_million</th>\n",
              "      <th>stringency_index</th>\n",
              "      <th>population</th>\n",
              "      <th>population_density</th>\n",
              "      <th>median_age</th>\n",
              "      <th>aged_65_older</th>\n",
              "      <th>aged_70_older</th>\n",
              "      <th>gdp_per_capita</th>\n",
              "      <th>extreme_poverty</th>\n",
              "      <th>cardiovasc_death_rate</th>\n",
              "      <th>diabetes_prevalence</th>\n",
              "      <th>female_smokers</th>\n",
              "      <th>male_smokers</th>\n",
              "      <th>handwashing_facilities</th>\n",
              "      <th>hospital_beds_per_thousand</th>\n",
              "      <th>life_expectancy</th>\n",
              "      <th>human_development_index</th>\n",
              "    </tr>\n",
              "  </thead>\n",
              "  <tbody>\n",
              "    <tr>\n",
              "      <th>45393</th>\n",
              "      <td>MEX</td>\n",
              "      <td>North America</td>\n",
              "      <td>Mexico</td>\n",
              "      <td>2020-01-01</td>\n",
              "      <td>NaN</td>\n",
              "      <td>NaN</td>\n",
              "      <td>NaN</td>\n",
              "      <td>NaN</td>\n",
              "      <td>NaN</td>\n",
              "      <td>NaN</td>\n",
              "      <td>NaN</td>\n",
              "      <td>NaN</td>\n",
              "      <td>NaN</td>\n",
              "      <td>NaN</td>\n",
              "      <td>NaN</td>\n",
              "      <td>NaN</td>\n",
              "      <td>NaN</td>\n",
              "      <td>NaN</td>\n",
              "      <td>NaN</td>\n",
              "      <td>NaN</td>\n",
              "      <td>NaN</td>\n",
              "      <td>NaN</td>\n",
              "      <td>NaN</td>\n",
              "      <td>NaN</td>\n",
              "      <td>NaN</td>\n",
              "      <td>25.0</td>\n",
              "      <td>25.0</td>\n",
              "      <td>0.000</td>\n",
              "      <td>0.000</td>\n",
              "      <td>NaN</td>\n",
              "      <td>NaN</td>\n",
              "      <td>NaN</td>\n",
              "      <td>NaN</td>\n",
              "      <td>people tested</td>\n",
              "      <td>NaN</td>\n",
              "      <td>NaN</td>\n",
              "      <td>NaN</td>\n",
              "      <td>NaN</td>\n",
              "      <td>NaN</td>\n",
              "      <td>NaN</td>\n",
              "      <td>NaN</td>\n",
              "      <td>NaN</td>\n",
              "      <td>NaN</td>\n",
              "      <td>0.0</td>\n",
              "      <td>128932753.0</td>\n",
              "      <td>66.444</td>\n",
              "      <td>29.3</td>\n",
              "      <td>6.857</td>\n",
              "      <td>4.321</td>\n",
              "      <td>17336.469</td>\n",
              "      <td>2.5</td>\n",
              "      <td>152.783</td>\n",
              "      <td>13.06</td>\n",
              "      <td>6.9</td>\n",
              "      <td>21.4</td>\n",
              "      <td>87.847</td>\n",
              "      <td>1.38</td>\n",
              "      <td>75.05</td>\n",
              "      <td>0.779</td>\n",
              "    </tr>\n",
              "    <tr>\n",
              "      <th>45394</th>\n",
              "      <td>MEX</td>\n",
              "      <td>North America</td>\n",
              "      <td>Mexico</td>\n",
              "      <td>2020-01-02</td>\n",
              "      <td>NaN</td>\n",
              "      <td>NaN</td>\n",
              "      <td>NaN</td>\n",
              "      <td>NaN</td>\n",
              "      <td>NaN</td>\n",
              "      <td>NaN</td>\n",
              "      <td>NaN</td>\n",
              "      <td>NaN</td>\n",
              "      <td>NaN</td>\n",
              "      <td>NaN</td>\n",
              "      <td>NaN</td>\n",
              "      <td>NaN</td>\n",
              "      <td>NaN</td>\n",
              "      <td>NaN</td>\n",
              "      <td>NaN</td>\n",
              "      <td>NaN</td>\n",
              "      <td>NaN</td>\n",
              "      <td>NaN</td>\n",
              "      <td>NaN</td>\n",
              "      <td>NaN</td>\n",
              "      <td>NaN</td>\n",
              "      <td>72.0</td>\n",
              "      <td>97.0</td>\n",
              "      <td>0.001</td>\n",
              "      <td>0.001</td>\n",
              "      <td>NaN</td>\n",
              "      <td>NaN</td>\n",
              "      <td>NaN</td>\n",
              "      <td>NaN</td>\n",
              "      <td>people tested</td>\n",
              "      <td>NaN</td>\n",
              "      <td>NaN</td>\n",
              "      <td>NaN</td>\n",
              "      <td>NaN</td>\n",
              "      <td>NaN</td>\n",
              "      <td>NaN</td>\n",
              "      <td>NaN</td>\n",
              "      <td>NaN</td>\n",
              "      <td>NaN</td>\n",
              "      <td>0.0</td>\n",
              "      <td>128932753.0</td>\n",
              "      <td>66.444</td>\n",
              "      <td>29.3</td>\n",
              "      <td>6.857</td>\n",
              "      <td>4.321</td>\n",
              "      <td>17336.469</td>\n",
              "      <td>2.5</td>\n",
              "      <td>152.783</td>\n",
              "      <td>13.06</td>\n",
              "      <td>6.9</td>\n",
              "      <td>21.4</td>\n",
              "      <td>87.847</td>\n",
              "      <td>1.38</td>\n",
              "      <td>75.05</td>\n",
              "      <td>0.779</td>\n",
              "    </tr>\n",
              "    <tr>\n",
              "      <th>45395</th>\n",
              "      <td>MEX</td>\n",
              "      <td>North America</td>\n",
              "      <td>Mexico</td>\n",
              "      <td>2020-01-03</td>\n",
              "      <td>NaN</td>\n",
              "      <td>NaN</td>\n",
              "      <td>NaN</td>\n",
              "      <td>NaN</td>\n",
              "      <td>NaN</td>\n",
              "      <td>NaN</td>\n",
              "      <td>NaN</td>\n",
              "      <td>NaN</td>\n",
              "      <td>NaN</td>\n",
              "      <td>NaN</td>\n",
              "      <td>NaN</td>\n",
              "      <td>NaN</td>\n",
              "      <td>NaN</td>\n",
              "      <td>NaN</td>\n",
              "      <td>NaN</td>\n",
              "      <td>NaN</td>\n",
              "      <td>NaN</td>\n",
              "      <td>NaN</td>\n",
              "      <td>NaN</td>\n",
              "      <td>NaN</td>\n",
              "      <td>NaN</td>\n",
              "      <td>89.0</td>\n",
              "      <td>186.0</td>\n",
              "      <td>0.001</td>\n",
              "      <td>0.001</td>\n",
              "      <td>NaN</td>\n",
              "      <td>NaN</td>\n",
              "      <td>NaN</td>\n",
              "      <td>NaN</td>\n",
              "      <td>people tested</td>\n",
              "      <td>NaN</td>\n",
              "      <td>NaN</td>\n",
              "      <td>NaN</td>\n",
              "      <td>NaN</td>\n",
              "      <td>NaN</td>\n",
              "      <td>NaN</td>\n",
              "      <td>NaN</td>\n",
              "      <td>NaN</td>\n",
              "      <td>NaN</td>\n",
              "      <td>0.0</td>\n",
              "      <td>128932753.0</td>\n",
              "      <td>66.444</td>\n",
              "      <td>29.3</td>\n",
              "      <td>6.857</td>\n",
              "      <td>4.321</td>\n",
              "      <td>17336.469</td>\n",
              "      <td>2.5</td>\n",
              "      <td>152.783</td>\n",
              "      <td>13.06</td>\n",
              "      <td>6.9</td>\n",
              "      <td>21.4</td>\n",
              "      <td>87.847</td>\n",
              "      <td>1.38</td>\n",
              "      <td>75.05</td>\n",
              "      <td>0.779</td>\n",
              "    </tr>\n",
              "    <tr>\n",
              "      <th>45396</th>\n",
              "      <td>MEX</td>\n",
              "      <td>North America</td>\n",
              "      <td>Mexico</td>\n",
              "      <td>2020-01-04</td>\n",
              "      <td>NaN</td>\n",
              "      <td>NaN</td>\n",
              "      <td>NaN</td>\n",
              "      <td>NaN</td>\n",
              "      <td>NaN</td>\n",
              "      <td>NaN</td>\n",
              "      <td>NaN</td>\n",
              "      <td>NaN</td>\n",
              "      <td>NaN</td>\n",
              "      <td>NaN</td>\n",
              "      <td>NaN</td>\n",
              "      <td>NaN</td>\n",
              "      <td>NaN</td>\n",
              "      <td>NaN</td>\n",
              "      <td>NaN</td>\n",
              "      <td>NaN</td>\n",
              "      <td>NaN</td>\n",
              "      <td>NaN</td>\n",
              "      <td>NaN</td>\n",
              "      <td>NaN</td>\n",
              "      <td>NaN</td>\n",
              "      <td>45.0</td>\n",
              "      <td>231.0</td>\n",
              "      <td>0.002</td>\n",
              "      <td>0.000</td>\n",
              "      <td>NaN</td>\n",
              "      <td>NaN</td>\n",
              "      <td>NaN</td>\n",
              "      <td>NaN</td>\n",
              "      <td>people tested</td>\n",
              "      <td>NaN</td>\n",
              "      <td>NaN</td>\n",
              "      <td>NaN</td>\n",
              "      <td>NaN</td>\n",
              "      <td>NaN</td>\n",
              "      <td>NaN</td>\n",
              "      <td>NaN</td>\n",
              "      <td>NaN</td>\n",
              "      <td>NaN</td>\n",
              "      <td>0.0</td>\n",
              "      <td>128932753.0</td>\n",
              "      <td>66.444</td>\n",
              "      <td>29.3</td>\n",
              "      <td>6.857</td>\n",
              "      <td>4.321</td>\n",
              "      <td>17336.469</td>\n",
              "      <td>2.5</td>\n",
              "      <td>152.783</td>\n",
              "      <td>13.06</td>\n",
              "      <td>6.9</td>\n",
              "      <td>21.4</td>\n",
              "      <td>87.847</td>\n",
              "      <td>1.38</td>\n",
              "      <td>75.05</td>\n",
              "      <td>0.779</td>\n",
              "    </tr>\n",
              "    <tr>\n",
              "      <th>45397</th>\n",
              "      <td>MEX</td>\n",
              "      <td>North America</td>\n",
              "      <td>Mexico</td>\n",
              "      <td>2020-01-05</td>\n",
              "      <td>NaN</td>\n",
              "      <td>NaN</td>\n",
              "      <td>NaN</td>\n",
              "      <td>NaN</td>\n",
              "      <td>NaN</td>\n",
              "      <td>NaN</td>\n",
              "      <td>NaN</td>\n",
              "      <td>NaN</td>\n",
              "      <td>NaN</td>\n",
              "      <td>NaN</td>\n",
              "      <td>NaN</td>\n",
              "      <td>NaN</td>\n",
              "      <td>NaN</td>\n",
              "      <td>NaN</td>\n",
              "      <td>NaN</td>\n",
              "      <td>NaN</td>\n",
              "      <td>NaN</td>\n",
              "      <td>NaN</td>\n",
              "      <td>NaN</td>\n",
              "      <td>NaN</td>\n",
              "      <td>NaN</td>\n",
              "      <td>85.0</td>\n",
              "      <td>316.0</td>\n",
              "      <td>0.002</td>\n",
              "      <td>0.001</td>\n",
              "      <td>NaN</td>\n",
              "      <td>NaN</td>\n",
              "      <td>NaN</td>\n",
              "      <td>NaN</td>\n",
              "      <td>people tested</td>\n",
              "      <td>NaN</td>\n",
              "      <td>NaN</td>\n",
              "      <td>NaN</td>\n",
              "      <td>NaN</td>\n",
              "      <td>NaN</td>\n",
              "      <td>NaN</td>\n",
              "      <td>NaN</td>\n",
              "      <td>NaN</td>\n",
              "      <td>NaN</td>\n",
              "      <td>0.0</td>\n",
              "      <td>128932753.0</td>\n",
              "      <td>66.444</td>\n",
              "      <td>29.3</td>\n",
              "      <td>6.857</td>\n",
              "      <td>4.321</td>\n",
              "      <td>17336.469</td>\n",
              "      <td>2.5</td>\n",
              "      <td>152.783</td>\n",
              "      <td>13.06</td>\n",
              "      <td>6.9</td>\n",
              "      <td>21.4</td>\n",
              "      <td>87.847</td>\n",
              "      <td>1.38</td>\n",
              "      <td>75.05</td>\n",
              "      <td>0.779</td>\n",
              "    </tr>\n",
              "  </tbody>\n",
              "</table>\n",
              "</div>"
            ],
            "text/plain": [
              "      iso_code      continent  ... life_expectancy human_development_index\n",
              "45393      MEX  North America  ...           75.05                   0.779\n",
              "45394      MEX  North America  ...           75.05                   0.779\n",
              "45395      MEX  North America  ...           75.05                   0.779\n",
              "45396      MEX  North America  ...           75.05                   0.779\n",
              "45397      MEX  North America  ...           75.05                   0.779\n",
              "\n",
              "[5 rows x 59 columns]"
            ]
          },
          "metadata": {
            "tags": []
          },
          "execution_count": 178
        }
      ]
    },
    {
      "cell_type": "code",
      "metadata": {
        "colab": {
          "base_uri": "https://localhost:8080/",
          "height": 206
        },
        "id": "kuhAk_wrQjmE",
        "outputId": "99755ced-fb7d-4b81-b9a7-347bd98fe9ea"
      },
      "source": [
        "# Seleccionando columnas\n",
        "df_mx = df_mx.iloc[:, 3:6]\n",
        "df_mx.head()"
      ],
      "execution_count": 179,
      "outputs": [
        {
          "output_type": "execute_result",
          "data": {
            "text/html": [
              "<div>\n",
              "<style scoped>\n",
              "    .dataframe tbody tr th:only-of-type {\n",
              "        vertical-align: middle;\n",
              "    }\n",
              "\n",
              "    .dataframe tbody tr th {\n",
              "        vertical-align: top;\n",
              "    }\n",
              "\n",
              "    .dataframe thead th {\n",
              "        text-align: right;\n",
              "    }\n",
              "</style>\n",
              "<table border=\"1\" class=\"dataframe\">\n",
              "  <thead>\n",
              "    <tr style=\"text-align: right;\">\n",
              "      <th></th>\n",
              "      <th>date</th>\n",
              "      <th>total_cases</th>\n",
              "      <th>new_cases</th>\n",
              "    </tr>\n",
              "  </thead>\n",
              "  <tbody>\n",
              "    <tr>\n",
              "      <th>45393</th>\n",
              "      <td>2020-01-01</td>\n",
              "      <td>NaN</td>\n",
              "      <td>NaN</td>\n",
              "    </tr>\n",
              "    <tr>\n",
              "      <th>45394</th>\n",
              "      <td>2020-01-02</td>\n",
              "      <td>NaN</td>\n",
              "      <td>NaN</td>\n",
              "    </tr>\n",
              "    <tr>\n",
              "      <th>45395</th>\n",
              "      <td>2020-01-03</td>\n",
              "      <td>NaN</td>\n",
              "      <td>NaN</td>\n",
              "    </tr>\n",
              "    <tr>\n",
              "      <th>45396</th>\n",
              "      <td>2020-01-04</td>\n",
              "      <td>NaN</td>\n",
              "      <td>NaN</td>\n",
              "    </tr>\n",
              "    <tr>\n",
              "      <th>45397</th>\n",
              "      <td>2020-01-05</td>\n",
              "      <td>NaN</td>\n",
              "      <td>NaN</td>\n",
              "    </tr>\n",
              "  </tbody>\n",
              "</table>\n",
              "</div>"
            ],
            "text/plain": [
              "             date  total_cases  new_cases\n",
              "45393  2020-01-01          NaN        NaN\n",
              "45394  2020-01-02          NaN        NaN\n",
              "45395  2020-01-03          NaN        NaN\n",
              "45396  2020-01-04          NaN        NaN\n",
              "45397  2020-01-05          NaN        NaN"
            ]
          },
          "metadata": {
            "tags": []
          },
          "execution_count": 179
        }
      ]
    },
    {
      "cell_type": "code",
      "metadata": {
        "id": "QyrjUnQ7EF9X"
      },
      "source": [
        "df_mx = df_mx.reset_index(inplace=False)"
      ],
      "execution_count": 180,
      "outputs": []
    },
    {
      "cell_type": "code",
      "metadata": {
        "id": "HSo81nHlGLpM"
      },
      "source": [
        "del df_mx['index']"
      ],
      "execution_count": 181,
      "outputs": []
    },
    {
      "cell_type": "code",
      "metadata": {
        "id": "LdTIolaEGXAJ"
      },
      "source": [
        "# Trabajando con la columna de nuevos casos\n",
        "\n",
        "df_mx = df_mx.iloc[:,[0,2]]"
      ],
      "execution_count": 182,
      "outputs": []
    },
    {
      "cell_type": "code",
      "metadata": {
        "id": "Z1oMJAvzGr1s"
      },
      "source": [
        ""
      ],
      "execution_count": 182,
      "outputs": []
    },
    {
      "cell_type": "markdown",
      "metadata": {
        "id": "I0glvokzHwP7"
      },
      "source": [
        "## **Transformacion de los datos**"
      ]
    },
    {
      "cell_type": "code",
      "metadata": {
        "colab": {
          "base_uri": "https://localhost:8080/",
          "height": 143
        },
        "id": "FLLkmTY-H1Aa",
        "outputId": "41015f99-809f-4a37-e27a-801fcb629b73"
      },
      "source": [
        "df_mx.head(3)"
      ],
      "execution_count": 183,
      "outputs": [
        {
          "output_type": "execute_result",
          "data": {
            "text/html": [
              "<div>\n",
              "<style scoped>\n",
              "    .dataframe tbody tr th:only-of-type {\n",
              "        vertical-align: middle;\n",
              "    }\n",
              "\n",
              "    .dataframe tbody tr th {\n",
              "        vertical-align: top;\n",
              "    }\n",
              "\n",
              "    .dataframe thead th {\n",
              "        text-align: right;\n",
              "    }\n",
              "</style>\n",
              "<table border=\"1\" class=\"dataframe\">\n",
              "  <thead>\n",
              "    <tr style=\"text-align: right;\">\n",
              "      <th></th>\n",
              "      <th>date</th>\n",
              "      <th>new_cases</th>\n",
              "    </tr>\n",
              "  </thead>\n",
              "  <tbody>\n",
              "    <tr>\n",
              "      <th>0</th>\n",
              "      <td>2020-01-01</td>\n",
              "      <td>NaN</td>\n",
              "    </tr>\n",
              "    <tr>\n",
              "      <th>1</th>\n",
              "      <td>2020-01-02</td>\n",
              "      <td>NaN</td>\n",
              "    </tr>\n",
              "    <tr>\n",
              "      <th>2</th>\n",
              "      <td>2020-01-03</td>\n",
              "      <td>NaN</td>\n",
              "    </tr>\n",
              "  </tbody>\n",
              "</table>\n",
              "</div>"
            ],
            "text/plain": [
              "         date  new_cases\n",
              "0  2020-01-01        NaN\n",
              "1  2020-01-02        NaN\n",
              "2  2020-01-03        NaN"
            ]
          },
          "metadata": {
            "tags": []
          },
          "execution_count": 183
        }
      ]
    },
    {
      "cell_type": "code",
      "metadata": {
        "colab": {
          "base_uri": "https://localhost:8080/"
        },
        "id": "lM13If1qH8-N",
        "outputId": "8f481dba-3e55-4c84-a75e-50c20cf2ba46"
      },
      "source": [
        "df_mx.info()"
      ],
      "execution_count": 184,
      "outputs": [
        {
          "output_type": "stream",
          "text": [
            "<class 'pandas.core.frame.DataFrame'>\n",
            "RangeIndex: 454 entries, 0 to 453\n",
            "Data columns (total 2 columns):\n",
            " #   Column     Non-Null Count  Dtype  \n",
            "---  ------     --------------  -----  \n",
            " 0   date       454 non-null    object \n",
            " 1   new_cases  396 non-null    float64\n",
            "dtypes: float64(1), object(1)\n",
            "memory usage: 7.2+ KB\n"
          ],
          "name": "stdout"
        }
      ]
    },
    {
      "cell_type": "code",
      "metadata": {
        "id": "fzVse4Z_H-RQ"
      },
      "source": [
        "df_mx.date = pd.to_datetime(df_mx.date)"
      ],
      "execution_count": 185,
      "outputs": []
    },
    {
      "cell_type": "code",
      "metadata": {
        "colab": {
          "base_uri": "https://localhost:8080/"
        },
        "id": "GMdV5UuZIFVJ",
        "outputId": "538e8814-a3e5-4e4d-81f3-493faec4aee9"
      },
      "source": [
        "df_mx.info()"
      ],
      "execution_count": 186,
      "outputs": [
        {
          "output_type": "stream",
          "text": [
            "<class 'pandas.core.frame.DataFrame'>\n",
            "RangeIndex: 454 entries, 0 to 453\n",
            "Data columns (total 2 columns):\n",
            " #   Column     Non-Null Count  Dtype         \n",
            "---  ------     --------------  -----         \n",
            " 0   date       454 non-null    datetime64[ns]\n",
            " 1   new_cases  396 non-null    float64       \n",
            "dtypes: datetime64[ns](1), float64(1)\n",
            "memory usage: 7.2 KB\n"
          ],
          "name": "stdout"
        }
      ]
    },
    {
      "cell_type": "code",
      "metadata": {
        "colab": {
          "base_uri": "https://localhost:8080/",
          "height": 300
        },
        "id": "RhCyjj9jIGii",
        "outputId": "e3aa7a14-b823-497c-baab-e10e10c45cca"
      },
      "source": [
        "df_mx.describe()"
      ],
      "execution_count": 187,
      "outputs": [
        {
          "output_type": "execute_result",
          "data": {
            "text/html": [
              "<div>\n",
              "<style scoped>\n",
              "    .dataframe tbody tr th:only-of-type {\n",
              "        vertical-align: middle;\n",
              "    }\n",
              "\n",
              "    .dataframe tbody tr th {\n",
              "        vertical-align: top;\n",
              "    }\n",
              "\n",
              "    .dataframe thead th {\n",
              "        text-align: right;\n",
              "    }\n",
              "</style>\n",
              "<table border=\"1\" class=\"dataframe\">\n",
              "  <thead>\n",
              "    <tr style=\"text-align: right;\">\n",
              "      <th></th>\n",
              "      <th>new_cases</th>\n",
              "    </tr>\n",
              "  </thead>\n",
              "  <tbody>\n",
              "    <tr>\n",
              "      <th>count</th>\n",
              "      <td>396.000000</td>\n",
              "    </tr>\n",
              "    <tr>\n",
              "      <th>mean</th>\n",
              "      <td>5625.866162</td>\n",
              "    </tr>\n",
              "    <tr>\n",
              "      <th>std</th>\n",
              "      <td>4475.211614</td>\n",
              "    </tr>\n",
              "    <tr>\n",
              "      <th>min</th>\n",
              "      <td>0.000000</td>\n",
              "    </tr>\n",
              "    <tr>\n",
              "      <th>25%</th>\n",
              "      <td>2800.250000</td>\n",
              "    </tr>\n",
              "    <tr>\n",
              "      <th>50%</th>\n",
              "      <td>5237.500000</td>\n",
              "    </tr>\n",
              "    <tr>\n",
              "      <th>75%</th>\n",
              "      <td>6848.500000</td>\n",
              "    </tr>\n",
              "    <tr>\n",
              "      <th>max</th>\n",
              "      <td>28115.000000</td>\n",
              "    </tr>\n",
              "  </tbody>\n",
              "</table>\n",
              "</div>"
            ],
            "text/plain": [
              "          new_cases\n",
              "count    396.000000\n",
              "mean    5625.866162\n",
              "std     4475.211614\n",
              "min        0.000000\n",
              "25%     2800.250000\n",
              "50%     5237.500000\n",
              "75%     6848.500000\n",
              "max    28115.000000"
            ]
          },
          "metadata": {
            "tags": []
          },
          "execution_count": 187
        }
      ]
    },
    {
      "cell_type": "code",
      "metadata": {
        "colab": {
          "base_uri": "https://localhost:8080/"
        },
        "id": "AMzqF6soIJZ-",
        "outputId": "15d71b55-549f-4f5f-8cd0-3645bc48a121"
      },
      "source": [
        "df_mx.isna().sum()"
      ],
      "execution_count": 188,
      "outputs": [
        {
          "output_type": "execute_result",
          "data": {
            "text/plain": [
              "date          0\n",
              "new_cases    58\n",
              "dtype: int64"
            ]
          },
          "metadata": {
            "tags": []
          },
          "execution_count": 188
        }
      ]
    },
    {
      "cell_type": "code",
      "metadata": {
        "id": "LRKsPTdoIlJg"
      },
      "source": [
        "# Quitando Datos faltantes.\n",
        "\n",
        "df_mx = df_mx[df_mx['new_cases'].notna()]"
      ],
      "execution_count": 189,
      "outputs": []
    },
    {
      "cell_type": "code",
      "metadata": {
        "colab": {
          "base_uri": "https://localhost:8080/",
          "height": 206
        },
        "id": "AFWr_jf-JAdp",
        "outputId": "8c012f3f-6475-4b29-853f-fdada408dc4d"
      },
      "source": [
        "df_mx.tail()"
      ],
      "execution_count": 190,
      "outputs": [
        {
          "output_type": "execute_result",
          "data": {
            "text/html": [
              "<div>\n",
              "<style scoped>\n",
              "    .dataframe tbody tr th:only-of-type {\n",
              "        vertical-align: middle;\n",
              "    }\n",
              "\n",
              "    .dataframe tbody tr th {\n",
              "        vertical-align: top;\n",
              "    }\n",
              "\n",
              "    .dataframe thead th {\n",
              "        text-align: right;\n",
              "    }\n",
              "</style>\n",
              "<table border=\"1\" class=\"dataframe\">\n",
              "  <thead>\n",
              "    <tr style=\"text-align: right;\">\n",
              "      <th></th>\n",
              "      <th>date</th>\n",
              "      <th>new_cases</th>\n",
              "    </tr>\n",
              "  </thead>\n",
              "  <tbody>\n",
              "    <tr>\n",
              "      <th>449</th>\n",
              "      <td>2021-03-25</td>\n",
              "      <td>5787.0</td>\n",
              "    </tr>\n",
              "    <tr>\n",
              "      <th>450</th>\n",
              "      <td>2021-03-26</td>\n",
              "      <td>5303.0</td>\n",
              "    </tr>\n",
              "    <tr>\n",
              "      <th>451</th>\n",
              "      <td>2021-03-27</td>\n",
              "      <td>5059.0</td>\n",
              "    </tr>\n",
              "    <tr>\n",
              "      <th>452</th>\n",
              "      <td>2021-03-28</td>\n",
              "      <td>1646.0</td>\n",
              "    </tr>\n",
              "    <tr>\n",
              "      <th>453</th>\n",
              "      <td>2021-03-29</td>\n",
              "      <td>1293.0</td>\n",
              "    </tr>\n",
              "  </tbody>\n",
              "</table>\n",
              "</div>"
            ],
            "text/plain": [
              "          date  new_cases\n",
              "449 2021-03-25     5787.0\n",
              "450 2021-03-26     5303.0\n",
              "451 2021-03-27     5059.0\n",
              "452 2021-03-28     1646.0\n",
              "453 2021-03-29     1293.0"
            ]
          },
          "metadata": {
            "tags": []
          },
          "execution_count": 190
        }
      ]
    },
    {
      "cell_type": "code",
      "metadata": {
        "colab": {
          "base_uri": "https://localhost:8080/"
        },
        "id": "A07Wj3llJtbV",
        "outputId": "0737b018-667d-4fdf-9085-6be81f41e780"
      },
      "source": [
        "df_mx.date.describe()"
      ],
      "execution_count": 191,
      "outputs": [
        {
          "output_type": "stream",
          "text": [
            "/usr/local/lib/python3.7/dist-packages/ipykernel_launcher.py:1: FutureWarning: Treating datetime data as categorical rather than numeric in `.describe` is deprecated and will be removed in a future version of pandas. Specify `datetime_is_numeric=True` to silence this warning and adopt the future behavior now.\n",
            "  \"\"\"Entry point for launching an IPython kernel.\n"
          ],
          "name": "stderr"
        },
        {
          "output_type": "execute_result",
          "data": {
            "text/plain": [
              "count                     396\n",
              "unique                    396\n",
              "top       2020-04-13 00:00:00\n",
              "freq                        1\n",
              "first     2020-02-28 00:00:00\n",
              "last      2021-03-29 00:00:00\n",
              "Name: date, dtype: object"
            ]
          },
          "metadata": {
            "tags": []
          },
          "execution_count": 191
        }
      ]
    },
    {
      "cell_type": "code",
      "metadata": {
        "id": "pggG81rPKIgA"
      },
      "source": [
        ""
      ],
      "execution_count": 191,
      "outputs": []
    },
    {
      "cell_type": "markdown",
      "metadata": {
        "id": "N0k3YjYXKjQ5"
      },
      "source": [
        "## **Visualizacion de Datos**"
      ]
    },
    {
      "cell_type": "code",
      "metadata": {
        "id": "ZRBmbNpkK6tx"
      },
      "source": [
        "df_mx_2 = df_mx.copy()"
      ],
      "execution_count": 192,
      "outputs": []
    },
    {
      "cell_type": "code",
      "metadata": {
        "id": "XRO8dazvK7uL"
      },
      "source": [
        "df_mx_2.set_index('date', inplace=True)"
      ],
      "execution_count": 193,
      "outputs": []
    },
    {
      "cell_type": "code",
      "metadata": {
        "id": "n4AsHom9KlUY"
      },
      "source": [
        "# Promedio de ventanas de tiempo\n",
        "\n",
        "#Ventana de tiempo\n",
        "ventana_tiempo = df_mx_2.rolling(7)\n",
        "\n",
        "#Media de la ventana de tiempo\n",
        "media_df = ventana_tiempo.mean()"
      ],
      "execution_count": 201,
      "outputs": []
    },
    {
      "cell_type": "code",
      "metadata": {
        "colab": {
          "base_uri": "https://localhost:8080/",
          "height": 500
        },
        "id": "fDnFEwOUL_eQ",
        "outputId": "c12a00e5-1329-4051-ddaf-4a3cf6e86223"
      },
      "source": [
        "plt.figure(figsize=(12,8))\n",
        "plt.plot(df_mx_2, label='new_cases')\n",
        "plt.plot(media_df, label='media')\n",
        "plt.legend()"
      ],
      "execution_count": 202,
      "outputs": [
        {
          "output_type": "execute_result",
          "data": {
            "text/plain": [
              "<matplotlib.legend.Legend at 0x7f7e208c2f50>"
            ]
          },
          "metadata": {
            "tags": []
          },
          "execution_count": 202
        },
        {
          "output_type": "display_data",
          "data": {
            "image/png": "[encoded data removed]",
            "text/plain": [
              "<Figure size 864x576 with 1 Axes>"
            ]
          },
          "metadata": {
            "tags": [],
            "needs_background": "light"
          }
        }
      ]
    },
    {
      "cell_type": "code",
      "metadata": {
        "id": "BVMbLSzeMALk"
      },
      "source": [
        "seasonal_value = seasonal_decompose(df_mx_2, freq=7)"
      ],
      "execution_count": 196,
      "outputs": []
    },
    {
      "cell_type": "code",
      "metadata": {
        "colab": {
          "base_uri": "https://localhost:8080/",
          "height": 298
        },
        "id": "ge1MDs_XOepK",
        "outputId": "54f8f204-644d-4fc8-9ca8-05344dfbb8e3"
      },
      "source": [
        "seasonal_value.plot();"
      ],
      "execution_count": 198,
      "outputs": [
        {
          "output_type": "display_data",
          "data": {
            "image/png": "[encoded data removed]",
            "text/plain": [
              "<Figure size 432x288 with 4 Axes>"
            ]
          },
          "metadata": {
            "tags": [],
            "needs_background": "light"
          }
        }
      ]
    },
    {
      "cell_type": "code",
      "metadata": {
        "id": "uvHv9BZKOgx_"
      },
      "source": [
        ""
      ],
      "execution_count": null,
      "outputs": []
    },
    {
      "cell_type": "markdown",
      "metadata": {
        "id": "0jHkVun1POn2"
      },
      "source": [
        "# **Modelo-1**"
      ]
    },
    {
      "cell_type": "code",
      "metadata": {
        "colab": {
          "base_uri": "https://localhost:8080/"
        },
        "id": "EGNDEV4VPRsp",
        "outputId": "cb594f04-5d0f-4a44-fffe-eb2df55034df"
      },
      "source": [
        "# Datos de entreamiento y test\n",
        "\n",
        "len(df_mx_2)"
      ],
      "execution_count": 218,
      "outputs": [
        {
          "output_type": "execute_result",
          "data": {
            "text/plain": [
              "396"
            ]
          },
          "metadata": {
            "tags": []
          },
          "execution_count": 218
        }
      ]
    },
    {
      "cell_type": "code",
      "metadata": {
        "colab": {
          "base_uri": "https://localhost:8080/"
        },
        "id": "sZxH98wcQA5m",
        "outputId": "ec0909eb-e6e8-4376-8061-2a57d187c1d7"
      },
      "source": [
        "len(df_mx_2)-20"
      ],
      "execution_count": 219,
      "outputs": [
        {
          "output_type": "execute_result",
          "data": {
            "text/plain": [
              "376"
            ]
          },
          "metadata": {
            "tags": []
          },
          "execution_count": 219
        }
      ]
    },
    {
      "cell_type": "code",
      "metadata": {
        "id": "5pWNDoT_WYoR"
      },
      "source": [
        "train = df_mx_2.iloc[:len(df_mx_2)-20]\n",
        "test = df_mx_2.iloc[len(df_mx_2)-20:]"
      ],
      "execution_count": 220,
      "outputs": []
    },
    {
      "cell_type": "code",
      "metadata": {
        "id": "R9oHz8dOWi2X"
      },
      "source": [
        "# Escalando datos\n",
        "\n",
        "from sklearn.preprocessing import MinMaxScaler\n",
        "from keras.preprocessing.sequence import TimeseriesGenerator\n",
        "\n",
        "scaler = MinMaxScaler()"
      ],
      "execution_count": 221,
      "outputs": []
    },
    {
      "cell_type": "code",
      "metadata": {
        "colab": {
          "base_uri": "https://localhost:8080/"
        },
        "id": "6kURX3eiWjbE",
        "outputId": "f015c676-4ad1-4238-968b-f67391494577"
      },
      "source": [
        "#Ajustando los datos de entrenamiento\n",
        "scaler.fit(train)"
      ],
      "execution_count": 222,
      "outputs": [
        {
          "output_type": "execute_result",
          "data": {
            "text/plain": [
              "MinMaxScaler(copy=True, feature_range=(0, 1))"
            ]
          },
          "metadata": {
            "tags": []
          },
          "execution_count": 222
        }
      ]
    },
    {
      "cell_type": "code",
      "metadata": {
        "id": "8wYLrppIX07O"
      },
      "source": [
        "#Datos escalados\n",
        "\n",
        "scaled_train = scaler.transform(train)\n",
        "scaled_test = scaler.transform(test)"
      ],
      "execution_count": 223,
      "outputs": []
    },
    {
      "cell_type": "code",
      "metadata": {
        "id": "j4yoPIf9Yhhp"
      },
      "source": [
        "# Generator\n",
        "n_input = 20\n",
        "n_feacture = 1\n",
        "\n",
        "generator = TimeseriesGenerator(scaled_train, scaled_train, length=n_input, batch_size=2)\n",
        "\n",
        "x, y = generator[0]"
      ],
      "execution_count": 242,
      "outputs": []
    },
    {
      "cell_type": "code",
      "metadata": {
        "id": "lDqYigo2Y_jc"
      },
      "source": [
        "# Red neuronal\n",
        "\n",
        "#Red sequential\n",
        "model_1 = Sequential()\n",
        "\n",
        "#Red nueronal con 4 capas, cada capa tiene dierente cantidad de nueronas\n",
        "model_1.add(LSTM(128, activation='relu', input_shape=(n_input, n_feacture)))\n",
        "model_1.add(Dense(64, activation='relu' ))\n",
        "model_1.add(Dense(32))\n",
        "model_1.add(Dense(1))\n",
        "\n",
        "#Compilacion de la red nueronal\n",
        "model_1.compile(optimizer='adam', loss='mean_squared_error')"
      ],
      "execution_count": 243,
      "outputs": []
    },
    {
      "cell_type": "code",
      "metadata": {
        "colab": {
          "base_uri": "https://localhost:8080/"
        },
        "id": "wDfTuKM4agq0",
        "outputId": "366941dc-6d15-4f57-a896-c29e712c9222"
      },
      "source": [
        "model_1.summary()"
      ],
      "execution_count": 244,
      "outputs": [
        {
          "output_type": "stream",
          "text": [
            "Model: \"sequential_6\"\n",
            "_________________________________________________________________\n",
            "Layer (type)                 Output Shape              Param #   \n",
            "=================================================================\n",
            "lstm_9 (LSTM)                (None, 128)               66560     \n",
            "_________________________________________________________________\n",
            "dense_9 (Dense)              (None, 64)                8256      \n",
            "_________________________________________________________________\n",
            "dense_10 (Dense)             (None, 32)                2080      \n",
            "_________________________________________________________________\n",
            "dense_11 (Dense)             (None, 1)                 33        \n",
            "=================================================================\n",
            "Total params: 76,929\n",
            "Trainable params: 76,929\n",
            "Non-trainable params: 0\n",
            "_________________________________________________________________\n"
          ],
          "name": "stdout"
        }
      ]
    },
    {
      "cell_type": "code",
      "metadata": {
        "colab": {
          "base_uri": "https://localhost:8080/"
        },
        "id": "2ZmG6nYPa5ur",
        "outputId": "e1a973a3-44e5-40fe-e072-ef9712a3c454"
      },
      "source": [
        "#Entrenando la red nueronal\n",
        "\n",
        "model_1.fit_generator(generator, epochs=100)"
      ],
      "execution_count": 245,
      "outputs": [
        {
          "output_type": "stream",
          "text": [
            "Epoch 1/100\n"
          ],
          "name": "stdout"
        },
        {
          "output_type": "stream",
          "text": [
            "/usr/local/lib/python3.7/dist-packages/tensorflow/python/keras/engine/training.py:1844: UserWarning: `Model.fit_generator` is deprecated and will be removed in a future version. Please use `Model.fit`, which supports generators.\n",
            "  warnings.warn('`Model.fit_generator` is deprecated and '\n"
          ],
          "name": "stderr"
        },
        {
          "output_type": "stream",
          "text": [
            "178/178 [==============================] - 4s 14ms/step - loss: 0.0176\n",
            "Epoch 2/100\n",
            "178/178 [==============================] - 2s 13ms/step - loss: 0.0112\n",
            "Epoch 3/100\n",
            "178/178 [==============================] - 2s 13ms/step - loss: 0.0084\n",
            "Epoch 4/100\n",
            "178/178 [==============================] - 2s 13ms/step - loss: 0.0107\n",
            "Epoch 5/100\n",
            "178/178 [==============================] - 2s 13ms/step - loss: 0.0105\n",
            "Epoch 6/100\n",
            "178/178 [==============================] - 2s 13ms/step - loss: 0.0100\n",
            "Epoch 7/100\n",
            "178/178 [==============================] - 2s 13ms/step - loss: 0.0124\n",
            "Epoch 8/100\n",
            "178/178 [==============================] - 2s 13ms/step - loss: 0.0089\n",
            "Epoch 9/100\n",
            "178/178 [==============================] - 2s 13ms/step - loss: 0.0099\n",
            "Epoch 10/100\n",
            "178/178 [==============================] - 2s 13ms/step - loss: 0.0168\n",
            "Epoch 11/100\n",
            "178/178 [==============================] - 2s 14ms/step - loss: 0.0082\n",
            "Epoch 12/100\n",
            "178/178 [==============================] - 2s 13ms/step - loss: 0.0097\n",
            "Epoch 13/100\n",
            "178/178 [==============================] - 2s 14ms/step - loss: 0.0073\n",
            "Epoch 14/100\n",
            "178/178 [==============================] - 2s 14ms/step - loss: 0.0071\n",
            "Epoch 15/100\n",
            "178/178 [==============================] - 2s 14ms/step - loss: 0.0073\n",
            "Epoch 16/100\n",
            "178/178 [==============================] - 2s 14ms/step - loss: 0.0136\n",
            "Epoch 17/100\n",
            "178/178 [==============================] - 2s 13ms/step - loss: 0.0113\n",
            "Epoch 18/100\n",
            "178/178 [==============================] - 2s 13ms/step - loss: 0.0105\n",
            "Epoch 19/100\n",
            "178/178 [==============================] - 2s 13ms/step - loss: 0.0116\n",
            "Epoch 20/100\n",
            "178/178 [==============================] - 2s 13ms/step - loss: 0.0110\n",
            "Epoch 21/100\n",
            "178/178 [==============================] - 2s 14ms/step - loss: 0.0068\n",
            "Epoch 22/100\n",
            "178/178 [==============================] - 2s 14ms/step - loss: 0.0106\n",
            "Epoch 23/100\n",
            "178/178 [==============================] - 2s 14ms/step - loss: 0.0097\n",
            "Epoch 24/100\n",
            "178/178 [==============================] - 2s 14ms/step - loss: 0.0070\n",
            "Epoch 25/100\n",
            "178/178 [==============================] - 2s 14ms/step - loss: 0.0112\n",
            "Epoch 26/100\n",
            "178/178 [==============================] - 2s 14ms/step - loss: 0.0085\n",
            "Epoch 27/100\n",
            "178/178 [==============================] - 2s 14ms/step - loss: 0.0059\n",
            "Epoch 28/100\n",
            "178/178 [==============================] - 2s 14ms/step - loss: 0.0074\n",
            "Epoch 29/100\n",
            "178/178 [==============================] - 2s 13ms/step - loss: 0.0098\n",
            "Epoch 30/100\n",
            "178/178 [==============================] - 2s 13ms/step - loss: 0.0104\n",
            "Epoch 31/100\n",
            "178/178 [==============================] - 2s 13ms/step - loss: 0.0057\n",
            "Epoch 32/100\n",
            "178/178 [==============================] - 2s 14ms/step - loss: 0.0116\n",
            "Epoch 33/100\n",
            "178/178 [==============================] - 2s 13ms/step - loss: 0.0062\n",
            "Epoch 34/100\n",
            "178/178 [==============================] - 2s 14ms/step - loss: 0.0094\n",
            "Epoch 35/100\n",
            "178/178 [==============================] - 2s 14ms/step - loss: 0.0096\n",
            "Epoch 36/100\n",
            "178/178 [==============================] - 2s 14ms/step - loss: 0.0087\n",
            "Epoch 37/100\n",
            "178/178 [==============================] - 3s 14ms/step - loss: 0.0063\n",
            "Epoch 38/100\n",
            "178/178 [==============================] - 2s 14ms/step - loss: 0.0046\n",
            "Epoch 39/100\n",
            "178/178 [==============================] - 2s 14ms/step - loss: 0.0095\n",
            "Epoch 40/100\n",
            "178/178 [==============================] - 2s 14ms/step - loss: 0.0075\n",
            "Epoch 41/100\n",
            "178/178 [==============================] - 2s 14ms/step - loss: 0.0035\n",
            "Epoch 42/100\n",
            "178/178 [==============================] - 2s 13ms/step - loss: 0.0062\n",
            "Epoch 43/100\n",
            "178/178 [==============================] - 2s 14ms/step - loss: 0.0064\n",
            "Epoch 44/100\n",
            "178/178 [==============================] - 2s 14ms/step - loss: 0.0057\n",
            "Epoch 45/100\n",
            "178/178 [==============================] - 2s 14ms/step - loss: 0.0074\n",
            "Epoch 46/100\n",
            "178/178 [==============================] - 3s 14ms/step - loss: 0.0050\n",
            "Epoch 47/100\n",
            "178/178 [==============================] - 2s 14ms/step - loss: 0.0056\n",
            "Epoch 48/100\n",
            "178/178 [==============================] - 2s 14ms/step - loss: 0.0070\n",
            "Epoch 49/100\n",
            "178/178 [==============================] - 2s 14ms/step - loss: 0.0046\n",
            "Epoch 50/100\n",
            "178/178 [==============================] - 2s 14ms/step - loss: 0.0094\n",
            "Epoch 51/100\n",
            "178/178 [==============================] - 3s 14ms/step - loss: 0.0032\n",
            "Epoch 52/100\n",
            "178/178 [==============================] - 2s 14ms/step - loss: 0.0092\n",
            "Epoch 53/100\n",
            "178/178 [==============================] - 2s 14ms/step - loss: 0.0039\n",
            "Epoch 54/100\n",
            "178/178 [==============================] - 2s 14ms/step - loss: 0.0073\n",
            "Epoch 55/100\n",
            "178/178 [==============================] - 2s 14ms/step - loss: 0.0090\n",
            "Epoch 56/100\n",
            "178/178 [==============================] - 2s 14ms/step - loss: 0.0066\n",
            "Epoch 57/100\n",
            "178/178 [==============================] - 2s 14ms/step - loss: 0.0056\n",
            "Epoch 58/100\n",
            "178/178 [==============================] - 3s 14ms/step - loss: 0.0100\n",
            "Epoch 59/100\n",
            "178/178 [==============================] - 2s 14ms/step - loss: 0.0062\n",
            "Epoch 60/100\n",
            "178/178 [==============================] - 2s 14ms/step - loss: 0.0067\n",
            "Epoch 61/100\n",
            "178/178 [==============================] - 2s 14ms/step - loss: 0.0024\n",
            "Epoch 62/100\n",
            "178/178 [==============================] - 2s 14ms/step - loss: 0.0087\n",
            "Epoch 63/100\n",
            "178/178 [==============================] - 2s 14ms/step - loss: 0.0117\n",
            "Epoch 64/100\n",
            "178/178 [==============================] - 3s 14ms/step - loss: 0.0072\n",
            "Epoch 65/100\n",
            "178/178 [==============================] - 2s 14ms/step - loss: 0.0053\n",
            "Epoch 66/100\n",
            "178/178 [==============================] - 2s 14ms/step - loss: 0.0041\n",
            "Epoch 67/100\n",
            "178/178 [==============================] - 2s 14ms/step - loss: 0.0036\n",
            "Epoch 68/100\n",
            "178/178 [==============================] - 2s 14ms/step - loss: 0.0037\n",
            "Epoch 69/100\n",
            "178/178 [==============================] - 2s 14ms/step - loss: 0.0105\n",
            "Epoch 70/100\n",
            "178/178 [==============================] - 2s 13ms/step - loss: 0.0148\n",
            "Epoch 71/100\n",
            "178/178 [==============================] - 2s 14ms/step - loss: 0.0035\n",
            "Epoch 72/100\n",
            "178/178 [==============================] - 2s 14ms/step - loss: 0.0054\n",
            "Epoch 73/100\n",
            "178/178 [==============================] - 2s 14ms/step - loss: 0.0044\n",
            "Epoch 74/100\n",
            "178/178 [==============================] - 2s 14ms/step - loss: 0.0054\n",
            "Epoch 75/100\n",
            "178/178 [==============================] - 3s 14ms/step - loss: 0.0082\n",
            "Epoch 76/100\n",
            "178/178 [==============================] - 2s 14ms/step - loss: 0.0065\n",
            "Epoch 77/100\n",
            "178/178 [==============================] - 2s 14ms/step - loss: 0.0030\n",
            "Epoch 78/100\n",
            "178/178 [==============================] - 2s 14ms/step - loss: 0.0040\n",
            "Epoch 79/100\n",
            "178/178 [==============================] - 2s 14ms/step - loss: 0.0038\n",
            "Epoch 80/100\n",
            "178/178 [==============================] - 2s 14ms/step - loss: 0.0031\n",
            "Epoch 81/100\n",
            "178/178 [==============================] - 2s 14ms/step - loss: 0.0027\n",
            "Epoch 82/100\n",
            "178/178 [==============================] - 2s 14ms/step - loss: 0.0064\n",
            "Epoch 83/100\n",
            "178/178 [==============================] - 2s 14ms/step - loss: 0.0032\n",
            "Epoch 84/100\n",
            "178/178 [==============================] - 3s 14ms/step - loss: 0.0024\n",
            "Epoch 85/100\n",
            "178/178 [==============================] - 2s 14ms/step - loss: 0.0038\n",
            "Epoch 86/100\n",
            "178/178 [==============================] - 2s 14ms/step - loss: 0.0041\n",
            "Epoch 87/100\n",
            "178/178 [==============================] - 3s 14ms/step - loss: 0.0029\n",
            "Epoch 88/100\n",
            "178/178 [==============================] - 2s 14ms/step - loss: 0.0041\n",
            "Epoch 89/100\n",
            "178/178 [==============================] - 2s 14ms/step - loss: 0.0068\n",
            "Epoch 90/100\n",
            "178/178 [==============================] - 2s 13ms/step - loss: 0.0055\n",
            "Epoch 91/100\n",
            "178/178 [==============================] - 2s 14ms/step - loss: 0.0069\n",
            "Epoch 92/100\n",
            "178/178 [==============================] - 2s 14ms/step - loss: 0.0053\n",
            "Epoch 93/100\n",
            "178/178 [==============================] - 2s 14ms/step - loss: 0.0050\n",
            "Epoch 94/100\n",
            "178/178 [==============================] - 2s 14ms/step - loss: 0.0031\n",
            "Epoch 95/100\n",
            "178/178 [==============================] - 2s 14ms/step - loss: 0.0024\n",
            "Epoch 96/100\n",
            "178/178 [==============================] - 2s 13ms/step - loss: 0.0134\n",
            "Epoch 97/100\n",
            "178/178 [==============================] - 2s 14ms/step - loss: 0.0076\n",
            "Epoch 98/100\n",
            "178/178 [==============================] - 2s 14ms/step - loss: 0.0030\n",
            "Epoch 99/100\n",
            "178/178 [==============================] - 2s 14ms/step - loss: 0.0040\n",
            "Epoch 100/100\n",
            "178/178 [==============================] - 2s 14ms/step - loss: 0.0038\n"
          ],
          "name": "stdout"
        },
        {
          "output_type": "execute_result",
          "data": {
            "text/plain": [
              "<tensorflow.python.keras.callbacks.History at 0x7f7e20937490>"
            ]
          },
          "metadata": {
            "tags": []
          },
          "execution_count": 245
        }
      ]
    },
    {
      "cell_type": "code",
      "metadata": {
        "colab": {
          "base_uri": "https://localhost:8080/",
          "height": 282
        },
        "id": "X89-fFaUbB0j",
        "outputId": "ce2e49b0-177e-4f80-fc44-f807de8875f4"
      },
      "source": [
        "loss_pre_epoch = model_1.history.history['loss']\n",
        "plt.plot(range(len(loss_pre_epoch)), loss_pre_epoch)"
      ],
      "execution_count": 246,
      "outputs": [
        {
          "output_type": "execute_result",
          "data": {
            "text/plain": [
              "[<matplotlib.lines.Line2D at 0x7f7e17dc9890>]"
            ]
          },
          "metadata": {
            "tags": []
          },
          "execution_count": 246
        },
        {
          "output_type": "display_data",
          "data": {
            "image/png": "[encoded data removed]",
            "text/plain": [
              "<Figure size 432x288 with 1 Axes>"
            ]
          },
          "metadata": {
            "tags": [],
            "needs_background": "light"
          }
        }
      ]
    },
    {
      "cell_type": "code",
      "metadata": {
        "colab": {
          "base_uri": "https://localhost:8080/"
        },
        "id": "QoqBGVoDcE_-",
        "outputId": "a14b0127-7454-406e-ca87-c119d673e9a6"
      },
      "source": [
        "first_eval = scaled_train[-20:]\n",
        "\n",
        "\n",
        "first_eval = first_eval.reshape(1, n_input, n_feacture)\n",
        "\n",
        "model_1.predict(first_eval)"
      ],
      "execution_count": 248,
      "outputs": [
        {
          "output_type": "execute_result",
          "data": {
            "text/plain": [
              "array([[0.2560448]], dtype=float32)"
            ]
          },
          "metadata": {
            "tags": []
          },
          "execution_count": 248
        }
      ]
    },
    {
      "cell_type": "code",
      "metadata": {
        "id": "VMa-pig6dDg8"
      },
      "source": [
        "test_predictions = []\n",
        "\n",
        "first_eval_batch = scaled_train[-n_input:]\n",
        "current_batch = first_eval.reshape((1, n_input, n_feacture))\n",
        "\n",
        "for i in range(len(test)):\n",
        "    \n",
        "    # obtener la predicción ([0] es para obtener solo el número en lugar de [matriz])\n",
        "    current_pred = model_1.predict(current_batch)[0]\n",
        "    \n",
        "    # guardar la predicción\n",
        "    test_predictions.append(current_pred) \n",
        "    \n",
        "    # actualizar el lote para incluir ahora la predicción y soltar primer valor\n",
        "    current_batch = np.append(current_batch[:,1:,:],[[current_pred]],axis=1)"
      ],
      "execution_count": 252,
      "outputs": []
    },
    {
      "cell_type": "code",
      "metadata": {
        "colab": {
          "base_uri": "https://localhost:8080/"
        },
        "id": "3x-L-RrYfr60",
        "outputId": "6a3ff213-d21a-429e-fff1-018cbf78c9c9"
      },
      "source": [
        "#Transofmacion inversa\n",
        "true_predicctions = scaler.inverse_transform(test_predictions)\n",
        "\n",
        "\n",
        "test['Prediction'] = true_predicctions"
      ],
      "execution_count": 253,
      "outputs": [
        {
          "output_type": "stream",
          "text": [
            "/usr/local/lib/python3.7/dist-packages/ipykernel_launcher.py:5: SettingWithCopyWarning: \n",
            "A value is trying to be set on a copy of a slice from a DataFrame.\n",
            "Try using .loc[row_indexer,col_indexer] = value instead\n",
            "\n",
            "See the caveats in the documentation: https://pandas.pydata.org/pandas-docs/stable/user_guide/indexing.html#returning-a-view-versus-a-copy\n",
            "  \"\"\"\n"
          ],
          "name": "stderr"
        }
      ]
    },
    {
      "cell_type": "code",
      "metadata": {
        "colab": {
          "base_uri": "https://localhost:8080/",
          "height": 537
        },
        "id": "0leZ0WvrgNVE",
        "outputId": "ecca9b3f-5d4b-41c6-cd7d-123771834afd"
      },
      "source": [
        "test.plot(figsize=(12,8))"
      ],
      "execution_count": 254,
      "outputs": [
        {
          "output_type": "execute_result",
          "data": {
            "text/plain": [
              "<matplotlib.axes._subplots.AxesSubplot at 0x7f7e17d10910>"
            ]
          },
          "metadata": {
            "tags": []
          },
          "execution_count": 254
        },
        {
          "output_type": "display_data",
          "data": {
            "image/png": "[encoded data removed]",
            "text/plain": [
              "<Figure size 864x576 with 1 Axes>"
            ]
          },
          "metadata": {
            "tags": [],
            "needs_background": "light"
          }
        }
      ]
    },
    {
      "cell_type": "code",
      "metadata": {
        "colab": {
          "base_uri": "https://localhost:8080/",
          "height": 708
        },
        "id": "rvS_W1FOgQFr",
        "outputId": "cac6e176-46ae-4bff-d5bb-844ce63ac5e1"
      },
      "source": [
        "#Observacion de los test y la predicciones\n",
        "test"
      ],
      "execution_count": 256,
      "outputs": [
        {
          "output_type": "execute_result",
          "data": {
            "text/html": [
              "<div>\n",
              "<style scoped>\n",
              "    .dataframe tbody tr th:only-of-type {\n",
              "        vertical-align: middle;\n",
              "    }\n",
              "\n",
              "    .dataframe tbody tr th {\n",
              "        vertical-align: top;\n",
              "    }\n",
              "\n",
              "    .dataframe thead th {\n",
              "        text-align: right;\n",
              "    }\n",
              "</style>\n",
              "<table border=\"1\" class=\"dataframe\">\n",
              "  <thead>\n",
              "    <tr style=\"text-align: right;\">\n",
              "      <th></th>\n",
              "      <th>new_cases</th>\n",
              "      <th>Prediction</th>\n",
              "    </tr>\n",
              "    <tr>\n",
              "      <th>date</th>\n",
              "      <th></th>\n",
              "      <th></th>\n",
              "    </tr>\n",
              "  </thead>\n",
              "  <tbody>\n",
              "    <tr>\n",
              "      <th>2021-03-10</th>\n",
              "      <td>6602.0</td>\n",
              "      <td>7198.699694</td>\n",
              "    </tr>\n",
              "    <tr>\n",
              "      <th>2021-03-11</th>\n",
              "      <td>6469.0</td>\n",
              "      <td>7769.799540</td>\n",
              "    </tr>\n",
              "    <tr>\n",
              "      <th>2021-03-12</th>\n",
              "      <td>6816.0</td>\n",
              "      <td>8076.432929</td>\n",
              "    </tr>\n",
              "    <tr>\n",
              "      <th>2021-03-13</th>\n",
              "      <td>6104.0</td>\n",
              "      <td>8160.326057</td>\n",
              "    </tr>\n",
              "    <tr>\n",
              "      <th>2021-03-14</th>\n",
              "      <td>2415.0</td>\n",
              "      <td>7344.734266</td>\n",
              "    </tr>\n",
              "    <tr>\n",
              "      <th>2021-03-15</th>\n",
              "      <td>1439.0</td>\n",
              "      <td>5599.512706</td>\n",
              "    </tr>\n",
              "    <tr>\n",
              "      <th>2021-03-16</th>\n",
              "      <td>1278.0</td>\n",
              "      <td>5101.249999</td>\n",
              "    </tr>\n",
              "    <tr>\n",
              "      <th>2021-03-17</th>\n",
              "      <td>6455.0</td>\n",
              "      <td>6185.145794</td>\n",
              "    </tr>\n",
              "    <tr>\n",
              "      <th>2021-03-18</th>\n",
              "      <td>6726.0</td>\n",
              "      <td>6910.484854</td>\n",
              "    </tr>\n",
              "    <tr>\n",
              "      <th>2021-03-19</th>\n",
              "      <td>5722.0</td>\n",
              "      <td>7458.894577</td>\n",
              "    </tr>\n",
              "    <tr>\n",
              "      <th>2021-03-20</th>\n",
              "      <td>5729.0</td>\n",
              "      <td>7780.423177</td>\n",
              "    </tr>\n",
              "    <tr>\n",
              "      <th>2021-03-21</th>\n",
              "      <td>2133.0</td>\n",
              "      <td>7434.924155</td>\n",
              "    </tr>\n",
              "    <tr>\n",
              "      <th>2021-03-22</th>\n",
              "      <td>1388.0</td>\n",
              "      <td>5939.606485</td>\n",
              "    </tr>\n",
              "    <tr>\n",
              "      <th>2021-03-23</th>\n",
              "      <td>5881.0</td>\n",
              "      <td>5102.715472</td>\n",
              "    </tr>\n",
              "    <tr>\n",
              "      <th>2021-03-24</th>\n",
              "      <td>5714.0</td>\n",
              "      <td>5814.965817</td>\n",
              "    </tr>\n",
              "    <tr>\n",
              "      <th>2021-03-25</th>\n",
              "      <td>5787.0</td>\n",
              "      <td>6692.250779</td>\n",
              "    </tr>\n",
              "    <tr>\n",
              "      <th>2021-03-26</th>\n",
              "      <td>5303.0</td>\n",
              "      <td>7169.976746</td>\n",
              "    </tr>\n",
              "    <tr>\n",
              "      <th>2021-03-27</th>\n",
              "      <td>5059.0</td>\n",
              "      <td>7493.859823</td>\n",
              "    </tr>\n",
              "    <tr>\n",
              "      <th>2021-03-28</th>\n",
              "      <td>1646.0</td>\n",
              "      <td>7352.567721</td>\n",
              "    </tr>\n",
              "    <tr>\n",
              "      <th>2021-03-29</th>\n",
              "      <td>1293.0</td>\n",
              "      <td>6104.877388</td>\n",
              "    </tr>\n",
              "  </tbody>\n",
              "</table>\n",
              "</div>"
            ],
            "text/plain": [
              "            new_cases   Prediction\n",
              "date                              \n",
              "2021-03-10     6602.0  7198.699694\n",
              "2021-03-11     6469.0  7769.799540\n",
              "2021-03-12     6816.0  8076.432929\n",
              "2021-03-13     6104.0  8160.326057\n",
              "2021-03-14     2415.0  7344.734266\n",
              "2021-03-15     1439.0  5599.512706\n",
              "2021-03-16     1278.0  5101.249999\n",
              "2021-03-17     6455.0  6185.145794\n",
              "2021-03-18     6726.0  6910.484854\n",
              "2021-03-19     5722.0  7458.894577\n",
              "2021-03-20     5729.0  7780.423177\n",
              "2021-03-21     2133.0  7434.924155\n",
              "2021-03-22     1388.0  5939.606485\n",
              "2021-03-23     5881.0  5102.715472\n",
              "2021-03-24     5714.0  5814.965817\n",
              "2021-03-25     5787.0  6692.250779\n",
              "2021-03-26     5303.0  7169.976746\n",
              "2021-03-27     5059.0  7493.859823\n",
              "2021-03-28     1646.0  7352.567721\n",
              "2021-03-29     1293.0  6104.877388"
            ]
          },
          "metadata": {
            "tags": []
          },
          "execution_count": 256
        }
      ]
    },
    {
      "cell_type": "code",
      "metadata": {
        "id": "OhauPcqbgTDZ"
      },
      "source": [
        ""
      ],
      "execution_count": null,
      "outputs": []
    },
    {
      "cell_type": "markdown",
      "metadata": {
        "id": "KTtysQjUg8Oo"
      },
      "source": [
        "# **Modelo 2**"
      ]
    },
    {
      "cell_type": "code",
      "metadata": {
        "id": "7C13lY2pg-LO"
      },
      "source": [
        ""
      ],
      "execution_count": null,
      "outputs": []
    },
    {
      "cell_type": "code",
      "metadata": {
        "id": "NeE4BFZihONo"
      },
      "source": [
        "# Red neuronal 2\n",
        "# 5 Capas\n",
        "# relu para activacion de cada capa\n",
        "# sgd para compilacion y mse para loss\n",
        "\n",
        "#Red sequential\n",
        "model_2 = Sequential()\n",
        "\n",
        "#Red nueronal con 4 capas, cada capa tiene dierente cantidad de nueronas\n",
        "model_2.add(LSTM(128, activation='relu', input_shape=(n_input, n_feacture)))\n",
        "model_2.add(Dense(64, activation='relu' ))\n",
        "model_2.add(Dense(32, activation='relu'))\n",
        "model_2.add(Dense(12))\n",
        "model_2.add(Dense(1))\n",
        "\n",
        "#Compilacion de la red nueronal\n",
        "model_2.compile(optimizer='sgd', loss='mean_squared_error', )"
      ],
      "execution_count": 278,
      "outputs": []
    },
    {
      "cell_type": "code",
      "metadata": {
        "colab": {
          "base_uri": "https://localhost:8080/"
        },
        "id": "b-xfiKCrhONv",
        "outputId": "8e48e2cd-fb74-4277-bb56-db4d46698a4a"
      },
      "source": [
        "model_2.summary()"
      ],
      "execution_count": 279,
      "outputs": [
        {
          "output_type": "stream",
          "text": [
            "Model: \"sequential_10\"\n",
            "_________________________________________________________________\n",
            "Layer (type)                 Output Shape              Param #   \n",
            "=================================================================\n",
            "lstm_13 (LSTM)               (None, 128)               66560     \n",
            "_________________________________________________________________\n",
            "dense_24 (Dense)             (None, 64)                8256      \n",
            "_________________________________________________________________\n",
            "dense_25 (Dense)             (None, 32)                2080      \n",
            "_________________________________________________________________\n",
            "dense_26 (Dense)             (None, 12)                396       \n",
            "_________________________________________________________________\n",
            "dense_27 (Dense)             (None, 1)                 13        \n",
            "=================================================================\n",
            "Total params: 77,305\n",
            "Trainable params: 77,305\n",
            "Non-trainable params: 0\n",
            "_________________________________________________________________\n"
          ],
          "name": "stdout"
        }
      ]
    },
    {
      "cell_type": "code",
      "metadata": {
        "colab": {
          "base_uri": "https://localhost:8080/"
        },
        "id": "VRiLFXQghON3",
        "outputId": "b8061f87-bc15-4c46-beb9-920c786ec0f5"
      },
      "source": [
        "#Entrenando la red nueronal\n",
        "\n",
        "model_2.fit_generator(generator, epochs=100)"
      ],
      "execution_count": 280,
      "outputs": [
        {
          "output_type": "stream",
          "text": [
            "/usr/local/lib/python3.7/dist-packages/tensorflow/python/keras/engine/training.py:1844: UserWarning: `Model.fit_generator` is deprecated and will be removed in a future version. Please use `Model.fit`, which supports generators.\n",
            "  warnings.warn('`Model.fit_generator` is deprecated and '\n"
          ],
          "name": "stderr"
        },
        {
          "output_type": "stream",
          "text": [
            "Epoch 1/100\n",
            "178/178 [==============================] - 3s 13ms/step - loss: 0.0238\n",
            "Epoch 2/100\n",
            "178/178 [==============================] - 2s 13ms/step - loss: 0.0161\n",
            "Epoch 3/100\n",
            "178/178 [==============================] - 2s 13ms/step - loss: 0.0168\n",
            "Epoch 4/100\n",
            "178/178 [==============================] - 2s 12ms/step - loss: 0.0179\n",
            "Epoch 5/100\n",
            "178/178 [==============================] - 2s 13ms/step - loss: 0.0127\n",
            "Epoch 6/100\n",
            "178/178 [==============================] - 2s 13ms/step - loss: 0.0098\n",
            "Epoch 7/100\n",
            "178/178 [==============================] - 2s 12ms/step - loss: 0.0098\n",
            "Epoch 8/100\n",
            "178/178 [==============================] - 2s 13ms/step - loss: 0.0102\n",
            "Epoch 9/100\n",
            "178/178 [==============================] - 2s 13ms/step - loss: 0.0113\n",
            "Epoch 10/100\n",
            "178/178 [==============================] - 2s 13ms/step - loss: 0.0124\n",
            "Epoch 11/100\n",
            "178/178 [==============================] - 2s 13ms/step - loss: 0.0091\n",
            "Epoch 12/100\n",
            "178/178 [==============================] - 2s 12ms/step - loss: 0.0100\n",
            "Epoch 13/100\n",
            "178/178 [==============================] - 2s 13ms/step - loss: 0.0100\n",
            "Epoch 14/100\n",
            "178/178 [==============================] - 2s 13ms/step - loss: 0.0099\n",
            "Epoch 15/100\n",
            "178/178 [==============================] - 2s 13ms/step - loss: 0.0094\n",
            "Epoch 16/100\n",
            "178/178 [==============================] - 2s 12ms/step - loss: 0.0123\n",
            "Epoch 17/100\n",
            "178/178 [==============================] - 2s 13ms/step - loss: 0.0091\n",
            "Epoch 18/100\n",
            "178/178 [==============================] - 2s 12ms/step - loss: 0.0115\n",
            "Epoch 19/100\n",
            "178/178 [==============================] - 2s 13ms/step - loss: 0.0111\n",
            "Epoch 20/100\n",
            "178/178 [==============================] - 2s 12ms/step - loss: 0.0096\n",
            "Epoch 21/100\n",
            "178/178 [==============================] - 2s 12ms/step - loss: 0.0078\n",
            "Epoch 22/100\n",
            "178/178 [==============================] - 2s 13ms/step - loss: 0.0204\n",
            "Epoch 23/100\n",
            "178/178 [==============================] - 2s 13ms/step - loss: 0.0113\n",
            "Epoch 24/100\n",
            "178/178 [==============================] - 2s 13ms/step - loss: 0.0127\n",
            "Epoch 25/100\n",
            "178/178 [==============================] - 2s 13ms/step - loss: 0.0097\n",
            "Epoch 26/100\n",
            "178/178 [==============================] - 2s 12ms/step - loss: 0.0087\n",
            "Epoch 27/100\n",
            "178/178 [==============================] - 2s 13ms/step - loss: 0.0114\n",
            "Epoch 28/100\n",
            "178/178 [==============================] - 2s 13ms/step - loss: 0.0088\n",
            "Epoch 29/100\n",
            "178/178 [==============================] - 2s 13ms/step - loss: 0.0133\n",
            "Epoch 30/100\n",
            "178/178 [==============================] - 2s 13ms/step - loss: 0.0079\n",
            "Epoch 31/100\n",
            "178/178 [==============================] - 2s 13ms/step - loss: 0.0100\n",
            "Epoch 32/100\n",
            "178/178 [==============================] - 2s 13ms/step - loss: 0.0088\n",
            "Epoch 33/100\n",
            "178/178 [==============================] - 2s 12ms/step - loss: 0.0090\n",
            "Epoch 34/100\n",
            "178/178 [==============================] - 2s 13ms/step - loss: 0.0062\n",
            "Epoch 35/100\n",
            "178/178 [==============================] - 2s 13ms/step - loss: 0.0079\n",
            "Epoch 36/100\n",
            "178/178 [==============================] - 2s 13ms/step - loss: 0.0110\n",
            "Epoch 37/100\n",
            "178/178 [==============================] - 2s 13ms/step - loss: 0.0075\n",
            "Epoch 38/100\n",
            "178/178 [==============================] - 2s 13ms/step - loss: 0.0087\n",
            "Epoch 39/100\n",
            "178/178 [==============================] - 2s 12ms/step - loss: 0.0091\n",
            "Epoch 40/100\n",
            "178/178 [==============================] - 2s 13ms/step - loss: 0.0135\n",
            "Epoch 41/100\n",
            "178/178 [==============================] - 2s 13ms/step - loss: 0.0093\n",
            "Epoch 42/100\n",
            "178/178 [==============================] - 2s 13ms/step - loss: 0.0126\n",
            "Epoch 43/100\n",
            "178/178 [==============================] - 2s 13ms/step - loss: 0.0094\n",
            "Epoch 44/100\n",
            "178/178 [==============================] - 2s 13ms/step - loss: 0.0079\n",
            "Epoch 45/100\n",
            "178/178 [==============================] - 2s 13ms/step - loss: 0.0086\n",
            "Epoch 46/100\n",
            "178/178 [==============================] - 2s 13ms/step - loss: 0.0076\n",
            "Epoch 47/100\n",
            "178/178 [==============================] - 2s 12ms/step - loss: 0.0124\n",
            "Epoch 48/100\n",
            "178/178 [==============================] - 2s 13ms/step - loss: 0.0103\n",
            "Epoch 49/100\n",
            "178/178 [==============================] - 2s 13ms/step - loss: 0.0082\n",
            "Epoch 50/100\n",
            "178/178 [==============================] - 2s 13ms/step - loss: 0.0070\n",
            "Epoch 51/100\n",
            "178/178 [==============================] - 2s 13ms/step - loss: 0.0190\n",
            "Epoch 52/100\n",
            "178/178 [==============================] - 2s 12ms/step - loss: 0.0092\n",
            "Epoch 53/100\n",
            "178/178 [==============================] - 2s 13ms/step - loss: 0.0067\n",
            "Epoch 54/100\n",
            "178/178 [==============================] - 2s 13ms/step - loss: 0.0099\n",
            "Epoch 55/100\n",
            "178/178 [==============================] - 2s 12ms/step - loss: 0.0079\n",
            "Epoch 56/100\n",
            "178/178 [==============================] - 2s 12ms/step - loss: 0.0127\n",
            "Epoch 57/100\n",
            "178/178 [==============================] - 2s 13ms/step - loss: 0.0097\n",
            "Epoch 58/100\n",
            "178/178 [==============================] - 2s 13ms/step - loss: 0.0142\n",
            "Epoch 59/100\n",
            "178/178 [==============================] - 2s 12ms/step - loss: 0.0119\n",
            "Epoch 60/100\n",
            "178/178 [==============================] - 2s 13ms/step - loss: 0.0109\n",
            "Epoch 61/100\n",
            "178/178 [==============================] - 2s 12ms/step - loss: 0.0086\n",
            "Epoch 62/100\n",
            "178/178 [==============================] - 2s 13ms/step - loss: 0.0073\n",
            "Epoch 63/100\n",
            "178/178 [==============================] - 2s 13ms/step - loss: 0.0114\n",
            "Epoch 64/100\n",
            "178/178 [==============================] - 2s 13ms/step - loss: 0.0069\n",
            "Epoch 65/100\n",
            "178/178 [==============================] - 2s 13ms/step - loss: 0.0133\n",
            "Epoch 66/100\n",
            "178/178 [==============================] - 2s 12ms/step - loss: 0.0091\n",
            "Epoch 67/100\n",
            "178/178 [==============================] - 2s 13ms/step - loss: 0.0145\n",
            "Epoch 68/100\n",
            "178/178 [==============================] - 2s 13ms/step - loss: 0.0149\n",
            "Epoch 69/100\n",
            "178/178 [==============================] - 2s 13ms/step - loss: 0.0110\n",
            "Epoch 70/100\n",
            "178/178 [==============================] - 2s 13ms/step - loss: 0.0092\n",
            "Epoch 71/100\n",
            "178/178 [==============================] - 2s 13ms/step - loss: 0.0144\n",
            "Epoch 72/100\n",
            "178/178 [==============================] - 2s 13ms/step - loss: 0.0071\n",
            "Epoch 73/100\n",
            "178/178 [==============================] - 2s 13ms/step - loss: 0.0102\n",
            "Epoch 74/100\n",
            "178/178 [==============================] - 2s 12ms/step - loss: 0.0097\n",
            "Epoch 75/100\n",
            "178/178 [==============================] - 2s 13ms/step - loss: 0.0126\n",
            "Epoch 76/100\n",
            "178/178 [==============================] - 2s 13ms/step - loss: 0.0091\n",
            "Epoch 77/100\n",
            "178/178 [==============================] - 2s 13ms/step - loss: 0.0126\n",
            "Epoch 78/100\n",
            "178/178 [==============================] - 2s 13ms/step - loss: 0.0095\n",
            "Epoch 79/100\n",
            "178/178 [==============================] - 2s 13ms/step - loss: 0.0086\n",
            "Epoch 80/100\n",
            "178/178 [==============================] - 2s 13ms/step - loss: 0.0084\n",
            "Epoch 81/100\n",
            "178/178 [==============================] - 2s 13ms/step - loss: 0.0089\n",
            "Epoch 82/100\n",
            "178/178 [==============================] - 2s 13ms/step - loss: 0.0094\n",
            "Epoch 83/100\n",
            "178/178 [==============================] - 2s 12ms/step - loss: 0.0127\n",
            "Epoch 84/100\n",
            "178/178 [==============================] - 2s 13ms/step - loss: 0.0091\n",
            "Epoch 85/100\n",
            "178/178 [==============================] - 2s 13ms/step - loss: 0.0111\n",
            "Epoch 86/100\n",
            "178/178 [==============================] - 2s 13ms/step - loss: 0.0128\n",
            "Epoch 87/100\n",
            "178/178 [==============================] - 2s 13ms/step - loss: 0.0092\n",
            "Epoch 88/100\n",
            "178/178 [==============================] - 2s 13ms/step - loss: 0.0143\n",
            "Epoch 89/100\n",
            "178/178 [==============================] - 2s 12ms/step - loss: 0.0116\n",
            "Epoch 90/100\n",
            "178/178 [==============================] - 2s 13ms/step - loss: 0.0105\n",
            "Epoch 91/100\n",
            "178/178 [==============================] - 2s 13ms/step - loss: 0.0077\n",
            "Epoch 92/100\n",
            "178/178 [==============================] - 2s 12ms/step - loss: 0.0125\n",
            "Epoch 93/100\n",
            "178/178 [==============================] - 2s 13ms/step - loss: 0.0103\n",
            "Epoch 94/100\n",
            "178/178 [==============================] - 2s 13ms/step - loss: 0.0090\n",
            "Epoch 95/100\n",
            "178/178 [==============================] - 2s 13ms/step - loss: 0.0149\n",
            "Epoch 96/100\n",
            "178/178 [==============================] - 2s 13ms/step - loss: 0.0090\n",
            "Epoch 97/100\n",
            "178/178 [==============================] - 2s 13ms/step - loss: 0.0062\n",
            "Epoch 98/100\n",
            "178/178 [==============================] - 2s 13ms/step - loss: 0.0108\n",
            "Epoch 99/100\n",
            "178/178 [==============================] - 2s 13ms/step - loss: 0.0154\n",
            "Epoch 100/100\n",
            "178/178 [==============================] - 2s 13ms/step - loss: 0.0127\n"
          ],
          "name": "stdout"
        },
        {
          "output_type": "execute_result",
          "data": {
            "text/plain": [
              "<tensorflow.python.keras.callbacks.History at 0x7f7e167c77d0>"
            ]
          },
          "metadata": {
            "tags": []
          },
          "execution_count": 280
        }
      ]
    },
    {
      "cell_type": "code",
      "metadata": {
        "colab": {
          "base_uri": "https://localhost:8080/",
          "height": 282
        },
        "id": "x2hS_MkLhON6",
        "outputId": "3123cff8-dd6b-4cb5-f3ad-f92edc40354a"
      },
      "source": [
        "loss_pre_epoch = model_2.history.history['loss']\n",
        "plt.plot(range(len(loss_pre_epoch)), loss_pre_epoch)"
      ],
      "execution_count": 281,
      "outputs": [
        {
          "output_type": "execute_result",
          "data": {
            "text/plain": [
              "[<matplotlib.lines.Line2D at 0x7f7e13f456d0>]"
            ]
          },
          "metadata": {
            "tags": []
          },
          "execution_count": 281
        },
        {
          "output_type": "display_data",
          "data": {
            "image/png": "[encoded data removed]",
            "text/plain": [
              "<Figure size 432x288 with 1 Axes>"
            ]
          },
          "metadata": {
            "tags": [],
            "needs_background": "light"
          }
        }
      ]
    },
    {
      "cell_type": "code",
      "metadata": {
        "colab": {
          "base_uri": "https://localhost:8080/"
        },
        "id": "OfgGvV4uhON9",
        "outputId": "bedbefef-486d-4a89-9d8f-6aaac9686d5d"
      },
      "source": [
        "first_eval = scaled_train[-20:]\n",
        "\n",
        "\n",
        "first_eval = first_eval.reshape(1, n_input, n_feacture)\n",
        "\n",
        "model_2.predict(first_eval)"
      ],
      "execution_count": 282,
      "outputs": [
        {
          "output_type": "execute_result",
          "data": {
            "text/plain": [
              "array([[0.18676497]], dtype=float32)"
            ]
          },
          "metadata": {
            "tags": []
          },
          "execution_count": 282
        }
      ]
    },
    {
      "cell_type": "code",
      "metadata": {
        "id": "3hQTfB0shON_"
      },
      "source": [
        "test_predictions = []\n",
        "\n",
        "first_eval_batch = scaled_train[-n_input:]\n",
        "current_batch = first_eval.reshape((1, n_input, n_feacture))\n",
        "\n",
        "for i in range(len(test)):\n",
        "    \n",
        "    # obtener la predicción ([0] es para obtener solo el número en lugar de [matriz])\n",
        "    current_pred = model_2.predict(current_batch)[0]\n",
        "    \n",
        "    # guardar la predicción\n",
        "    test_predictions.append(current_pred) \n",
        "    \n",
        "    # actualizar el lote para incluir ahora la predicción y soltar primer valor\n",
        "    current_batch = np.append(current_batch[:,1:,:],[[current_pred]],axis=1)"
      ],
      "execution_count": 283,
      "outputs": []
    },
    {
      "cell_type": "code",
      "metadata": {
        "colab": {
          "base_uri": "https://localhost:8080/"
        },
        "id": "5omYEJWyhOOB",
        "outputId": "4c9a4bed-26af-42b7-cc94-b88f0b792785"
      },
      "source": [
        "#Transofmacion inversa\n",
        "true_predicctions_2 = scaler.inverse_transform(test_predictions)\n",
        "\n",
        "\n",
        "test['Prediction_2'] = true_predicctions_2"
      ],
      "execution_count": 284,
      "outputs": [
        {
          "output_type": "stream",
          "text": [
            "/usr/local/lib/python3.7/dist-packages/ipykernel_launcher.py:5: SettingWithCopyWarning: \n",
            "A value is trying to be set on a copy of a slice from a DataFrame.\n",
            "Try using .loc[row_indexer,col_indexer] = value instead\n",
            "\n",
            "See the caveats in the documentation: https://pandas.pydata.org/pandas-docs/stable/user_guide/indexing.html#returning-a-view-versus-a-copy\n",
            "  \"\"\"\n"
          ],
          "name": "stderr"
        }
      ]
    },
    {
      "cell_type": "code",
      "metadata": {
        "colab": {
          "base_uri": "https://localhost:8080/",
          "height": 537
        },
        "id": "YOr8EsR0hOOB",
        "outputId": "19880ec2-0318-4a0a-e711-ad2a303eca97"
      },
      "source": [
        "test.plot(figsize=(12,8))"
      ],
      "execution_count": 285,
      "outputs": [
        {
          "output_type": "execute_result",
          "data": {
            "text/plain": [
              "<matplotlib.axes._subplots.AxesSubplot at 0x7f7e12dc6450>"
            ]
          },
          "metadata": {
            "tags": []
          },
          "execution_count": 285
        },
        {
          "output_type": "display_data",
          "data": {
            "image/png": "[encoded data removed]",
            "text/plain": [
              "<Figure size 864x576 with 1 Axes>"
            ]
          },
          "metadata": {
            "tags": [],
            "needs_background": "light"
          }
        }
      ]
    },
    {
      "cell_type": "code",
      "metadata": {
        "colab": {
          "base_uri": "https://localhost:8080/",
          "height": 708
        },
        "id": "US7dbUnBhOOC",
        "outputId": "8618abf4-1ff6-4ed8-e894-e372e354c4d6"
      },
      "source": [
        "#Observacion de los test y la predicciones\n",
        "test"
      ],
      "execution_count": 286,
      "outputs": [
        {
          "output_type": "execute_result",
          "data": {
            "text/html": [
              "<div>\n",
              "<style scoped>\n",
              "    .dataframe tbody tr th:only-of-type {\n",
              "        vertical-align: middle;\n",
              "    }\n",
              "\n",
              "    .dataframe tbody tr th {\n",
              "        vertical-align: top;\n",
              "    }\n",
              "\n",
              "    .dataframe thead th {\n",
              "        text-align: right;\n",
              "    }\n",
              "</style>\n",
              "<table border=\"1\" class=\"dataframe\">\n",
              "  <thead>\n",
              "    <tr style=\"text-align: right;\">\n",
              "      <th></th>\n",
              "      <th>new_cases</th>\n",
              "      <th>Prediction</th>\n",
              "      <th>Prediction_2</th>\n",
              "      <th>Prediction_3</th>\n",
              "    </tr>\n",
              "    <tr>\n",
              "      <th>date</th>\n",
              "      <th></th>\n",
              "      <th></th>\n",
              "      <th></th>\n",
              "      <th></th>\n",
              "    </tr>\n",
              "  </thead>\n",
              "  <tbody>\n",
              "    <tr>\n",
              "      <th>2021-03-10</th>\n",
              "      <td>6602.0</td>\n",
              "      <td>7198.699694</td>\n",
              "      <td>5250.897143</td>\n",
              "      <td>7198.699694</td>\n",
              "    </tr>\n",
              "    <tr>\n",
              "      <th>2021-03-11</th>\n",
              "      <td>6469.0</td>\n",
              "      <td>7769.799540</td>\n",
              "      <td>5186.912755</td>\n",
              "      <td>7769.799540</td>\n",
              "    </tr>\n",
              "    <tr>\n",
              "      <th>2021-03-12</th>\n",
              "      <td>6816.0</td>\n",
              "      <td>8076.432929</td>\n",
              "      <td>5130.660437</td>\n",
              "      <td>8076.432929</td>\n",
              "    </tr>\n",
              "    <tr>\n",
              "      <th>2021-03-13</th>\n",
              "      <td>6104.0</td>\n",
              "      <td>8160.326057</td>\n",
              "      <td>5075.684648</td>\n",
              "      <td>8160.326057</td>\n",
              "    </tr>\n",
              "    <tr>\n",
              "      <th>2021-03-14</th>\n",
              "      <td>2415.0</td>\n",
              "      <td>7344.734266</td>\n",
              "      <td>5028.705703</td>\n",
              "      <td>7344.734266</td>\n",
              "    </tr>\n",
              "    <tr>\n",
              "      <th>2021-03-15</th>\n",
              "      <td>1439.0</td>\n",
              "      <td>5599.512706</td>\n",
              "      <td>4983.392906</td>\n",
              "      <td>5599.512706</td>\n",
              "    </tr>\n",
              "    <tr>\n",
              "      <th>2021-03-16</th>\n",
              "      <td>1278.0</td>\n",
              "      <td>5101.249999</td>\n",
              "      <td>4928.503001</td>\n",
              "      <td>5101.249999</td>\n",
              "    </tr>\n",
              "    <tr>\n",
              "      <th>2021-03-17</th>\n",
              "      <td>6455.0</td>\n",
              "      <td>6185.145794</td>\n",
              "      <td>4874.643704</td>\n",
              "      <td>6185.145794</td>\n",
              "    </tr>\n",
              "    <tr>\n",
              "      <th>2021-03-18</th>\n",
              "      <td>6726.0</td>\n",
              "      <td>6910.484854</td>\n",
              "      <td>4821.941954</td>\n",
              "      <td>6910.484854</td>\n",
              "    </tr>\n",
              "    <tr>\n",
              "      <th>2021-03-19</th>\n",
              "      <td>5722.0</td>\n",
              "      <td>7458.894577</td>\n",
              "      <td>4771.677633</td>\n",
              "      <td>7458.894577</td>\n",
              "    </tr>\n",
              "    <tr>\n",
              "      <th>2021-03-20</th>\n",
              "      <td>5729.0</td>\n",
              "      <td>7780.423177</td>\n",
              "      <td>4722.833959</td>\n",
              "      <td>7780.423177</td>\n",
              "    </tr>\n",
              "    <tr>\n",
              "      <th>2021-03-21</th>\n",
              "      <td>2133.0</td>\n",
              "      <td>7434.924155</td>\n",
              "      <td>4681.134573</td>\n",
              "      <td>7434.924155</td>\n",
              "    </tr>\n",
              "    <tr>\n",
              "      <th>2021-03-22</th>\n",
              "      <td>1388.0</td>\n",
              "      <td>5939.606485</td>\n",
              "      <td>4640.373627</td>\n",
              "      <td>5939.606485</td>\n",
              "    </tr>\n",
              "    <tr>\n",
              "      <th>2021-03-23</th>\n",
              "      <td>5881.0</td>\n",
              "      <td>5102.715472</td>\n",
              "      <td>4591.413485</td>\n",
              "      <td>5102.715472</td>\n",
              "    </tr>\n",
              "    <tr>\n",
              "      <th>2021-03-24</th>\n",
              "      <td>5714.0</td>\n",
              "      <td>5814.965817</td>\n",
              "      <td>4543.445827</td>\n",
              "      <td>5814.965817</td>\n",
              "    </tr>\n",
              "    <tr>\n",
              "      <th>2021-03-25</th>\n",
              "      <td>5787.0</td>\n",
              "      <td>6692.250779</td>\n",
              "      <td>4496.390215</td>\n",
              "      <td>6692.250779</td>\n",
              "    </tr>\n",
              "    <tr>\n",
              "      <th>2021-03-26</th>\n",
              "      <td>5303.0</td>\n",
              "      <td>7169.976746</td>\n",
              "      <td>4451.052701</td>\n",
              "      <td>7169.976746</td>\n",
              "    </tr>\n",
              "    <tr>\n",
              "      <th>2021-03-27</th>\n",
              "      <td>5059.0</td>\n",
              "      <td>7493.859823</td>\n",
              "      <td>4406.832097</td>\n",
              "      <td>7493.859823</td>\n",
              "    </tr>\n",
              "    <tr>\n",
              "      <th>2021-03-28</th>\n",
              "      <td>1646.0</td>\n",
              "      <td>7352.567721</td>\n",
              "      <td>4368.850020</td>\n",
              "      <td>7352.567721</td>\n",
              "    </tr>\n",
              "    <tr>\n",
              "      <th>2021-03-29</th>\n",
              "      <td>1293.0</td>\n",
              "      <td>6104.877388</td>\n",
              "      <td>4332.423491</td>\n",
              "      <td>6104.877388</td>\n",
              "    </tr>\n",
              "  </tbody>\n",
              "</table>\n",
              "</div>"
            ],
            "text/plain": [
              "            new_cases   Prediction  Prediction_2  Prediction_3\n",
              "date                                                          \n",
              "2021-03-10     6602.0  7198.699694   5250.897143   7198.699694\n",
              "2021-03-11     6469.0  7769.799540   5186.912755   7769.799540\n",
              "2021-03-12     6816.0  8076.432929   5130.660437   8076.432929\n",
              "2021-03-13     6104.0  8160.326057   5075.684648   8160.326057\n",
              "2021-03-14     2415.0  7344.734266   5028.705703   7344.734266\n",
              "2021-03-15     1439.0  5599.512706   4983.392906   5599.512706\n",
              "2021-03-16     1278.0  5101.249999   4928.503001   5101.249999\n",
              "2021-03-17     6455.0  6185.145794   4874.643704   6185.145794\n",
              "2021-03-18     6726.0  6910.484854   4821.941954   6910.484854\n",
              "2021-03-19     5722.0  7458.894577   4771.677633   7458.894577\n",
              "2021-03-20     5729.0  7780.423177   4722.833959   7780.423177\n",
              "2021-03-21     2133.0  7434.924155   4681.134573   7434.924155\n",
              "2021-03-22     1388.0  5939.606485   4640.373627   5939.606485\n",
              "2021-03-23     5881.0  5102.715472   4591.413485   5102.715472\n",
              "2021-03-24     5714.0  5814.965817   4543.445827   5814.965817\n",
              "2021-03-25     5787.0  6692.250779   4496.390215   6692.250779\n",
              "2021-03-26     5303.0  7169.976746   4451.052701   7169.976746\n",
              "2021-03-27     5059.0  7493.859823   4406.832097   7493.859823\n",
              "2021-03-28     1646.0  7352.567721   4368.850020   7352.567721\n",
              "2021-03-29     1293.0  6104.877388   4332.423491   6104.877388"
            ]
          },
          "metadata": {
            "tags": []
          },
          "execution_count": 286
        }
      ]
    },
    {
      "cell_type": "markdown",
      "metadata": {
        "id": "9com2UK4lSQZ"
      },
      "source": [
        "# **Modeo 3**"
      ]
    },
    {
      "cell_type": "code",
      "metadata": {
        "id": "lyRyhm_wlUFs"
      },
      "source": [
        ""
      ],
      "execution_count": null,
      "outputs": []
    },
    {
      "cell_type": "code",
      "metadata": {
        "id": "0Ya8qNn6lUWz"
      },
      "source": [
        "# Red neuronal 3\n",
        "# 5 Capas\n",
        "# relu para activacion de cada capa\n",
        "# sgd para compilacion y mse para loss\n",
        "\n",
        "#Red sequential\n",
        "model_3 = Sequential()\n",
        "\n",
        "#Red nueronal con 4 capas, cada capa tiene dierente cantidad de nueronas\n",
        "model_3.add(LSTM(168, activation='relu', input_shape=(n_input, n_feacture)))\n",
        "model_3.add(Dense(124, activation='relu' ))\n",
        "model_3.add(Dense(64, activation='relu'))\n",
        "model_3.add(Dense(32))\n",
        "model_3.add(Dense(1))\n",
        "\n",
        "#Compilacion de la red nueronal\n",
        "model_3.compile(optimizer='sgd', loss='mean_squared_error',\n",
        "                metrics=[metrics.mae,\n",
        "                metrics.categorical_accuracy])"
      ],
      "execution_count": 287,
      "outputs": []
    },
    {
      "cell_type": "code",
      "metadata": {
        "colab": {
          "base_uri": "https://localhost:8080/"
        },
        "id": "3kPyYglqlUW4",
        "outputId": "ec6abf8a-7b24-458e-c635-89eb219cff0d"
      },
      "source": [
        "model_3.summary()"
      ],
      "execution_count": 288,
      "outputs": [
        {
          "output_type": "stream",
          "text": [
            "Model: \"sequential_11\"\n",
            "_________________________________________________________________\n",
            "Layer (type)                 Output Shape              Param #   \n",
            "=================================================================\n",
            "lstm_14 (LSTM)               (None, 168)               114240    \n",
            "_________________________________________________________________\n",
            "dense_28 (Dense)             (None, 124)               20956     \n",
            "_________________________________________________________________\n",
            "dense_29 (Dense)             (None, 64)                8000      \n",
            "_________________________________________________________________\n",
            "dense_30 (Dense)             (None, 32)                2080      \n",
            "_________________________________________________________________\n",
            "dense_31 (Dense)             (None, 1)                 33        \n",
            "=================================================================\n",
            "Total params: 145,309\n",
            "Trainable params: 145,309\n",
            "Non-trainable params: 0\n",
            "_________________________________________________________________\n"
          ],
          "name": "stdout"
        }
      ]
    },
    {
      "cell_type": "code",
      "metadata": {
        "colab": {
          "base_uri": "https://localhost:8080/"
        },
        "id": "kbTlz_E8lUW7",
        "outputId": "e6cec178-ec6c-48c1-fa7c-488db7ebe934"
      },
      "source": [
        "#Entrenando la red nueronal\n",
        "\n",
        "model_3.fit_generator(generator, epochs=100)"
      ],
      "execution_count": 289,
      "outputs": [
        {
          "output_type": "stream",
          "text": [
            "Epoch 1/100\n"
          ],
          "name": "stdout"
        },
        {
          "output_type": "stream",
          "text": [
            "/usr/local/lib/python3.7/dist-packages/tensorflow/python/keras/engine/training.py:1844: UserWarning: `Model.fit_generator` is deprecated and will be removed in a future version. Please use `Model.fit`, which supports generators.\n",
            "  warnings.warn('`Model.fit_generator` is deprecated and '\n"
          ],
          "name": "stderr"
        },
        {
          "output_type": "stream",
          "text": [
            "178/178 [==============================] - 4s 17ms/step - loss: 0.0364 - mean_absolute_error: 0.1238 - categorical_accuracy: 1.0000\n",
            "Epoch 2/100\n",
            "178/178 [==============================] - 3s 17ms/step - loss: 0.0148 - mean_absolute_error: 0.0892 - categorical_accuracy: 1.0000\n",
            "Epoch 3/100\n",
            "178/178 [==============================] - 3s 16ms/step - loss: 0.0179 - mean_absolute_error: 0.0959 - categorical_accuracy: 1.0000\n",
            "Epoch 4/100\n",
            "178/178 [==============================] - 3s 17ms/step - loss: 0.0204 - mean_absolute_error: 0.0978 - categorical_accuracy: 1.0000\n",
            "Epoch 5/100\n",
            "178/178 [==============================] - 3s 17ms/step - loss: 0.0117 - mean_absolute_error: 0.0766 - categorical_accuracy: 1.0000\n",
            "Epoch 6/100\n",
            "178/178 [==============================] - 3s 17ms/step - loss: 0.0116 - mean_absolute_error: 0.0761 - categorical_accuracy: 1.0000\n",
            "Epoch 7/100\n",
            "178/178 [==============================] - 3s 17ms/step - loss: 0.0124 - mean_absolute_error: 0.0761 - categorical_accuracy: 1.0000\n",
            "Epoch 8/100\n",
            "178/178 [==============================] - 3s 17ms/step - loss: 0.0100 - mean_absolute_error: 0.0704 - categorical_accuracy: 1.0000\n",
            "Epoch 9/100\n",
            "178/178 [==============================] - 3s 17ms/step - loss: 0.0118 - mean_absolute_error: 0.0651 - categorical_accuracy: 1.0000\n",
            "Epoch 10/100\n",
            "178/178 [==============================] - 3s 17ms/step - loss: 0.0104 - mean_absolute_error: 0.0586 - categorical_accuracy: 1.0000\n",
            "Epoch 11/100\n",
            "178/178 [==============================] - 3s 18ms/step - loss: 0.0105 - mean_absolute_error: 0.0670 - categorical_accuracy: 1.0000\n",
            "Epoch 12/100\n",
            "178/178 [==============================] - 3s 17ms/step - loss: 0.0154 - mean_absolute_error: 0.0777 - categorical_accuracy: 1.0000\n",
            "Epoch 13/100\n",
            "178/178 [==============================] - 3s 17ms/step - loss: 0.0117 - mean_absolute_error: 0.0672 - categorical_accuracy: 1.0000\n",
            "Epoch 14/100\n",
            "178/178 [==============================] - 3s 17ms/step - loss: 0.0112 - mean_absolute_error: 0.0642 - categorical_accuracy: 1.0000\n",
            "Epoch 15/100\n",
            "178/178 [==============================] - 3s 17ms/step - loss: 0.0126 - mean_absolute_error: 0.0650 - categorical_accuracy: 1.0000\n",
            "Epoch 16/100\n",
            "178/178 [==============================] - 3s 17ms/step - loss: 0.0151 - mean_absolute_error: 0.0634 - categorical_accuracy: 1.0000\n",
            "Epoch 17/100\n",
            "178/178 [==============================] - 3s 18ms/step - loss: 0.0078 - mean_absolute_error: 0.0578 - categorical_accuracy: 1.0000\n",
            "Epoch 18/100\n",
            "178/178 [==============================] - 3s 17ms/step - loss: 0.0063 - mean_absolute_error: 0.0526 - categorical_accuracy: 1.0000\n",
            "Epoch 19/100\n",
            "178/178 [==============================] - 3s 17ms/step - loss: 0.0118 - mean_absolute_error: 0.0693 - categorical_accuracy: 1.0000\n",
            "Epoch 20/100\n",
            "178/178 [==============================] - 3s 17ms/step - loss: 0.0115 - mean_absolute_error: 0.0602 - categorical_accuracy: 1.0000\n",
            "Epoch 21/100\n",
            "178/178 [==============================] - 3s 18ms/step - loss: 0.0069 - mean_absolute_error: 0.0535 - categorical_accuracy: 1.0000\n",
            "Epoch 22/100\n",
            "178/178 [==============================] - 3s 17ms/step - loss: 0.0083 - mean_absolute_error: 0.0605 - categorical_accuracy: 1.0000\n",
            "Epoch 23/100\n",
            "178/178 [==============================] - 3s 17ms/step - loss: 0.0126 - mean_absolute_error: 0.0692 - categorical_accuracy: 1.0000\n",
            "Epoch 24/100\n",
            "178/178 [==============================] - 3s 17ms/step - loss: 0.0156 - mean_absolute_error: 0.0737 - categorical_accuracy: 1.0000\n",
            "Epoch 25/100\n",
            "178/178 [==============================] - 3s 17ms/step - loss: 0.0068 - mean_absolute_error: 0.0534 - categorical_accuracy: 1.0000\n",
            "Epoch 26/100\n",
            "178/178 [==============================] - 3s 17ms/step - loss: 0.0086 - mean_absolute_error: 0.0561 - categorical_accuracy: 1.0000\n",
            "Epoch 27/100\n",
            "178/178 [==============================] - 3s 17ms/step - loss: 0.0120 - mean_absolute_error: 0.0644 - categorical_accuracy: 1.0000\n",
            "Epoch 28/100\n",
            "178/178 [==============================] - 3s 18ms/step - loss: 0.0107 - mean_absolute_error: 0.0654 - categorical_accuracy: 1.0000\n",
            "Epoch 29/100\n",
            "178/178 [==============================] - 3s 17ms/step - loss: 0.0087 - mean_absolute_error: 0.0616 - categorical_accuracy: 1.0000\n",
            "Epoch 30/100\n",
            "178/178 [==============================] - 3s 17ms/step - loss: 0.0133 - mean_absolute_error: 0.0574 - categorical_accuracy: 1.0000\n",
            "Epoch 31/100\n",
            "178/178 [==============================] - 3s 17ms/step - loss: 0.0101 - mean_absolute_error: 0.0684 - categorical_accuracy: 1.0000\n",
            "Epoch 32/100\n",
            "178/178 [==============================] - 3s 18ms/step - loss: 0.0131 - mean_absolute_error: 0.0608 - categorical_accuracy: 1.0000\n",
            "Epoch 33/100\n",
            "178/178 [==============================] - 3s 18ms/step - loss: 0.0083 - mean_absolute_error: 0.0616 - categorical_accuracy: 1.0000\n",
            "Epoch 34/100\n",
            "178/178 [==============================] - 3s 18ms/step - loss: 0.0088 - mean_absolute_error: 0.0625 - categorical_accuracy: 1.0000\n",
            "Epoch 35/100\n",
            "178/178 [==============================] - 3s 17ms/step - loss: 0.0089 - mean_absolute_error: 0.0633 - categorical_accuracy: 1.0000\n",
            "Epoch 36/100\n",
            "178/178 [==============================] - 3s 17ms/step - loss: 0.0081 - mean_absolute_error: 0.0620 - categorical_accuracy: 1.0000\n",
            "Epoch 37/100\n",
            "178/178 [==============================] - 3s 18ms/step - loss: 0.0071 - mean_absolute_error: 0.0493 - categorical_accuracy: 1.0000\n",
            "Epoch 38/100\n",
            "178/178 [==============================] - 3s 17ms/step - loss: 0.0099 - mean_absolute_error: 0.0651 - categorical_accuracy: 1.0000\n",
            "Epoch 39/100\n",
            "178/178 [==============================] - 3s 17ms/step - loss: 0.0153 - mean_absolute_error: 0.0706 - categorical_accuracy: 1.0000\n",
            "Epoch 40/100\n",
            "178/178 [==============================] - 3s 17ms/step - loss: 0.0076 - mean_absolute_error: 0.0579 - categorical_accuracy: 1.0000\n",
            "Epoch 41/100\n",
            "178/178 [==============================] - 3s 17ms/step - loss: 0.0164 - mean_absolute_error: 0.0702 - categorical_accuracy: 1.0000\n",
            "Epoch 42/100\n",
            "178/178 [==============================] - 3s 18ms/step - loss: 0.0111 - mean_absolute_error: 0.0630 - categorical_accuracy: 1.0000\n",
            "Epoch 43/100\n",
            "178/178 [==============================] - 3s 18ms/step - loss: 0.0115 - mean_absolute_error: 0.0669 - categorical_accuracy: 1.0000\n",
            "Epoch 44/100\n",
            "178/178 [==============================] - 3s 18ms/step - loss: 0.0133 - mean_absolute_error: 0.0672 - categorical_accuracy: 1.0000\n",
            "Epoch 45/100\n",
            "178/178 [==============================] - 3s 17ms/step - loss: 0.0071 - mean_absolute_error: 0.0558 - categorical_accuracy: 1.0000\n",
            "Epoch 46/100\n",
            "178/178 [==============================] - 3s 18ms/step - loss: 0.0092 - mean_absolute_error: 0.0560 - categorical_accuracy: 1.0000\n",
            "Epoch 47/100\n",
            "178/178 [==============================] - 3s 18ms/step - loss: 0.0094 - mean_absolute_error: 0.0619 - categorical_accuracy: 1.0000\n",
            "Epoch 48/100\n",
            "178/178 [==============================] - 3s 17ms/step - loss: 0.0120 - mean_absolute_error: 0.0685 - categorical_accuracy: 1.0000\n",
            "Epoch 49/100\n",
            "178/178 [==============================] - 3s 17ms/step - loss: 0.0108 - mean_absolute_error: 0.0636 - categorical_accuracy: 1.0000\n",
            "Epoch 50/100\n",
            "178/178 [==============================] - 3s 17ms/step - loss: 0.0101 - mean_absolute_error: 0.0596 - categorical_accuracy: 1.0000\n",
            "Epoch 51/100\n",
            "178/178 [==============================] - 3s 17ms/step - loss: 0.0087 - mean_absolute_error: 0.0560 - categorical_accuracy: 1.0000\n",
            "Epoch 52/100\n",
            "178/178 [==============================] - 3s 17ms/step - loss: 0.0084 - mean_absolute_error: 0.0588 - categorical_accuracy: 1.0000\n",
            "Epoch 53/100\n",
            "178/178 [==============================] - 3s 18ms/step - loss: 0.0074 - mean_absolute_error: 0.0547 - categorical_accuracy: 1.0000\n",
            "Epoch 54/100\n",
            "178/178 [==============================] - 3s 18ms/step - loss: 0.0164 - mean_absolute_error: 0.0685 - categorical_accuracy: 1.0000\n",
            "Epoch 55/100\n",
            "178/178 [==============================] - 3s 18ms/step - loss: 0.0106 - mean_absolute_error: 0.0621 - categorical_accuracy: 1.0000\n",
            "Epoch 56/100\n",
            "178/178 [==============================] - 3s 18ms/step - loss: 0.0092 - mean_absolute_error: 0.0628 - categorical_accuracy: 1.0000\n",
            "Epoch 57/100\n",
            "178/178 [==============================] - 3s 18ms/step - loss: 0.0069 - mean_absolute_error: 0.0504 - categorical_accuracy: 1.0000\n",
            "Epoch 58/100\n",
            "178/178 [==============================] - 3s 18ms/step - loss: 0.0082 - mean_absolute_error: 0.0585 - categorical_accuracy: 1.0000\n",
            "Epoch 59/100\n",
            "178/178 [==============================] - 3s 18ms/step - loss: 0.0094 - mean_absolute_error: 0.0609 - categorical_accuracy: 1.0000\n",
            "Epoch 60/100\n",
            "178/178 [==============================] - 3s 17ms/step - loss: 0.0090 - mean_absolute_error: 0.0550 - categorical_accuracy: 1.0000\n",
            "Epoch 61/100\n",
            "178/178 [==============================] - 3s 18ms/step - loss: 0.0086 - mean_absolute_error: 0.0539 - categorical_accuracy: 1.0000\n",
            "Epoch 62/100\n",
            "178/178 [==============================] - 3s 18ms/step - loss: 0.0091 - mean_absolute_error: 0.0551 - categorical_accuracy: 1.0000\n",
            "Epoch 63/100\n",
            "178/178 [==============================] - 3s 18ms/step - loss: 0.0080 - mean_absolute_error: 0.0570 - categorical_accuracy: 1.0000\n",
            "Epoch 64/100\n",
            "178/178 [==============================] - 3s 18ms/step - loss: 0.0165 - mean_absolute_error: 0.0722 - categorical_accuracy: 1.0000\n",
            "Epoch 65/100\n",
            "178/178 [==============================] - 3s 17ms/step - loss: 0.0078 - mean_absolute_error: 0.0548 - categorical_accuracy: 1.0000\n",
            "Epoch 66/100\n",
            "178/178 [==============================] - 3s 18ms/step - loss: 0.0079 - mean_absolute_error: 0.0580 - categorical_accuracy: 1.0000\n",
            "Epoch 67/100\n",
            "178/178 [==============================] - 3s 17ms/step - loss: 0.0095 - mean_absolute_error: 0.0628 - categorical_accuracy: 1.0000\n",
            "Epoch 68/100\n",
            "178/178 [==============================] - 3s 17ms/step - loss: 0.0082 - mean_absolute_error: 0.0568 - categorical_accuracy: 1.0000\n",
            "Epoch 69/100\n",
            "178/178 [==============================] - 3s 18ms/step - loss: 0.0143 - mean_absolute_error: 0.0715 - categorical_accuracy: 1.0000\n",
            "Epoch 70/100\n",
            "178/178 [==============================] - 3s 17ms/step - loss: 0.0108 - mean_absolute_error: 0.0625 - categorical_accuracy: 1.0000\n",
            "Epoch 71/100\n",
            "178/178 [==============================] - 3s 18ms/step - loss: 0.0148 - mean_absolute_error: 0.0709 - categorical_accuracy: 1.0000\n",
            "Epoch 72/100\n",
            "178/178 [==============================] - 3s 18ms/step - loss: 0.0070 - mean_absolute_error: 0.0595 - categorical_accuracy: 1.0000\n",
            "Epoch 73/100\n",
            "178/178 [==============================] - 3s 18ms/step - loss: 0.0157 - mean_absolute_error: 0.0672 - categorical_accuracy: 1.0000\n",
            "Epoch 74/100\n",
            "178/178 [==============================] - 3s 18ms/step - loss: 0.0118 - mean_absolute_error: 0.0658 - categorical_accuracy: 1.0000\n",
            "Epoch 75/100\n",
            "178/178 [==============================] - 3s 18ms/step - loss: 0.0086 - mean_absolute_error: 0.0530 - categorical_accuracy: 1.0000\n",
            "Epoch 76/100\n",
            "178/178 [==============================] - 3s 18ms/step - loss: 0.0120 - mean_absolute_error: 0.0697 - categorical_accuracy: 1.0000\n",
            "Epoch 77/100\n",
            "178/178 [==============================] - 3s 18ms/step - loss: 0.0065 - mean_absolute_error: 0.0509 - categorical_accuracy: 1.0000\n",
            "Epoch 78/100\n",
            "178/178 [==============================] - 3s 18ms/step - loss: 0.0097 - mean_absolute_error: 0.0588 - categorical_accuracy: 1.0000\n",
            "Epoch 79/100\n",
            "178/178 [==============================] - 3s 17ms/step - loss: 0.0090 - mean_absolute_error: 0.0590 - categorical_accuracy: 1.0000\n",
            "Epoch 80/100\n",
            "178/178 [==============================] - 3s 18ms/step - loss: 0.0091 - mean_absolute_error: 0.0583 - categorical_accuracy: 1.0000\n",
            "Epoch 81/100\n",
            "178/178 [==============================] - 3s 18ms/step - loss: 0.0084 - mean_absolute_error: 0.0584 - categorical_accuracy: 1.0000\n",
            "Epoch 82/100\n",
            "178/178 [==============================] - 3s 18ms/step - loss: 0.0067 - mean_absolute_error: 0.0558 - categorical_accuracy: 1.0000\n",
            "Epoch 83/100\n",
            "178/178 [==============================] - 3s 18ms/step - loss: 0.0088 - mean_absolute_error: 0.0595 - categorical_accuracy: 1.0000\n",
            "Epoch 84/100\n",
            "178/178 [==============================] - 3s 18ms/step - loss: 0.0084 - mean_absolute_error: 0.0596 - categorical_accuracy: 1.0000\n",
            "Epoch 85/100\n",
            "178/178 [==============================] - 3s 18ms/step - loss: 0.0070 - mean_absolute_error: 0.0506 - categorical_accuracy: 1.0000\n",
            "Epoch 86/100\n",
            "178/178 [==============================] - 3s 18ms/step - loss: 0.0101 - mean_absolute_error: 0.0602 - categorical_accuracy: 1.0000\n",
            "Epoch 87/100\n",
            "178/178 [==============================] - 3s 18ms/step - loss: 0.0088 - mean_absolute_error: 0.0621 - categorical_accuracy: 1.0000\n",
            "Epoch 88/100\n",
            "178/178 [==============================] - 3s 18ms/step - loss: 0.0093 - mean_absolute_error: 0.0601 - categorical_accuracy: 1.0000\n",
            "Epoch 89/100\n",
            "178/178 [==============================] - 3s 18ms/step - loss: 0.0085 - mean_absolute_error: 0.0573 - categorical_accuracy: 1.0000\n",
            "Epoch 90/100\n",
            "178/178 [==============================] - 3s 18ms/step - loss: 0.0101 - mean_absolute_error: 0.0619 - categorical_accuracy: 1.0000\n",
            "Epoch 91/100\n",
            "178/178 [==============================] - 3s 18ms/step - loss: 0.0072 - mean_absolute_error: 0.0508 - categorical_accuracy: 1.0000\n",
            "Epoch 92/100\n",
            "178/178 [==============================] - 3s 18ms/step - loss: 0.0098 - mean_absolute_error: 0.0651 - categorical_accuracy: 1.0000\n",
            "Epoch 93/100\n",
            "178/178 [==============================] - 3s 18ms/step - loss: 0.0104 - mean_absolute_error: 0.0664 - categorical_accuracy: 1.0000\n",
            "Epoch 94/100\n",
            "178/178 [==============================] - 3s 18ms/step - loss: 0.0078 - mean_absolute_error: 0.0601 - categorical_accuracy: 1.0000\n",
            "Epoch 95/100\n",
            "178/178 [==============================] - 3s 18ms/step - loss: 0.0103 - mean_absolute_error: 0.0653 - categorical_accuracy: 1.0000\n",
            "Epoch 96/100\n",
            "178/178 [==============================] - 3s 18ms/step - loss: 0.0104 - mean_absolute_error: 0.0632 - categorical_accuracy: 1.0000\n",
            "Epoch 97/100\n",
            "178/178 [==============================] - 3s 18ms/step - loss: 0.0082 - mean_absolute_error: 0.0573 - categorical_accuracy: 1.0000\n",
            "Epoch 98/100\n",
            "178/178 [==============================] - 3s 18ms/step - loss: 0.0069 - mean_absolute_error: 0.0533 - categorical_accuracy: 1.0000\n",
            "Epoch 99/100\n",
            "178/178 [==============================] - 3s 18ms/step - loss: 0.0088 - mean_absolute_error: 0.0629 - categorical_accuracy: 1.0000\n",
            "Epoch 100/100\n",
            "178/178 [==============================] - 3s 18ms/step - loss: 0.0132 - mean_absolute_error: 0.0681 - categorical_accuracy: 1.0000\n"
          ],
          "name": "stdout"
        },
        {
          "output_type": "execute_result",
          "data": {
            "text/plain": [
              "<tensorflow.python.keras.callbacks.History at 0x7f7e12ce9650>"
            ]
          },
          "metadata": {
            "tags": []
          },
          "execution_count": 289
        }
      ]
    },
    {
      "cell_type": "code",
      "metadata": {
        "colab": {
          "base_uri": "https://localhost:8080/"
        },
        "id": "gtFTYw2wlUXA",
        "outputId": "d91537d8-571e-4c7b-bfe8-80c1cf206725"
      },
      "source": [
        "first_eval_3 = scaled_train[-20:]\n",
        "\n",
        "\n",
        "first_eval_3 = first_eval_3.reshape(1, n_input, n_feacture)\n",
        "\n",
        "model_3.predict(first_eval_3)"
      ],
      "execution_count": 290,
      "outputs": [
        {
          "output_type": "execute_result",
          "data": {
            "text/plain": [
              "array([[0.20016062]], dtype=float32)"
            ]
          },
          "metadata": {
            "tags": []
          },
          "execution_count": 290
        }
      ]
    },
    {
      "cell_type": "code",
      "metadata": {
        "id": "I0xsowNMlUXC"
      },
      "source": [
        "test_predictions_3 = []\n",
        "\n",
        "first_eval_batch = scaled_train[-n_input:]\n",
        "current_batch = first_eval_3.reshape((1, n_input, n_feacture))\n",
        "\n",
        "for i in range(len(test)):\n",
        "    \n",
        "    # obtener la predicción ([0] es para obtener solo el número en lugar de [matriz])\n",
        "    current_pred = model_3.predict(current_batch)[0]\n",
        "    \n",
        "    # guardar la predicción\n",
        "    test_predictions_3.append(current_pred) \n",
        "    \n",
        "    # actualizar el lote para incluir ahora la predicción y soltar primer valor\n",
        "    current_batch = np.append(current_batch[:,1:,:],[[current_pred]],axis=1)"
      ],
      "execution_count": 291,
      "outputs": []
    },
    {
      "cell_type": "code",
      "metadata": {
        "colab": {
          "base_uri": "https://localhost:8080/"
        },
        "id": "Z7iRUT8HlUXD",
        "outputId": "c1dd7f25-8ec1-4ed6-e736-a9b1293e1ae7"
      },
      "source": [
        "#Transofmacion inversa\n",
        "true_predicctions_3 = scaler.inverse_transform(test_predictions_3)\n",
        "\n",
        "\n",
        "test['Prediction_3'] = true_predicctions_3"
      ],
      "execution_count": 292,
      "outputs": [
        {
          "output_type": "stream",
          "text": [
            "/usr/local/lib/python3.7/dist-packages/ipykernel_launcher.py:5: SettingWithCopyWarning: \n",
            "A value is trying to be set on a copy of a slice from a DataFrame.\n",
            "Try using .loc[row_indexer,col_indexer] = value instead\n",
            "\n",
            "See the caveats in the documentation: https://pandas.pydata.org/pandas-docs/stable/user_guide/indexing.html#returning-a-view-versus-a-copy\n",
            "  \"\"\"\n"
          ],
          "name": "stderr"
        }
      ]
    },
    {
      "cell_type": "code",
      "metadata": {
        "colab": {
          "base_uri": "https://localhost:8080/",
          "height": 537
        },
        "id": "-R3egc6VlUXE",
        "outputId": "bd662225-b340-4615-a5bd-220b60450103"
      },
      "source": [
        "test.plot(figsize=(12,8))"
      ],
      "execution_count": 293,
      "outputs": [
        {
          "output_type": "execute_result",
          "data": {
            "text/plain": [
              "<matplotlib.axes._subplots.AxesSubplot at 0x7f7e118f2850>"
            ]
          },
          "metadata": {
            "tags": []
          },
          "execution_count": 293
        },
        {
          "output_type": "display_data",
          "data": {
            "image/png": "[encoded data removed]",
            "text/plain": [
              "<Figure size 864x576 with 1 Axes>"
            ]
          },
          "metadata": {
            "tags": [],
            "needs_background": "light"
          }
        }
      ]
    },
    {
      "cell_type": "code",
      "metadata": {
        "colab": {
          "base_uri": "https://localhost:8080/",
          "height": 708
        },
        "id": "Dj9JG3EflUXF",
        "outputId": "db534776-03fc-4580-a51b-c522e476ab08"
      },
      "source": [
        "#Observacion de los test y la predicciones\n",
        "test"
      ],
      "execution_count": 294,
      "outputs": [
        {
          "output_type": "execute_result",
          "data": {
            "text/html": [
              "<div>\n",
              "<style scoped>\n",
              "    .dataframe tbody tr th:only-of-type {\n",
              "        vertical-align: middle;\n",
              "    }\n",
              "\n",
              "    .dataframe tbody tr th {\n",
              "        vertical-align: top;\n",
              "    }\n",
              "\n",
              "    .dataframe thead th {\n",
              "        text-align: right;\n",
              "    }\n",
              "</style>\n",
              "<table border=\"1\" class=\"dataframe\">\n",
              "  <thead>\n",
              "    <tr style=\"text-align: right;\">\n",
              "      <th></th>\n",
              "      <th>new_cases</th>\n",
              "      <th>Prediction</th>\n",
              "      <th>Prediction_2</th>\n",
              "      <th>Prediction_3</th>\n",
              "    </tr>\n",
              "    <tr>\n",
              "      <th>date</th>\n",
              "      <th></th>\n",
              "      <th></th>\n",
              "      <th></th>\n",
              "      <th></th>\n",
              "    </tr>\n",
              "  </thead>\n",
              "  <tbody>\n",
              "    <tr>\n",
              "      <th>2021-03-10</th>\n",
              "      <td>6602.0</td>\n",
              "      <td>7198.699694</td>\n",
              "      <td>5250.897143</td>\n",
              "      <td>5627.515904</td>\n",
              "    </tr>\n",
              "    <tr>\n",
              "      <th>2021-03-11</th>\n",
              "      <td>6469.0</td>\n",
              "      <td>7769.799540</td>\n",
              "      <td>5186.912755</td>\n",
              "      <td>5636.928367</td>\n",
              "    </tr>\n",
              "    <tr>\n",
              "      <th>2021-03-12</th>\n",
              "      <td>6816.0</td>\n",
              "      <td>8076.432929</td>\n",
              "      <td>5130.660437</td>\n",
              "      <td>5653.709674</td>\n",
              "    </tr>\n",
              "    <tr>\n",
              "      <th>2021-03-13</th>\n",
              "      <td>6104.0</td>\n",
              "      <td>8160.326057</td>\n",
              "      <td>5075.684648</td>\n",
              "      <td>5671.982010</td>\n",
              "    </tr>\n",
              "    <tr>\n",
              "      <th>2021-03-14</th>\n",
              "      <td>2415.0</td>\n",
              "      <td>7344.734266</td>\n",
              "      <td>5028.705703</td>\n",
              "      <td>5699.074420</td>\n",
              "    </tr>\n",
              "    <tr>\n",
              "      <th>2021-03-15</th>\n",
              "      <td>1439.0</td>\n",
              "      <td>5599.512706</td>\n",
              "      <td>4983.392906</td>\n",
              "      <td>5728.060885</td>\n",
              "    </tr>\n",
              "    <tr>\n",
              "      <th>2021-03-16</th>\n",
              "      <td>1278.0</td>\n",
              "      <td>5101.249999</td>\n",
              "      <td>4928.503001</td>\n",
              "      <td>5746.008538</td>\n",
              "    </tr>\n",
              "    <tr>\n",
              "      <th>2021-03-17</th>\n",
              "      <td>6455.0</td>\n",
              "      <td>6185.145794</td>\n",
              "      <td>4874.643704</td>\n",
              "      <td>5764.402787</td>\n",
              "    </tr>\n",
              "    <tr>\n",
              "      <th>2021-03-18</th>\n",
              "      <td>6726.0</td>\n",
              "      <td>6910.484854</td>\n",
              "      <td>4821.941954</td>\n",
              "      <td>5783.478243</td>\n",
              "    </tr>\n",
              "    <tr>\n",
              "      <th>2021-03-19</th>\n",
              "      <td>5722.0</td>\n",
              "      <td>7458.894577</td>\n",
              "      <td>4771.677633</td>\n",
              "      <td>5804.322909</td>\n",
              "    </tr>\n",
              "    <tr>\n",
              "      <th>2021-03-20</th>\n",
              "      <td>5729.0</td>\n",
              "      <td>7780.423177</td>\n",
              "      <td>4722.833959</td>\n",
              "      <td>5825.895703</td>\n",
              "    </tr>\n",
              "    <tr>\n",
              "      <th>2021-03-21</th>\n",
              "      <td>2133.0</td>\n",
              "      <td>7434.924155</td>\n",
              "      <td>4681.134573</td>\n",
              "      <td>5854.833151</td>\n",
              "    </tr>\n",
              "    <tr>\n",
              "      <th>2021-03-22</th>\n",
              "      <td>1388.0</td>\n",
              "      <td>5939.606485</td>\n",
              "      <td>4640.373627</td>\n",
              "      <td>5884.288836</td>\n",
              "    </tr>\n",
              "    <tr>\n",
              "      <th>2021-03-23</th>\n",
              "      <td>5881.0</td>\n",
              "      <td>5102.715472</td>\n",
              "      <td>4591.413485</td>\n",
              "      <td>5903.843147</td>\n",
              "    </tr>\n",
              "    <tr>\n",
              "      <th>2021-03-24</th>\n",
              "      <td>5714.0</td>\n",
              "      <td>5814.965817</td>\n",
              "      <td>4543.445827</td>\n",
              "      <td>5923.799228</td>\n",
              "    </tr>\n",
              "    <tr>\n",
              "      <th>2021-03-25</th>\n",
              "      <td>5787.0</td>\n",
              "      <td>6692.250779</td>\n",
              "      <td>4496.390215</td>\n",
              "      <td>5944.339738</td>\n",
              "    </tr>\n",
              "    <tr>\n",
              "      <th>2021-03-26</th>\n",
              "      <td>5303.0</td>\n",
              "      <td>7169.976746</td>\n",
              "      <td>4451.052701</td>\n",
              "      <td>5965.982915</td>\n",
              "    </tr>\n",
              "    <tr>\n",
              "      <th>2021-03-27</th>\n",
              "      <td>5059.0</td>\n",
              "      <td>7493.859823</td>\n",
              "      <td>4406.832097</td>\n",
              "      <td>5988.034565</td>\n",
              "    </tr>\n",
              "    <tr>\n",
              "      <th>2021-03-28</th>\n",
              "      <td>1646.0</td>\n",
              "      <td>7352.567721</td>\n",
              "      <td>4368.850020</td>\n",
              "      <td>6016.163028</td>\n",
              "    </tr>\n",
              "    <tr>\n",
              "      <th>2021-03-29</th>\n",
              "      <td>1293.0</td>\n",
              "      <td>6104.877388</td>\n",
              "      <td>4332.423491</td>\n",
              "      <td>6045.486326</td>\n",
              "    </tr>\n",
              "  </tbody>\n",
              "</table>\n",
              "</div>"
            ],
            "text/plain": [
              "            new_cases   Prediction  Prediction_2  Prediction_3\n",
              "date                                                          \n",
              "2021-03-10     6602.0  7198.699694   5250.897143   5627.515904\n",
              "2021-03-11     6469.0  7769.799540   5186.912755   5636.928367\n",
              "2021-03-12     6816.0  8076.432929   5130.660437   5653.709674\n",
              "2021-03-13     6104.0  8160.326057   5075.684648   5671.982010\n",
              "2021-03-14     2415.0  7344.734266   5028.705703   5699.074420\n",
              "2021-03-15     1439.0  5599.512706   4983.392906   5728.060885\n",
              "2021-03-16     1278.0  5101.249999   4928.503001   5746.008538\n",
              "2021-03-17     6455.0  6185.145794   4874.643704   5764.402787\n",
              "2021-03-18     6726.0  6910.484854   4821.941954   5783.478243\n",
              "2021-03-19     5722.0  7458.894577   4771.677633   5804.322909\n",
              "2021-03-20     5729.0  7780.423177   4722.833959   5825.895703\n",
              "2021-03-21     2133.0  7434.924155   4681.134573   5854.833151\n",
              "2021-03-22     1388.0  5939.606485   4640.373627   5884.288836\n",
              "2021-03-23     5881.0  5102.715472   4591.413485   5903.843147\n",
              "2021-03-24     5714.0  5814.965817   4543.445827   5923.799228\n",
              "2021-03-25     5787.0  6692.250779   4496.390215   5944.339738\n",
              "2021-03-26     5303.0  7169.976746   4451.052701   5965.982915\n",
              "2021-03-27     5059.0  7493.859823   4406.832097   5988.034565\n",
              "2021-03-28     1646.0  7352.567721   4368.850020   6016.163028\n",
              "2021-03-29     1293.0  6104.877388   4332.423491   6045.486326"
            ]
          },
          "metadata": {
            "tags": []
          },
          "execution_count": 294
        }
      ]
    },
    {
      "cell_type": "markdown",
      "metadata": {
        "id": "dZxNfYxMsqAk"
      },
      "source": [
        "# **Modelo 4**"
      ]
    },
    {
      "cell_type": "code",
      "metadata": {
        "id": "cMW920F3sreM"
      },
      "source": [
        ""
      ],
      "execution_count": null,
      "outputs": []
    },
    {
      "cell_type": "code",
      "metadata": {
        "id": "1E4dd79AsrvB"
      },
      "source": [
        "# Red neuronal 4\n",
        "# 5 Capas\n",
        "# relu para activacion de cada capa\n",
        "# adam para compilacion y mse para loss\n",
        "\n",
        "#Red sequential\n",
        "model_4 = Sequential()\n",
        "\n",
        "#Red nueronal con 4 capas, cada capa tiene dierente cantidad de nueronas\n",
        "model_4.add(LSTM(200, activation='relu', input_shape=(n_input, n_feacture)))\n",
        "model_4.add(Dense(100, activation='relu' ))\n",
        "model_4.add(Dense(84, activation='relu'))\n",
        "model_4.add(Dense(32, activation='relu'))\n",
        "model_4.add(Dense(32))\n",
        "model_4.add(Dense(1))\n",
        "\n",
        "#Compilacion de la red nueronal\n",
        "model_4.compile(optimizer='adam', loss='mean_squared_error',\n",
        "                metrics=[metrics.mae,\n",
        "                metrics.categorical_accuracy])"
      ],
      "execution_count": 303,
      "outputs": []
    },
    {
      "cell_type": "code",
      "metadata": {
        "colab": {
          "base_uri": "https://localhost:8080/"
        },
        "id": "4vyhjqlpsxqK",
        "outputId": "14df2b15-7132-4345-bb99-fb344e5116dc"
      },
      "source": [
        "model_4.summary()"
      ],
      "execution_count": 304,
      "outputs": [
        {
          "output_type": "stream",
          "text": [
            "Model: \"sequential_13\"\n",
            "_________________________________________________________________\n",
            "Layer (type)                 Output Shape              Param #   \n",
            "=================================================================\n",
            "lstm_16 (LSTM)               (None, 200)               161600    \n",
            "_________________________________________________________________\n",
            "dense_36 (Dense)             (None, 100)               20100     \n",
            "_________________________________________________________________\n",
            "dense_37 (Dense)             (None, 84)                8484      \n",
            "_________________________________________________________________\n",
            "dense_38 (Dense)             (None, 32)                2720      \n",
            "_________________________________________________________________\n",
            "dense_39 (Dense)             (None, 32)                1056      \n",
            "_________________________________________________________________\n",
            "dense_40 (Dense)             (None, 1)                 33        \n",
            "=================================================================\n",
            "Total params: 193,993\n",
            "Trainable params: 193,993\n",
            "Non-trainable params: 0\n",
            "_________________________________________________________________\n"
          ],
          "name": "stdout"
        }
      ]
    },
    {
      "cell_type": "code",
      "metadata": {
        "colab": {
          "base_uri": "https://localhost:8080/"
        },
        "id": "rGQarEa4sxqO",
        "outputId": "86174543-5fe2-4896-fad8-0fb6dd8872c8"
      },
      "source": [
        "#Entrenando la red nueronal\n",
        "\n",
        "model_4.fit_generator(generator, epochs=200)"
      ],
      "execution_count": 305,
      "outputs": [
        {
          "output_type": "stream",
          "text": [
            "Epoch 1/200\n"
          ],
          "name": "stdout"
        },
        {
          "output_type": "stream",
          "text": [
            "/usr/local/lib/python3.7/dist-packages/tensorflow/python/keras/engine/training.py:1844: UserWarning: `Model.fit_generator` is deprecated and will be removed in a future version. Please use `Model.fit`, which supports generators.\n",
            "  warnings.warn('`Model.fit_generator` is deprecated and '\n"
          ],
          "name": "stderr"
        },
        {
          "output_type": "stream",
          "text": [
            "178/178 [==============================] - 5s 21ms/step - loss: 0.0212 - mean_absolute_error: 0.0961 - categorical_accuracy: 1.0000\n",
            "Epoch 2/200\n",
            "178/178 [==============================] - 4s 21ms/step - loss: 0.0118 - mean_absolute_error: 0.0764 - categorical_accuracy: 1.0000\n",
            "Epoch 3/200\n",
            "178/178 [==============================] - 4s 21ms/step - loss: 0.0102 - mean_absolute_error: 0.0674 - categorical_accuracy: 1.0000\n",
            "Epoch 4/200\n",
            "178/178 [==============================] - 4s 21ms/step - loss: 0.0107 - mean_absolute_error: 0.0662 - categorical_accuracy: 1.0000\n",
            "Epoch 5/200\n",
            "178/178 [==============================] - 4s 21ms/step - loss: 0.0127 - mean_absolute_error: 0.0707 - categorical_accuracy: 1.0000\n",
            "Epoch 6/200\n",
            "178/178 [==============================] - 4s 21ms/step - loss: 0.0109 - mean_absolute_error: 0.0728 - categorical_accuracy: 1.0000\n",
            "Epoch 7/200\n",
            "178/178 [==============================] - 4s 21ms/step - loss: 0.0109 - mean_absolute_error: 0.0711 - categorical_accuracy: 1.0000\n",
            "Epoch 8/200\n",
            "178/178 [==============================] - 4s 21ms/step - loss: 0.0112 - mean_absolute_error: 0.0679 - categorical_accuracy: 1.0000\n",
            "Epoch 9/200\n",
            "178/178 [==============================] - 4s 22ms/step - loss: 0.0130 - mean_absolute_error: 0.0745 - categorical_accuracy: 1.0000\n",
            "Epoch 10/200\n",
            "178/178 [==============================] - 4s 21ms/step - loss: 0.0101 - mean_absolute_error: 0.0632 - categorical_accuracy: 1.0000\n",
            "Epoch 11/200\n",
            "178/178 [==============================] - 4s 22ms/step - loss: 0.0086 - mean_absolute_error: 0.0633 - categorical_accuracy: 1.0000\n",
            "Epoch 12/200\n",
            "178/178 [==============================] - 4s 21ms/step - loss: 0.0117 - mean_absolute_error: 0.0738 - categorical_accuracy: 1.0000\n",
            "Epoch 13/200\n",
            "178/178 [==============================] - 4s 21ms/step - loss: 0.0090 - mean_absolute_error: 0.0613 - categorical_accuracy: 1.0000\n",
            "Epoch 14/200\n",
            "178/178 [==============================] - 4s 22ms/step - loss: 0.0148 - mean_absolute_error: 0.0752 - categorical_accuracy: 1.0000\n",
            "Epoch 15/200\n",
            "178/178 [==============================] - 4s 22ms/step - loss: 0.0077 - mean_absolute_error: 0.0618 - categorical_accuracy: 1.0000\n",
            "Epoch 16/200\n",
            "178/178 [==============================] - 4s 22ms/step - loss: 0.0105 - mean_absolute_error: 0.0677 - categorical_accuracy: 1.0000\n",
            "Epoch 17/200\n",
            "178/178 [==============================] - 4s 21ms/step - loss: 0.0100 - mean_absolute_error: 0.0684 - categorical_accuracy: 1.0000\n",
            "Epoch 18/200\n",
            "178/178 [==============================] - 4s 22ms/step - loss: 0.0120 - mean_absolute_error: 0.0727 - categorical_accuracy: 1.0000\n",
            "Epoch 19/200\n",
            "178/178 [==============================] - 4s 22ms/step - loss: 0.0099 - mean_absolute_error: 0.0655 - categorical_accuracy: 1.0000\n",
            "Epoch 20/200\n",
            "178/178 [==============================] - 4s 22ms/step - loss: 0.0089 - mean_absolute_error: 0.0581 - categorical_accuracy: 1.0000\n",
            "Epoch 21/200\n",
            "178/178 [==============================] - 4s 22ms/step - loss: 0.0091 - mean_absolute_error: 0.0591 - categorical_accuracy: 1.0000\n",
            "Epoch 22/200\n",
            "178/178 [==============================] - 4s 22ms/step - loss: 0.0083 - mean_absolute_error: 0.0584 - categorical_accuracy: 1.0000\n",
            "Epoch 23/200\n",
            "178/178 [==============================] - 4s 22ms/step - loss: 0.0107 - mean_absolute_error: 0.0710 - categorical_accuracy: 1.0000\n",
            "Epoch 24/200\n",
            "178/178 [==============================] - 4s 22ms/step - loss: 0.0115 - mean_absolute_error: 0.0693 - categorical_accuracy: 1.0000\n",
            "Epoch 25/200\n",
            "178/178 [==============================] - 4s 22ms/step - loss: 0.0182 - mean_absolute_error: 0.0805 - categorical_accuracy: 1.0000\n",
            "Epoch 26/200\n",
            "178/178 [==============================] - 4s 22ms/step - loss: 0.0102 - mean_absolute_error: 0.0607 - categorical_accuracy: 1.0000\n",
            "Epoch 27/200\n",
            "178/178 [==============================] - 4s 22ms/step - loss: 0.0080 - mean_absolute_error: 0.0555 - categorical_accuracy: 1.0000\n",
            "Epoch 28/200\n",
            "178/178 [==============================] - 4s 22ms/step - loss: 0.0146 - mean_absolute_error: 0.0753 - categorical_accuracy: 1.0000\n",
            "Epoch 29/200\n",
            "178/178 [==============================] - 4s 22ms/step - loss: 0.0107 - mean_absolute_error: 0.0608 - categorical_accuracy: 1.0000\n",
            "Epoch 30/200\n",
            "178/178 [==============================] - 4s 22ms/step - loss: 0.0078 - mean_absolute_error: 0.0574 - categorical_accuracy: 1.0000\n",
            "Epoch 31/200\n",
            "178/178 [==============================] - 4s 21ms/step - loss: 0.0074 - mean_absolute_error: 0.0520 - categorical_accuracy: 1.0000\n",
            "Epoch 32/200\n",
            "178/178 [==============================] - 4s 22ms/step - loss: 0.0069 - mean_absolute_error: 0.0573 - categorical_accuracy: 1.0000\n",
            "Epoch 33/200\n",
            "178/178 [==============================] - 4s 22ms/step - loss: 0.0084 - mean_absolute_error: 0.0558 - categorical_accuracy: 1.0000\n",
            "Epoch 34/200\n",
            "178/178 [==============================] - 4s 22ms/step - loss: 0.0112 - mean_absolute_error: 0.0584 - categorical_accuracy: 1.0000\n",
            "Epoch 35/200\n",
            "178/178 [==============================] - 4s 22ms/step - loss: 0.0078 - mean_absolute_error: 0.0564 - categorical_accuracy: 1.0000\n",
            "Epoch 36/200\n",
            "178/178 [==============================] - 4s 22ms/step - loss: 0.0058 - mean_absolute_error: 0.0522 - categorical_accuracy: 1.0000\n",
            "Epoch 37/200\n",
            "178/178 [==============================] - 4s 22ms/step - loss: 0.0070 - mean_absolute_error: 0.0553 - categorical_accuracy: 1.0000\n",
            "Epoch 38/200\n",
            "178/178 [==============================] - 4s 22ms/step - loss: 0.0141 - mean_absolute_error: 0.0637 - categorical_accuracy: 1.0000\n",
            "Epoch 39/200\n",
            "178/178 [==============================] - 4s 22ms/step - loss: 0.0055 - mean_absolute_error: 0.0500 - categorical_accuracy: 1.0000\n",
            "Epoch 40/200\n",
            "178/178 [==============================] - 4s 22ms/step - loss: 0.0122 - mean_absolute_error: 0.0669 - categorical_accuracy: 1.0000\n",
            "Epoch 41/200\n",
            "178/178 [==============================] - 4s 22ms/step - loss: 0.0102 - mean_absolute_error: 0.0594 - categorical_accuracy: 1.0000\n",
            "Epoch 42/200\n",
            "178/178 [==============================] - 4s 22ms/step - loss: 0.0058 - mean_absolute_error: 0.0508 - categorical_accuracy: 1.0000\n",
            "Epoch 43/200\n",
            "178/178 [==============================] - 4s 22ms/step - loss: 0.0051 - mean_absolute_error: 0.0457 - categorical_accuracy: 1.0000\n",
            "Epoch 44/200\n",
            "178/178 [==============================] - 4s 22ms/step - loss: 0.0124 - mean_absolute_error: 0.0626 - categorical_accuracy: 1.0000\n",
            "Epoch 45/200\n",
            "178/178 [==============================] - 4s 22ms/step - loss: 0.0074 - mean_absolute_error: 0.0540 - categorical_accuracy: 1.0000\n",
            "Epoch 46/200\n",
            "178/178 [==============================] - 4s 21ms/step - loss: 0.0077 - mean_absolute_error: 0.0534 - categorical_accuracy: 1.0000\n",
            "Epoch 47/200\n",
            "178/178 [==============================] - 4s 22ms/step - loss: 0.0142 - mean_absolute_error: 0.0649 - categorical_accuracy: 1.0000\n",
            "Epoch 48/200\n",
            "178/178 [==============================] - 4s 22ms/step - loss: 0.0055 - mean_absolute_error: 0.0506 - categorical_accuracy: 1.0000\n",
            "Epoch 49/200\n",
            "178/178 [==============================] - 4s 22ms/step - loss: 0.0084 - mean_absolute_error: 0.0578 - categorical_accuracy: 1.0000\n",
            "Epoch 50/200\n",
            "178/178 [==============================] - 4s 22ms/step - loss: 0.0121 - mean_absolute_error: 0.0566 - categorical_accuracy: 1.0000\n",
            "Epoch 51/200\n",
            "178/178 [==============================] - 4s 21ms/step - loss: 0.0052 - mean_absolute_error: 0.0457 - categorical_accuracy: 1.0000\n",
            "Epoch 52/200\n",
            "178/178 [==============================] - 4s 22ms/step - loss: 0.0069 - mean_absolute_error: 0.0590 - categorical_accuracy: 1.0000\n",
            "Epoch 53/200\n",
            "178/178 [==============================] - 4s 22ms/step - loss: 0.0082 - mean_absolute_error: 0.0533 - categorical_accuracy: 1.0000\n",
            "Epoch 54/200\n",
            "178/178 [==============================] - 4s 22ms/step - loss: 0.0069 - mean_absolute_error: 0.0463 - categorical_accuracy: 1.0000\n",
            "Epoch 55/200\n",
            "178/178 [==============================] - 4s 22ms/step - loss: 0.0085 - mean_absolute_error: 0.0557 - categorical_accuracy: 1.0000\n",
            "Epoch 56/200\n",
            "178/178 [==============================] - 4s 22ms/step - loss: 0.0053 - mean_absolute_error: 0.0467 - categorical_accuracy: 1.0000\n",
            "Epoch 57/200\n",
            "178/178 [==============================] - 4s 22ms/step - loss: 0.0069 - mean_absolute_error: 0.0528 - categorical_accuracy: 1.0000\n",
            "Epoch 58/200\n",
            "178/178 [==============================] - 4s 22ms/step - loss: 0.0069 - mean_absolute_error: 0.0454 - categorical_accuracy: 1.0000\n",
            "Epoch 59/200\n",
            "178/178 [==============================] - 4s 22ms/step - loss: 0.0079 - mean_absolute_error: 0.0532 - categorical_accuracy: 1.0000\n",
            "Epoch 60/200\n",
            "178/178 [==============================] - 4s 22ms/step - loss: 0.0056 - mean_absolute_error: 0.0478 - categorical_accuracy: 1.0000\n",
            "Epoch 61/200\n",
            "178/178 [==============================] - 4s 22ms/step - loss: 0.0048 - mean_absolute_error: 0.0418 - categorical_accuracy: 1.0000\n",
            "Epoch 62/200\n",
            "178/178 [==============================] - 4s 22ms/step - loss: 0.0086 - mean_absolute_error: 0.0535 - categorical_accuracy: 1.0000\n",
            "Epoch 63/200\n",
            "178/178 [==============================] - 4s 22ms/step - loss: 0.0052 - mean_absolute_error: 0.0435 - categorical_accuracy: 1.0000\n",
            "Epoch 64/200\n",
            "178/178 [==============================] - 4s 22ms/step - loss: 0.0095 - mean_absolute_error: 0.0573 - categorical_accuracy: 1.0000\n",
            "Epoch 65/200\n",
            "178/178 [==============================] - 4s 22ms/step - loss: 0.0029 - mean_absolute_error: 0.0341 - categorical_accuracy: 1.0000\n",
            "Epoch 66/200\n",
            "178/178 [==============================] - 4s 22ms/step - loss: 0.0058 - mean_absolute_error: 0.0436 - categorical_accuracy: 1.0000\n",
            "Epoch 67/200\n",
            "178/178 [==============================] - 4s 22ms/step - loss: 0.0076 - mean_absolute_error: 0.0450 - categorical_accuracy: 1.0000\n",
            "Epoch 68/200\n",
            "178/178 [==============================] - 4s 22ms/step - loss: 0.0048 - mean_absolute_error: 0.0423 - categorical_accuracy: 1.0000\n",
            "Epoch 69/200\n",
            "178/178 [==============================] - 4s 22ms/step - loss: 0.0153 - mean_absolute_error: 0.0597 - categorical_accuracy: 1.0000\n",
            "Epoch 70/200\n",
            "178/178 [==============================] - 4s 22ms/step - loss: 0.0045 - mean_absolute_error: 0.0389 - categorical_accuracy: 1.0000\n",
            "Epoch 71/200\n",
            "178/178 [==============================] - 4s 22ms/step - loss: 0.0050 - mean_absolute_error: 0.0469 - categorical_accuracy: 1.0000\n",
            "Epoch 72/200\n",
            "178/178 [==============================] - 4s 22ms/step - loss: 0.0046 - mean_absolute_error: 0.0440 - categorical_accuracy: 1.0000\n",
            "Epoch 73/200\n",
            "178/178 [==============================] - 4s 22ms/step - loss: 0.0036 - mean_absolute_error: 0.0407 - categorical_accuracy: 1.0000\n",
            "Epoch 74/200\n",
            "178/178 [==============================] - 4s 22ms/step - loss: 0.0055 - mean_absolute_error: 0.0452 - categorical_accuracy: 1.0000\n",
            "Epoch 75/200\n",
            "178/178 [==============================] - 4s 22ms/step - loss: 0.0078 - mean_absolute_error: 0.0467 - categorical_accuracy: 1.0000\n",
            "Epoch 76/200\n",
            "178/178 [==============================] - 4s 22ms/step - loss: 0.0046 - mean_absolute_error: 0.0427 - categorical_accuracy: 1.0000\n",
            "Epoch 77/200\n",
            "178/178 [==============================] - 4s 22ms/step - loss: 0.0119 - mean_absolute_error: 0.0484 - categorical_accuracy: 1.0000\n",
            "Epoch 78/200\n",
            "178/178 [==============================] - 4s 22ms/step - loss: 0.0055 - mean_absolute_error: 0.0420 - categorical_accuracy: 1.0000\n",
            "Epoch 79/200\n",
            "178/178 [==============================] - 4s 22ms/step - loss: 0.0034 - mean_absolute_error: 0.0396 - categorical_accuracy: 1.0000\n",
            "Epoch 80/200\n",
            "178/178 [==============================] - 4s 22ms/step - loss: 0.0032 - mean_absolute_error: 0.0359 - categorical_accuracy: 1.0000\n",
            "Epoch 81/200\n",
            "178/178 [==============================] - 4s 22ms/step - loss: 0.0067 - mean_absolute_error: 0.0468 - categorical_accuracy: 1.0000\n",
            "Epoch 82/200\n",
            "178/178 [==============================] - 4s 22ms/step - loss: 0.0034 - mean_absolute_error: 0.0400 - categorical_accuracy: 1.0000\n",
            "Epoch 83/200\n",
            "178/178 [==============================] - 4s 22ms/step - loss: 0.0056 - mean_absolute_error: 0.0468 - categorical_accuracy: 1.0000\n",
            "Epoch 84/200\n",
            "178/178 [==============================] - 4s 22ms/step - loss: 0.0027 - mean_absolute_error: 0.0342 - categorical_accuracy: 1.0000\n",
            "Epoch 85/200\n",
            "178/178 [==============================] - 4s 22ms/step - loss: 0.0132 - mean_absolute_error: 0.0642 - categorical_accuracy: 1.0000\n",
            "Epoch 86/200\n",
            "178/178 [==============================] - 4s 22ms/step - loss: 0.0061 - mean_absolute_error: 0.0463 - categorical_accuracy: 1.0000\n",
            "Epoch 87/200\n",
            "178/178 [==============================] - 4s 22ms/step - loss: 0.0029 - mean_absolute_error: 0.0308 - categorical_accuracy: 1.0000\n",
            "Epoch 88/200\n",
            "178/178 [==============================] - 4s 22ms/step - loss: 0.0064 - mean_absolute_error: 0.0424 - categorical_accuracy: 1.0000\n",
            "Epoch 89/200\n",
            "178/178 [==============================] - 4s 22ms/step - loss: 0.0046 - mean_absolute_error: 0.0352 - categorical_accuracy: 1.0000\n",
            "Epoch 90/200\n",
            "178/178 [==============================] - 4s 22ms/step - loss: 0.0048 - mean_absolute_error: 0.0411 - categorical_accuracy: 1.0000\n",
            "Epoch 91/200\n",
            "178/178 [==============================] - 4s 22ms/step - loss: 0.0059 - mean_absolute_error: 0.0409 - categorical_accuracy: 1.0000\n",
            "Epoch 92/200\n",
            "178/178 [==============================] - 4s 23ms/step - loss: 0.0031 - mean_absolute_error: 0.0352 - categorical_accuracy: 1.0000\n",
            "Epoch 93/200\n",
            "178/178 [==============================] - 4s 22ms/step - loss: 0.0042 - mean_absolute_error: 0.0383 - categorical_accuracy: 1.0000\n",
            "Epoch 94/200\n",
            "178/178 [==============================] - 4s 22ms/step - loss: 0.0038 - mean_absolute_error: 0.0337 - categorical_accuracy: 1.0000\n",
            "Epoch 95/200\n",
            "178/178 [==============================] - 4s 22ms/step - loss: 0.0055 - mean_absolute_error: 0.0419 - categorical_accuracy: 1.0000\n",
            "Epoch 96/200\n",
            "178/178 [==============================] - 4s 22ms/step - loss: 0.0032 - mean_absolute_error: 0.0302 - categorical_accuracy: 1.0000\n",
            "Epoch 97/200\n",
            "178/178 [==============================] - 4s 22ms/step - loss: 0.0032 - mean_absolute_error: 0.0383 - categorical_accuracy: 1.0000\n",
            "Epoch 98/200\n",
            "178/178 [==============================] - 4s 22ms/step - loss: 0.0034 - mean_absolute_error: 0.0354 - categorical_accuracy: 1.0000\n",
            "Epoch 99/200\n",
            "178/178 [==============================] - 4s 22ms/step - loss: 0.0022 - mean_absolute_error: 0.0317 - categorical_accuracy: 1.0000\n",
            "Epoch 100/200\n",
            "178/178 [==============================] - 4s 22ms/step - loss: 0.0030 - mean_absolute_error: 0.0348 - categorical_accuracy: 1.0000\n",
            "Epoch 101/200\n",
            "178/178 [==============================] - 4s 22ms/step - loss: 0.0055 - mean_absolute_error: 0.0396 - categorical_accuracy: 1.0000\n",
            "Epoch 102/200\n",
            "178/178 [==============================] - 4s 23ms/step - loss: 0.0043 - mean_absolute_error: 0.0356 - categorical_accuracy: 1.0000\n",
            "Epoch 103/200\n",
            "178/178 [==============================] - 4s 22ms/step - loss: 0.0027 - mean_absolute_error: 0.0327 - categorical_accuracy: 1.0000\n",
            "Epoch 104/200\n",
            "178/178 [==============================] - 4s 22ms/step - loss: 0.0063 - mean_absolute_error: 0.0421 - categorical_accuracy: 1.0000\n",
            "Epoch 105/200\n",
            "178/178 [==============================] - 4s 22ms/step - loss: 0.0028 - mean_absolute_error: 0.0353 - categorical_accuracy: 1.0000\n",
            "Epoch 106/200\n",
            "178/178 [==============================] - 4s 22ms/step - loss: 0.0111 - mean_absolute_error: 0.0450 - categorical_accuracy: 1.0000\n",
            "Epoch 107/200\n",
            "178/178 [==============================] - 4s 23ms/step - loss: 0.0037 - mean_absolute_error: 0.0321 - categorical_accuracy: 1.0000\n",
            "Epoch 108/200\n",
            "178/178 [==============================] - 4s 22ms/step - loss: 0.0048 - mean_absolute_error: 0.0402 - categorical_accuracy: 1.0000\n",
            "Epoch 109/200\n",
            "178/178 [==============================] - 4s 22ms/step - loss: 0.0029 - mean_absolute_error: 0.0300 - categorical_accuracy: 1.0000\n",
            "Epoch 110/200\n",
            "178/178 [==============================] - 4s 22ms/step - loss: 0.0043 - mean_absolute_error: 0.0354 - categorical_accuracy: 1.0000\n",
            "Epoch 111/200\n",
            "178/178 [==============================] - 4s 22ms/step - loss: 0.0022 - mean_absolute_error: 0.0301 - categorical_accuracy: 1.0000\n",
            "Epoch 112/200\n",
            "178/178 [==============================] - 4s 22ms/step - loss: 0.0019 - mean_absolute_error: 0.0303 - categorical_accuracy: 1.0000\n",
            "Epoch 113/200\n",
            "178/178 [==============================] - 4s 22ms/step - loss: 0.0030 - mean_absolute_error: 0.0339 - categorical_accuracy: 1.0000\n",
            "Epoch 114/200\n",
            "178/178 [==============================] - 4s 23ms/step - loss: 0.0052 - mean_absolute_error: 0.0352 - categorical_accuracy: 1.0000\n",
            "Epoch 115/200\n",
            "178/178 [==============================] - 4s 22ms/step - loss: 0.0047 - mean_absolute_error: 0.0341 - categorical_accuracy: 1.0000\n",
            "Epoch 116/200\n",
            "178/178 [==============================] - 4s 22ms/step - loss: 0.0161 - mean_absolute_error: 0.0605 - categorical_accuracy: 1.0000\n",
            "Epoch 117/200\n",
            "178/178 [==============================] - 4s 22ms/step - loss: 0.0021 - mean_absolute_error: 0.0321 - categorical_accuracy: 1.0000\n",
            "Epoch 118/200\n",
            "178/178 [==============================] - 4s 23ms/step - loss: 0.0032 - mean_absolute_error: 0.0348 - categorical_accuracy: 1.0000\n",
            "Epoch 119/200\n",
            "178/178 [==============================] - 4s 22ms/step - loss: 0.0042 - mean_absolute_error: 0.0438 - categorical_accuracy: 1.0000\n",
            "Epoch 120/200\n",
            "178/178 [==============================] - 4s 22ms/step - loss: 0.0025 - mean_absolute_error: 0.0324 - categorical_accuracy: 1.0000\n",
            "Epoch 121/200\n",
            "178/178 [==============================] - 4s 22ms/step - loss: 0.0041 - mean_absolute_error: 0.0322 - categorical_accuracy: 1.0000\n",
            "Epoch 122/200\n",
            "178/178 [==============================] - 4s 22ms/step - loss: 0.0022 - mean_absolute_error: 0.0318 - categorical_accuracy: 1.0000\n",
            "Epoch 123/200\n",
            "178/178 [==============================] - 4s 22ms/step - loss: 0.0022 - mean_absolute_error: 0.0312 - categorical_accuracy: 1.0000\n",
            "Epoch 124/200\n",
            "178/178 [==============================] - 4s 22ms/step - loss: 0.0046 - mean_absolute_error: 0.0308 - categorical_accuracy: 1.0000\n",
            "Epoch 125/200\n",
            "178/178 [==============================] - 4s 22ms/step - loss: 0.0019 - mean_absolute_error: 0.0294 - categorical_accuracy: 1.0000\n",
            "Epoch 126/200\n",
            "178/178 [==============================] - 4s 22ms/step - loss: 0.0122 - mean_absolute_error: 0.0402 - categorical_accuracy: 1.0000\n",
            "Epoch 127/200\n",
            "178/178 [==============================] - 4s 22ms/step - loss: 0.0049 - mean_absolute_error: 0.0333 - categorical_accuracy: 1.0000\n",
            "Epoch 128/200\n",
            "178/178 [==============================] - 4s 22ms/step - loss: 0.0033 - mean_absolute_error: 0.0353 - categorical_accuracy: 1.0000\n",
            "Epoch 129/200\n",
            "178/178 [==============================] - 4s 22ms/step - loss: 0.0026 - mean_absolute_error: 0.0311 - categorical_accuracy: 1.0000\n",
            "Epoch 130/200\n",
            "178/178 [==============================] - 4s 22ms/step - loss: 0.0026 - mean_absolute_error: 0.0305 - categorical_accuracy: 1.0000\n",
            "Epoch 131/200\n",
            "178/178 [==============================] - 4s 22ms/step - loss: 0.0061 - mean_absolute_error: 0.0365 - categorical_accuracy: 1.0000\n",
            "Epoch 132/200\n",
            "178/178 [==============================] - 4s 22ms/step - loss: 0.0015 - mean_absolute_error: 0.0241 - categorical_accuracy: 1.0000\n",
            "Epoch 133/200\n",
            "178/178 [==============================] - 4s 22ms/step - loss: 0.0027 - mean_absolute_error: 0.0308 - categorical_accuracy: 1.0000\n",
            "Epoch 134/200\n",
            "178/178 [==============================] - 4s 22ms/step - loss: 0.0036 - mean_absolute_error: 0.0386 - categorical_accuracy: 1.0000\n",
            "Epoch 135/200\n",
            "178/178 [==============================] - 4s 22ms/step - loss: 0.0070 - mean_absolute_error: 0.0451 - categorical_accuracy: 1.0000\n",
            "Epoch 136/200\n",
            "178/178 [==============================] - 4s 22ms/step - loss: 0.0017 - mean_absolute_error: 0.0282 - categorical_accuracy: 1.0000\n",
            "Epoch 137/200\n",
            "178/178 [==============================] - 4s 22ms/step - loss: 0.0033 - mean_absolute_error: 0.0275 - categorical_accuracy: 1.0000\n",
            "Epoch 138/200\n",
            "178/178 [==============================] - 4s 22ms/step - loss: 0.0029 - mean_absolute_error: 0.0277 - categorical_accuracy: 1.0000\n",
            "Epoch 139/200\n",
            "178/178 [==============================] - 4s 22ms/step - loss: 0.0025 - mean_absolute_error: 0.0282 - categorical_accuracy: 1.0000\n",
            "Epoch 140/200\n",
            "178/178 [==============================] - 4s 22ms/step - loss: 0.0024 - mean_absolute_error: 0.0296 - categorical_accuracy: 1.0000\n",
            "Epoch 141/200\n",
            "178/178 [==============================] - 4s 22ms/step - loss: 0.0020 - mean_absolute_error: 0.0276 - categorical_accuracy: 1.0000\n",
            "Epoch 142/200\n",
            "178/178 [==============================] - 4s 22ms/step - loss: 0.0015 - mean_absolute_error: 0.0267 - categorical_accuracy: 1.0000\n",
            "Epoch 143/200\n",
            "178/178 [==============================] - 4s 22ms/step - loss: 0.0021 - mean_absolute_error: 0.0300 - categorical_accuracy: 1.0000\n",
            "Epoch 144/200\n",
            "178/178 [==============================] - 4s 22ms/step - loss: 0.0024 - mean_absolute_error: 0.0304 - categorical_accuracy: 1.0000\n",
            "Epoch 145/200\n",
            "178/178 [==============================] - 4s 22ms/step - loss: 0.0027 - mean_absolute_error: 0.0253 - categorical_accuracy: 1.0000\n",
            "Epoch 146/200\n",
            "178/178 [==============================] - 4s 23ms/step - loss: 0.0029 - mean_absolute_error: 0.0259 - categorical_accuracy: 1.0000\n",
            "Epoch 147/200\n",
            "178/178 [==============================] - 4s 22ms/step - loss: 0.0085 - mean_absolute_error: 0.0360 - categorical_accuracy: 1.0000\n",
            "Epoch 148/200\n",
            "178/178 [==============================] - 4s 22ms/step - loss: 0.0084 - mean_absolute_error: 0.0403 - categorical_accuracy: 1.0000\n",
            "Epoch 149/200\n",
            "178/178 [==============================] - 4s 22ms/step - loss: 0.0027 - mean_absolute_error: 0.0330 - categorical_accuracy: 1.0000\n",
            "Epoch 150/200\n",
            "178/178 [==============================] - 4s 23ms/step - loss: 0.0031 - mean_absolute_error: 0.0311 - categorical_accuracy: 1.0000\n",
            "Epoch 151/200\n",
            "178/178 [==============================] - 4s 23ms/step - loss: 0.0017 - mean_absolute_error: 0.0284 - categorical_accuracy: 1.0000\n",
            "Epoch 152/200\n",
            "178/178 [==============================] - 4s 22ms/step - loss: 0.0029 - mean_absolute_error: 0.0305 - categorical_accuracy: 1.0000\n",
            "Epoch 153/200\n",
            "178/178 [==============================] - 4s 22ms/step - loss: 0.0032 - mean_absolute_error: 0.0257 - categorical_accuracy: 1.0000\n",
            "Epoch 154/200\n",
            "178/178 [==============================] - 4s 22ms/step - loss: 0.0032 - mean_absolute_error: 0.0259 - categorical_accuracy: 1.0000\n",
            "Epoch 155/200\n",
            "178/178 [==============================] - 4s 23ms/step - loss: 0.0022 - mean_absolute_error: 0.0252 - categorical_accuracy: 1.0000\n",
            "Epoch 156/200\n",
            "178/178 [==============================] - 4s 23ms/step - loss: 0.0102 - mean_absolute_error: 0.0375 - categorical_accuracy: 1.0000\n",
            "Epoch 157/200\n",
            "178/178 [==============================] - 4s 22ms/step - loss: 0.0022 - mean_absolute_error: 0.0250 - categorical_accuracy: 1.0000\n",
            "Epoch 158/200\n",
            "178/178 [==============================] - 4s 22ms/step - loss: 0.0028 - mean_absolute_error: 0.0292 - categorical_accuracy: 1.0000\n",
            "Epoch 159/200\n",
            "178/178 [==============================] - 4s 22ms/step - loss: 0.0032 - mean_absolute_error: 0.0283 - categorical_accuracy: 1.0000\n",
            "Epoch 160/200\n",
            "178/178 [==============================] - 4s 22ms/step - loss: 0.0018 - mean_absolute_error: 0.0292 - categorical_accuracy: 1.0000\n",
            "Epoch 161/200\n",
            "178/178 [==============================] - 4s 23ms/step - loss: 0.0037 - mean_absolute_error: 0.0301 - categorical_accuracy: 1.0000\n",
            "Epoch 162/200\n",
            "178/178 [==============================] - 4s 22ms/step - loss: 0.0038 - mean_absolute_error: 0.0267 - categorical_accuracy: 1.0000\n",
            "Epoch 163/200\n",
            "178/178 [==============================] - 4s 22ms/step - loss: 0.0011 - mean_absolute_error: 0.0198 - categorical_accuracy: 1.0000\n",
            "Epoch 164/200\n",
            "178/178 [==============================] - 4s 22ms/step - loss: 0.0053 - mean_absolute_error: 0.0321 - categorical_accuracy: 1.0000\n",
            "Epoch 165/200\n",
            "178/178 [==============================] - 4s 22ms/step - loss: 0.0036 - mean_absolute_error: 0.0277 - categorical_accuracy: 1.0000\n",
            "Epoch 166/200\n",
            "178/178 [==============================] - 4s 22ms/step - loss: 0.0016 - mean_absolute_error: 0.0239 - categorical_accuracy: 1.0000\n",
            "Epoch 167/200\n",
            "178/178 [==============================] - 4s 22ms/step - loss: 0.0052 - mean_absolute_error: 0.0377 - categorical_accuracy: 1.0000\n",
            "Epoch 168/200\n",
            "178/178 [==============================] - 4s 23ms/step - loss: 0.0021 - mean_absolute_error: 0.0272 - categorical_accuracy: 1.0000\n",
            "Epoch 169/200\n",
            "178/178 [==============================] - 4s 22ms/step - loss: 0.0030 - mean_absolute_error: 0.0339 - categorical_accuracy: 1.0000\n",
            "Epoch 170/200\n",
            "178/178 [==============================] - 4s 22ms/step - loss: 0.0038 - mean_absolute_error: 0.0322 - categorical_accuracy: 1.0000\n",
            "Epoch 171/200\n",
            "178/178 [==============================] - 4s 23ms/step - loss: 0.0042 - mean_absolute_error: 0.0308 - categorical_accuracy: 1.0000\n",
            "Epoch 172/200\n",
            "178/178 [==============================] - 4s 23ms/step - loss: 0.0073 - mean_absolute_error: 0.0349 - categorical_accuracy: 1.0000\n",
            "Epoch 173/200\n",
            "178/178 [==============================] - 4s 22ms/step - loss: 0.0031 - mean_absolute_error: 0.0259 - categorical_accuracy: 1.0000\n",
            "Epoch 174/200\n",
            "178/178 [==============================] - 4s 22ms/step - loss: 0.0035 - mean_absolute_error: 0.0263 - categorical_accuracy: 1.0000\n",
            "Epoch 175/200\n",
            "178/178 [==============================] - 4s 22ms/step - loss: 0.0029 - mean_absolute_error: 0.0222 - categorical_accuracy: 1.0000\n",
            "Epoch 176/200\n",
            "178/178 [==============================] - 4s 22ms/step - loss: 0.0021 - mean_absolute_error: 0.0224 - categorical_accuracy: 1.0000\n",
            "Epoch 177/200\n",
            "178/178 [==============================] - 4s 23ms/step - loss: 0.0038 - mean_absolute_error: 0.0247 - categorical_accuracy: 1.0000\n",
            "Epoch 178/200\n",
            "178/178 [==============================] - 4s 22ms/step - loss: 8.9322e-04 - mean_absolute_error: 0.0211 - categorical_accuracy: 1.0000\n",
            "Epoch 179/200\n",
            "178/178 [==============================] - 4s 22ms/step - loss: 0.0023 - mean_absolute_error: 0.0284 - categorical_accuracy: 1.0000\n",
            "Epoch 180/200\n",
            "178/178 [==============================] - 4s 23ms/step - loss: 0.0016 - mean_absolute_error: 0.0239 - categorical_accuracy: 1.0000\n",
            "Epoch 181/200\n",
            "178/178 [==============================] - 4s 22ms/step - loss: 0.0032 - mean_absolute_error: 0.0312 - categorical_accuracy: 1.0000\n",
            "Epoch 182/200\n",
            "178/178 [==============================] - 4s 23ms/step - loss: 0.0017 - mean_absolute_error: 0.0267 - categorical_accuracy: 1.0000\n",
            "Epoch 183/200\n",
            "178/178 [==============================] - 4s 22ms/step - loss: 0.0016 - mean_absolute_error: 0.0207 - categorical_accuracy: 1.0000\n",
            "Epoch 184/200\n",
            "178/178 [==============================] - 4s 22ms/step - loss: 0.0028 - mean_absolute_error: 0.0245 - categorical_accuracy: 1.0000\n",
            "Epoch 185/200\n",
            "178/178 [==============================] - 4s 23ms/step - loss: 0.0030 - mean_absolute_error: 0.0253 - categorical_accuracy: 1.0000\n",
            "Epoch 186/200\n",
            "178/178 [==============================] - 4s 23ms/step - loss: 0.0024 - mean_absolute_error: 0.0259 - categorical_accuracy: 1.0000\n",
            "Epoch 187/200\n",
            "178/178 [==============================] - 4s 22ms/step - loss: 0.0010 - mean_absolute_error: 0.0203 - categorical_accuracy: 1.0000\n",
            "Epoch 188/200\n",
            "178/178 [==============================] - 4s 23ms/step - loss: 0.0018 - mean_absolute_error: 0.0246 - categorical_accuracy: 1.0000\n",
            "Epoch 189/200\n",
            "178/178 [==============================] - 4s 22ms/step - loss: 0.0030 - mean_absolute_error: 0.0305 - categorical_accuracy: 1.0000\n",
            "Epoch 190/200\n",
            "178/178 [==============================] - 4s 23ms/step - loss: 0.0018 - mean_absolute_error: 0.0217 - categorical_accuracy: 1.0000\n",
            "Epoch 191/200\n",
            "178/178 [==============================] - 4s 22ms/step - loss: 0.0088 - mean_absolute_error: 0.0333 - categorical_accuracy: 1.0000\n",
            "Epoch 192/200\n",
            "178/178 [==============================] - 4s 23ms/step - loss: 0.0019 - mean_absolute_error: 0.0209 - categorical_accuracy: 1.0000\n",
            "Epoch 193/200\n",
            "178/178 [==============================] - 4s 23ms/step - loss: 0.0038 - mean_absolute_error: 0.0306 - categorical_accuracy: 1.0000\n",
            "Epoch 194/200\n",
            "178/178 [==============================] - 4s 23ms/step - loss: 0.0041 - mean_absolute_error: 0.0252 - categorical_accuracy: 1.0000\n",
            "Epoch 195/200\n",
            "178/178 [==============================] - 4s 22ms/step - loss: 0.0013 - mean_absolute_error: 0.0203 - categorical_accuracy: 1.0000\n",
            "Epoch 196/200\n",
            "178/178 [==============================] - 4s 23ms/step - loss: 0.0022 - mean_absolute_error: 0.0278 - categorical_accuracy: 1.0000\n",
            "Epoch 197/200\n",
            "178/178 [==============================] - 4s 22ms/step - loss: 0.0035 - mean_absolute_error: 0.0310 - categorical_accuracy: 1.0000\n",
            "Epoch 198/200\n",
            "178/178 [==============================] - 4s 22ms/step - loss: 0.0039 - mean_absolute_error: 0.0307 - categorical_accuracy: 1.0000\n",
            "Epoch 199/200\n",
            "178/178 [==============================] - 4s 22ms/step - loss: 0.0018 - mean_absolute_error: 0.0232 - categorical_accuracy: 1.0000\n",
            "Epoch 200/200\n",
            "178/178 [==============================] - 4s 22ms/step - loss: 0.0035 - mean_absolute_error: 0.0283 - categorical_accuracy: 1.0000\n"
          ],
          "name": "stdout"
        },
        {
          "output_type": "execute_result",
          "data": {
            "text/plain": [
              "<tensorflow.python.keras.callbacks.History at 0x7f7e11508410>"
            ]
          },
          "metadata": {
            "tags": []
          },
          "execution_count": 305
        }
      ]
    },
    {
      "cell_type": "code",
      "metadata": {
        "colab": {
          "base_uri": "https://localhost:8080/"
        },
        "id": "TKWj4l-QsxqS",
        "outputId": "5e027923-22e5-4115-de36-d564f5db8697"
      },
      "source": [
        "first_eval_4 = scaled_train[-20:]\n",
        "\n",
        "\n",
        "first_eval_4 = first_eval_4.reshape(1, n_input, n_feacture)\n",
        "\n",
        "model_4.predict(first_eval_4)"
      ],
      "execution_count": 306,
      "outputs": [
        {
          "output_type": "execute_result",
          "data": {
            "text/plain": [
              "array([[0.21140689]], dtype=float32)"
            ]
          },
          "metadata": {
            "tags": []
          },
          "execution_count": 306
        }
      ]
    },
    {
      "cell_type": "code",
      "metadata": {
        "id": "Vw81kCXOsxqU"
      },
      "source": [
        "test_predictions_4 = []\n",
        "\n",
        "first_eval_batch = scaled_train[-n_input:]\n",
        "current_batch = first_eval_4.reshape((1, n_input, n_feacture))\n",
        "\n",
        "for i in range(len(test)):\n",
        "    \n",
        "    # obtener la predicción ([0] es para obtener solo el número en lugar de [matriz])\n",
        "    current_pred = model_4.predict(current_batch)[0]\n",
        "    \n",
        "    # guardar la predicción\n",
        "    test_predictions_4.append(current_pred) \n",
        "    \n",
        "    # actualizar el lote para incluir ahora la predicción y soltar primer valor\n",
        "    current_batch = np.append(current_batch[:,1:,:],[[current_pred]],axis=1)"
      ],
      "execution_count": 307,
      "outputs": []
    },
    {
      "cell_type": "code",
      "metadata": {
        "colab": {
          "base_uri": "https://localhost:8080/"
        },
        "id": "CEyLcBR2sxqW",
        "outputId": "e1ed756d-b248-4ece-929b-6be6070c2c5c"
      },
      "source": [
        "#Transofmacion inversa\n",
        "true_predicctions_4 = scaler.inverse_transform(test_predictions_4)\n",
        "\n",
        "\n",
        "test['Prediction_3'] = true_predicctions_4"
      ],
      "execution_count": 308,
      "outputs": [
        {
          "output_type": "stream",
          "text": [
            "/usr/local/lib/python3.7/dist-packages/ipykernel_launcher.py:5: SettingWithCopyWarning: \n",
            "A value is trying to be set on a copy of a slice from a DataFrame.\n",
            "Try using .loc[row_indexer,col_indexer] = value instead\n",
            "\n",
            "See the caveats in the documentation: https://pandas.pydata.org/pandas-docs/stable/user_guide/indexing.html#returning-a-view-versus-a-copy\n",
            "  \"\"\"\n"
          ],
          "name": "stderr"
        }
      ]
    },
    {
      "cell_type": "code",
      "metadata": {
        "colab": {
          "base_uri": "https://localhost:8080/",
          "height": 537
        },
        "id": "jSiLxb-osxqX",
        "outputId": "e084fe34-7bfd-4709-9bcd-8ea81081c98d"
      },
      "source": [
        "test.plot(figsize=(12,8))"
      ],
      "execution_count": 309,
      "outputs": [
        {
          "output_type": "execute_result",
          "data": {
            "text/plain": [
              "<matplotlib.axes._subplots.AxesSubplot at 0x7f7e0ee86e50>"
            ]
          },
          "metadata": {
            "tags": []
          },
          "execution_count": 309
        },
        {
          "output_type": "display_data",
          "data": {
            "image/png": "[encoded data removed]",
            "text/plain": [
              "<Figure size 864x576 with 1 Axes>"
            ]
          },
          "metadata": {
            "tags": [],
            "needs_background": "light"
          }
        }
      ]
    },
    {
      "cell_type": "code",
      "metadata": {
        "colab": {
          "base_uri": "https://localhost:8080/",
          "height": 708
        },
        "id": "hForrMZ4sxqY",
        "outputId": "05c721d4-51ce-488a-a047-5c009da08494"
      },
      "source": [
        "#Observacion de los test y la predicciones\n",
        "test"
      ],
      "execution_count": 310,
      "outputs": [
        {
          "output_type": "execute_result",
          "data": {
            "text/html": [
              "<div>\n",
              "<style scoped>\n",
              "    .dataframe tbody tr th:only-of-type {\n",
              "        vertical-align: middle;\n",
              "    }\n",
              "\n",
              "    .dataframe tbody tr th {\n",
              "        vertical-align: top;\n",
              "    }\n",
              "\n",
              "    .dataframe thead th {\n",
              "        text-align: right;\n",
              "    }\n",
              "</style>\n",
              "<table border=\"1\" class=\"dataframe\">\n",
              "  <thead>\n",
              "    <tr style=\"text-align: right;\">\n",
              "      <th></th>\n",
              "      <th>new_cases</th>\n",
              "      <th>Prediction</th>\n",
              "      <th>Prediction_2</th>\n",
              "      <th>Prediction_3</th>\n",
              "    </tr>\n",
              "    <tr>\n",
              "      <th>date</th>\n",
              "      <th></th>\n",
              "      <th></th>\n",
              "      <th></th>\n",
              "      <th></th>\n",
              "    </tr>\n",
              "  </thead>\n",
              "  <tbody>\n",
              "    <tr>\n",
              "      <th>2021-03-10</th>\n",
              "      <td>6602.0</td>\n",
              "      <td>7198.699694</td>\n",
              "      <td>5250.897143</td>\n",
              "      <td>5943.704616</td>\n",
              "    </tr>\n",
              "    <tr>\n",
              "      <th>2021-03-11</th>\n",
              "      <td>6469.0</td>\n",
              "      <td>7769.799540</td>\n",
              "      <td>5186.912755</td>\n",
              "      <td>6162.998625</td>\n",
              "    </tr>\n",
              "    <tr>\n",
              "      <th>2021-03-12</th>\n",
              "      <td>6816.0</td>\n",
              "      <td>8076.432929</td>\n",
              "      <td>5130.660437</td>\n",
              "      <td>6076.022054</td>\n",
              "    </tr>\n",
              "    <tr>\n",
              "      <th>2021-03-13</th>\n",
              "      <td>6104.0</td>\n",
              "      <td>8160.326057</td>\n",
              "      <td>5075.684648</td>\n",
              "      <td>5892.415134</td>\n",
              "    </tr>\n",
              "    <tr>\n",
              "      <th>2021-03-14</th>\n",
              "      <td>2415.0</td>\n",
              "      <td>7344.734266</td>\n",
              "      <td>5028.705703</td>\n",
              "      <td>4686.618159</td>\n",
              "    </tr>\n",
              "    <tr>\n",
              "      <th>2021-03-15</th>\n",
              "      <td>1439.0</td>\n",
              "      <td>5599.512706</td>\n",
              "      <td>4983.392906</td>\n",
              "      <td>4192.284329</td>\n",
              "    </tr>\n",
              "    <tr>\n",
              "      <th>2021-03-16</th>\n",
              "      <td>1278.0</td>\n",
              "      <td>5101.249999</td>\n",
              "      <td>4928.503001</td>\n",
              "      <td>4942.554455</td>\n",
              "    </tr>\n",
              "    <tr>\n",
              "      <th>2021-03-17</th>\n",
              "      <td>6455.0</td>\n",
              "      <td>6185.145794</td>\n",
              "      <td>4874.643704</td>\n",
              "      <td>5483.946411</td>\n",
              "    </tr>\n",
              "    <tr>\n",
              "      <th>2021-03-18</th>\n",
              "      <td>6726.0</td>\n",
              "      <td>6910.484854</td>\n",
              "      <td>4821.941954</td>\n",
              "      <td>5669.770394</td>\n",
              "    </tr>\n",
              "    <tr>\n",
              "      <th>2021-03-19</th>\n",
              "      <td>5722.0</td>\n",
              "      <td>7458.894577</td>\n",
              "      <td>4771.677633</td>\n",
              "      <td>5895.367448</td>\n",
              "    </tr>\n",
              "    <tr>\n",
              "      <th>2021-03-20</th>\n",
              "      <td>5729.0</td>\n",
              "      <td>7780.423177</td>\n",
              "      <td>4722.833959</td>\n",
              "      <td>6015.211182</td>\n",
              "    </tr>\n",
              "    <tr>\n",
              "      <th>2021-03-21</th>\n",
              "      <td>2133.0</td>\n",
              "      <td>7434.924155</td>\n",
              "      <td>4681.134573</td>\n",
              "      <td>5169.592684</td>\n",
              "    </tr>\n",
              "    <tr>\n",
              "      <th>2021-03-22</th>\n",
              "      <td>1388.0</td>\n",
              "      <td>5939.606485</td>\n",
              "      <td>4640.373627</td>\n",
              "      <td>4662.552217</td>\n",
              "    </tr>\n",
              "    <tr>\n",
              "      <th>2021-03-23</th>\n",
              "      <td>5881.0</td>\n",
              "      <td>5102.715472</td>\n",
              "      <td>4591.413485</td>\n",
              "      <td>5255.204329</td>\n",
              "    </tr>\n",
              "    <tr>\n",
              "      <th>2021-03-24</th>\n",
              "      <td>5714.0</td>\n",
              "      <td>5814.965817</td>\n",
              "      <td>4543.445827</td>\n",
              "      <td>5759.782230</td>\n",
              "    </tr>\n",
              "    <tr>\n",
              "      <th>2021-03-25</th>\n",
              "      <td>5787.0</td>\n",
              "      <td>6692.250779</td>\n",
              "      <td>4496.390215</td>\n",
              "      <td>5864.937713</td>\n",
              "    </tr>\n",
              "    <tr>\n",
              "      <th>2021-03-26</th>\n",
              "      <td>5303.0</td>\n",
              "      <td>7169.976746</td>\n",
              "      <td>4451.052701</td>\n",
              "      <td>6010.229494</td>\n",
              "    </tr>\n",
              "    <tr>\n",
              "      <th>2021-03-27</th>\n",
              "      <td>5059.0</td>\n",
              "      <td>7493.859823</td>\n",
              "      <td>4406.832097</td>\n",
              "      <td>6181.914044</td>\n",
              "    </tr>\n",
              "    <tr>\n",
              "      <th>2021-03-28</th>\n",
              "      <td>1646.0</td>\n",
              "      <td>7352.567721</td>\n",
              "      <td>4368.850020</td>\n",
              "      <td>5347.364102</td>\n",
              "    </tr>\n",
              "    <tr>\n",
              "      <th>2021-03-29</th>\n",
              "      <td>1293.0</td>\n",
              "      <td>6104.877388</td>\n",
              "      <td>4332.423491</td>\n",
              "      <td>5111.727842</td>\n",
              "    </tr>\n",
              "  </tbody>\n",
              "</table>\n",
              "</div>"
            ],
            "text/plain": [
              "            new_cases   Prediction  Prediction_2  Prediction_3\n",
              "date                                                          \n",
              "2021-03-10     6602.0  7198.699694   5250.897143   5943.704616\n",
              "2021-03-11     6469.0  7769.799540   5186.912755   6162.998625\n",
              "2021-03-12     6816.0  8076.432929   5130.660437   6076.022054\n",
              "2021-03-13     6104.0  8160.326057   5075.684648   5892.415134\n",
              "2021-03-14     2415.0  7344.734266   5028.705703   4686.618159\n",
              "2021-03-15     1439.0  5599.512706   4983.392906   4192.284329\n",
              "2021-03-16     1278.0  5101.249999   4928.503001   4942.554455\n",
              "2021-03-17     6455.0  6185.145794   4874.643704   5483.946411\n",
              "2021-03-18     6726.0  6910.484854   4821.941954   5669.770394\n",
              "2021-03-19     5722.0  7458.894577   4771.677633   5895.367448\n",
              "2021-03-20     5729.0  7780.423177   4722.833959   6015.211182\n",
              "2021-03-21     2133.0  7434.924155   4681.134573   5169.592684\n",
              "2021-03-22     1388.0  5939.606485   4640.373627   4662.552217\n",
              "2021-03-23     5881.0  5102.715472   4591.413485   5255.204329\n",
              "2021-03-24     5714.0  5814.965817   4543.445827   5759.782230\n",
              "2021-03-25     5787.0  6692.250779   4496.390215   5864.937713\n",
              "2021-03-26     5303.0  7169.976746   4451.052701   6010.229494\n",
              "2021-03-27     5059.0  7493.859823   4406.832097   6181.914044\n",
              "2021-03-28     1646.0  7352.567721   4368.850020   5347.364102\n",
              "2021-03-29     1293.0  6104.877388   4332.423491   5111.727842"
            ]
          },
          "metadata": {
            "tags": []
          },
          "execution_count": 310
        }
      ]
    },
    {
      "cell_type": "markdown",
      "metadata": {
        "id": "KXkJLdcYyuf9"
      },
      "source": [
        "# **Model 5**"
      ]
    },
    {
      "cell_type": "code",
      "metadata": {
        "id": "uPI8hMypywNi"
      },
      "source": [
        ""
      ],
      "execution_count": null,
      "outputs": []
    },
    {
      "cell_type": "code",
      "metadata": {
        "id": "tLyViX-_y1BK"
      },
      "source": [
        "# Red neuronal 5\n",
        "# 5 Capas\n",
        "# relu para activacion de cada capa\n",
        "# adam para compilacion y mse para loss\n",
        "\n",
        "#Red sequential\n",
        "model_5 = Sequential()\n",
        "\n",
        "#Red nueronal con 4 capas, cada capa tiene dierente cantidad de nueronas\n",
        "model_5.add(LSTM(200, activation='relu', input_shape=(n_input, n_feacture)))\n",
        "model_5.add(Dense(100, activation='relu' ))\n",
        "model_5.add(Dense(84, activation='relu'))\n",
        "model_5.add(Dense(64, activation='relu'))\n",
        "model_5.add(Dense(32, activation='sigmoid'))\n",
        "model_5.add(Dense(1))\n",
        "\n",
        "#Compilacion de la red nueronal\n",
        "model_5.compile(optimizer='adam', loss='mean_squared_error',\n",
        "                metrics=[\"accuracy\"])"
      ],
      "execution_count": 313,
      "outputs": []
    },
    {
      "cell_type": "code",
      "metadata": {
        "colab": {
          "base_uri": "https://localhost:8080/"
        },
        "id": "QTvNi2b8y1BS",
        "outputId": "87aee96e-e89e-466c-acf1-6f4e7d5d7597"
      },
      "source": [
        "model_5.summary()"
      ],
      "execution_count": 314,
      "outputs": [
        {
          "output_type": "stream",
          "text": [
            "Model: \"sequential_14\"\n",
            "_________________________________________________________________\n",
            "Layer (type)                 Output Shape              Param #   \n",
            "=================================================================\n",
            "lstm_17 (LSTM)               (None, 200)               161600    \n",
            "_________________________________________________________________\n",
            "dense_41 (Dense)             (None, 100)               20100     \n",
            "_________________________________________________________________\n",
            "dense_42 (Dense)             (None, 84)                8484      \n",
            "_________________________________________________________________\n",
            "dense_43 (Dense)             (None, 64)                5440      \n",
            "_________________________________________________________________\n",
            "dense_44 (Dense)             (None, 32)                2080      \n",
            "_________________________________________________________________\n",
            "dense_45 (Dense)             (None, 1)                 33        \n",
            "=================================================================\n",
            "Total params: 197,737\n",
            "Trainable params: 197,737\n",
            "Non-trainable params: 0\n",
            "_________________________________________________________________\n"
          ],
          "name": "stdout"
        }
      ]
    },
    {
      "cell_type": "code",
      "metadata": {
        "colab": {
          "base_uri": "https://localhost:8080/"
        },
        "id": "JQTklIyMy1Bb",
        "outputId": "575f8f07-df02-45b4-fefb-3e013f38ba15"
      },
      "source": [
        "#Entrenando la red nueronal\n",
        "\n",
        "model_5.fit_generator(generator, epochs=200)"
      ],
      "execution_count": 315,
      "outputs": [
        {
          "output_type": "stream",
          "text": [
            "Epoch 1/200\n"
          ],
          "name": "stdout"
        },
        {
          "output_type": "stream",
          "text": [
            "/usr/local/lib/python3.7/dist-packages/tensorflow/python/keras/engine/training.py:1844: UserWarning: `Model.fit_generator` is deprecated and will be removed in a future version. Please use `Model.fit`, which supports generators.\n",
            "  warnings.warn('`Model.fit_generator` is deprecated and '\n"
          ],
          "name": "stderr"
        },
        {
          "output_type": "stream",
          "text": [
            "178/178 [==============================] - 6s 22ms/step - loss: 0.7586 - accuracy: 0.0036\n",
            "Epoch 2/200\n",
            "178/178 [==============================] - 4s 21ms/step - loss: 0.0102 - accuracy: 7.0430e-04\n",
            "Epoch 3/200\n",
            "178/178 [==============================] - 4s 21ms/step - loss: 0.0079 - accuracy: 0.0020\n",
            "Epoch 4/200\n",
            "178/178 [==============================] - 4s 21ms/step - loss: 0.0111 - accuracy: 0.0057\n",
            "Epoch 5/200\n",
            "178/178 [==============================] - 4s 21ms/step - loss: 0.0117 - accuracy: 8.6927e-04\n",
            "Epoch 6/200\n",
            "178/178 [==============================] - 4s 21ms/step - loss: 0.0144 - accuracy: 0.0000e+00\n",
            "Epoch 7/200\n",
            "178/178 [==============================] - 4s 21ms/step - loss: 0.0107 - accuracy: 0.0034\n",
            "Epoch 8/200\n",
            "178/178 [==============================] - 4s 22ms/step - loss: 0.0094 - accuracy: 4.1903e-04\n",
            "Epoch 9/200\n",
            "178/178 [==============================] - 4s 22ms/step - loss: 0.0104 - accuracy: 0.0000e+00\n",
            "Epoch 10/200\n",
            "178/178 [==============================] - 4s 21ms/step - loss: 0.0105 - accuracy: 0.0020\n",
            "Epoch 11/200\n",
            "178/178 [==============================] - 4s 21ms/step - loss: 0.0098 - accuracy: 0.0030\n",
            "Epoch 12/200\n",
            "178/178 [==============================] - 4s 22ms/step - loss: 0.0095 - accuracy: 0.0028\n",
            "Epoch 13/200\n",
            "178/178 [==============================] - 4s 22ms/step - loss: 0.0088 - accuracy: 4.9230e-04\n",
            "Epoch 14/200\n",
            "178/178 [==============================] - 4s 22ms/step - loss: 0.0100 - accuracy: 3.1260e-04\n",
            "Epoch 15/200\n",
            "178/178 [==============================] - 4s 21ms/step - loss: 0.0111 - accuracy: 0.0021\n",
            "Epoch 16/200\n",
            "178/178 [==============================] - 4s 22ms/step - loss: 0.0112 - accuracy: 0.0030\n",
            "Epoch 17/200\n",
            "178/178 [==============================] - 4s 21ms/step - loss: 0.0123 - accuracy: 0.0051\n",
            "Epoch 18/200\n",
            "178/178 [==============================] - 4s 21ms/step - loss: 0.0092 - accuracy: 4.1903e-04\n",
            "Epoch 19/200\n",
            "178/178 [==============================] - 4s 22ms/step - loss: 0.0134 - accuracy: 0.0055\n",
            "Epoch 20/200\n",
            "178/178 [==============================] - 4s 22ms/step - loss: 0.0081 - accuracy: 8.4811e-04\n",
            "Epoch 21/200\n",
            "178/178 [==============================] - 4s 22ms/step - loss: 0.0122 - accuracy: 8.2711e-04\n",
            "Epoch 22/200\n",
            "178/178 [==============================] - 4s 22ms/step - loss: 0.0109 - accuracy: 4.3717e-04\n",
            "Epoch 23/200\n",
            "178/178 [==============================] - 4s 22ms/step - loss: 0.0109 - accuracy: 0.0023\n",
            "Epoch 24/200\n",
            "178/178 [==============================] - 4s 22ms/step - loss: 0.0115 - accuracy: 0.0013\n",
            "Epoch 25/200\n",
            "178/178 [==============================] - 4s 22ms/step - loss: 0.0086 - accuracy: 5.1092e-04\n",
            "Epoch 26/200\n",
            "178/178 [==============================] - 4s 21ms/step - loss: 0.0085 - accuracy: 7.4464e-04\n",
            "Epoch 27/200\n",
            "178/178 [==============================] - 4s 22ms/step - loss: 0.0109 - accuracy: 0.0024\n",
            "Epoch 28/200\n",
            "178/178 [==============================] - 4s 22ms/step - loss: 0.0143 - accuracy: 0.0065\n",
            "Epoch 29/200\n",
            "178/178 [==============================] - 4s 22ms/step - loss: 0.0157 - accuracy: 0.0072\n",
            "Epoch 30/200\n",
            "178/178 [==============================] - 4s 22ms/step - loss: 0.0146 - accuracy: 0.0045\n",
            "Epoch 31/200\n",
            "178/178 [==============================] - 4s 22ms/step - loss: 0.0078 - accuracy: 0.0013\n",
            "Epoch 32/200\n",
            "178/178 [==============================] - 4s 22ms/step - loss: 0.0061 - accuracy: 5.8668e-04\n",
            "Epoch 33/200\n",
            "178/178 [==============================] - 4s 22ms/step - loss: 0.0092 - accuracy: 0.0035\n",
            "Epoch 34/200\n",
            "178/178 [==============================] - 4s 22ms/step - loss: 0.0077 - accuracy: 0.0037\n",
            "Epoch 35/200\n",
            "178/178 [==============================] - 4s 22ms/step - loss: 0.0128 - accuracy: 8.9059e-04\n",
            "Epoch 36/200\n",
            "178/178 [==============================] - 4s 21ms/step - loss: 0.0092 - accuracy: 2.1009e-04\n",
            "Epoch 37/200\n",
            "178/178 [==============================] - 4s 22ms/step - loss: 0.0094 - accuracy: 0.0049\n",
            "Epoch 38/200\n",
            "178/178 [==============================] - 4s 22ms/step - loss: 0.0094 - accuracy: 2.4384e-04\n",
            "Epoch 39/200\n",
            "178/178 [==============================] - 4s 22ms/step - loss: 0.0069 - accuracy: 0.0015\n",
            "Epoch 40/200\n",
            "178/178 [==============================] - 4s 22ms/step - loss: 0.0104 - accuracy: 5.4854e-04\n",
            "Epoch 41/200\n",
            "178/178 [==============================] - 4s 22ms/step - loss: 0.0131 - accuracy: 0.0070\n",
            "Epoch 42/200\n",
            "178/178 [==============================] - 4s 21ms/step - loss: 0.0144 - accuracy: 0.0097\n",
            "Epoch 43/200\n",
            "178/178 [==============================] - 4s 22ms/step - loss: 0.0117 - accuracy: 3.6531e-04\n",
            "Epoch 44/200\n",
            "178/178 [==============================] - 4s 21ms/step - loss: 0.0133 - accuracy: 0.0061\n",
            "Epoch 45/200\n",
            "178/178 [==============================] - 4s 22ms/step - loss: 0.0120 - accuracy: 0.0067\n",
            "Epoch 46/200\n",
            "178/178 [==============================] - 4s 22ms/step - loss: 0.0083 - accuracy: 0.0020\n",
            "Epoch 47/200\n",
            "178/178 [==============================] - 4s 22ms/step - loss: 0.0125 - accuracy: 0.0035\n",
            "Epoch 48/200\n",
            "178/178 [==============================] - 4s 22ms/step - loss: 0.0074 - accuracy: 0.0023\n",
            "Epoch 49/200\n",
            "178/178 [==============================] - 4s 22ms/step - loss: 0.0120 - accuracy: 0.0103\n",
            "Epoch 50/200\n",
            "178/178 [==============================] - 4s 22ms/step - loss: 0.0107 - accuracy: 0.0043\n",
            "Epoch 51/200\n",
            "178/178 [==============================] - 4s 22ms/step - loss: 0.0093 - accuracy: 4.7380e-04\n",
            "Epoch 52/200\n",
            "178/178 [==============================] - 4s 22ms/step - loss: 0.0081 - accuracy: 6.3038e-05\n",
            "Epoch 53/200\n",
            "178/178 [==============================] - 4s 22ms/step - loss: 0.0077 - accuracy: 5.8668e-04\n",
            "Epoch 54/200\n",
            "178/178 [==============================] - 4s 22ms/step - loss: 0.0067 - accuracy: 4.9230e-04\n",
            "Epoch 55/200\n",
            "178/178 [==============================] - 4s 22ms/step - loss: 0.0064 - accuracy: 0.0016\n",
            "Epoch 56/200\n",
            "178/178 [==============================] - 4s 21ms/step - loss: 0.0076 - accuracy: 9.1208e-04\n",
            "Epoch 57/200\n",
            "178/178 [==============================] - 4s 22ms/step - loss: 0.0102 - accuracy: 4.1903e-04\n",
            "Epoch 58/200\n",
            "178/178 [==============================] - 4s 22ms/step - loss: 0.0094 - accuracy: 1.2744e-04\n",
            "Epoch 59/200\n",
            "178/178 [==============================] - 4s 22ms/step - loss: 0.0081 - accuracy: 0.0035\n",
            "Epoch 60/200\n",
            "178/178 [==============================] - 4s 22ms/step - loss: 0.0104 - accuracy: 0.0023\n",
            "Epoch 61/200\n",
            "178/178 [==============================] - 4s 22ms/step - loss: 0.0061 - accuracy: 1.4377e-04\n",
            "Epoch 62/200\n",
            "178/178 [==============================] - 4s 22ms/step - loss: 0.0076 - accuracy: 3.8310e-04\n",
            "Epoch 63/200\n",
            "178/178 [==============================] - 4s 22ms/step - loss: 0.0084 - accuracy: 0.0018\n",
            "Epoch 64/200\n",
            "178/178 [==============================] - 4s 22ms/step - loss: 0.0058 - accuracy: 0.0000e+00\n",
            "Epoch 65/200\n",
            "178/178 [==============================] - 4s 22ms/step - loss: 0.0103 - accuracy: 0.0040\n",
            "Epoch 66/200\n",
            "178/178 [==============================] - 4s 22ms/step - loss: 0.0062 - accuracy: 0.0012\n",
            "Epoch 67/200\n",
            "178/178 [==============================] - 4s 22ms/step - loss: 0.0049 - accuracy: 1.2744e-04\n",
            "Epoch 68/200\n",
            "178/178 [==============================] - 4s 22ms/step - loss: 0.0091 - accuracy: 0.0065\n",
            "Epoch 69/200\n",
            "178/178 [==============================] - 4s 22ms/step - loss: 0.0104 - accuracy: 0.0067\n",
            "Epoch 70/200\n",
            "178/178 [==============================] - 4s 22ms/step - loss: 0.0051 - accuracy: 1.4377e-04\n",
            "Epoch 71/200\n",
            "178/178 [==============================] - 4s 22ms/step - loss: 0.0130 - accuracy: 0.0050\n",
            "Epoch 72/200\n",
            "178/178 [==============================] - 4s 22ms/step - loss: 0.0084 - accuracy: 0.0000e+00\n",
            "Epoch 73/200\n",
            "178/178 [==============================] - 4s 22ms/step - loss: 0.0067 - accuracy: 0.0035\n",
            "Epoch 74/200\n",
            "178/178 [==============================] - 4s 22ms/step - loss: 0.0041 - accuracy: 0.0000e+00\n",
            "Epoch 75/200\n",
            "178/178 [==============================] - 4s 22ms/step - loss: 0.0101 - accuracy: 0.0016\n",
            "Epoch 76/200\n",
            "178/178 [==============================] - 4s 22ms/step - loss: 0.0052 - accuracy: 0.0028\n",
            "Epoch 77/200\n",
            "178/178 [==============================] - 4s 22ms/step - loss: 0.0082 - accuracy: 0.0000e+00\n",
            "Epoch 78/200\n",
            "178/178 [==============================] - 4s 22ms/step - loss: 0.0049 - accuracy: 0.0011\n",
            "Epoch 79/200\n",
            "178/178 [==============================] - 4s 22ms/step - loss: 0.0074 - accuracy: 0.0000e+00\n",
            "Epoch 80/200\n",
            "178/178 [==============================] - 4s 22ms/step - loss: 0.0041 - accuracy: 0.0018\n",
            "Epoch 81/200\n",
            "178/178 [==============================] - 4s 22ms/step - loss: 0.0097 - accuracy: 0.0000e+00\n",
            "Epoch 82/200\n",
            "178/178 [==============================] - 4s 22ms/step - loss: 0.0057 - accuracy: 0.0000e+00\n",
            "Epoch 83/200\n",
            "178/178 [==============================] - 4s 22ms/step - loss: 0.0058 - accuracy: 0.0055\n",
            "Epoch 84/200\n",
            "178/178 [==============================] - 4s 22ms/step - loss: 0.0048 - accuracy: 0.0016\n",
            "Epoch 85/200\n",
            "178/178 [==============================] - 4s 22ms/step - loss: 0.0036 - accuracy: 0.0000e+00\n",
            "Epoch 86/200\n",
            "178/178 [==============================] - 4s 22ms/step - loss: 0.0080 - accuracy: 0.0028\n",
            "Epoch 87/200\n",
            "178/178 [==============================] - 4s 22ms/step - loss: 0.0037 - accuracy: 0.0000e+00\n",
            "Epoch 88/200\n",
            "178/178 [==============================] - 4s 22ms/step - loss: 0.0046 - accuracy: 0.0000e+00\n",
            "Epoch 89/200\n",
            "178/178 [==============================] - 4s 22ms/step - loss: 0.0053 - accuracy: 4.0101e-04\n",
            "Epoch 90/200\n",
            "178/178 [==============================] - 4s 22ms/step - loss: 0.0085 - accuracy: 6.4487e-04\n",
            "Epoch 91/200\n",
            "178/178 [==============================] - 4s 22ms/step - loss: 0.0042 - accuracy: 0.0000e+00\n",
            "Epoch 92/200\n",
            "178/178 [==============================] - 4s 22ms/step - loss: 0.0051 - accuracy: 0.0017\n",
            "Epoch 93/200\n",
            "178/178 [==============================] - 4s 22ms/step - loss: 0.0090 - accuracy: 0.0013\n",
            "Epoch 94/200\n",
            "178/178 [==============================] - 4s 22ms/step - loss: 0.0059 - accuracy: 0.0012\n",
            "Epoch 95/200\n",
            "178/178 [==============================] - 4s 22ms/step - loss: 0.0053 - accuracy: 3.6531e-04\n",
            "Epoch 96/200\n",
            "178/178 [==============================] - 4s 21ms/step - loss: 0.0073 - accuracy: 0.0022\n",
            "Epoch 97/200\n",
            "178/178 [==============================] - 4s 21ms/step - loss: 0.0068 - accuracy: 0.0011\n",
            "Epoch 98/200\n",
            "178/178 [==============================] - 4s 22ms/step - loss: 0.0027 - accuracy: 9.5556e-04\n",
            "Epoch 99/200\n",
            "178/178 [==============================] - 4s 23ms/step - loss: 0.0046 - accuracy: 3.1260e-04\n",
            "Epoch 100/200\n",
            "178/178 [==============================] - 4s 22ms/step - loss: 0.0062 - accuracy: 0.0000e+00\n",
            "Epoch 101/200\n",
            "178/178 [==============================] - 4s 22ms/step - loss: 0.0088 - accuracy: 0.0034\n",
            "Epoch 102/200\n",
            "178/178 [==============================] - 4s 22ms/step - loss: 0.0044 - accuracy: 1.2744e-04\n",
            "Epoch 103/200\n",
            "178/178 [==============================] - 4s 22ms/step - loss: 0.0036 - accuracy: 0.0015\n",
            "Epoch 104/200\n",
            "178/178 [==============================] - 4s 22ms/step - loss: 0.0064 - accuracy: 0.0028\n",
            "Epoch 105/200\n",
            "178/178 [==============================] - 4s 21ms/step - loss: 0.0040 - accuracy: 0.0012\n",
            "Epoch 106/200\n",
            "178/178 [==============================] - 4s 21ms/step - loss: 0.0042 - accuracy: 0.0000e+00\n",
            "Epoch 107/200\n",
            "178/178 [==============================] - 4s 21ms/step - loss: 0.0055 - accuracy: 0.0052\n",
            "Epoch 108/200\n",
            "178/178 [==============================] - 4s 22ms/step - loss: 0.0029 - accuracy: 2.1009e-04\n",
            "Epoch 109/200\n",
            "178/178 [==============================] - 4s 22ms/step - loss: 0.0049 - accuracy: 4.3717e-04\n",
            "Epoch 110/200\n",
            "178/178 [==============================] - 4s 22ms/step - loss: 0.0036 - accuracy: 7.4464e-04\n",
            "Epoch 111/200\n",
            "178/178 [==============================] - 4s 22ms/step - loss: 0.0052 - accuracy: 0.0068\n",
            "Epoch 112/200\n",
            "178/178 [==============================] - 4s 22ms/step - loss: 0.0050 - accuracy: 0.0063\n",
            "Epoch 113/200\n",
            "178/178 [==============================] - 4s 22ms/step - loss: 0.0061 - accuracy: 0.0016\n",
            "Epoch 114/200\n",
            "178/178 [==============================] - 4s 22ms/step - loss: 0.0049 - accuracy: 0.0061\n",
            "Epoch 115/200\n",
            "178/178 [==============================] - 4s 22ms/step - loss: 0.0058 - accuracy: 0.0029\n",
            "Epoch 116/200\n",
            "178/178 [==============================] - 4s 22ms/step - loss: 0.0108 - accuracy: 0.0014\n",
            "Epoch 117/200\n",
            "178/178 [==============================] - 4s 22ms/step - loss: 0.0047 - accuracy: 0.0023\n",
            "Epoch 118/200\n",
            "178/178 [==============================] - 4s 22ms/step - loss: 0.0046 - accuracy: 0.0014\n",
            "Epoch 119/200\n",
            "178/178 [==============================] - 4s 22ms/step - loss: 0.0070 - accuracy: 0.0034\n",
            "Epoch 120/200\n",
            "178/178 [==============================] - 4s 23ms/step - loss: 0.0047 - accuracy: 0.0062\n",
            "Epoch 121/200\n",
            "178/178 [==============================] - 4s 22ms/step - loss: 0.0052 - accuracy: 2.2691e-04\n",
            "Epoch 122/200\n",
            "178/178 [==============================] - 4s 22ms/step - loss: 0.0064 - accuracy: 9.5556e-04\n",
            "Epoch 123/200\n",
            "178/178 [==============================] - 4s 22ms/step - loss: 0.0032 - accuracy: 0.0013\n",
            "Epoch 124/200\n",
            "178/178 [==============================] - 4s 22ms/step - loss: 0.0039 - accuracy: 0.0026\n",
            "Epoch 125/200\n",
            "178/178 [==============================] - 4s 22ms/step - loss: 0.0044 - accuracy: 9.5053e-05\n",
            "Epoch 126/200\n",
            "178/178 [==============================] - 4s 22ms/step - loss: 0.0043 - accuracy: 0.0010\n",
            "Epoch 127/200\n",
            "178/178 [==============================] - 4s 22ms/step - loss: 0.0035 - accuracy: 0.0019\n",
            "Epoch 128/200\n",
            "178/178 [==============================] - 4s 22ms/step - loss: 0.0064 - accuracy: 0.0043\n",
            "Epoch 129/200\n",
            "178/178 [==============================] - 4s 22ms/step - loss: 0.0039 - accuracy: 0.0013\n",
            "Epoch 130/200\n",
            "178/178 [==============================] - 4s 22ms/step - loss: 0.0039 - accuracy: 0.0033\n",
            "Epoch 131/200\n",
            "178/178 [==============================] - 4s 22ms/step - loss: 0.0073 - accuracy: 0.0018\n",
            "Epoch 132/200\n",
            "178/178 [==============================] - 4s 22ms/step - loss: 0.0033 - accuracy: 9.5053e-05\n",
            "Epoch 133/200\n",
            "178/178 [==============================] - 4s 21ms/step - loss: 0.0030 - accuracy: 0.0011\n",
            "Epoch 134/200\n",
            "178/178 [==============================] - 4s 22ms/step - loss: 0.0049 - accuracy: 0.0020\n",
            "Epoch 135/200\n",
            "178/178 [==============================] - 4s 22ms/step - loss: 0.0024 - accuracy: 0.0014\n",
            "Epoch 136/200\n",
            "178/178 [==============================] - 4s 22ms/step - loss: 0.0079 - accuracy: 0.0034\n",
            "Epoch 137/200\n",
            "178/178 [==============================] - 4s 22ms/step - loss: 0.0120 - accuracy: 6.3038e-05\n",
            "Epoch 138/200\n",
            "178/178 [==============================] - 4s 22ms/step - loss: 0.0025 - accuracy: 0.0027\n",
            "Epoch 139/200\n",
            "178/178 [==============================] - 4s 22ms/step - loss: 0.0068 - accuracy: 0.0110\n",
            "Epoch 140/200\n",
            "178/178 [==============================] - 4s 22ms/step - loss: 0.0129 - accuracy: 7.8557e-04\n",
            "Epoch 141/200\n",
            "178/178 [==============================] - 4s 22ms/step - loss: 0.0031 - accuracy: 0.0052\n",
            "Epoch 142/200\n",
            "178/178 [==============================] - 4s 22ms/step - loss: 0.0042 - accuracy: 1.4377e-04\n",
            "Epoch 143/200\n",
            "178/178 [==============================] - 4s 22ms/step - loss: 0.0048 - accuracy: 8.6927e-04\n",
            "Epoch 144/200\n",
            "178/178 [==============================] - 4s 22ms/step - loss: 0.0057 - accuracy: 7.2440e-04\n",
            "Epoch 145/200\n",
            "178/178 [==============================] - 4s 22ms/step - loss: 0.0052 - accuracy: 0.0012\n",
            "Epoch 146/200\n",
            "178/178 [==============================] - 4s 22ms/step - loss: 0.0032 - accuracy: 0.0077\n",
            "Epoch 147/200\n",
            "178/178 [==============================] - 4s 22ms/step - loss: 0.0043 - accuracy: 0.0018\n",
            "Epoch 148/200\n",
            "178/178 [==============================] - 4s 22ms/step - loss: 0.0029 - accuracy: 4.7167e-05\n",
            "Epoch 149/200\n",
            "178/178 [==============================] - 4s 22ms/step - loss: 0.0140 - accuracy: 0.0029\n",
            "Epoch 150/200\n",
            "178/178 [==============================] - 4s 22ms/step - loss: 0.0075 - accuracy: 3.8310e-04\n",
            "Epoch 151/200\n",
            "178/178 [==============================] - 4s 22ms/step - loss: 0.0045 - accuracy: 0.0015\n",
            "Epoch 152/200\n",
            "178/178 [==============================] - 4s 22ms/step - loss: 0.0030 - accuracy: 9.1208e-04\n",
            "Epoch 153/200\n",
            "178/178 [==============================] - 4s 22ms/step - loss: 0.0031 - accuracy: 6.6454e-04\n",
            "Epoch 154/200\n",
            "178/178 [==============================] - 4s 22ms/step - loss: 0.0024 - accuracy: 9.7755e-04\n",
            "Epoch 155/200\n",
            "178/178 [==============================] - 4s 22ms/step - loss: 0.0030 - accuracy: 0.0013\n",
            "Epoch 156/200\n",
            "178/178 [==============================] - 4s 22ms/step - loss: 0.0032 - accuracy: 9.3373e-04\n",
            "Epoch 157/200\n",
            "178/178 [==============================] - 4s 22ms/step - loss: 0.0054 - accuracy: 0.0063\n",
            "Epoch 158/200\n",
            "178/178 [==============================] - 4s 22ms/step - loss: 0.0048 - accuracy: 0.0017\n",
            "Epoch 159/200\n",
            "178/178 [==============================] - 4s 22ms/step - loss: 0.0026 - accuracy: 4.9230e-04\n",
            "Epoch 160/200\n",
            "178/178 [==============================] - 4s 22ms/step - loss: 0.0025 - accuracy: 9.1208e-04\n",
            "Epoch 161/200\n",
            "178/178 [==============================] - 4s 22ms/step - loss: 0.0054 - accuracy: 0.0055\n",
            "Epoch 162/200\n",
            "178/178 [==============================] - 4s 22ms/step - loss: 0.0049 - accuracy: 0.0011\n",
            "Epoch 163/200\n",
            "178/178 [==============================] - 4s 22ms/step - loss: 0.0050 - accuracy: 0.0070\n",
            "Epoch 164/200\n",
            "178/178 [==============================] - 4s 22ms/step - loss: 0.0049 - accuracy: 8.4811e-04\n",
            "Epoch 165/200\n",
            "178/178 [==============================] - 4s 23ms/step - loss: 0.0025 - accuracy: 0.0027\n",
            "Epoch 166/200\n",
            "178/178 [==============================] - 4s 22ms/step - loss: 0.0025 - accuracy: 0.0063\n",
            "Epoch 167/200\n",
            "178/178 [==============================] - 4s 23ms/step - loss: 0.0054 - accuracy: 0.0059\n",
            "Epoch 168/200\n",
            "178/178 [==============================] - 4s 23ms/step - loss: 0.0020 - accuracy: 0.0018\n",
            "Epoch 169/200\n",
            "178/178 [==============================] - 4s 23ms/step - loss: 0.0065 - accuracy: 6.3038e-05\n",
            "Epoch 170/200\n",
            "178/178 [==============================] - 4s 24ms/step - loss: 0.0073 - accuracy: 8.9059e-04\n",
            "Epoch 171/200\n",
            "178/178 [==============================] - 4s 24ms/step - loss: 0.0018 - accuracy: 0.0043\n",
            "Epoch 172/200\n",
            "178/178 [==============================] - 4s 24ms/step - loss: 0.0036 - accuracy: 0.0040\n",
            "Epoch 173/200\n",
            "178/178 [==============================] - 4s 24ms/step - loss: 0.0017 - accuracy: 0.0029\n",
            "Epoch 174/200\n",
            "178/178 [==============================] - 4s 24ms/step - loss: 0.0071 - accuracy: 0.0077\n",
            "Epoch 175/200\n",
            "178/178 [==============================] - 4s 24ms/step - loss: 0.0062 - accuracy: 0.0011\n",
            "Epoch 176/200\n",
            "178/178 [==============================] - 4s 24ms/step - loss: 0.0020 - accuracy: 5.8668e-04\n",
            "Epoch 177/200\n",
            "178/178 [==============================] - 4s 24ms/step - loss: 0.0056 - accuracy: 0.0068\n",
            "Epoch 178/200\n",
            "178/178 [==============================] - 4s 24ms/step - loss: 0.0068 - accuracy: 0.0061\n",
            "Epoch 179/200\n",
            "178/178 [==============================] - 4s 24ms/step - loss: 0.0040 - accuracy: 0.0019\n",
            "Epoch 180/200\n",
            "178/178 [==============================] - 4s 24ms/step - loss: 0.0045 - accuracy: 0.0012\n",
            "Epoch 181/200\n",
            "178/178 [==============================] - 4s 24ms/step - loss: 0.0035 - accuracy: 5.8668e-04\n",
            "Epoch 182/200\n",
            "178/178 [==============================] - 4s 24ms/step - loss: 0.0020 - accuracy: 0.0022\n",
            "Epoch 183/200\n",
            "178/178 [==============================] - 4s 24ms/step - loss: 0.0029 - accuracy: 0.0082\n",
            "Epoch 184/200\n",
            "178/178 [==============================] - 4s 24ms/step - loss: 0.0019 - accuracy: 0.0030\n",
            "Epoch 185/200\n",
            "178/178 [==============================] - 4s 25ms/step - loss: 0.0048 - accuracy: 0.0033\n",
            "Epoch 186/200\n",
            "178/178 [==============================] - 4s 24ms/step - loss: 0.0048 - accuracy: 0.0038\n",
            "Epoch 187/200\n",
            "178/178 [==============================] - 4s 25ms/step - loss: 0.0029 - accuracy: 0.0013\n",
            "Epoch 188/200\n",
            "178/178 [==============================] - 4s 24ms/step - loss: 0.0020 - accuracy: 0.0050\n",
            "Epoch 189/200\n",
            "178/178 [==============================] - 4s 24ms/step - loss: 0.0042 - accuracy: 1.7673e-04\n",
            "Epoch 190/200\n",
            "178/178 [==============================] - 4s 24ms/step - loss: 0.0054 - accuracy: 9.5556e-04\n",
            "Epoch 191/200\n",
            "178/178 [==============================] - 4s 24ms/step - loss: 0.0060 - accuracy: 0.0016\n",
            "Epoch 192/200\n",
            "178/178 [==============================] - 4s 24ms/step - loss: 0.0016 - accuracy: 0.0040\n",
            "Epoch 193/200\n",
            "178/178 [==============================] - 4s 24ms/step - loss: 0.0027 - accuracy: 0.0011\n",
            "Epoch 194/200\n",
            "178/178 [==============================] - 4s 24ms/step - loss: 0.0022 - accuracy: 0.0012\n",
            "Epoch 195/200\n",
            "178/178 [==============================] - 4s 24ms/step - loss: 0.0053 - accuracy: 7.2440e-04\n",
            "Epoch 196/200\n",
            "178/178 [==============================] - 4s 24ms/step - loss: 0.0032 - accuracy: 0.0035\n",
            "Epoch 197/200\n",
            "178/178 [==============================] - 4s 24ms/step - loss: 0.0086 - accuracy: 0.0021\n",
            "Epoch 198/200\n",
            "178/178 [==============================] - 4s 24ms/step - loss: 0.0035 - accuracy: 1.1120e-04\n",
            "Epoch 199/200\n",
            "178/178 [==============================] - 4s 24ms/step - loss: 0.0031 - accuracy: 0.0051\n",
            "Epoch 200/200\n",
            "178/178 [==============================] - 4s 24ms/step - loss: 0.0043 - accuracy: 0.0016\n"
          ],
          "name": "stdout"
        },
        {
          "output_type": "execute_result",
          "data": {
            "text/plain": [
              "<tensorflow.python.keras.callbacks.History at 0x7f7e0eded710>"
            ]
          },
          "metadata": {
            "tags": []
          },
          "execution_count": 315
        }
      ]
    },
    {
      "cell_type": "code",
      "metadata": {
        "colab": {
          "base_uri": "https://localhost:8080/"
        },
        "id": "AGNo2p3hy1Bf",
        "outputId": "882c3a36-ed50-4483-89fd-bc1a72f38a81"
      },
      "source": [
        "first_eval_5 = scaled_train[-20:]\n",
        "\n",
        "\n",
        "first_eval_5 = first_eval_5.reshape(1, n_input, n_feacture)\n",
        "\n",
        "model_5.predict(first_eval_5)"
      ],
      "execution_count": 316,
      "outputs": [
        {
          "output_type": "execute_result",
          "data": {
            "text/plain": [
              "array([[0.31218523]], dtype=float32)"
            ]
          },
          "metadata": {
            "tags": []
          },
          "execution_count": 316
        }
      ]
    },
    {
      "cell_type": "code",
      "metadata": {
        "id": "DY2AjL6Dy1Bj"
      },
      "source": [
        "test_predictions_5 = []\n",
        "\n",
        "first_eval_batch = scaled_train[-n_input:]\n",
        "current_batch = first_eval_5.reshape((1, n_input, n_feacture))\n",
        "\n",
        "for i in range(len(test)):\n",
        "    \n",
        "    # obtener la predicción ([0] es para obtener solo el número en lugar de [matriz])\n",
        "    current_pred = model_5.predict(current_batch)[0]\n",
        "    \n",
        "    # guardar la predicción\n",
        "    test_predictions_5.append(current_pred) \n",
        "    \n",
        "    # actualizar el lote para incluir ahora la predicción y soltar primer valor\n",
        "    current_batch = np.append(current_batch[:,1:,:],[[current_pred]],axis=1)"
      ],
      "execution_count": 317,
      "outputs": []
    },
    {
      "cell_type": "code",
      "metadata": {
        "colab": {
          "base_uri": "https://localhost:8080/"
        },
        "id": "BfYbgcfKy1Bk",
        "outputId": "735afcd5-639a-423c-bedf-51f9adbd0be3"
      },
      "source": [
        "#Transofmacion inversa\n",
        "true_predicctions_5 = scaler.inverse_transform(test_predictions_5)\n",
        "\n",
        "\n",
        "test['Prediction_5'] = true_predicctions_5"
      ],
      "execution_count": 318,
      "outputs": [
        {
          "output_type": "stream",
          "text": [
            "/usr/local/lib/python3.7/dist-packages/ipykernel_launcher.py:5: SettingWithCopyWarning: \n",
            "A value is trying to be set on a copy of a slice from a DataFrame.\n",
            "Try using .loc[row_indexer,col_indexer] = value instead\n",
            "\n",
            "See the caveats in the documentation: https://pandas.pydata.org/pandas-docs/stable/user_guide/indexing.html#returning-a-view-versus-a-copy\n",
            "  \"\"\"\n"
          ],
          "name": "stderr"
        }
      ]
    },
    {
      "cell_type": "code",
      "metadata": {
        "colab": {
          "base_uri": "https://localhost:8080/",
          "height": 537
        },
        "id": "7zKpUdgdy1Bm",
        "outputId": "b0c46eb2-5306-4332-98bb-9996985dda08"
      },
      "source": [
        "test[['new_cases', 'Prediction_5']].plot(figsize=(12,8))"
      ],
      "execution_count": 321,
      "outputs": [
        {
          "output_type": "execute_result",
          "data": {
            "text/plain": [
              "<matplotlib.axes._subplots.AxesSubplot at 0x7f7e0db69790>"
            ]
          },
          "metadata": {
            "tags": []
          },
          "execution_count": 321
        },
        {
          "output_type": "display_data",
          "data": {
            "image/png": "[encoded data removed]",
            "text/plain": [
              "<Figure size 864x576 with 1 Axes>"
            ]
          },
          "metadata": {
            "tags": [],
            "needs_background": "light"
          }
        }
      ]
    },
    {
      "cell_type": "code",
      "metadata": {
        "colab": {
          "base_uri": "https://localhost:8080/",
          "height": 708
        },
        "id": "FkIhRrkTy1Bn",
        "outputId": "925f8c3b-8240-4be4-9064-92c7bcff7110"
      },
      "source": [
        "#Observacion de los test y la predicciones\n",
        "test"
      ],
      "execution_count": 320,
      "outputs": [
        {
          "output_type": "execute_result",
          "data": {
            "text/html": [
              "<div>\n",
              "<style scoped>\n",
              "    .dataframe tbody tr th:only-of-type {\n",
              "        vertical-align: middle;\n",
              "    }\n",
              "\n",
              "    .dataframe tbody tr th {\n",
              "        vertical-align: top;\n",
              "    }\n",
              "\n",
              "    .dataframe thead th {\n",
              "        text-align: right;\n",
              "    }\n",
              "</style>\n",
              "<table border=\"1\" class=\"dataframe\">\n",
              "  <thead>\n",
              "    <tr style=\"text-align: right;\">\n",
              "      <th></th>\n",
              "      <th>new_cases</th>\n",
              "      <th>Prediction</th>\n",
              "      <th>Prediction_2</th>\n",
              "      <th>Prediction_3</th>\n",
              "      <th>Prediction_5</th>\n",
              "    </tr>\n",
              "    <tr>\n",
              "      <th>date</th>\n",
              "      <th></th>\n",
              "      <th></th>\n",
              "      <th></th>\n",
              "      <th></th>\n",
              "      <th></th>\n",
              "    </tr>\n",
              "  </thead>\n",
              "  <tbody>\n",
              "    <tr>\n",
              "      <th>2021-03-10</th>\n",
              "      <td>6602.0</td>\n",
              "      <td>7198.699694</td>\n",
              "      <td>5250.897143</td>\n",
              "      <td>5943.704616</td>\n",
              "      <td>8777.087682</td>\n",
              "    </tr>\n",
              "    <tr>\n",
              "      <th>2021-03-11</th>\n",
              "      <td>6469.0</td>\n",
              "      <td>7769.799540</td>\n",
              "      <td>5186.912755</td>\n",
              "      <td>6162.998625</td>\n",
              "      <td>9830.681940</td>\n",
              "    </tr>\n",
              "    <tr>\n",
              "      <th>2021-03-12</th>\n",
              "      <td>6816.0</td>\n",
              "      <td>8076.432929</td>\n",
              "      <td>5130.660437</td>\n",
              "      <td>6076.022054</td>\n",
              "      <td>10736.047187</td>\n",
              "    </tr>\n",
              "    <tr>\n",
              "      <th>2021-03-13</th>\n",
              "      <td>6104.0</td>\n",
              "      <td>8160.326057</td>\n",
              "      <td>5075.684648</td>\n",
              "      <td>5892.415134</td>\n",
              "      <td>10942.941228</td>\n",
              "    </tr>\n",
              "    <tr>\n",
              "      <th>2021-03-14</th>\n",
              "      <td>2415.0</td>\n",
              "      <td>7344.734266</td>\n",
              "      <td>5028.705703</td>\n",
              "      <td>4686.618159</td>\n",
              "      <td>10305.280893</td>\n",
              "    </tr>\n",
              "    <tr>\n",
              "      <th>2021-03-15</th>\n",
              "      <td>1439.0</td>\n",
              "      <td>5599.512706</td>\n",
              "      <td>4983.392906</td>\n",
              "      <td>4192.284329</td>\n",
              "      <td>8608.194570</td>\n",
              "    </tr>\n",
              "    <tr>\n",
              "      <th>2021-03-16</th>\n",
              "      <td>1278.0</td>\n",
              "      <td>5101.249999</td>\n",
              "      <td>4928.503001</td>\n",
              "      <td>4942.554455</td>\n",
              "      <td>7040.437760</td>\n",
              "    </tr>\n",
              "    <tr>\n",
              "      <th>2021-03-17</th>\n",
              "      <td>6455.0</td>\n",
              "      <td>6185.145794</td>\n",
              "      <td>4874.643704</td>\n",
              "      <td>5483.946411</td>\n",
              "      <td>7823.396159</td>\n",
              "    </tr>\n",
              "    <tr>\n",
              "      <th>2021-03-18</th>\n",
              "      <td>6726.0</td>\n",
              "      <td>6910.484854</td>\n",
              "      <td>4821.941954</td>\n",
              "      <td>5669.770394</td>\n",
              "      <td>9613.602481</td>\n",
              "    </tr>\n",
              "    <tr>\n",
              "      <th>2021-03-19</th>\n",
              "      <td>5722.0</td>\n",
              "      <td>7458.894577</td>\n",
              "      <td>4771.677633</td>\n",
              "      <td>5895.367448</td>\n",
              "      <td>11218.342181</td>\n",
              "    </tr>\n",
              "    <tr>\n",
              "      <th>2021-03-20</th>\n",
              "      <td>5729.0</td>\n",
              "      <td>7780.423177</td>\n",
              "      <td>4722.833959</td>\n",
              "      <td>6015.211182</td>\n",
              "      <td>12220.095205</td>\n",
              "    </tr>\n",
              "    <tr>\n",
              "      <th>2021-03-21</th>\n",
              "      <td>2133.0</td>\n",
              "      <td>7434.924155</td>\n",
              "      <td>4681.134573</td>\n",
              "      <td>5169.592684</td>\n",
              "      <td>12566.326545</td>\n",
              "    </tr>\n",
              "    <tr>\n",
              "      <th>2021-03-22</th>\n",
              "      <td>1388.0</td>\n",
              "      <td>5939.606485</td>\n",
              "      <td>4640.373627</td>\n",
              "      <td>4662.552217</td>\n",
              "      <td>11029.609455</td>\n",
              "    </tr>\n",
              "    <tr>\n",
              "      <th>2021-03-23</th>\n",
              "      <td>5881.0</td>\n",
              "      <td>5102.715472</td>\n",
              "      <td>4591.413485</td>\n",
              "      <td>5255.204329</td>\n",
              "      <td>7119.045463</td>\n",
              "    </tr>\n",
              "    <tr>\n",
              "      <th>2021-03-24</th>\n",
              "      <td>5714.0</td>\n",
              "      <td>5814.965817</td>\n",
              "      <td>4543.445827</td>\n",
              "      <td>5759.782230</td>\n",
              "      <td>7314.967304</td>\n",
              "    </tr>\n",
              "    <tr>\n",
              "      <th>2021-03-25</th>\n",
              "      <td>5787.0</td>\n",
              "      <td>6692.250779</td>\n",
              "      <td>4496.390215</td>\n",
              "      <td>5864.937713</td>\n",
              "      <td>12160.913197</td>\n",
              "    </tr>\n",
              "    <tr>\n",
              "      <th>2021-03-26</th>\n",
              "      <td>5303.0</td>\n",
              "      <td>7169.976746</td>\n",
              "      <td>4451.052701</td>\n",
              "      <td>6010.229494</td>\n",
              "      <td>14396.263206</td>\n",
              "    </tr>\n",
              "    <tr>\n",
              "      <th>2021-03-27</th>\n",
              "      <td>5059.0</td>\n",
              "      <td>7493.859823</td>\n",
              "      <td>4406.832097</td>\n",
              "      <td>6181.914044</td>\n",
              "      <td>16423.644158</td>\n",
              "    </tr>\n",
              "    <tr>\n",
              "      <th>2021-03-28</th>\n",
              "      <td>1646.0</td>\n",
              "      <td>7352.567721</td>\n",
              "      <td>4368.850020</td>\n",
              "      <td>5347.364102</td>\n",
              "      <td>18380.171262</td>\n",
              "    </tr>\n",
              "    <tr>\n",
              "      <th>2021-03-29</th>\n",
              "      <td>1293.0</td>\n",
              "      <td>6104.877388</td>\n",
              "      <td>4332.423491</td>\n",
              "      <td>5111.727842</td>\n",
              "      <td>18256.784919</td>\n",
              "    </tr>\n",
              "  </tbody>\n",
              "</table>\n",
              "</div>"
            ],
            "text/plain": [
              "            new_cases   Prediction  Prediction_2  Prediction_3  Prediction_5\n",
              "date                                                                        \n",
              "2021-03-10     6602.0  7198.699694   5250.897143   5943.704616   8777.087682\n",
              "2021-03-11     6469.0  7769.799540   5186.912755   6162.998625   9830.681940\n",
              "2021-03-12     6816.0  8076.432929   5130.660437   6076.022054  10736.047187\n",
              "2021-03-13     6104.0  8160.326057   5075.684648   5892.415134  10942.941228\n",
              "2021-03-14     2415.0  7344.734266   5028.705703   4686.618159  10305.280893\n",
              "2021-03-15     1439.0  5599.512706   4983.392906   4192.284329   8608.194570\n",
              "2021-03-16     1278.0  5101.249999   4928.503001   4942.554455   7040.437760\n",
              "2021-03-17     6455.0  6185.145794   4874.643704   5483.946411   7823.396159\n",
              "2021-03-18     6726.0  6910.484854   4821.941954   5669.770394   9613.602481\n",
              "2021-03-19     5722.0  7458.894577   4771.677633   5895.367448  11218.342181\n",
              "2021-03-20     5729.0  7780.423177   4722.833959   6015.211182  12220.095205\n",
              "2021-03-21     2133.0  7434.924155   4681.134573   5169.592684  12566.326545\n",
              "2021-03-22     1388.0  5939.606485   4640.373627   4662.552217  11029.609455\n",
              "2021-03-23     5881.0  5102.715472   4591.413485   5255.204329   7119.045463\n",
              "2021-03-24     5714.0  5814.965817   4543.445827   5759.782230   7314.967304\n",
              "2021-03-25     5787.0  6692.250779   4496.390215   5864.937713  12160.913197\n",
              "2021-03-26     5303.0  7169.976746   4451.052701   6010.229494  14396.263206\n",
              "2021-03-27     5059.0  7493.859823   4406.832097   6181.914044  16423.644158\n",
              "2021-03-28     1646.0  7352.567721   4368.850020   5347.364102  18380.171262\n",
              "2021-03-29     1293.0  6104.877388   4332.423491   5111.727842  18256.784919"
            ]
          },
          "metadata": {
            "tags": []
          },
          "execution_count": 320
        }
      ]
    }
  ]
}