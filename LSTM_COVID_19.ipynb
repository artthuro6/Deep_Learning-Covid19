{
  "nbformat": 4,
  "nbformat_minor": 0,
  "metadata": {
    "colab": {
      "name": "LSTM  -  COVID-19.ipynb",
      "provenance": [],
      "collapsed_sections": [],
      "mount_file_id": "1aDMNVZct41cp2QNValzW3D9Ob19RLqAB",
      "authorship_tag": "ABX9TyPnbwt6bKS2joMxfZa3hAT7",
      "include_colab_link": true
    },
    "kernelspec": {
      "name": "python3",
      "display_name": "Python 3"
    },
    "language_info": {
      "name": "python"
    }
  },
  "cells": [
    {
      "cell_type": "markdown",
      "metadata": {
        "id": "view-in-github",
        "colab_type": "text"
      },
      "source": [
        "<a href=\"https://colab.research.google.com/github/carturo6/Deep_Learning-Covid19/blob/main/LSTM_COVID_19.ipynb\" target=\"_parent\"><img src=\"https://colab.research.google.com/assets/colab-badge.svg\" alt=\"Open In Colab\"/></a>"
      ]
    },
    {
      "cell_type": "markdown",
      "metadata": {
        "id": "kQ7-27SQLs6d"
      },
      "source": [
        "# I.A. DeepLearnin para Casos Covid-19\n",
        "\n",
        "Este respositorio tiene el fin de predecir los proximo casos de Covid19 en México ( Nivel nacional ).\n",
        "\n",
        "Los datos que se ocuparan, son los datos disponibles en paginas del Gobierno.\n",
        "Se utilizaran solo tecnicas de Deep Learning donde cada modelo podra ir variando en funcion que los datos predichos mejor se ajusten a los datos predictorios.\n",
        "\n"
      ]
    },
    {
      "cell_type": "markdown",
      "metadata": {
        "id": "Jv8VPHnOVgLT"
      },
      "source": [
        "## **Librerias**"
      ]
    },
    {
      "cell_type": "code",
      "metadata": {
        "id": "uq_9I_ZDKvh8"
      },
      "source": [
        "# Import librarys.\n",
        "\n",
        "# DC\n",
        "import pandas as pd\n",
        "import numpy as np\n",
        "import matplotlib.pyplot as plt\n",
        "import scipy as sc\n",
        "import seaborn as sns\n",
        "from statsmodels.tsa.seasonal import seasonal_decompose\n",
        "\n",
        "# DL\n",
        "from keras.models import Sequential\n",
        "from keras.layers import Dense\n",
        "from keras.layers import LSTM\n",
        "import tensorflow as tf"
      ],
      "execution_count": 176,
      "outputs": []
    },
    {
      "cell_type": "markdown",
      "metadata": {
        "id": "gBTRdXsdVj89"
      },
      "source": [
        "## **Importacion de datos**"
      ]
    },
    {
      "cell_type": "code",
      "metadata": {
        "id": "5NmXrsuZPHbx"
      },
      "source": [
        "# Carga del Dataset\n",
        "\n",
        "df = pd.read_csv('/content/drive/MyDrive/IA_Projects/LSTM-Covid-19/owid-covid-data.csv')"
      ],
      "execution_count": 177,
      "outputs": []
    },
    {
      "cell_type": "code",
      "metadata": {
        "colab": {
          "base_uri": "https://localhost:8080/",
          "height": 313
        },
        "id": "VJ9VEjW4Qipz",
        "outputId": "c050c173-c9cf-48a1-f40c-e56959d85ea8"
      },
      "source": [
        "# Seleccion a Mexico\n",
        "\n",
        "df_mx = df[df['location'] == 'Mexico']\n",
        "\n",
        "df_mx.head(5)"
      ],
      "execution_count": 178,
      "outputs": [
        {
          "output_type": "execute_result",
          "data": {
            "text/html": [
              "<div>\n",
              "<style scoped>\n",
              "    .dataframe tbody tr th:only-of-type {\n",
              "        vertical-align: middle;\n",
              "    }\n",
              "\n",
              "    .dataframe tbody tr th {\n",
              "        vertical-align: top;\n",
              "    }\n",
              "\n",
              "    .dataframe thead th {\n",
              "        text-align: right;\n",
              "    }\n",
              "</style>\n",
              "<table border=\"1\" class=\"dataframe\">\n",
              "  <thead>\n",
              "    <tr style=\"text-align: right;\">\n",
              "      <th></th>\n",
              "      <th>iso_code</th>\n",
              "      <th>continent</th>\n",
              "      <th>location</th>\n",
              "      <th>date</th>\n",
              "      <th>total_cases</th>\n",
              "      <th>new_cases</th>\n",
              "      <th>new_cases_smoothed</th>\n",
              "      <th>total_deaths</th>\n",
              "      <th>new_deaths</th>\n",
              "      <th>new_deaths_smoothed</th>\n",
              "      <th>total_cases_per_million</th>\n",
              "      <th>new_cases_per_million</th>\n",
              "      <th>new_cases_smoothed_per_million</th>\n",
              "      <th>total_deaths_per_million</th>\n",
              "      <th>new_deaths_per_million</th>\n",
              "      <th>new_deaths_smoothed_per_million</th>\n",
              "      <th>reproduction_rate</th>\n",
              "      <th>icu_patients</th>\n",
              "      <th>icu_patients_per_million</th>\n",
              "      <th>hosp_patients</th>\n",
              "      <th>hosp_patients_per_million</th>\n",
              "      <th>weekly_icu_admissions</th>\n",
              "      <th>weekly_icu_admissions_per_million</th>\n",
              "      <th>weekly_hosp_admissions</th>\n",
              "      <th>weekly_hosp_admissions_per_million</th>\n",
              "      <th>new_tests</th>\n",
              "      <th>total_tests</th>\n",
              "      <th>total_tests_per_thousand</th>\n",
              "      <th>new_tests_per_thousand</th>\n",
              "      <th>new_tests_smoothed</th>\n",
              "      <th>new_tests_smoothed_per_thousand</th>\n",
              "      <th>positive_rate</th>\n",
              "      <th>tests_per_case</th>\n",
              "      <th>tests_units</th>\n",
              "      <th>total_vaccinations</th>\n",
              "      <th>people_vaccinated</th>\n",
              "      <th>people_fully_vaccinated</th>\n",
              "      <th>new_vaccinations</th>\n",
              "      <th>new_vaccinations_smoothed</th>\n",
              "      <th>total_vaccinations_per_hundred</th>\n",
              "      <th>people_vaccinated_per_hundred</th>\n",
              "      <th>people_fully_vaccinated_per_hundred</th>\n",
              "      <th>new_vaccinations_smoothed_per_million</th>\n",
              "      <th>stringency_index</th>\n",
              "      <th>population</th>\n",
              "      <th>population_density</th>\n",
              "      <th>median_age</th>\n",
              "      <th>aged_65_older</th>\n",
              "      <th>aged_70_older</th>\n",
              "      <th>gdp_per_capita</th>\n",
              "      <th>extreme_poverty</th>\n",
              "      <th>cardiovasc_death_rate</th>\n",
              "      <th>diabetes_prevalence</th>\n",
              "      <th>female_smokers</th>\n",
              "      <th>male_smokers</th>\n",
              "      <th>handwashing_facilities</th>\n",
              "      <th>hospital_beds_per_thousand</th>\n",
              "      <th>life_expectancy</th>\n",
              "      <th>human_development_index</th>\n",
              "    </tr>\n",
              "  </thead>\n",
              "  <tbody>\n",
              "    <tr>\n",
              "      <th>45393</th>\n",
              "      <td>MEX</td>\n",
              "      <td>North America</td>\n",
              "      <td>Mexico</td>\n",
              "      <td>2020-01-01</td>\n",
              "      <td>NaN</td>\n",
              "      <td>NaN</td>\n",
              "      <td>NaN</td>\n",
              "      <td>NaN</td>\n",
              "      <td>NaN</td>\n",
              "      <td>NaN</td>\n",
              "      <td>NaN</td>\n",
              "      <td>NaN</td>\n",
              "      <td>NaN</td>\n",
              "      <td>NaN</td>\n",
              "      <td>NaN</td>\n",
              "      <td>NaN</td>\n",
              "      <td>NaN</td>\n",
              "      <td>NaN</td>\n",
              "      <td>NaN</td>\n",
              "      <td>NaN</td>\n",
              "      <td>NaN</td>\n",
              "      <td>NaN</td>\n",
              "      <td>NaN</td>\n",
              "      <td>NaN</td>\n",
              "      <td>NaN</td>\n",
              "      <td>25.0</td>\n",
              "      <td>25.0</td>\n",
              "      <td>0.000</td>\n",
              "      <td>0.000</td>\n",
              "      <td>NaN</td>\n",
              "      <td>NaN</td>\n",
              "      <td>NaN</td>\n",
              "      <td>NaN</td>\n",
              "      <td>people tested</td>\n",
              "      <td>NaN</td>\n",
              "      <td>NaN</td>\n",
              "      <td>NaN</td>\n",
              "      <td>NaN</td>\n",
              "      <td>NaN</td>\n",
              "      <td>NaN</td>\n",
              "      <td>NaN</td>\n",
              "      <td>NaN</td>\n",
              "      <td>NaN</td>\n",
              "      <td>0.0</td>\n",
              "      <td>128932753.0</td>\n",
              "      <td>66.444</td>\n",
              "      <td>29.3</td>\n",
              "      <td>6.857</td>\n",
              "      <td>4.321</td>\n",
              "      <td>17336.469</td>\n",
              "      <td>2.5</td>\n",
              "      <td>152.783</td>\n",
              "      <td>13.06</td>\n",
              "      <td>6.9</td>\n",
              "      <td>21.4</td>\n",
              "      <td>87.847</td>\n",
              "      <td>1.38</td>\n",
              "      <td>75.05</td>\n",
              "      <td>0.779</td>\n",
              "    </tr>\n",
              "    <tr>\n",
              "      <th>45394</th>\n",
              "      <td>MEX</td>\n",
              "      <td>North America</td>\n",
              "      <td>Mexico</td>\n",
              "      <td>2020-01-02</td>\n",
              "      <td>NaN</td>\n",
              "      <td>NaN</td>\n",
              "      <td>NaN</td>\n",
              "      <td>NaN</td>\n",
              "      <td>NaN</td>\n",
              "      <td>NaN</td>\n",
              "      <td>NaN</td>\n",
              "      <td>NaN</td>\n",
              "      <td>NaN</td>\n",
              "      <td>NaN</td>\n",
              "      <td>NaN</td>\n",
              "      <td>NaN</td>\n",
              "      <td>NaN</td>\n",
              "      <td>NaN</td>\n",
              "      <td>NaN</td>\n",
              "      <td>NaN</td>\n",
              "      <td>NaN</td>\n",
              "      <td>NaN</td>\n",
              "      <td>NaN</td>\n",
              "      <td>NaN</td>\n",
              "      <td>NaN</td>\n",
              "      <td>72.0</td>\n",
              "      <td>97.0</td>\n",
              "      <td>0.001</td>\n",
              "      <td>0.001</td>\n",
              "      <td>NaN</td>\n",
              "      <td>NaN</td>\n",
              "      <td>NaN</td>\n",
              "      <td>NaN</td>\n",
              "      <td>people tested</td>\n",
              "      <td>NaN</td>\n",
              "      <td>NaN</td>\n",
              "      <td>NaN</td>\n",
              "      <td>NaN</td>\n",
              "      <td>NaN</td>\n",
              "      <td>NaN</td>\n",
              "      <td>NaN</td>\n",
              "      <td>NaN</td>\n",
              "      <td>NaN</td>\n",
              "      <td>0.0</td>\n",
              "      <td>128932753.0</td>\n",
              "      <td>66.444</td>\n",
              "      <td>29.3</td>\n",
              "      <td>6.857</td>\n",
              "      <td>4.321</td>\n",
              "      <td>17336.469</td>\n",
              "      <td>2.5</td>\n",
              "      <td>152.783</td>\n",
              "      <td>13.06</td>\n",
              "      <td>6.9</td>\n",
              "      <td>21.4</td>\n",
              "      <td>87.847</td>\n",
              "      <td>1.38</td>\n",
              "      <td>75.05</td>\n",
              "      <td>0.779</td>\n",
              "    </tr>\n",
              "    <tr>\n",
              "      <th>45395</th>\n",
              "      <td>MEX</td>\n",
              "      <td>North America</td>\n",
              "      <td>Mexico</td>\n",
              "      <td>2020-01-03</td>\n",
              "      <td>NaN</td>\n",
              "      <td>NaN</td>\n",
              "      <td>NaN</td>\n",
              "      <td>NaN</td>\n",
              "      <td>NaN</td>\n",
              "      <td>NaN</td>\n",
              "      <td>NaN</td>\n",
              "      <td>NaN</td>\n",
              "      <td>NaN</td>\n",
              "      <td>NaN</td>\n",
              "      <td>NaN</td>\n",
              "      <td>NaN</td>\n",
              "      <td>NaN</td>\n",
              "      <td>NaN</td>\n",
              "      <td>NaN</td>\n",
              "      <td>NaN</td>\n",
              "      <td>NaN</td>\n",
              "      <td>NaN</td>\n",
              "      <td>NaN</td>\n",
              "      <td>NaN</td>\n",
              "      <td>NaN</td>\n",
              "      <td>89.0</td>\n",
              "      <td>186.0</td>\n",
              "      <td>0.001</td>\n",
              "      <td>0.001</td>\n",
              "      <td>NaN</td>\n",
              "      <td>NaN</td>\n",
              "      <td>NaN</td>\n",
              "      <td>NaN</td>\n",
              "      <td>people tested</td>\n",
              "      <td>NaN</td>\n",
              "      <td>NaN</td>\n",
              "      <td>NaN</td>\n",
              "      <td>NaN</td>\n",
              "      <td>NaN</td>\n",
              "      <td>NaN</td>\n",
              "      <td>NaN</td>\n",
              "      <td>NaN</td>\n",
              "      <td>NaN</td>\n",
              "      <td>0.0</td>\n",
              "      <td>128932753.0</td>\n",
              "      <td>66.444</td>\n",
              "      <td>29.3</td>\n",
              "      <td>6.857</td>\n",
              "      <td>4.321</td>\n",
              "      <td>17336.469</td>\n",
              "      <td>2.5</td>\n",
              "      <td>152.783</td>\n",
              "      <td>13.06</td>\n",
              "      <td>6.9</td>\n",
              "      <td>21.4</td>\n",
              "      <td>87.847</td>\n",
              "      <td>1.38</td>\n",
              "      <td>75.05</td>\n",
              "      <td>0.779</td>\n",
              "    </tr>\n",
              "    <tr>\n",
              "      <th>45396</th>\n",
              "      <td>MEX</td>\n",
              "      <td>North America</td>\n",
              "      <td>Mexico</td>\n",
              "      <td>2020-01-04</td>\n",
              "      <td>NaN</td>\n",
              "      <td>NaN</td>\n",
              "      <td>NaN</td>\n",
              "      <td>NaN</td>\n",
              "      <td>NaN</td>\n",
              "      <td>NaN</td>\n",
              "      <td>NaN</td>\n",
              "      <td>NaN</td>\n",
              "      <td>NaN</td>\n",
              "      <td>NaN</td>\n",
              "      <td>NaN</td>\n",
              "      <td>NaN</td>\n",
              "      <td>NaN</td>\n",
              "      <td>NaN</td>\n",
              "      <td>NaN</td>\n",
              "      <td>NaN</td>\n",
              "      <td>NaN</td>\n",
              "      <td>NaN</td>\n",
              "      <td>NaN</td>\n",
              "      <td>NaN</td>\n",
              "      <td>NaN</td>\n",
              "      <td>45.0</td>\n",
              "      <td>231.0</td>\n",
              "      <td>0.002</td>\n",
              "      <td>0.000</td>\n",
              "      <td>NaN</td>\n",
              "      <td>NaN</td>\n",
              "      <td>NaN</td>\n",
              "      <td>NaN</td>\n",
              "      <td>people tested</td>\n",
              "      <td>NaN</td>\n",
              "      <td>NaN</td>\n",
              "      <td>NaN</td>\n",
              "      <td>NaN</td>\n",
              "      <td>NaN</td>\n",
              "      <td>NaN</td>\n",
              "      <td>NaN</td>\n",
              "      <td>NaN</td>\n",
              "      <td>NaN</td>\n",
              "      <td>0.0</td>\n",
              "      <td>128932753.0</td>\n",
              "      <td>66.444</td>\n",
              "      <td>29.3</td>\n",
              "      <td>6.857</td>\n",
              "      <td>4.321</td>\n",
              "      <td>17336.469</td>\n",
              "      <td>2.5</td>\n",
              "      <td>152.783</td>\n",
              "      <td>13.06</td>\n",
              "      <td>6.9</td>\n",
              "      <td>21.4</td>\n",
              "      <td>87.847</td>\n",
              "      <td>1.38</td>\n",
              "      <td>75.05</td>\n",
              "      <td>0.779</td>\n",
              "    </tr>\n",
              "    <tr>\n",
              "      <th>45397</th>\n",
              "      <td>MEX</td>\n",
              "      <td>North America</td>\n",
              "      <td>Mexico</td>\n",
              "      <td>2020-01-05</td>\n",
              "      <td>NaN</td>\n",
              "      <td>NaN</td>\n",
              "      <td>NaN</td>\n",
              "      <td>NaN</td>\n",
              "      <td>NaN</td>\n",
              "      <td>NaN</td>\n",
              "      <td>NaN</td>\n",
              "      <td>NaN</td>\n",
              "      <td>NaN</td>\n",
              "      <td>NaN</td>\n",
              "      <td>NaN</td>\n",
              "      <td>NaN</td>\n",
              "      <td>NaN</td>\n",
              "      <td>NaN</td>\n",
              "      <td>NaN</td>\n",
              "      <td>NaN</td>\n",
              "      <td>NaN</td>\n",
              "      <td>NaN</td>\n",
              "      <td>NaN</td>\n",
              "      <td>NaN</td>\n",
              "      <td>NaN</td>\n",
              "      <td>85.0</td>\n",
              "      <td>316.0</td>\n",
              "      <td>0.002</td>\n",
              "      <td>0.001</td>\n",
              "      <td>NaN</td>\n",
              "      <td>NaN</td>\n",
              "      <td>NaN</td>\n",
              "      <td>NaN</td>\n",
              "      <td>people tested</td>\n",
              "      <td>NaN</td>\n",
              "      <td>NaN</td>\n",
              "      <td>NaN</td>\n",
              "      <td>NaN</td>\n",
              "      <td>NaN</td>\n",
              "      <td>NaN</td>\n",
              "      <td>NaN</td>\n",
              "      <td>NaN</td>\n",
              "      <td>NaN</td>\n",
              "      <td>0.0</td>\n",
              "      <td>128932753.0</td>\n",
              "      <td>66.444</td>\n",
              "      <td>29.3</td>\n",
              "      <td>6.857</td>\n",
              "      <td>4.321</td>\n",
              "      <td>17336.469</td>\n",
              "      <td>2.5</td>\n",
              "      <td>152.783</td>\n",
              "      <td>13.06</td>\n",
              "      <td>6.9</td>\n",
              "      <td>21.4</td>\n",
              "      <td>87.847</td>\n",
              "      <td>1.38</td>\n",
              "      <td>75.05</td>\n",
              "      <td>0.779</td>\n",
              "    </tr>\n",
              "  </tbody>\n",
              "</table>\n",
              "</div>"
            ],
            "text/plain": [
              "      iso_code      continent  ... life_expectancy human_development_index\n",
              "45393      MEX  North America  ...           75.05                   0.779\n",
              "45394      MEX  North America  ...           75.05                   0.779\n",
              "45395      MEX  North America  ...           75.05                   0.779\n",
              "45396      MEX  North America  ...           75.05                   0.779\n",
              "45397      MEX  North America  ...           75.05                   0.779\n",
              "\n",
              "[5 rows x 59 columns]"
            ]
          },
          "metadata": {
            "tags": []
          },
          "execution_count": 178
        }
      ]
    },
    {
      "cell_type": "code",
      "metadata": {
        "colab": {
          "base_uri": "https://localhost:8080/",
          "height": 206
        },
        "id": "kuhAk_wrQjmE",
        "outputId": "99755ced-fb7d-4b81-b9a7-347bd98fe9ea"
      },
      "source": [
        "# Seleccionando columnas\n",
        "df_mx = df_mx.iloc[:, 3:6]\n",
        "df_mx.head()"
      ],
      "execution_count": 179,
      "outputs": [
        {
          "output_type": "execute_result",
          "data": {
            "text/html": [
              "<div>\n",
              "<style scoped>\n",
              "    .dataframe tbody tr th:only-of-type {\n",
              "        vertical-align: middle;\n",
              "    }\n",
              "\n",
              "    .dataframe tbody tr th {\n",
              "        vertical-align: top;\n",
              "    }\n",
              "\n",
              "    .dataframe thead th {\n",
              "        text-align: right;\n",
              "    }\n",
              "</style>\n",
              "<table border=\"1\" class=\"dataframe\">\n",
              "  <thead>\n",
              "    <tr style=\"text-align: right;\">\n",
              "      <th></th>\n",
              "      <th>date</th>\n",
              "      <th>total_cases</th>\n",
              "      <th>new_cases</th>\n",
              "    </tr>\n",
              "  </thead>\n",
              "  <tbody>\n",
              "    <tr>\n",
              "      <th>45393</th>\n",
              "      <td>2020-01-01</td>\n",
              "      <td>NaN</td>\n",
              "      <td>NaN</td>\n",
              "    </tr>\n",
              "    <tr>\n",
              "      <th>45394</th>\n",
              "      <td>2020-01-02</td>\n",
              "      <td>NaN</td>\n",
              "      <td>NaN</td>\n",
              "    </tr>\n",
              "    <tr>\n",
              "      <th>45395</th>\n",
              "      <td>2020-01-03</td>\n",
              "      <td>NaN</td>\n",
              "      <td>NaN</td>\n",
              "    </tr>\n",
              "    <tr>\n",
              "      <th>45396</th>\n",
              "      <td>2020-01-04</td>\n",
              "      <td>NaN</td>\n",
              "      <td>NaN</td>\n",
              "    </tr>\n",
              "    <tr>\n",
              "      <th>45397</th>\n",
              "      <td>2020-01-05</td>\n",
              "      <td>NaN</td>\n",
              "      <td>NaN</td>\n",
              "    </tr>\n",
              "  </tbody>\n",
              "</table>\n",
              "</div>"
            ],
            "text/plain": [
              "             date  total_cases  new_cases\n",
              "45393  2020-01-01          NaN        NaN\n",
              "45394  2020-01-02          NaN        NaN\n",
              "45395  2020-01-03          NaN        NaN\n",
              "45396  2020-01-04          NaN        NaN\n",
              "45397  2020-01-05          NaN        NaN"
            ]
          },
          "metadata": {
            "tags": []
          },
          "execution_count": 179
        }
      ]
    },
    {
      "cell_type": "code",
      "metadata": {
        "id": "QyrjUnQ7EF9X"
      },
      "source": [
        "df_mx = df_mx.reset_index(inplace=False)"
      ],
      "execution_count": 180,
      "outputs": []
    },
    {
      "cell_type": "code",
      "metadata": {
        "id": "HSo81nHlGLpM"
      },
      "source": [
        "del df_mx['index']"
      ],
      "execution_count": 181,
      "outputs": []
    },
    {
      "cell_type": "code",
      "metadata": {
        "id": "LdTIolaEGXAJ"
      },
      "source": [
        "# Trabajando con la columna de nuevos casos\n",
        "\n",
        "df_mx = df_mx.iloc[:,[0,2]]"
      ],
      "execution_count": 182,
      "outputs": []
    },
    {
      "cell_type": "code",
      "metadata": {
        "id": "Z1oMJAvzGr1s"
      },
      "source": [
        ""
      ],
      "execution_count": 182,
      "outputs": []
    },
    {
      "cell_type": "markdown",
      "metadata": {
        "id": "I0glvokzHwP7"
      },
      "source": [
        "## **Transformacion de los datos**"
      ]
    },
    {
      "cell_type": "code",
      "metadata": {
        "colab": {
          "base_uri": "https://localhost:8080/",
          "height": 143
        },
        "id": "FLLkmTY-H1Aa",
        "outputId": "41015f99-809f-4a37-e27a-801fcb629b73"
      },
      "source": [
        "df_mx.head(3)"
      ],
      "execution_count": 183,
      "outputs": [
        {
          "output_type": "execute_result",
          "data": {
            "text/html": [
              "<div>\n",
              "<style scoped>\n",
              "    .dataframe tbody tr th:only-of-type {\n",
              "        vertical-align: middle;\n",
              "    }\n",
              "\n",
              "    .dataframe tbody tr th {\n",
              "        vertical-align: top;\n",
              "    }\n",
              "\n",
              "    .dataframe thead th {\n",
              "        text-align: right;\n",
              "    }\n",
              "</style>\n",
              "<table border=\"1\" class=\"dataframe\">\n",
              "  <thead>\n",
              "    <tr style=\"text-align: right;\">\n",
              "      <th></th>\n",
              "      <th>date</th>\n",
              "      <th>new_cases</th>\n",
              "    </tr>\n",
              "  </thead>\n",
              "  <tbody>\n",
              "    <tr>\n",
              "      <th>0</th>\n",
              "      <td>2020-01-01</td>\n",
              "      <td>NaN</td>\n",
              "    </tr>\n",
              "    <tr>\n",
              "      <th>1</th>\n",
              "      <td>2020-01-02</td>\n",
              "      <td>NaN</td>\n",
              "    </tr>\n",
              "    <tr>\n",
              "      <th>2</th>\n",
              "      <td>2020-01-03</td>\n",
              "      <td>NaN</td>\n",
              "    </tr>\n",
              "  </tbody>\n",
              "</table>\n",
              "</div>"
            ],
            "text/plain": [
              "         date  new_cases\n",
              "0  2020-01-01        NaN\n",
              "1  2020-01-02        NaN\n",
              "2  2020-01-03        NaN"
            ]
          },
          "metadata": {
            "tags": []
          },
          "execution_count": 183
        }
      ]
    },
    {
      "cell_type": "code",
      "metadata": {
        "colab": {
          "base_uri": "https://localhost:8080/"
        },
        "id": "lM13If1qH8-N",
        "outputId": "8f481dba-3e55-4c84-a75e-50c20cf2ba46"
      },
      "source": [
        "df_mx.info()"
      ],
      "execution_count": 184,
      "outputs": [
        {
          "output_type": "stream",
          "text": [
            "<class 'pandas.core.frame.DataFrame'>\n",
            "RangeIndex: 454 entries, 0 to 453\n",
            "Data columns (total 2 columns):\n",
            " #   Column     Non-Null Count  Dtype  \n",
            "---  ------     --------------  -----  \n",
            " 0   date       454 non-null    object \n",
            " 1   new_cases  396 non-null    float64\n",
            "dtypes: float64(1), object(1)\n",
            "memory usage: 7.2+ KB\n"
          ],
          "name": "stdout"
        }
      ]
    },
    {
      "cell_type": "code",
      "metadata": {
        "id": "fzVse4Z_H-RQ"
      },
      "source": [
        "df_mx.date = pd.to_datetime(df_mx.date)"
      ],
      "execution_count": 185,
      "outputs": []
    },
    {
      "cell_type": "code",
      "metadata": {
        "colab": {
          "base_uri": "https://localhost:8080/"
        },
        "id": "GMdV5UuZIFVJ",
        "outputId": "538e8814-a3e5-4e4d-81f3-493faec4aee9"
      },
      "source": [
        "df_mx.info()"
      ],
      "execution_count": 186,
      "outputs": [
        {
          "output_type": "stream",
          "text": [
            "<class 'pandas.core.frame.DataFrame'>\n",
            "RangeIndex: 454 entries, 0 to 453\n",
            "Data columns (total 2 columns):\n",
            " #   Column     Non-Null Count  Dtype         \n",
            "---  ------     --------------  -----         \n",
            " 0   date       454 non-null    datetime64[ns]\n",
            " 1   new_cases  396 non-null    float64       \n",
            "dtypes: datetime64[ns](1), float64(1)\n",
            "memory usage: 7.2 KB\n"
          ],
          "name": "stdout"
        }
      ]
    },
    {
      "cell_type": "code",
      "metadata": {
        "colab": {
          "base_uri": "https://localhost:8080/",
          "height": 300
        },
        "id": "RhCyjj9jIGii",
        "outputId": "e3aa7a14-b823-497c-baab-e10e10c45cca"
      },
      "source": [
        "df_mx.describe()"
      ],
      "execution_count": 187,
      "outputs": [
        {
          "output_type": "execute_result",
          "data": {
            "text/html": [
              "<div>\n",
              "<style scoped>\n",
              "    .dataframe tbody tr th:only-of-type {\n",
              "        vertical-align: middle;\n",
              "    }\n",
              "\n",
              "    .dataframe tbody tr th {\n",
              "        vertical-align: top;\n",
              "    }\n",
              "\n",
              "    .dataframe thead th {\n",
              "        text-align: right;\n",
              "    }\n",
              "</style>\n",
              "<table border=\"1\" class=\"dataframe\">\n",
              "  <thead>\n",
              "    <tr style=\"text-align: right;\">\n",
              "      <th></th>\n",
              "      <th>new_cases</th>\n",
              "    </tr>\n",
              "  </thead>\n",
              "  <tbody>\n",
              "    <tr>\n",
              "      <th>count</th>\n",
              "      <td>396.000000</td>\n",
              "    </tr>\n",
              "    <tr>\n",
              "      <th>mean</th>\n",
              "      <td>5625.866162</td>\n",
              "    </tr>\n",
              "    <tr>\n",
              "      <th>std</th>\n",
              "      <td>4475.211614</td>\n",
              "    </tr>\n",
              "    <tr>\n",
              "      <th>min</th>\n",
              "      <td>0.000000</td>\n",
              "    </tr>\n",
              "    <tr>\n",
              "      <th>25%</th>\n",
              "      <td>2800.250000</td>\n",
              "    </tr>\n",
              "    <tr>\n",
              "      <th>50%</th>\n",
              "      <td>5237.500000</td>\n",
              "    </tr>\n",
              "    <tr>\n",
              "      <th>75%</th>\n",
              "      <td>6848.500000</td>\n",
              "    </tr>\n",
              "    <tr>\n",
              "      <th>max</th>\n",
              "      <td>28115.000000</td>\n",
              "    </tr>\n",
              "  </tbody>\n",
              "</table>\n",
              "</div>"
            ],
            "text/plain": [
              "          new_cases\n",
              "count    396.000000\n",
              "mean    5625.866162\n",
              "std     4475.211614\n",
              "min        0.000000\n",
              "25%     2800.250000\n",
              "50%     5237.500000\n",
              "75%     6848.500000\n",
              "max    28115.000000"
            ]
          },
          "metadata": {
            "tags": []
          },
          "execution_count": 187
        }
      ]
    },
    {
      "cell_type": "code",
      "metadata": {
        "colab": {
          "base_uri": "https://localhost:8080/"
        },
        "id": "AMzqF6soIJZ-",
        "outputId": "15d71b55-549f-4f5f-8cd0-3645bc48a121"
      },
      "source": [
        "df_mx.isna().sum()"
      ],
      "execution_count": 188,
      "outputs": [
        {
          "output_type": "execute_result",
          "data": {
            "text/plain": [
              "date          0\n",
              "new_cases    58\n",
              "dtype: int64"
            ]
          },
          "metadata": {
            "tags": []
          },
          "execution_count": 188
        }
      ]
    },
    {
      "cell_type": "code",
      "metadata": {
        "id": "LRKsPTdoIlJg"
      },
      "source": [
        "# Quitando Datos faltantes.\n",
        "\n",
        "df_mx = df_mx[df_mx['new_cases'].notna()]"
      ],
      "execution_count": 189,
      "outputs": []
    },
    {
      "cell_type": "code",
      "metadata": {
        "colab": {
          "base_uri": "https://localhost:8080/",
          "height": 206
        },
        "id": "AFWr_jf-JAdp",
        "outputId": "8c012f3f-6475-4b29-853f-fdada408dc4d"
      },
      "source": [
        "df_mx.tail()"
      ],
      "execution_count": 190,
      "outputs": [
        {
          "output_type": "execute_result",
          "data": {
            "text/html": [
              "<div>\n",
              "<style scoped>\n",
              "    .dataframe tbody tr th:only-of-type {\n",
              "        vertical-align: middle;\n",
              "    }\n",
              "\n",
              "    .dataframe tbody tr th {\n",
              "        vertical-align: top;\n",
              "    }\n",
              "\n",
              "    .dataframe thead th {\n",
              "        text-align: right;\n",
              "    }\n",
              "</style>\n",
              "<table border=\"1\" class=\"dataframe\">\n",
              "  <thead>\n",
              "    <tr style=\"text-align: right;\">\n",
              "      <th></th>\n",
              "      <th>date</th>\n",
              "      <th>new_cases</th>\n",
              "    </tr>\n",
              "  </thead>\n",
              "  <tbody>\n",
              "    <tr>\n",
              "      <th>449</th>\n",
              "      <td>2021-03-25</td>\n",
              "      <td>5787.0</td>\n",
              "    </tr>\n",
              "    <tr>\n",
              "      <th>450</th>\n",
              "      <td>2021-03-26</td>\n",
              "      <td>5303.0</td>\n",
              "    </tr>\n",
              "    <tr>\n",
              "      <th>451</th>\n",
              "      <td>2021-03-27</td>\n",
              "      <td>5059.0</td>\n",
              "    </tr>\n",
              "    <tr>\n",
              "      <th>452</th>\n",
              "      <td>2021-03-28</td>\n",
              "      <td>1646.0</td>\n",
              "    </tr>\n",
              "    <tr>\n",
              "      <th>453</th>\n",
              "      <td>2021-03-29</td>\n",
              "      <td>1293.0</td>\n",
              "    </tr>\n",
              "  </tbody>\n",
              "</table>\n",
              "</div>"
            ],
            "text/plain": [
              "          date  new_cases\n",
              "449 2021-03-25     5787.0\n",
              "450 2021-03-26     5303.0\n",
              "451 2021-03-27     5059.0\n",
              "452 2021-03-28     1646.0\n",
              "453 2021-03-29     1293.0"
            ]
          },
          "metadata": {
            "tags": []
          },
          "execution_count": 190
        }
      ]
    },
    {
      "cell_type": "code",
      "metadata": {
        "colab": {
          "base_uri": "https://localhost:8080/"
        },
        "id": "A07Wj3llJtbV",
        "outputId": "0737b018-667d-4fdf-9085-6be81f41e780"
      },
      "source": [
        "df_mx.date.describe()"
      ],
      "execution_count": 191,
      "outputs": [
        {
          "output_type": "stream",
          "text": [
            "/usr/local/lib/python3.7/dist-packages/ipykernel_launcher.py:1: FutureWarning: Treating datetime data as categorical rather than numeric in `.describe` is deprecated and will be removed in a future version of pandas. Specify `datetime_is_numeric=True` to silence this warning and adopt the future behavior now.\n",
            "  \"\"\"Entry point for launching an IPython kernel.\n"
          ],
          "name": "stderr"
        },
        {
          "output_type": "execute_result",
          "data": {
            "text/plain": [
              "count                     396\n",
              "unique                    396\n",
              "top       2020-04-13 00:00:00\n",
              "freq                        1\n",
              "first     2020-02-28 00:00:00\n",
              "last      2021-03-29 00:00:00\n",
              "Name: date, dtype: object"
            ]
          },
          "metadata": {
            "tags": []
          },
          "execution_count": 191
        }
      ]
    },
    {
      "cell_type": "code",
      "metadata": {
        "id": "pggG81rPKIgA"
      },
      "source": [
        ""
      ],
      "execution_count": 191,
      "outputs": []
    },
    {
      "cell_type": "markdown",
      "metadata": {
        "id": "N0k3YjYXKjQ5"
      },
      "source": [
        "## **Visualizacion de Datos**"
      ]
    },
    {
      "cell_type": "code",
      "metadata": {
        "id": "ZRBmbNpkK6tx"
      },
      "source": [
        "df_mx_2 = df_mx.copy()"
      ],
      "execution_count": 192,
      "outputs": []
    },
    {
      "cell_type": "code",
      "metadata": {
        "id": "XRO8dazvK7uL"
      },
      "source": [
        "df_mx_2.set_index('date', inplace=True)"
      ],
      "execution_count": 193,
      "outputs": []
    },
    {
      "cell_type": "code",
      "metadata": {
        "id": "n4AsHom9KlUY"
      },
      "source": [
        "# Promedio de ventanas de tiempo\n",
        "\n",
        "#Ventana de tiempo\n",
        "ventana_tiempo = df_mx_2.rolling(7)\n",
        "\n",
        "#Media de la ventana de tiempo\n",
        "media_df = ventana_tiempo.mean()"
      ],
      "execution_count": 201,
      "outputs": []
    },
    {
      "cell_type": "code",
      "metadata": {
        "colab": {
          "base_uri": "https://localhost:8080/",
          "height": 500
        },
        "id": "fDnFEwOUL_eQ",
        "outputId": "c12a00e5-1329-4051-ddaf-4a3cf6e86223"
      },
      "source": [
        "plt.figure(figsize=(12,8))\n",
        "plt.plot(df_mx_2, label='new_cases')\n",
        "plt.plot(media_df, label='media')\n",
        "plt.legend()"
      ],
      "execution_count": 202,
      "outputs": [
        {
          "output_type": "execute_result",
          "data": {
            "text/plain": [
              "<matplotlib.legend.Legend at 0x7f7e208c2f50>"
            ]
          },
          "metadata": {
            "tags": []
          },
          "execution_count": 202
        },
        {
          "output_type": "display_data",
          "data": {
            "image/png": "[encoded data removed]",
            "text/plain": [
              "<Figure size 864x576 with 1 Axes>"
            ]
          },
          "metadata": {
            "tags": [],
            "needs_background": "light"
          }
        }
      ]
    },
    {
      "cell_type": "code",
      "metadata": {
        "id": "BVMbLSzeMALk"
      },
      "source": [
        "seasonal_value = seasonal_decompose(df_mx_2, freq=7)"
      ],
      "execution_count": 196,
      "outputs": []
    },
    {
      "cell_type": "code",
      "metadata": {
        "colab": {
          "base_uri": "https://localhost:8080/",
          "height": 298
        },
        "id": "ge1MDs_XOepK",
        "outputId": "54f8f204-644d-4fc8-9ca8-05344dfbb8e3"
      },
      "source": [
        "seasonal_value.plot();"
      ],
      "execution_count": 198,
      "outputs": [
        {
          "output_type": "display_data",
          "data": {
            "image/png": "[encoded data removed]",
            "text/plain": [
              "<Figure size 432x288 with 4 Axes>"
            ]
          },
          "metadata": {
            "tags": [],
            "needs_background": "light"
          }
        }
      ]
    },
    {
      "cell_type": "code",
      "metadata": {
        "id": "uvHv9BZKOgx_"
      },
      "source": [
        ""
      ],
      "execution_count": null,
      "outputs": []
    },
    {
      "cell_type": "markdown",
      "metadata": {
        "id": "0jHkVun1POn2"
      },
      "source": [
        "# **Modelo-1**"
      ]
    },
    {
      "cell_type": "code",
      "metadata": {
        "colab": {
          "base_uri": "https://localhost:8080/"
        },
        "id": "EGNDEV4VPRsp",
        "outputId": "cb594f04-5d0f-4a44-fffe-eb2df55034df"
      },
      "source": [
        "# Datos de entreamiento y test\n",
        "\n",
        "len(df_mx_2)"
      ],
      "execution_count": 218,
      "outputs": [
        {
          "output_type": "execute_result",
          "data": {
            "text/plain": [
              "396"
            ]
          },
          "metadata": {
            "tags": []
          },
          "execution_count": 218
        }
      ]
    },
    {
      "cell_type": "code",
      "metadata": {
        "colab": {
          "base_uri": "https://localhost:8080/"
        },
        "id": "sZxH98wcQA5m",
        "outputId": "ec0909eb-e6e8-4376-8061-2a57d187c1d7"
      },
      "source": [
        "len(df_mx_2)-20"
      ],
      "execution_count": 219,
      "outputs": [
        {
          "output_type": "execute_result",
          "data": {
            "text/plain": [
              "376"
            ]
          },
          "metadata": {
            "tags": []
          },
          "execution_count": 219
        }
      ]
    },
    {
      "cell_type": "code",
      "metadata": {
        "id": "5pWNDoT_WYoR"
      },
      "source": [
        "train = df_mx_2.iloc[:len(df_mx_2)-20]\n",
        "test = df_mx_2.iloc[len(df_mx_2)-20:]"
      ],
      "execution_count": 220,
      "outputs": []
    },
    {
      "cell_type": "code",
      "metadata": {
        "id": "R9oHz8dOWi2X"
      },
      "source": [
        "# Escalando datos\n",
        "\n",
        "from sklearn.preprocessing import MinMaxScaler\n",
        "from keras.preprocessing.sequence import TimeseriesGenerator\n",
        "\n",
        "scaler = MinMaxScaler()"
      ],
      "execution_count": 221,
      "outputs": []
    },
    {
      "cell_type": "code",
      "metadata": {
        "colab": {
          "base_uri": "https://localhost:8080/"
        },
        "id": "6kURX3eiWjbE",
        "outputId": "f015c676-4ad1-4238-968b-f67391494577"
      },
      "source": [
        "#Ajustando los datos de entrenamiento\n",
        "scaler.fit(train)"
      ],
      "execution_count": 222,
      "outputs": [
        {
          "output_type": "execute_result",
          "data": {
            "text/plain": [
              "MinMaxScaler(copy=True, feature_range=(0, 1))"
            ]
          },
          "metadata": {
            "tags": []
          },
          "execution_count": 222
        }
      ]
    },
    {
      "cell_type": "code",
      "metadata": {
        "id": "8wYLrppIX07O"
      },
      "source": [
        "#Datos escalados\n",
        "\n",
        "scaled_train = scaler.transform(train)\n",
        "scaled_test = scaler.transform(test)"
      ],
      "execution_count": 223,
      "outputs": []
    },
    {
      "cell_type": "code",
      "metadata": {
        "id": "j4yoPIf9Yhhp"
      },
      "source": [
        "# Generator\n",
        "n_input = 20\n",
        "n_feacture = 1\n",
        "\n",
        "generator = TimeseriesGenerator(scaled_train, scaled_train, length=n_input, batch_size=2)\n",
        "\n",
        "x, y = generator[0]"
      ],
      "execution_count": 242,
      "outputs": []
    },
    {
      "cell_type": "code",
      "metadata": {
        "id": "lDqYigo2Y_jc"
      },
      "source": [
        "# Red neuronal\n",
        "\n",
        "#Red sequential\n",
        "model_1 = Sequential()\n",
        "\n",
        "#Red nueronal con 4 capas, cada capa tiene dierente cantidad de nueronas\n",
        "model_1.add(LSTM(128, activation='relu', input_shape=(n_input, n_feacture)))\n",
        "model_1.add(Dense(64, activation='relu' ))\n",
        "model_1.add(Dense(32))\n",
        "model_1.add(Dense(1))\n",
        "\n",
        "#Compilacion de la red nueronal\n",
        "model_1.compile(optimizer='adam', loss='mean_squared_error')"
      ],
      "execution_count": 243,
      "outputs": []
    },
    {
      "cell_type": "code",
      "metadata": {
        "colab": {
          "base_uri": "https://localhost:8080/"
        },
        "id": "wDfTuKM4agq0",
        "outputId": "366941dc-6d15-4f57-a896-c29e712c9222"
      },
      "source": [
        "model_1.summary()"
      ],
      "execution_count": 244,
      "outputs": [
        {
          "output_type": "stream",
          "text": [
            "Model: \"sequential_6\"\n",
            "_________________________________________________________________\n",
            "Layer (type)                 Output Shape              Param #   \n",
            "=================================================================\n",
            "lstm_9 (LSTM)                (None, 128)               66560     \n",
            "_________________________________________________________________\n",
            "dense_9 (Dense)              (None, 64)                8256      \n",
            "_________________________________________________________________\n",
            "dense_10 (Dense)             (None, 32)                2080      \n",
            "_________________________________________________________________\n",
            "dense_11 (Dense)             (None, 1)                 33        \n",
            "=================================================================\n",
            "Total params: 76,929\n",
            "Trainable params: 76,929\n",
            "Non-trainable params: 0\n",
            "_________________________________________________________________\n"
          ],
          "name": "stdout"
        }
      ]
    },
    {
      "cell_type": "code",
      "metadata": {
        "colab": {
          "base_uri": "https://localhost:8080/"
        },
        "id": "2ZmG6nYPa5ur",
        "outputId": "e1a973a3-44e5-40fe-e072-ef9712a3c454"
      },
      "source": [
        "#Entrenando la red nueronal\n",
        "\n",
        "model_1.fit_generator(generator, epochs=100)"
      ],
      "execution_count": 245,
      "outputs": [
        {
          "output_type": "stream",
          "text": [
            "Epoch 1/100\n"
          ],
          "name": "stdout"
        },
        {
          "output_type": "stream",
          "text": [
            "/usr/local/lib/python3.7/dist-packages/tensorflow/python/keras/engine/training.py:1844: UserWarning: `Model.fit_generator` is deprecated and will be removed in a future version. Please use `Model.fit`, which supports generators.\n",
            "  warnings.warn('`Model.fit_generator` is deprecated and '\n"
          ],
          "name": "stderr"
        },
        {
          "output_type": "stream",
          "text": [
            "178/178 [==============================] - 4s 14ms/step - loss: 0.0176\n",
            "Epoch 2/100\n",
            "178/178 [==============================] - 2s 13ms/step - loss: 0.0112\n",
            "Epoch 3/100\n",
            "178/178 [==============================] - 2s 13ms/step - loss: 0.0084\n",
            "Epoch 4/100\n",
            "178/178 [==============================] - 2s 13ms/step - loss: 0.0107\n",
            "Epoch 5/100\n",
            "178/178 [==============================] - 2s 13ms/step - loss: 0.0105\n",
            "Epoch 6/100\n",
            "178/178 [==============================] - 2s 13ms/step - loss: 0.0100\n",
            "Epoch 7/100\n",
            "178/178 [==============================] - 2s 13ms/step - loss: 0.0124\n",
            "Epoch 8/100\n",
            "178/178 [==============================] - 2s 13ms/step - loss: 0.0089\n",
            "Epoch 9/100\n",
            "178/178 [==============================] - 2s 13ms/step - loss: 0.0099\n",
            "Epoch 10/100\n",
            "178/178 [==============================] - 2s 13ms/step - loss: 0.0168\n",
            "Epoch 11/100\n",
            "178/178 [==============================] - 2s 14ms/step - loss: 0.0082\n",
            "Epoch 12/100\n",
            "178/178 [==============================] - 2s 13ms/step - loss: 0.0097\n",
            "Epoch 13/100\n",
            "178/178 [==============================] - 2s 14ms/step - loss: 0.0073\n",
            "Epoch 14/100\n",
            "178/178 [==============================] - 2s 14ms/step - loss: 0.0071\n",
            "Epoch 15/100\n",
            "178/178 [==============================] - 2s 14ms/step - loss: 0.0073\n",
            "Epoch 16/100\n",
            "178/178 [==============================] - 2s 14ms/step - loss: 0.0136\n",
            "Epoch 17/100\n",
            "178/178 [==============================] - 2s 13ms/step - loss: 0.0113\n",
            "Epoch 18/100\n",
            "178/178 [==============================] - 2s 13ms/step - loss: 0.0105\n",
            "Epoch 19/100\n",
            "178/178 [==============================] - 2s 13ms/step - loss: 0.0116\n",
            "Epoch 20/100\n",
            "178/178 [==============================] - 2s 13ms/step - loss: 0.0110\n",
            "Epoch 21/100\n",
            "178/178 [==============================] - 2s 14ms/step - loss: 0.0068\n",
            "Epoch 22/100\n",
            "178/178 [==============================] - 2s 14ms/step - loss: 0.0106\n",
            "Epoch 23/100\n",
            "178/178 [==============================] - 2s 14ms/step - loss: 0.0097\n",
            "Epoch 24/100\n",
            "178/178 [==============================] - 2s 14ms/step - loss: 0.0070\n",
            "Epoch 25/100\n",
            "178/178 [==============================] - 2s 14ms/step - loss: 0.0112\n",
            "Epoch 26/100\n",
            "178/178 [==============================] - 2s 14ms/step - loss: 0.0085\n",
            "Epoch 27/100\n",
            "178/178 [==============================] - 2s 14ms/step - loss: 0.0059\n",
            "Epoch 28/100\n",
            "178/178 [==============================] - 2s 14ms/step - loss: 0.0074\n",
            "Epoch 29/100\n",
            "178/178 [==============================] - 2s 13ms/step - loss: 0.0098\n",
            "Epoch 30/100\n",
            "178/178 [==============================] - 2s 13ms/step - loss: 0.0104\n",
            "Epoch 31/100\n",
            "178/178 [==============================] - 2s 13ms/step - loss: 0.0057\n",
            "Epoch 32/100\n",
            "178/178 [==============================] - 2s 14ms/step - loss: 0.0116\n",
            "Epoch 33/100\n",
            "178/178 [==============================] - 2s 13ms/step - loss: 0.0062\n",
            "Epoch 34/100\n",
            "178/178 [==============================] - 2s 14ms/step - loss: 0.0094\n",
            "Epoch 35/100\n",
            "178/178 [==============================] - 2s 14ms/step - loss: 0.0096\n",
            "Epoch 36/100\n",
            "178/178 [==============================] - 2s 14ms/step - loss: 0.0087\n",
            "Epoch 37/100\n",
            "178/178 [==============================] - 3s 14ms/step - loss: 0.0063\n",
            "Epoch 38/100\n",
            "178/178 [==============================] - 2s 14ms/step - loss: 0.0046\n",
            "Epoch 39/100\n",
            "178/178 [==============================] - 2s 14ms/step - loss: 0.0095\n",
            "Epoch 40/100\n",
            "178/178 [==============================] - 2s 14ms/step - loss: 0.0075\n",
            "Epoch 41/100\n",
            "178/178 [==============================] - 2s 14ms/step - loss: 0.0035\n",
            "Epoch 42/100\n",
            "178/178 [==============================] - 2s 13ms/step - loss: 0.0062\n",
            "Epoch 43/100\n",
            "178/178 [==============================] - 2s 14ms/step - loss: 0.0064\n",
            "Epoch 44/100\n",
            "178/178 [==============================] - 2s 14ms/step - loss: 0.0057\n",
            "Epoch 45/100\n",
            "178/178 [==============================] - 2s 14ms/step - loss: 0.0074\n",
            "Epoch 46/100\n",
            "178/178 [==============================] - 3s 14ms/step - loss: 0.0050\n",
            "Epoch 47/100\n",
            "178/178 [==============================] - 2s 14ms/step - loss: 0.0056\n",
            "Epoch 48/100\n",
            "178/178 [==============================] - 2s 14ms/step - loss: 0.0070\n",
            "Epoch 49/100\n",
            "178/178 [==============================] - 2s 14ms/step - loss: 0.0046\n",
            "Epoch 50/100\n",
            "178/178 [==============================] - 2s 14ms/step - loss: 0.0094\n",
            "Epoch 51/100\n",
            "178/178 [==============================] - 3s 14ms/step - loss: 0.0032\n",
            "Epoch 52/100\n",
            "178/178 [==============================] - 2s 14ms/step - loss: 0.0092\n",
            "Epoch 53/100\n",
            "178/178 [==============================] - 2s 14ms/step - loss: 0.0039\n",
            "Epoch 54/100\n",
            "178/178 [==============================] - 2s 14ms/step - loss: 0.0073\n",
            "Epoch 55/100\n",
            "178/178 [==============================] - 2s 14ms/step - loss: 0.0090\n",
            "Epoch 56/100\n",
            "178/178 [==============================] - 2s 14ms/step - loss: 0.0066\n",
            "Epoch 57/100\n",
            "178/178 [==============================] - 2s 14ms/step - loss: 0.0056\n",
            "Epoch 58/100\n",
            "178/178 [==============================] - 3s 14ms/step - loss: 0.0100\n",
            "Epoch 59/100\n",
            "178/178 [==============================] - 2s 14ms/step - loss: 0.0062\n",
            "Epoch 60/100\n",
            "178/178 [==============================] - 2s 14ms/step - loss: 0.0067\n",
            "Epoch 61/100\n",
            "178/178 [==============================] - 2s 14ms/step - loss: 0.0024\n",
            "Epoch 62/100\n",
            "178/178 [==============================] - 2s 14ms/step - loss: 0.0087\n",
            "Epoch 63/100\n",
            "178/178 [==============================] - 2s 14ms/step - loss: 0.0117\n",
            "Epoch 64/100\n",
            "178/178 [==============================] - 3s 14ms/step - loss: 0.0072\n",
            "Epoch 65/100\n",
            "178/178 [==============================] - 2s 14ms/step - loss: 0.0053\n",
            "Epoch 66/100\n",
            "178/178 [==============================] - 2s 14ms/step - loss: 0.0041\n",
            "Epoch 67/100\n",
            "178/178 [==============================] - 2s 14ms/step - loss: 0.0036\n",
            "Epoch 68/100\n",
            "178/178 [==============================] - 2s 14ms/step - loss: 0.0037\n",
            "Epoch 69/100\n",
            "178/178 [==============================] - 2s 14ms/step - loss: 0.0105\n",
            "Epoch 70/100\n",
            "178/178 [==============================] - 2s 13ms/step - loss: 0.0148\n",
            "Epoch 71/100\n",
            "178/178 [==============================] - 2s 14ms/step - loss: 0.0035\n",
            "Epoch 72/100\n",
            "178/178 [==============================] - 2s 14ms/step - loss: 0.0054\n",
            "Epoch 73/100\n",
            "178/178 [==============================] - 2s 14ms/step - loss: 0.0044\n",
            "Epoch 74/100\n",
            "178/178 [==============================] - 2s 14ms/step - loss: 0.0054\n",
            "Epoch 75/100\n",
            "178/178 [==============================] - 3s 14ms/step - loss: 0.0082\n",
            "Epoch 76/100\n",
            "178/178 [==============================] - 2s 14ms/step - loss: 0.0065\n",
            "Epoch 77/100\n",
            "178/178 [==============================] - 2s 14ms/step - loss: 0.0030\n",
            "Epoch 78/100\n",
            "178/178 [==============================] - 2s 14ms/step - loss: 0.0040\n",
            "Epoch 79/100\n",
            "178/178 [==============================] - 2s 14ms/step - loss: 0.0038\n",
            "Epoch 80/100\n",
            "178/178 [==============================] - 2s 14ms/step - loss: 0.0031\n",
            "Epoch 81/100\n",
            "178/178 [==============================] - 2s 14ms/step - loss: 0.0027\n",
            "Epoch 82/100\n",
            "178/178 [==============================] - 2s 14ms/step - loss: 0.0064\n",
            "Epoch 83/100\n",
            "178/178 [==============================] - 2s 14ms/step - loss: 0.0032\n",
            "Epoch 84/100\n",
            "178/178 [==============================] - 3s 14ms/step - loss: 0.0024\n",
            "Epoch 85/100\n",
            "178/178 [==============================] - 2s 14ms/step - loss: 0.0038\n",
            "Epoch 86/100\n",
            "178/178 [==============================] - 2s 14ms/step - loss: 0.0041\n",
            "Epoch 87/100\n",
            "178/178 [==============================] - 3s 14ms/step - loss: 0.0029\n",
            "Epoch 88/100\n",
            "178/178 [==============================] - 2s 14ms/step - loss: 0.0041\n",
            "Epoch 89/100\n",
            "178/178 [==============================] - 2s 14ms/step - loss: 0.0068\n",
            "Epoch 90/100\n",
            "178/178 [==============================] - 2s 13ms/step - loss: 0.0055\n",
            "Epoch 91/100\n",
            "178/178 [==============================] - 2s 14ms/step - loss: 0.0069\n",
            "Epoch 92/100\n",
            "178/178 [==============================] - 2s 14ms/step - loss: 0.0053\n",
            "Epoch 93/100\n",
            "178/178 [==============================] - 2s 14ms/step - loss: 0.0050\n",
            "Epoch 94/100\n",
            "178/178 [==============================] - 2s 14ms/step - loss: 0.0031\n",
            "Epoch 95/100\n",
            "178/178 [==============================] - 2s 14ms/step - loss: 0.0024\n",
            "Epoch 96/100\n",
            "178/178 [==============================] - 2s 13ms/step - loss: 0.0134\n",
            "Epoch 97/100\n",
            "178/178 [==============================] - 2s 14ms/step - loss: 0.0076\n",
            "Epoch 98/100\n",
            "178/178 [==============================] - 2s 14ms/step - loss: 0.0030\n",
            "Epoch 99/100\n",
            "178/178 [==============================] - 2s 14ms/step - loss: 0.0040\n",
            "Epoch 100/100\n",
            "178/178 [==============================] - 2s 14ms/step - loss: 0.0038\n"
          ],
          "name": "stdout"
        },
        {
          "output_type": "execute_result",
          "data": {
            "text/plain": [
              "<tensorflow.python.keras.callbacks.History at 0x7f7e20937490>"
            ]
          },
          "metadata": {
            "tags": []
          },
          "execution_count": 245
        }
      ]
    },
    {
      "cell_type": "code",
      "metadata": {
        "colab": {
          "base_uri": "https://localhost:8080/",
          "height": 282
        },
        "id": "X89-fFaUbB0j",
        "outputId": "ce2e49b0-177e-4f80-fc44-f807de8875f4"
      },
      "source": [
        "loss_pre_epoch = model_1.history.history['loss']\n",
        "plt.plot(range(len(loss_pre_epoch)), loss_pre_epoch)"
      ],
      "execution_count": 246,
      "outputs": [
        {
          "output_type": "execute_result",
          "data": {
            "text/plain": [
              "[<matplotlib.lines.Line2D at 0x7f7e17dc9890>]"
            ]
          },
          "metadata": {
            "tags": []
          },
          "execution_count": 246
        },
        {
          "output_type": "display_data",
          "data": {
            "image/png": "[encoded data removed]",
            "text/plain": [
              "<Figure size 432x288 with 1 Axes>"
            ]
          },
          "metadata": {
            "tags": [],
            "needs_background": "light"
          }
        }
      ]
    },
    {
      "cell_type": "code",
      "metadata": {
        "colab": {
          "base_uri": "https://localhost:8080/"
        },
        "id": "QoqBGVoDcE_-",
        "outputId": "a14b0127-7454-406e-ca87-c119d673e9a6"
      },
      "source": [
        "first_eval = scaled_train[-20:]\n",
        "\n",
        "\n",
        "first_eval = first_eval.reshape(1, n_input, n_feacture)\n",
        "\n",
        "model_1.predict(first_eval)"
      ],
      "execution_count": 248,
      "outputs": [
        {
          "output_type": "execute_result",
          "data": {
            "text/plain": [
              "array([[0.2560448]], dtype=float32)"
            ]
          },
          "metadata": {
            "tags": []
          },
          "execution_count": 248
        }
      ]
    },
    {
      "cell_type": "code",
      "metadata": {
        "id": "VMa-pig6dDg8"
      },
      "source": [
        "test_predictions = []\n",
        "\n",
        "first_eval_batch = scaled_train[-n_input:]\n",
        "current_batch = first_eval.reshape((1, n_input, n_feacture))\n",
        "\n",
        "for i in range(len(test)):\n",
        "    \n",
        "    # obtener la predicción ([0] es para obtener solo el número en lugar de [matriz])\n",
        "    current_pred = model_1.predict(current_batch)[0]\n",
        "    \n",
        "    # guardar la predicción\n",
        "    test_predictions.append(current_pred) \n",
        "    \n",
        "    # actualizar el lote para incluir ahora la predicción y soltar primer valor\n",
        "    current_batch = np.append(current_batch[:,1:,:],[[current_pred]],axis=1)"
      ],
      "execution_count": 252,
      "outputs": []
    },
    {
      "cell_type": "code",
      "metadata": {
        "colab": {
          "base_uri": "https://localhost:8080/"
        },
        "id": "3x-L-RrYfr60",
        "outputId": "6a3ff213-d21a-429e-fff1-018cbf78c9c9"
      },
      "source": [
        "#Transofmacion inversa\n",
        "true_predicctions = scaler.inverse_transform(test_predictions)\n",
        "\n",
        "\n",
        "test['Prediction'] = true_predicctions"
      ],
      "execution_count": 253,
      "outputs": [
        {
          "output_type": "stream",
          "text": [
            "/usr/local/lib/python3.7/dist-packages/ipykernel_launcher.py:5: SettingWithCopyWarning: \n",
            "A value is trying to be set on a copy of a slice from a DataFrame.\n",
            "Try using .loc[row_indexer,col_indexer] = value instead\n",
            "\n",
            "See the caveats in the documentation: https://pandas.pydata.org/pandas-docs/stable/user_guide/indexing.html#returning-a-view-versus-a-copy\n",
            "  \"\"\"\n"
          ],
          "name": "stderr"
        }
      ]
    },
    {
      "cell_type": "code",
      "metadata": {
        "colab": {
          "base_uri": "https://localhost:8080/",
          "height": 537
        },
        "id": "0leZ0WvrgNVE",
        "outputId": "ecca9b3f-5d4b-41c6-cd7d-123771834afd"
      },
      "source": [
        "test.plot(figsize=(12,8))"
      ],
      "execution_count": 254,
      "outputs": [
        {
          "output_type": "execute_result",
          "data": {
            "text/plain": [
              "<matplotlib.axes._subplots.AxesSubplot at 0x7f7e17d10910>"
            ]
          },
          "metadata": {
            "tags": []
          },
          "execution_count": 254
        },
        {
          "output_type": "display_data",
          "data": {
            "image/png": "[encoded data removed]",
            "text/plain": [
              "<Figure size 864x576 with 1 Axes>"
            ]
          },
          "metadata": {
            "tags": [],
            "needs_background": "light"
          }
        }
      ]
    },
    {
      "cell_type": "code",
      "metadata": {
        "colab": {
          "base_uri": "https://localhost:8080/",
          "height": 708
        },
        "id": "rvS_W1FOgQFr",
        "outputId": "d40e2e5e-438f-4fba-f23c-0e75a062bd0f"
      },
      "source": [
        "test"
      ],
      "execution_count": 255,
      "outputs": [
        {
          "output_type": "execute_result",
          "data": {
            "text/html": [
              "<div>\n",
              "<style scoped>\n",
              "    .dataframe tbody tr th:only-of-type {\n",
              "        vertical-align: middle;\n",
              "    }\n",
              "\n",
              "    .dataframe tbody tr th {\n",
              "        vertical-align: top;\n",
              "    }\n",
              "\n",
              "    .dataframe thead th {\n",
              "        text-align: right;\n",
              "    }\n",
              "</style>\n",
              "<table border=\"1\" class=\"dataframe\">\n",
              "  <thead>\n",
              "    <tr style=\"text-align: right;\">\n",
              "      <th></th>\n",
              "      <th>new_cases</th>\n",
              "      <th>Prediction</th>\n",
              "    </tr>\n",
              "    <tr>\n",
              "      <th>date</th>\n",
              "      <th></th>\n",
              "      <th></th>\n",
              "    </tr>\n",
              "  </thead>\n",
              "  <tbody>\n",
              "    <tr>\n",
              "      <th>2021-03-10</th>\n",
              "      <td>6602.0</td>\n",
              "      <td>7198.699694</td>\n",
              "    </tr>\n",
              "    <tr>\n",
              "      <th>2021-03-11</th>\n",
              "      <td>6469.0</td>\n",
              "      <td>7769.799540</td>\n",
              "    </tr>\n",
              "    <tr>\n",
              "      <th>2021-03-12</th>\n",
              "      <td>6816.0</td>\n",
              "      <td>8076.432929</td>\n",
              "    </tr>\n",
              "    <tr>\n",
              "      <th>2021-03-13</th>\n",
              "      <td>6104.0</td>\n",
              "      <td>8160.326057</td>\n",
              "    </tr>\n",
              "    <tr>\n",
              "      <th>2021-03-14</th>\n",
              "      <td>2415.0</td>\n",
              "      <td>7344.734266</td>\n",
              "    </tr>\n",
              "    <tr>\n",
              "      <th>2021-03-15</th>\n",
              "      <td>1439.0</td>\n",
              "      <td>5599.512706</td>\n",
              "    </tr>\n",
              "    <tr>\n",
              "      <th>2021-03-16</th>\n",
              "      <td>1278.0</td>\n",
              "      <td>5101.249999</td>\n",
              "    </tr>\n",
              "    <tr>\n",
              "      <th>2021-03-17</th>\n",
              "      <td>6455.0</td>\n",
              "      <td>6185.145794</td>\n",
              "    </tr>\n",
              "    <tr>\n",
              "      <th>2021-03-18</th>\n",
              "      <td>6726.0</td>\n",
              "      <td>6910.484854</td>\n",
              "    </tr>\n",
              "    <tr>\n",
              "      <th>2021-03-19</th>\n",
              "      <td>5722.0</td>\n",
              "      <td>7458.894577</td>\n",
              "    </tr>\n",
              "    <tr>\n",
              "      <th>2021-03-20</th>\n",
              "      <td>5729.0</td>\n",
              "      <td>7780.423177</td>\n",
              "    </tr>\n",
              "    <tr>\n",
              "      <th>2021-03-21</th>\n",
              "      <td>2133.0</td>\n",
              "      <td>7434.924155</td>\n",
              "    </tr>\n",
              "    <tr>\n",
              "      <th>2021-03-22</th>\n",
              "      <td>1388.0</td>\n",
              "      <td>5939.606485</td>\n",
              "    </tr>\n",
              "    <tr>\n",
              "      <th>2021-03-23</th>\n",
              "      <td>5881.0</td>\n",
              "      <td>5102.715472</td>\n",
              "    </tr>\n",
              "    <tr>\n",
              "      <th>2021-03-24</th>\n",
              "      <td>5714.0</td>\n",
              "      <td>5814.965817</td>\n",
              "    </tr>\n",
              "    <tr>\n",
              "      <th>2021-03-25</th>\n",
              "      <td>5787.0</td>\n",
              "      <td>6692.250779</td>\n",
              "    </tr>\n",
              "    <tr>\n",
              "      <th>2021-03-26</th>\n",
              "      <td>5303.0</td>\n",
              "      <td>7169.976746</td>\n",
              "    </tr>\n",
              "    <tr>\n",
              "      <th>2021-03-27</th>\n",
              "      <td>5059.0</td>\n",
              "      <td>7493.859823</td>\n",
              "    </tr>\n",
              "    <tr>\n",
              "      <th>2021-03-28</th>\n",
              "      <td>1646.0</td>\n",
              "      <td>7352.567721</td>\n",
              "    </tr>\n",
              "    <tr>\n",
              "      <th>2021-03-29</th>\n",
              "      <td>1293.0</td>\n",
              "      <td>6104.877388</td>\n",
              "    </tr>\n",
              "  </tbody>\n",
              "</table>\n",
              "</div>"
            ],
            "text/plain": [
              "            new_cases   Prediction\n",
              "date                              \n",
              "2021-03-10     6602.0  7198.699694\n",
              "2021-03-11     6469.0  7769.799540\n",
              "2021-03-12     6816.0  8076.432929\n",
              "2021-03-13     6104.0  8160.326057\n",
              "2021-03-14     2415.0  7344.734266\n",
              "2021-03-15     1439.0  5599.512706\n",
              "2021-03-16     1278.0  5101.249999\n",
              "2021-03-17     6455.0  6185.145794\n",
              "2021-03-18     6726.0  6910.484854\n",
              "2021-03-19     5722.0  7458.894577\n",
              "2021-03-20     5729.0  7780.423177\n",
              "2021-03-21     2133.0  7434.924155\n",
              "2021-03-22     1388.0  5939.606485\n",
              "2021-03-23     5881.0  5102.715472\n",
              "2021-03-24     5714.0  5814.965817\n",
              "2021-03-25     5787.0  6692.250779\n",
              "2021-03-26     5303.0  7169.976746\n",
              "2021-03-27     5059.0  7493.859823\n",
              "2021-03-28     1646.0  7352.567721\n",
              "2021-03-29     1293.0  6104.877388"
            ]
          },
          "metadata": {
            "tags": []
          },
          "execution_count": 255
        }
      ]
    },
    {
      "cell_type": "code",
      "metadata": {
        "id": "OhauPcqbgTDZ"
      },
      "source": [
        ""
      ],
      "execution_count": null,
      "outputs": []
    }
  ]
}